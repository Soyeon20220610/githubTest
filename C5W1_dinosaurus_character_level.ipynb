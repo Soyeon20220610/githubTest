{
  "nbformat": 4,
  "nbformat_minor": 0,
  "metadata": {
    "colab": {
      "name": "C5W1-dinosaurus_character_level.ipynb",
      "provenance": [],
      "authorship_tag": "ABX9TyNimWA2vVOaLEX5VUScwVQ7",
      "include_colab_link": true
    },
    "kernelspec": {
      "name": "python3",
      "display_name": "Python 3"
    },
    "language_info": {
      "name": "python"
    }
  },
  "cells": [
    {
      "cell_type": "markdown",
      "metadata": {
        "id": "view-in-github",
        "colab_type": "text"
      },
      "source": [
        "<a href=\"https://colab.research.google.com/github/Soyeon20220610/githubTest/blob/main/C5W1_dinosaurus_character_level.ipynb\" target=\"_parent\"><img src=\"https://colab.research.google.com/assets/colab-badge.svg\" alt=\"Open In Colab\"/></a>"
      ]
    },
    {
      "cell_type": "code",
      "execution_count": 1,
      "metadata": {
        "id": "bMX6coiB2CeD"
      },
      "outputs": [],
      "source": [
        "import numpy as np\n",
        "from utils import *\n",
        "import random\n",
        "import pprint\n",
        "import copy"
      ]
    },
    {
      "cell_type": "code",
      "source": [
        "data = open('dinos.txt', 'r').read()\n",
        "data= data.lower()\n",
        "chars = list(set(data))\n",
        "data_size, vocab_size = len(data), len(chars)\n",
        "print('There are %d total characters and %d unique characters in your data.' % (data_size, vocab_size))"
      ],
      "metadata": {
        "colab": {
          "base_uri": "https://localhost:8080/"
        },
        "id": "Zf0U7I6P3BzL",
        "outputId": "ef22b03d-86bc-487d-e1be-ad4c756c031c"
      },
      "execution_count": 2,
      "outputs": [
        {
          "output_type": "stream",
          "name": "stdout",
          "text": [
            "There are 19909 total characters and 27 unique characters in your data.\n"
          ]
        }
      ]
    },
    {
      "cell_type": "code",
      "source": [
        "chars = sorted(chars)\n",
        "print(chars)"
      ],
      "metadata": {
        "colab": {
          "base_uri": "https://localhost:8080/"
        },
        "id": "ucsMRSTI3D0N",
        "outputId": "726f008e-4c91-4bed-d008-665b42dee995"
      },
      "execution_count": 3,
      "outputs": [
        {
          "output_type": "stream",
          "name": "stdout",
          "text": [
            "['\\n', 'a', 'b', 'c', 'd', 'e', 'f', 'g', 'h', 'i', 'j', 'k', 'l', 'm', 'n', 'o', 'p', 'q', 'r', 's', 't', 'u', 'v', 'w', 'x', 'y', 'z']\n"
          ]
        }
      ]
    },
    {
      "cell_type": "code",
      "source": [
        "char_to_ix = { ch:i for i,ch in enumerate(chars) }\n",
        "ix_to_char = { i:ch for i,ch in enumerate(chars) }\n",
        "pp = pprint.PrettyPrinter(indent=4)\n",
        "pp.pprint(ix_to_char)"
      ],
      "metadata": {
        "colab": {
          "base_uri": "https://localhost:8080/"
        },
        "id": "7FTcef3z3Fc2",
        "outputId": "7031b693-1630-459d-e064-38e165c29059"
      },
      "execution_count": 4,
      "outputs": [
        {
          "output_type": "stream",
          "name": "stdout",
          "text": [
            "{   0: '\\n',\n",
            "    1: 'a',\n",
            "    2: 'b',\n",
            "    3: 'c',\n",
            "    4: 'd',\n",
            "    5: 'e',\n",
            "    6: 'f',\n",
            "    7: 'g',\n",
            "    8: 'h',\n",
            "    9: 'i',\n",
            "    10: 'j',\n",
            "    11: 'k',\n",
            "    12: 'l',\n",
            "    13: 'm',\n",
            "    14: 'n',\n",
            "    15: 'o',\n",
            "    16: 'p',\n",
            "    17: 'q',\n",
            "    18: 'r',\n",
            "    19: 's',\n",
            "    20: 't',\n",
            "    21: 'u',\n",
            "    22: 'v',\n",
            "    23: 'w',\n",
            "    24: 'x',\n",
            "    25: 'y',\n",
            "    26: 'z'}\n"
          ]
        }
      ]
    },
    {
      "cell_type": "code",
      "source": [
        "#When gradients are very large, they're called \"exploding gradients.\"\n",
        "\n",
        "#gradient exploding 막아주는 방법으로 clip function사용\n",
        "def clip(gradients, maxValue):\n",
        "    '''\n",
        "    Clips the gradients' values between minimum and maximum.\n",
        "    \n",
        "    Arguments:\n",
        "    gradients -- a dictionary containing the gradients \"dWaa\", \"dWax\", \"dWya\", \"db\", \"dby\"\n",
        "    maxValue -- everything above this number is set to this number, and everything less than -maxValue is set to -maxValue\n",
        "    \n",
        "    Returns: \n",
        "    gradients -- a dictionary with the clipped gradients.\n",
        "    '''\n",
        "    gradients = copy.deepcopy(gradients)\n",
        "    \n",
        "    dWaa, dWax, dWya, db, dby = gradients['dWaa'], gradients['dWax'], gradients['dWya'], gradients['db'], gradients['dby']\n",
        "   \n",
        "    ### START CODE HERE ###\n",
        "    # Clip to mitigate exploding gradients, loop over [dWax, dWaa, dWya, db, dby]. (≈2 lines)\n",
        "    for gradient in [dWax, dWaa, dWya, db, dby]:\n",
        "        np.clip(gradient, -maxValue, maxValue, out = gradient)\n",
        "    ### END CODE HERE ###\n",
        "    \n",
        "    gradients = {\"dWaa\": dWaa, \"dWax\": dWax, \"dWya\": dWya, \"db\": db, \"dby\": dby}\n",
        "    \n",
        "    return gradients"
      ],
      "metadata": {
        "id": "pheGTvLO3HrQ"
      },
      "execution_count": 5,
      "outputs": []
    },
    {
      "cell_type": "code",
      "source": [
        "# Test with a max value of 10\n",
        "def clip_test(target, mValue):\n",
        "    print(f\"\\nGradients for mValue={mValue}\")\n",
        "    np.random.seed(3)\n",
        "    dWax = np.random.randn(5, 3) * 10\n",
        "    dWaa = np.random.randn(5, 5) * 10\n",
        "    dWya = np.random.randn(2, 5) * 10\n",
        "    db = np.random.randn(5, 1) * 10\n",
        "    dby = np.random.randn(2, 1) * 10\n",
        "    gradients = {\"dWax\": dWax, \"dWaa\": dWaa, \"dWya\": dWya, \"db\": db, \"dby\": dby}\n",
        "\n",
        "    gradients2 = target(gradients, mValue)\n",
        "    print(\"gradients[\\\"dWaa\\\"][1][2] =\", gradients2[\"dWaa\"][1][2])\n",
        "    print(\"gradients[\\\"dWax\\\"][3][1] =\", gradients2[\"dWax\"][3][1])\n",
        "    print(\"gradients[\\\"dWya\\\"][1][2] =\", gradients2[\"dWya\"][1][2])\n",
        "    print(\"gradients[\\\"db\\\"][4] =\", gradients2[\"db\"][4])\n",
        "    print(\"gradients[\\\"dby\\\"][1] =\", gradients2[\"dby\"][1])\n",
        "    \n",
        "    for grad in gradients2.keys():\n",
        "        valuei = gradients[grad]\n",
        "        valuef = gradients2[grad]\n",
        "        mink = np.min(valuef)\n",
        "        maxk = np.max(valuef)\n",
        "        assert mink >= -abs(mValue), f\"Problem with {grad}. Set a_min to -mValue in the np.clip call\"\n",
        "        assert maxk <= abs(mValue), f\"Problem with {grad}.Set a_max to mValue in the np.clip call\"\n",
        "        index_not_clipped = np.logical_and(valuei <= mValue, valuei >= -mValue)\n",
        "        assert np.all(valuei[index_not_clipped] == valuef[index_not_clipped]), f\" Problem with {grad}. Some values that should not have changed, changed during the clipping process.\"\n",
        "    \n",
        "    print(\"\\033[92mAll tests passed!\\x1b[0m\")\n",
        "    \n",
        "clip_test(clip, 10)\n",
        "clip_test(clip, 5)\n",
        "    "
      ],
      "metadata": {
        "colab": {
          "base_uri": "https://localhost:8080/"
        },
        "id": "kmEsNz2B4KYy",
        "outputId": "d3fcf751-cf18-45f6-c316-945744fedce8"
      },
      "execution_count": 6,
      "outputs": [
        {
          "output_type": "stream",
          "name": "stdout",
          "text": [
            "\n",
            "Gradients for mValue=10\n",
            "gradients[\"dWaa\"][1][2] = 10.0\n",
            "gradients[\"dWax\"][3][1] = -10.0\n",
            "gradients[\"dWya\"][1][2] = 0.2971381536101662\n",
            "gradients[\"db\"][4] = [10.]\n",
            "gradients[\"dby\"][1] = [8.45833407]\n",
            "\u001b[92mAll tests passed!\u001b[0m\n",
            "\n",
            "Gradients for mValue=5\n",
            "gradients[\"dWaa\"][1][2] = 5.0\n",
            "gradients[\"dWax\"][3][1] = -5.0\n",
            "gradients[\"dWya\"][1][2] = 0.2971381536101662\n",
            "gradients[\"db\"][4] = [5.]\n",
            "gradients[\"dby\"][1] = [5.]\n",
            "\u001b[92mAll tests passed!\u001b[0m\n"
          ]
        }
      ]
    },
    {
      "cell_type": "code",
      "source": [
        "def sample(parameters, char_to_ix, seed):\n",
        "  \n",
        "    # Retrieve parameters and relevant shapes from \"parameters\" dictionary\n",
        "    Waa, Wax, Wya, by, b = parameters['Waa'], parameters['Wax'], parameters['Wya'], parameters['by'], parameters['b']\n",
        "    vocab_size = by.shape[0]\n",
        "    n_a = Waa.shape[1]\n",
        "    \n",
        "    ### START CODE HERE ###\n",
        "    # Step 1: Create the one-hot vector x for the first character (initializing the sequence generation). (≈1 line)\n",
        "    x = np.zeros([vocab_size,1])    #x<1>=0벡터\n",
        "    # Step 1': Initialize a_prev as zeros (≈1 line)\n",
        "    a_prev = np.zeros([n_a,1])      #a<0>=0벡터\n",
        "    \n",
        "    # Create an empty list of indices, this is the list which will contain the list of indices of the characters to generate (≈1 line)\n",
        "    indices = []\n",
        "    \n",
        "    # Idx is a flag to detect a newline character, we initialize it to -1\n",
        "    idx = -1 \n",
        "    \n",
        "    # Loop over time-steps t. At each time-step, sample a character from a probability distribution and append \n",
        "    # its index to \"indices\". We'll stop if we reach 50 characters (which should be very unlikely with a well \n",
        "    # trained model), which helps debugging and prevents entering an infinite loop. \n",
        "    counter = 0\n",
        "    newline_character = char_to_ix['\\n']\n",
        "    \n",
        "    while (idx != newline_character and counter != 50):\n",
        "        \n",
        "        # Step 2: Forward propagate x using the equations (1), (2) and (3)\n",
        "        a = np.tanh(np.dot(Wax,x)+np.dot(Waa,a_prev)+b)\n",
        "        z = np.dot(Wya,a)+by\n",
        "        y = softmax(z)\n",
        "        \n",
        "        # for grading purposes\n",
        "        np.random.seed(counter+seed) \n",
        "        \n",
        "        # Step 3: Sample the index of a character within the vocabulary from the probability distribution y\n",
        "        idx = np.random.choice(range(len(y)),p=y.ravel())\n",
        "\n",
        "        # Append the index to \"indices\"\n",
        "        indices.append(idx)\n",
        "        \n",
        "        # Step 4: Overwrite the input character as the one corresponding to the sampled index.\n",
        "        x = np.zeros((vocab_size,1))\n",
        "        x[idx] = 1\n",
        "        \n",
        "        # Update \"a_prev\" to be \"a\"\n",
        "        a_prev = a\n",
        "        \n",
        "        \n",
        "        # for grading purposes\n",
        "        seed += 1\n",
        "        counter +=1\n",
        "        \n",
        "    ### END CODE HERE ###\n",
        "\n",
        "    if (counter == 50):\n",
        "        indices.append(char_to_ix['\\n'])\n",
        "    \n",
        "    return indices"
      ],
      "metadata": {
        "id": "3vu2n8b35d2w"
      },
      "execution_count": 7,
      "outputs": []
    },
    {
      "cell_type": "code",
      "source": [
        "def sample_test(target):\n",
        "    np.random.seed(24)\n",
        "    _, n_a = 20, 100\n",
        "    Wax, Waa, Wya = np.random.randn(n_a, vocab_size), np.random.randn(n_a, n_a), np.random.randn(vocab_size, n_a)\n",
        "    b, by = np.random.randn(n_a, 1), np.random.randn(vocab_size, 1)\n",
        "    parameters = {\"Wax\": Wax, \"Waa\": Waa, \"Wya\": Wya, \"b\": b, \"by\": by}\n",
        "\n",
        "\n",
        "    indices = target(parameters, char_to_ix, 0)\n",
        "    print(\"Sampling:\")\n",
        "    print(\"list of sampled indices:\\n\", indices)\n",
        "    print(\"list of sampled characters:\\n\", [ix_to_char[i] for i in indices])\n",
        "    \n",
        "    assert len(indices) < 52, \"Indices lenght must be smaller than 52\"\n",
        "    assert indices[-1] == char_to_ix['\\n'], \"All samples must end with \\\\n\"\n",
        "    assert min(indices) >= 0 and max(indices) < len(char_to_ix), f\"Sampled indexes must be between 0 and len(char_to_ix)={len(char_to_ix)}\"\n",
        "    assert np.allclose(indices[0:6], [23, 16, 26, 26, 24, 3]), \"Wrong values\"\n",
        "    \n",
        "    print(\"\\033[92mAll tests passed!\")\n",
        "\n",
        "sample_test(sample)"
      ],
      "metadata": {
        "colab": {
          "base_uri": "https://localhost:8080/"
        },
        "id": "nx0JGhSH9HEa",
        "outputId": "55e36932-2ef7-4ac8-c29b-82ed9db49bb1"
      },
      "execution_count": 8,
      "outputs": [
        {
          "output_type": "stream",
          "name": "stdout",
          "text": [
            "Sampling:\n",
            "list of sampled indices:\n",
            " [23, 16, 26, 26, 24, 3, 21, 1, 7, 24, 15, 3, 25, 20, 6, 13, 10, 8, 20, 12, 2, 0]\n",
            "list of sampled characters:\n",
            " ['w', 'p', 'z', 'z', 'x', 'c', 'u', 'a', 'g', 'x', 'o', 'c', 'y', 't', 'f', 'm', 'j', 'h', 't', 'l', 'b', '\\n']\n",
            "\u001b[92mAll tests passed!\n"
          ]
        }
      ]
    },
    {
      "cell_type": "code",
      "source": [
        "# UNQ_C3 (UNIQUE CELL IDENTIFIER, DO NOT EDIT)\n",
        "# GRADED FUNCTION: optimize\n",
        "\n",
        "def optimize(X, Y, a_prev, parameters, learning_rate = 0.01):\n",
        "    \n",
        "    ### START CODE HERE ###\n",
        "    \n",
        "    # Forward propagate through time (≈1 line)\n",
        "    loss, cache = rnn_forward(X,Y,a_prev,parameters)\n",
        "    # Backpropagate through time (≈1 line)\n",
        "    gradients, a =  rnn_backward(X, Y, parameters, cache)\n",
        "    \n",
        "    # Clip your gradients between -5 (min) and 5 (max) (≈1 line)\n",
        "    gradients = clip(gradients, maxValue=5)\n",
        "    \n",
        "    # Update parameters (≈1 line)\n",
        "    parameters = update_parameters(parameters, gradients, learning_rate)\n",
        "    \n",
        "    ### END CODE HERE ###\n",
        "    \n",
        "    return loss, gradients, a[len(X)-1]"
      ],
      "metadata": {
        "id": "MJGdyDW_VuO-"
      },
      "execution_count": 10,
      "outputs": []
    },
    {
      "cell_type": "code",
      "source": [
        "def optimize_test(target):\n",
        "    np.random.seed(1)\n",
        "    vocab_size, n_a = 27, 100\n",
        "    a_prev = np.random.randn(n_a, 1)\n",
        "    Wax, Waa, Wya = np.random.randn(n_a, vocab_size), np.random.randn(n_a, n_a), np.random.randn(vocab_size, n_a)\n",
        "    b, by = np.random.randn(n_a, 1), np.random.randn(vocab_size, 1)\n",
        "    parameters = {\"Wax\": Wax, \"Waa\": Waa, \"Wya\": Wya, \"b\": b, \"by\": by}\n",
        "    X = [12, 3, 5, 11, 22, 3]\n",
        "    Y = [4, 14, 11, 22, 25, 26]\n",
        "    old_parameters = copy.deepcopy(parameters)\n",
        "    loss, gradients, a_last = target(X, Y, a_prev, parameters, learning_rate = 0.01)\n",
        "    print(\"Loss =\", loss)\n",
        "    print(\"gradients[\\\"dWaa\\\"][1][2] =\", gradients[\"dWaa\"][1][2])\n",
        "    print(\"np.argmax(gradients[\\\"dWax\\\"]) =\", np.argmax(gradients[\"dWax\"]))\n",
        "    print(\"gradients[\\\"dWya\\\"][1][2] =\", gradients[\"dWya\"][1][2])\n",
        "    print(\"gradients[\\\"db\\\"][4] =\", gradients[\"db\"][4])\n",
        "    print(\"gradients[\\\"dby\\\"][1] =\", gradients[\"dby\"][1])\n",
        "    print(\"a_last[4] =\", a_last[4])\n",
        "    \n",
        "    assert np.isclose(loss, 126.5039757), \"Problems with the call of the rnn_forward function\"\n",
        "    for grad in gradients.values():\n",
        "        assert np.min(grad) >= -5, \"Problems in the clip function call\"\n",
        "        assert np.max(grad) <= 5, \"Problems in the clip function call\"\n",
        "    assert np.allclose(gradients['dWaa'][1, 2], 0.1947093), \"Unexpected gradients. Check the rnn_backward call\"\n",
        "    assert np.allclose(gradients['dWya'][1, 2], -0.007773876), \"Unexpected gradients. Check the rnn_backward call\"\n",
        "    assert not np.allclose(parameters['Wya'], old_parameters['Wya']), \"parameters were not updated\"\n",
        "    \n",
        "    print(\"\\033[92mAll tests passed!\")\n",
        "\n",
        "optimize_test(optimize)"
      ],
      "metadata": {
        "colab": {
          "base_uri": "https://localhost:8080/"
        },
        "id": "edZdT9F3WlCz",
        "outputId": "4c2c3363-8141-4d6d-f00b-cc418334133c"
      },
      "execution_count": 11,
      "outputs": [
        {
          "output_type": "stream",
          "name": "stdout",
          "text": [
            "Loss = 126.50397572165369\n",
            "gradients[\"dWaa\"][1][2] = 0.19470931534720928\n",
            "np.argmax(gradients[\"dWax\"]) = 93\n",
            "gradients[\"dWya\"][1][2] = -0.007773876032003706\n",
            "gradients[\"db\"][4] = [-0.06809825]\n",
            "gradients[\"dby\"][1] = [0.01538192]\n",
            "a_last[4] = [-1.]\n",
            "\u001b[92mAll tests passed!\n"
          ]
        }
      ]
    },
    {
      "cell_type": "code",
      "source": [
        "# UNQ_C4 (UNIQUE CELL IDENTIFIER, DO NOT EDIT)\n",
        "# GRADED FUNCTION: model\n",
        "\n",
        "def model(data_x, ix_to_char, char_to_ix, num_iterations = 35000, n_a = 50, dino_names = 7, vocab_size = 27, verbose = False):\n",
        "    \"\"\"\n",
        "    Trains the model and generates dinosaur names. \n",
        "    \n",
        "    Arguments:\n",
        "    data_x -- text corpus, divided in words\n",
        "    ix_to_char -- dictionary that maps the index to a character\n",
        "    char_to_ix -- dictionary that maps a character to an index\n",
        "    num_iterations -- number of iterations to train the model for\n",
        "    n_a -- number of units of the RNN cell\n",
        "    dino_names -- number of dinosaur names you want to sample at each iteration. \n",
        "    vocab_size -- number of unique characters found in the text (size of the vocabulary)\n",
        "    \n",
        "    Returns:\n",
        "    parameters -- learned parameters\n",
        "    \"\"\"\n",
        "    \n",
        "    # Retrieve n_x and n_y from vocab_size\n",
        "    n_x, n_y = vocab_size, vocab_size\n",
        "    \n",
        "    # Initialize parameters\n",
        "    parameters = initialize_parameters(n_a, n_x, n_y)\n",
        "    \n",
        "    # Initialize loss (this is required because we want to smooth our loss)\n",
        "    loss = get_initial_loss(vocab_size, dino_names)\n",
        "    \n",
        "    # Build list of all dinosaur names (training examples).\n",
        "    examples = [x.strip() for x in data_x]\n",
        "    \n",
        "    # Shuffle list of all dinosaur names\n",
        "    np.random.seed(0)\n",
        "    np.random.shuffle(examples)\n",
        "    \n",
        "    # Initialize the hidden state of your LSTM\n",
        "    a_prev = np.zeros((n_a, 1))\n",
        "    \n",
        "    # for grading purposes\n",
        "    last_dino_name = \"abc\"\n",
        "    \n",
        "    # Optimization loop\n",
        "    for j in range(num_iterations):\n",
        "        \n",
        "        ### START CODE HERE ###\n",
        "        \n",
        "         # Set the index `idx` (see instructions above)\n",
        "        idx = j % len(examples)\n",
        "        \n",
        "        # Set the input X (see instructions above)\n",
        "        single_example = examples[idx]\n",
        "        single_example_chars = [c for c in single_example]\n",
        "        single_example_ix = [char_to_ix[c] for c in single_example_chars]\n",
        "        X = [None] + single_example_ix\n",
        "        \n",
        "        # Set the labels Y (see instructions above)\n",
        "        ix_newline = char_to_ix['\\n']\n",
        "        Y = X[1:] + [ix_newline]\n",
        " \n",
        "        # Perform one optimization step: Forward-prop -> Backward-prop -> Clip -> Update parameters\n",
        "        # Choose a learning rate of 0.01\n",
        "        curr_loss, gradients, a_prev = optimize(X, Y, a_prev, parameters, learning_rate=0.01)\n",
        "          \n",
        "        ### END CODE HERE ###\n",
        "        \n",
        "        # debug statements to aid in correctly forming X, Y\n",
        "        if verbose and j in [0, len(examples) -1, len(examples)]:\n",
        "            print(\"j = \" , j, \"idx = \", idx,) \n",
        "        if verbose and j in [0]:\n",
        "            print(\"single_example =\", single_example)\n",
        "            print(\"single_example_chars\", single_example_chars)\n",
        "            print(\"single_example_ix\", single_example_ix)\n",
        "            print(\" X = \", X, \"\\n\", \"Y =       \", Y, \"\\n\")\n",
        "        \n",
        "        # to keep the loss smooth.\n",
        "        loss = smooth(loss, curr_loss)\n",
        "\n",
        "        # Every 2000 Iteration, generate \"n\" characters thanks to sample() to check if the model is learning properly\n",
        "        if j % 2000 == 0:\n",
        "            \n",
        "            print('Iteration: %d, Loss: %f' % (j, loss) + '\\n')\n",
        "            \n",
        "            # The number of dinosaur names to print\n",
        "            seed = 0\n",
        "            for name in range(dino_names):\n",
        "                \n",
        "                # Sample indices and print them\n",
        "                sampled_indices = sample(parameters, char_to_ix, seed)\n",
        "                last_dino_name = get_sample(sampled_indices, ix_to_char)\n",
        "                print(last_dino_name.replace('\\n', ''))\n",
        "                \n",
        "                seed += 1  # To get the same result (for grading purposes), increment the seed by one. \n",
        "      \n",
        "            print('\\n')\n",
        "        \n",
        "    return parameters, last_dino_name"
      ],
      "metadata": {
        "id": "UrOrUmFYWqGt"
      },
      "execution_count": 12,
      "outputs": []
    },
    {
      "cell_type": "code",
      "source": [
        "parameters, last_name = model(data.split(\"\\n\"), ix_to_char, char_to_ix, 22001, verbose = True)\n",
        "\n",
        "assert last_name == 'Trodonosaurus\\n', \"Wrong expected output\"\n",
        "print(\"\\033[92mAll tests passed!\")"
      ],
      "metadata": {
        "colab": {
          "base_uri": "https://localhost:8080/",
          "height": 1000
        },
        "id": "6dXJfv_Cg15D",
        "outputId": "2cd95d87-fdd1-4dd3-8474-5ff264e232bf"
      },
      "execution_count": 13,
      "outputs": [
        {
          "output_type": "stream",
          "name": "stdout",
          "text": [
            "j =  0 idx =  0\n",
            "single_example = turiasaurus\n",
            "single_example_chars ['t', 'u', 'r', 'i', 'a', 's', 'a', 'u', 'r', 'u', 's']\n",
            "single_example_ix [20, 21, 18, 9, 1, 19, 1, 21, 18, 21, 19]\n",
            " X =  [None, 20, 21, 18, 9, 1, 19, 1, 21, 18, 21, 19] \n",
            " Y =        [20, 21, 18, 9, 1, 19, 1, 21, 18, 21, 19, 0] \n",
            "\n",
            "Iteration: 0, Loss: 23.087336\n",
            "\n",
            "Nkzxwtdmfqoeyhsqwasjkjvu\n",
            "Kneb\n",
            "Kzxwtdmfqoeyhsqwasjkjvu\n",
            "Neb\n",
            "Zxwtdmfqoeyhsqwasjkjvu\n",
            "Eb\n",
            "Xwtdmfqoeyhsqwasjkjvu\n",
            "\n",
            "\n",
            "j =  1535 idx =  1535\n",
            "j =  1536 idx =  0\n",
            "Iteration: 2000, Loss: 27.884160\n",
            "\n",
            "Liusskeomnolxeros\n",
            "Hmdaairus\n",
            "Hytroligoraurus\n",
            "Lecalosapaus\n",
            "Xusicikoraurus\n",
            "Abalpsamantisaurus\n",
            "Tpraneronxeros\n",
            "\n",
            "\n",
            "Iteration: 4000, Loss: 25.901815\n",
            "\n",
            "Mivrosaurus\n",
            "Inee\n",
            "Ivtroplisaurus\n",
            "Mbaaisaurus\n",
            "Wusichisaurus\n",
            "Cabaselachus\n",
            "Toraperlethosdarenitochusthiamamumamaon\n",
            "\n",
            "\n",
            "Iteration: 6000, Loss: 24.608779\n",
            "\n",
            "Onwusceomosaurus\n",
            "Lieeaerosaurus\n",
            "Lxussaurus\n",
            "Oma\n",
            "Xusteonosaurus\n",
            "Eeahosaurus\n",
            "Toreonosaurus\n",
            "\n",
            "\n",
            "Iteration: 8000, Loss: 24.070350\n",
            "\n",
            "Onxusichepriuon\n",
            "Kilabersaurus\n",
            "Lutrodon\n",
            "Omaaerosaurus\n",
            "Xutrcheps\n",
            "Edaksoje\n",
            "Trodiktonus\n",
            "\n",
            "\n",
            "Iteration: 10000, Loss: 23.844446\n",
            "\n",
            "Onyusaurus\n",
            "Klecalosaurus\n",
            "Lustodon\n",
            "Ola\n",
            "Xusodonia\n",
            "Eeaeosaurus\n",
            "Troceosaurus\n",
            "\n",
            "\n",
            "Iteration: 12000, Loss: 23.291971\n",
            "\n",
            "Onyxosaurus\n",
            "Kica\n",
            "Lustrepiosaurus\n",
            "Olaagrraiansaurus\n",
            "Yuspangosaurus\n",
            "Eealosaurus\n",
            "Trognesaurus\n",
            "\n",
            "\n",
            "Iteration: 14000, Loss: 23.382338\n",
            "\n",
            "Meutromodromurus\n",
            "Inda\n",
            "Iutroinatorsaurus\n",
            "Maca\n",
            "Yusteratoptititan\n",
            "Ca\n",
            "Troclosaurus\n",
            "\n",
            "\n",
            "Iteration: 16000, Loss: 23.276015\n",
            "\n",
            "Meutosaurus\n",
            "Indabdosaurus\n",
            "Itrsaurus\n",
            "Macalosaurus\n",
            "Yuspandon\n",
            "Caahosaurus\n",
            "Trodon\n",
            "\n",
            "\n",
            "Iteration: 18000, Loss: 22.850885\n",
            "\n",
            "Physshargosaurus\n",
            "Mela\n",
            "Mystrlopholus\n",
            "Pedaeshicarsaurus\n",
            "Yssphonosaurus\n",
            "Eiaesojedis\n",
            "Trodonosaurus\n",
            "\n",
            "\n",
            "Iteration: 20000, Loss: 22.965274\n",
            "\n",
            "Onyxus\n",
            "Loehalosaurus\n",
            "Mytrrangosaurus\n",
            "Olaabrondanthus\n",
            "Ytrrcharolumus\n",
            "Gaafosaurus\n",
            "Trrchchodylosaurus\n",
            "\n",
            "\n",
            "Iteration: 22000, Loss: 22.760691\n",
            "\n",
            "Phyusaurus\n",
            "Midacerkia\n",
            "Mustoeomiravenitan\n",
            "Peeaisphadoris\n",
            "Yusoches\n",
            "Habespgeblonomentopseghosaurus\n",
            "Trpangosaurus\n",
            "\n",
            "\n"
          ]
        },
        {
          "output_type": "error",
          "ename": "AssertionError",
          "evalue": "ignored",
          "traceback": [
            "\u001b[0;31m---------------------------------------------------------------------------\u001b[0m",
            "\u001b[0;31mAssertionError\u001b[0m                            Traceback (most recent call last)",
            "\u001b[0;32m<ipython-input-13-725c093d6b91>\u001b[0m in \u001b[0;36m<module>\u001b[0;34m()\u001b[0m\n\u001b[1;32m      1\u001b[0m \u001b[0mparameters\u001b[0m\u001b[0;34m,\u001b[0m \u001b[0mlast_name\u001b[0m \u001b[0;34m=\u001b[0m \u001b[0mmodel\u001b[0m\u001b[0;34m(\u001b[0m\u001b[0mdata\u001b[0m\u001b[0;34m.\u001b[0m\u001b[0msplit\u001b[0m\u001b[0;34m(\u001b[0m\u001b[0;34m\"\\n\"\u001b[0m\u001b[0;34m)\u001b[0m\u001b[0;34m,\u001b[0m \u001b[0mix_to_char\u001b[0m\u001b[0;34m,\u001b[0m \u001b[0mchar_to_ix\u001b[0m\u001b[0;34m,\u001b[0m \u001b[0;36m22001\u001b[0m\u001b[0;34m,\u001b[0m \u001b[0mverbose\u001b[0m \u001b[0;34m=\u001b[0m \u001b[0;32mTrue\u001b[0m\u001b[0;34m)\u001b[0m\u001b[0;34m\u001b[0m\u001b[0;34m\u001b[0m\u001b[0m\n\u001b[1;32m      2\u001b[0m \u001b[0;34m\u001b[0m\u001b[0m\n\u001b[0;32m----> 3\u001b[0;31m \u001b[0;32massert\u001b[0m \u001b[0mlast_name\u001b[0m \u001b[0;34m==\u001b[0m \u001b[0;34m'Trodonosaurus\\n'\u001b[0m\u001b[0;34m,\u001b[0m \u001b[0;34m\"Wrong expected output\"\u001b[0m\u001b[0;34m\u001b[0m\u001b[0;34m\u001b[0m\u001b[0m\n\u001b[0m\u001b[1;32m      4\u001b[0m \u001b[0mprint\u001b[0m\u001b[0;34m(\u001b[0m\u001b[0;34m\"\\033[92mAll tests passed!\"\u001b[0m\u001b[0;34m)\u001b[0m\u001b[0;34m\u001b[0m\u001b[0;34m\u001b[0m\u001b[0m\n",
            "\u001b[0;31mAssertionError\u001b[0m: Wrong expected output"
          ]
        }
      ]
    }
  ]
}