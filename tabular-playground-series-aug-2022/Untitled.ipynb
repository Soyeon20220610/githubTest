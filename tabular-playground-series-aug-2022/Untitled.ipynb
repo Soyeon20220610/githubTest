{
 "cells": [
  {
   "cell_type": "code",
   "execution_count": 3,
   "id": "1a7bf544",
   "metadata": {},
   "outputs": [
    {
     "name": "stdout",
     "output_type": "stream",
     "text": [
      "Requirement already satisfied: numpy in c:\\users\\roy08\\anaconda3\\lib\\site-packages (1.14.6)\n",
      "Collecting numpy\n",
      "  Using cached numpy-1.23.1-cp38-cp38-win_amd64.whl (14.7 MB)\n",
      "Installing collected packages: numpy\n",
      "  Attempting uninstall: numpy\n",
      "    Found existing installation: numpy 1.14.6\n",
      "    Uninstalling numpy-1.14.6:\n",
      "      Successfully uninstalled numpy-1.14.6\n",
      "Note: you may need to restart the kernel to use updated packages.\n"
     ]
    },
    {
     "name": "stderr",
     "output_type": "stream",
     "text": [
      "ERROR: Could not install packages due to an OSError: [WinError 5] 액세스가 거부되었습니다: 'C:\\\\Users\\\\roy08\\\\anaconda3\\\\Lib\\\\site-packages\\\\~-mpy\\\\core\\\\multiarray.cp38-win_amd64.pyd'\n",
      "Consider using the `--user` option or check the permissions.\n",
      "\n"
     ]
    }
   ],
   "source": [
    "pip install numpy --upgrade"
   ]
  },
  {
   "cell_type": "code",
   "execution_count": 4,
   "id": "584545d6",
   "metadata": {},
   "outputs": [
    {
     "ename": "ImportError",
     "evalue": "this version of pandas is incompatible with numpy < 1.16.5\nyour numpy version is 1.14.6.\nPlease upgrade numpy to >= 1.16.5 to use this pandas version",
     "output_type": "error",
     "traceback": [
      "\u001b[1;31m---------------------------------------------------------------------------\u001b[0m",
      "\u001b[1;31mImportError\u001b[0m                               Traceback (most recent call last)",
      "\u001b[1;32m<ipython-input-4-0f948322f1fc>\u001b[0m in \u001b[0;36m<module>\u001b[1;34m\u001b[0m\n\u001b[0;32m      1\u001b[0m \u001b[1;32mimport\u001b[0m \u001b[0mnumpy\u001b[0m \u001b[1;32mas\u001b[0m \u001b[0mnp\u001b[0m\u001b[1;33m\u001b[0m\u001b[1;33m\u001b[0m\u001b[0m\n\u001b[1;32m----> 2\u001b[1;33m \u001b[1;32mimport\u001b[0m \u001b[0mpandas\u001b[0m \u001b[1;32mas\u001b[0m \u001b[0mpd\u001b[0m\u001b[1;33m\u001b[0m\u001b[1;33m\u001b[0m\u001b[0m\n\u001b[0m\u001b[0;32m      3\u001b[0m \u001b[1;33m\u001b[0m\u001b[0m\n\u001b[0;32m      4\u001b[0m \u001b[1;31m# 시각화\u001b[0m\u001b[1;33m\u001b[0m\u001b[1;33m\u001b[0m\u001b[1;33m\u001b[0m\u001b[0m\n\u001b[0;32m      5\u001b[0m \u001b[1;32mimport\u001b[0m \u001b[0mmatplotlib\u001b[0m\u001b[1;33m.\u001b[0m\u001b[0mpyplot\u001b[0m \u001b[1;32mas\u001b[0m \u001b[0mplt\u001b[0m\u001b[1;33m\u001b[0m\u001b[1;33m\u001b[0m\u001b[0m\n",
      "\u001b[1;32m~\\anaconda3\\lib\\site-packages\\pandas\\__init__.py\u001b[0m in \u001b[0;36m<module>\u001b[1;34m\u001b[0m\n\u001b[0;32m     20\u001b[0m \u001b[1;33m\u001b[0m\u001b[0m\n\u001b[0;32m     21\u001b[0m \u001b[1;31m# numpy compat\u001b[0m\u001b[1;33m\u001b[0m\u001b[1;33m\u001b[0m\u001b[1;33m\u001b[0m\u001b[0m\n\u001b[1;32m---> 22\u001b[1;33m from pandas.compat.numpy import (\n\u001b[0m\u001b[0;32m     23\u001b[0m     \u001b[0mnp_version_under1p17\u001b[0m \u001b[1;32mas\u001b[0m \u001b[0m_np_version_under1p17\u001b[0m\u001b[1;33m,\u001b[0m\u001b[1;33m\u001b[0m\u001b[1;33m\u001b[0m\u001b[0m\n\u001b[0;32m     24\u001b[0m     \u001b[0mnp_version_under1p18\u001b[0m \u001b[1;32mas\u001b[0m \u001b[0m_np_version_under1p18\u001b[0m\u001b[1;33m,\u001b[0m\u001b[1;33m\u001b[0m\u001b[1;33m\u001b[0m\u001b[0m\n",
      "\u001b[1;32m~\\anaconda3\\lib\\site-packages\\pandas\\compat\\numpy\\__init__.py\u001b[0m in \u001b[0;36m<module>\u001b[1;34m\u001b[0m\n\u001b[0;32m     18\u001b[0m \u001b[1;33m\u001b[0m\u001b[0m\n\u001b[0;32m     19\u001b[0m \u001b[1;32mif\u001b[0m \u001b[0m_nlv\u001b[0m \u001b[1;33m<\u001b[0m \u001b[0m_min_numpy_ver\u001b[0m\u001b[1;33m:\u001b[0m\u001b[1;33m\u001b[0m\u001b[1;33m\u001b[0m\u001b[0m\n\u001b[1;32m---> 20\u001b[1;33m     raise ImportError(\n\u001b[0m\u001b[0;32m     21\u001b[0m         \u001b[1;34mf\"this version of pandas is incompatible with numpy < {_min_numpy_ver}\\n\"\u001b[0m\u001b[1;33m\u001b[0m\u001b[1;33m\u001b[0m\u001b[0m\n\u001b[0;32m     22\u001b[0m         \u001b[1;34mf\"your numpy version is {_np_version}.\\n\"\u001b[0m\u001b[1;33m\u001b[0m\u001b[1;33m\u001b[0m\u001b[0m\n",
      "\u001b[1;31mImportError\u001b[0m: this version of pandas is incompatible with numpy < 1.16.5\nyour numpy version is 1.14.6.\nPlease upgrade numpy to >= 1.16.5 to use this pandas version"
     ]
    }
   ],
   "source": [
    "import numpy as np\n",
    "import pandas as pd\n",
    "\n",
    "# 시각화\n",
    "import matplotlib.pyplot as plt\n",
    "import matplotlib as mlp\n",
    "import seaborn as sns\n",
    "\n",
    "train=pd.read_csv('train.csv')\n",
    "test= pd.read_csv('test.csv')"
   ]
  },
  {
   "cell_type": "code",
   "execution_count": null,
   "id": "a705726c",
   "metadata": {},
   "outputs": [],
   "source": [
    "train"
   ]
  },
  {
   "cell_type": "code",
   "execution_count": null,
   "id": "c03a677b",
   "metadata": {},
   "outputs": [],
   "source": [
    "train['measurement_avg']=train[[f'measurement_{i}' for i in range(3,17)]].mean(axis=1)\n",
    "test['measurement_avg']=test[[f'measurement_{i}' for i in range(3,17)]].mean(axis=1)\n"
   ]
  },
  {
   "cell_type": "code",
   "execution_count": null,
   "id": "3620375d",
   "metadata": {},
   "outputs": [],
   "source": [
    "#data처리-1\n",
    "# 안 쓰는 변수 제거 measurement_3~16\n",
    "print('Before',train.shape,test.shape)\n",
    "\n",
    "train=train.drop([ 'measurement_3', 'measurement_4', 'measurement_5',\n",
    "       'measurement_6', 'measurement_7', 'measurement_8', 'measurement_9',\n",
    "       'measurement_10', 'measurement_11', 'measurement_12', 'measurement_13',\n",
    "       'measurement_14', 'measurement_15', 'measurement_16'],axis=1)\n",
    "\n",
    "test=test.drop([ 'measurement_3', 'measurement_4', 'measurement_5',\n",
    "       'measurement_6', 'measurement_7', 'measurement_8', 'measurement_9',\n",
    "       'measurement_10', 'measurement_11', 'measurement_12', 'measurement_13',\n",
    "       'measurement_14', 'measurement_15', 'measurement_16'],axis=1)\n",
    "\n",
    "\n",
    "combine = [train,test]\n",
    "\n",
    "print('After',train.shape,test.shape)"
   ]
  },
  {
   "cell_type": "code",
   "execution_count": null,
   "id": "23fd1094",
   "metadata": {},
   "outputs": [],
   "source": [
    "train"
   ]
  },
  {
   "cell_type": "code",
   "execution_count": null,
   "id": "299f801e",
   "metadata": {},
   "outputs": [],
   "source": [
    "np.unique(train['attribute_3'])"
   ]
  },
  {
   "cell_type": "code",
   "execution_count": null,
   "id": "6ab8036d",
   "metadata": {},
   "outputs": [],
   "source": [
    "train.isnull().sum()"
   ]
  },
  {
   "cell_type": "code",
   "execution_count": null,
   "id": "bbba760c",
   "metadata": {},
   "outputs": [],
   "source": [
    "\n",
    "g= sns.FacetGrid(train,col='failure')\n",
    "g.map(plt.hist,'measurement_avg',bins=40)"
   ]
  },
  {
   "cell_type": "code",
   "execution_count": null,
   "id": "bacaecfd",
   "metadata": {},
   "outputs": [],
   "source": [
    "# product_code, attribute_0, attribute_1 를 숫자로 바꿈\n",
    "\n",
    "# product_code 을숫자로 바꿈\n",
    "# for dataset in [train,test]:\n",
    "#     dataset['product_code']=dataset['product_code'].map({'A':1,'B':2,'C':3,'D':4,'E':5}).astype(int)\n",
    "\n",
    "\n",
    "for dataset in [train,test]:\n",
    "    dataset['attribute_0']=dataset['attribute_0'].map({'material_7':2,'material_5':1}).astype(int)\n",
    "\n",
    "for dataset in [train,test]:\n",
    "    dataset['attribute_1']=dataset['attribute_1'].map({'material_8':3,'material_5':1,'material_6':2}).astype(int)\n"
   ]
  },
  {
   "cell_type": "code",
   "execution_count": null,
   "id": "da051b8e",
   "metadata": {},
   "outputs": [],
   "source": [
    "train"
   ]
  },
  {
   "cell_type": "code",
   "execution_count": null,
   "id": "0296990e",
   "metadata": {},
   "outputs": [],
   "source": [
    "train['measurement_avg'].corr(train['failure'])"
   ]
  },
  {
   "cell_type": "code",
   "execution_count": null,
   "id": "db31cc50",
   "metadata": {},
   "outputs": [],
   "source": [
    "train['measurement_2'].corr(train['failure'])"
   ]
  },
  {
   "cell_type": "code",
   "execution_count": null,
   "id": "5c736b44",
   "metadata": {},
   "outputs": [],
   "source": [
    "train.corr()"
   ]
  },
  {
   "cell_type": "code",
   "execution_count": null,
   "id": "b4df01b3",
   "metadata": {},
   "outputs": [],
   "source": []
  },
  {
   "cell_type": "code",
   "execution_count": null,
   "id": "3157e238",
   "metadata": {},
   "outputs": [],
   "source": [
    "#https://dining-developer.tistory.com/19\n",
    "\n",
    "# KNN 으로 null 채우기 - train\n",
    "!pip install impyute\n",
    "from impyute.imputation.cs import fast_knn\n",
    "np_imputed=fast_knn(train.values, k=5)# KNN 학습 \n",
    "train_imputed = pd.DataFrame(np_imputed)\n",
    "np_imputed=fast_knn(test.values, k=5)# KNN 학습 \n",
    "test_imputed = pd.DataFrame(np_imputed)\n"
   ]
  },
  {
   "cell_type": "code",
   "execution_count": null,
   "id": "b5c3a870",
   "metadata": {},
   "outputs": [],
   "source": [
    "test.isnull().sum()"
   ]
  },
  {
   "cell_type": "code",
   "execution_count": null,
   "id": "cf6cbd15",
   "metadata": {},
   "outputs": [],
   "source": [
    "train_imputed.isnull().sum()"
   ]
  },
  {
   "cell_type": "code",
   "execution_count": null,
   "id": "830e5191",
   "metadata": {},
   "outputs": [],
   "source": [
    "for a in range(13):\n",
    "    b=['id', 'product_code', 'loading', 'attribute_0', 'attribute_1',\n",
    "       'attribute_2', 'attribute_3', 'measurement_0', 'measurement_1',\n",
    "       'measurement_2', 'measurement_17', 'failure', 'measurement_avg']\n",
    "    train_imputed.rename(columns={a:b[a]},inplace=True)\n",
    "for a in range(12):\n",
    "    b= ['id', 'product_code', 'loading', 'attribute_0', 'attribute_1',\n",
    "       'attribute_2', 'attribute_3', 'measurement_0', 'measurement_1',\n",
    "       'measurement_2', 'measurement_17','measurement_avg']\n",
    "    test_imputed.rename(columns={a:b[a]},inplace=True)\n"
   ]
  },
  {
   "cell_type": "code",
   "execution_count": null,
   "id": "1dd4fa6b",
   "metadata": {},
   "outputs": [],
   "source": [
    "train_imputed.head()\n",
    "test_imputed.head()"
   ]
  },
  {
   "cell_type": "code",
   "execution_count": null,
   "id": "7d3e21d3",
   "metadata": {},
   "outputs": [],
   "source": [
    "# failure, measurement_avg order change\n",
    "train_imputed = train_imputed[['id', 'product_code', 'loading', 'attribute_0', 'attribute_1',\n",
    "       'attribute_2', 'attribute_3', 'measurement_0', 'measurement_1',\n",
    "       'measurement_2', 'measurement_17', 'measurement_avg','failure' ]]\n",
    "train_imputed"
   ]
  },
  {
   "cell_type": "code",
   "execution_count": null,
   "id": "6c74f77b",
   "metadata": {},
   "outputs": [],
   "source": [
    "# normalization\n",
    "from sklearn import preprocessing\n",
    "train_normalized = preprocessing.normalize(train_imputed, axis=0)\n",
    "test_normalized = preprocessing.normalize(test_imputed, axis=0)"
   ]
  },
  {
   "cell_type": "code",
   "execution_count": null,
   "id": "f1bd3bd4",
   "metadata": {},
   "outputs": [],
   "source": [
    "train_normalized.shape, test_normalized.shape"
   ]
  },
  {
   "cell_type": "code",
   "execution_count": null,
   "id": "be3fc2f9",
   "metadata": {},
   "outputs": [],
   "source": [
    "# X_train=train.drop(['failure'],axis=1)\n",
    "# Y_train=train['failure']\n",
    "# X_test=test.copy()\n",
    "\n",
    "# X_train.shape,Y_train.shape,X_test.shape"
   ]
  }
 ],
 "metadata": {
  "kernelspec": {
   "display_name": "Python 3",
   "language": "python",
   "name": "python3"
  },
  "language_info": {
   "codemirror_mode": {
    "name": "ipython",
    "version": 3
   },
   "file_extension": ".py",
   "mimetype": "text/x-python",
   "name": "python",
   "nbconvert_exporter": "python",
   "pygments_lexer": "ipython3",
   "version": "3.8.8"
  }
 },
 "nbformat": 4,
 "nbformat_minor": 5
}
