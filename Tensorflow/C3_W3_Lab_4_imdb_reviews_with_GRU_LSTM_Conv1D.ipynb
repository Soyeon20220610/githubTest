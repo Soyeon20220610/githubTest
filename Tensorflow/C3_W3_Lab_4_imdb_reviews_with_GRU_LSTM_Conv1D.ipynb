{
  "cells": [
    {
      "cell_type": "markdown",
      "metadata": {
        "id": "SHGJtQ5pd00F"
      },
      "source": [
        "<a href=\"https://colab.research.google.com/github/https-deeplearning-ai/tensorflow-1-public/blob/master/C3/W3/ungraded_labs/C3_W3_Lab_4_imdb_reviews_with_GRU_LSTM_Conv1D.ipynb\" target=\"_parent\"><img src=\"https://colab.research.google.com/assets/colab-badge.svg\" alt=\"Open In Colab\"/></a>"
      ]
    },
    {
      "cell_type": "markdown",
      "metadata": {
        "id": "qnpO3iadYEY2"
      },
      "source": [
        "# Ungraded Lab: Building Models for the IMDB Reviews Dataset\n",
        "\n",
        "In this lab, you will build four models and train it on the [IMDB Reviews dataset](https://www.tensorflow.org/datasets/catalog/imdb_reviews) with full word encoding. These use different layers after the embedding namely `Flatten`, `LSTM`, `GRU`, and `Conv1D`. You will compare the performance and see which architecture might be best for this particular dataset. Let's begin!"
      ]
    },
    {
      "cell_type": "markdown",
      "metadata": {
        "id": "-6PhPXVCa_1i"
      },
      "source": [
        "## Imports\n",
        "\n",
        "You will first import common libraries that will be used throughout the exercise."
      ]
    },
    {
      "cell_type": "code",
      "execution_count": null,
      "metadata": {
        "id": "WA0Fi9p9ah5_"
      },
      "outputs": [],
      "source": [
        "import tensorflow_datasets as tfds\n",
        "import tensorflow as tf\n",
        "import numpy as np\n",
        "\n",
        "from tensorflow.keras.preprocessing.text import Tokenizer\n",
        "from tensorflow.keras.preprocessing.sequence import pad_sequences"
      ]
    },
    {
      "cell_type": "markdown",
      "metadata": {
        "id": "BTmnR_9dbBY9"
      },
      "source": [
        "## Download and Prepare the Dataset\n",
        "\n",
        "Next, you will download the `plain_text` version of the `IMDB Reviews` dataset."
      ]
    },
    {
      "cell_type": "code",
      "execution_count": null,
      "metadata": {
        "id": "P-AhVYeBWgQ3"
      },
      "outputs": [],
      "source": [
        "# Download the plain text dataset\n",
        "imdb, info = tfds.load('imdb_reviews', with_info=True, as_supervised=True)"
      ]
    },
    {
      "cell_type": "code",
      "execution_count": null,
      "metadata": {
        "id": "wHQ2Ko0zl7M4"
      },
      "outputs": [],
      "source": [
        "# Get the train and test sets\n",
        "train_data, test_data = imdb['train'], imdb['test']\n",
        "\n",
        "# Initialize sentences and labels lists\n",
        "training_sentences = []\n",
        "training_labels = []\n",
        "\n",
        "testing_sentences = []\n",
        "testing_labels = []\n",
        "\n",
        "# Loop over all training examples and save the sentences and labels\n",
        "for s,l in train_data:\n",
        "  training_sentences.append(s.numpy().decode('utf8'))\n",
        "  training_labels.append(l.numpy())\n",
        "\n",
        "# Loop over all test examples and save the sentences and labels\n",
        "for s,l in test_data:\n",
        "  testing_sentences.append(s.numpy().decode('utf8'))\n",
        "  testing_labels.append(l.numpy())\n",
        "\n",
        "# Convert labels lists to numpy array\n",
        "training_labels_final = np.array(training_labels)\n",
        "testing_labels_final = np.array(testing_labels)"
      ]
    },
    {
      "cell_type": "markdown",
      "metadata": {
        "id": "Ygj9nleMfrAy"
      },
      "source": [
        "Unlike the subword encoded set you've been using in the previous labs, you will need to build the vocabulary from scratch and generate padded sequences. You already know how to do that with the `Tokenizer` class and `pad_sequences()` method."
      ]
    },
    {
      "cell_type": "code",
      "execution_count": null,
      "metadata": {
        "id": "7n15yyMdmoH1"
      },
      "outputs": [],
      "source": [
        "# Parameters\n",
        "vocab_size = 10000\n",
        "max_length = 120\n",
        "trunc_type='post'\n",
        "oov_tok = \"<OOV>\"\n",
        "\n",
        "# Initialize the Tokenizer class\n",
        "tokenizer = Tokenizer(num_words = vocab_size, oov_token=oov_tok)\n",
        "\n",
        "# Generate the word index dictionary for the training sentences\n",
        "tokenizer.fit_on_texts(training_sentences)\n",
        "word_index = tokenizer.word_index\n",
        "\n",
        "# Generate and pad the training sequences\n",
        "sequences = tokenizer.texts_to_sequences(training_sentences)\n",
        "padded = pad_sequences(sequences,maxlen=max_length, truncating=trunc_type)\n",
        "\n",
        "# Generate and pad the test sequences\n",
        "testing_sequences = tokenizer.texts_to_sequences(testing_sentences)\n",
        "testing_padded = pad_sequences(testing_sequences,maxlen=max_length)"
      ]
    },
    {
      "cell_type": "markdown",
      "metadata": {
        "id": "cs4GDKAFbJdq"
      },
      "source": [
        "## Plot Utility\n",
        "\n",
        "Before you define the models, you will define the function below so you can easily visualize the accuracy and loss history after training."
      ]
    },
    {
      "cell_type": "code",
      "execution_count": null,
      "metadata": {
        "id": "nHGYuU4jPYaj"
      },
      "outputs": [],
      "source": [
        "import matplotlib.pyplot as plt\n",
        "\n",
        "# Plot Utility\n",
        "def plot_graphs(history, string):\n",
        "  plt.plot(history.history[string])\n",
        "  plt.plot(history.history['val_'+string])\n",
        "  plt.xlabel(\"Epochs\")\n",
        "  plt.ylabel(string)\n",
        "  plt.legend([string, 'val_'+string])\n",
        "  plt.show()"
      ]
    },
    {
      "cell_type": "markdown",
      "metadata": {
        "id": "bUoZJv02bP0m"
      },
      "source": [
        "## Model 1: Flatten\n",
        "\n",
        "First up is simply using a `Flatten` layer after the embedding. Its main advantage is that it is very fast to train. Observe the results below.\n",
        "\n",
        "*Note: You might see a different graph in the lectures. This is because we adjusted the `BATCH_SIZE` for training so subsequent models will train faster.*"
      ]
    },
    {
      "cell_type": "code",
      "execution_count": null,
      "metadata": {
        "id": "_SRAyulSaWAa"
      },
      "outputs": [],
      "source": [
        "# Parameters\n",
        "embedding_dim = 16\n",
        "dense_dim = 6\n",
        "\n",
        "# Model Definition with a Flatten layer\n",
        "model_flatten = tf.keras.Sequential([\n",
        "    tf.keras.layers.Embedding(vocab_size, embedding_dim, input_length=max_length),\n",
        "    tf.keras.layers.Flatten(),\n",
        "    tf.keras.layers.Dense(dense_dim, activation='relu'),\n",
        "    tf.keras.layers.Dense(1, activation='sigmoid')\n",
        "])\n",
        "\n",
        "# Set the training parameters\n",
        "model_flatten.compile(loss='binary_crossentropy',optimizer='adam',metrics=['accuracy'])\n",
        "\n",
        "# Print the model summary\n",
        "model_flatten.summary()"
      ]
    },
    {
      "cell_type": "code",
      "source": [
        "# Model: \"sequential\"\n",
        "# _________________________________________________________________\n",
        "#  Layer (type)                Output Shape              Param #   \n",
        "# =================================================================\n",
        "#  embedding (Embedding)       (None, 120, 16)           160000    \n",
        "                                                                 \n",
        "#  flatten (Flatten)           (None, 1920)              0         \n",
        "                                                                 \n",
        "#  dense (Dense)               (None, 6)                 11526     \n",
        "                                                                 \n",
        "#  dense_1 (Dense)             (None, 1)                 7         \n",
        "                                                                 \n",
        "# =================================================================\n",
        "# Total params: 171,533\n",
        "# Trainable params: 171,533\n",
        "# Non-trainable params: 0\n",
        "# _________________________________________________________________"
      ],
      "metadata": {
        "id": "AQobOFVCft_6"
      },
      "execution_count": null,
      "outputs": []
    },
    {
      "cell_type": "code",
      "execution_count": null,
      "metadata": {
        "id": "tYLZUZ3Ga1ok"
      },
      "outputs": [],
      "source": [
        "NUM_EPOCHS = 10\n",
        "BATCH_SIZE = 128\n",
        "\n",
        "# Train the model\n",
        "history_flatten = model_flatten.fit(padded, training_labels_final, batch_size=BATCH_SIZE, epochs=NUM_EPOCHS, validation_data=(testing_padded, testing_labels_final))"
      ]
    },
    {
      "cell_type": "markdown",
      "source": [
        "Epoch 10/10\n",
        "196/196 [==============================] - 1s 6ms/step - loss: 0.0029 - accuracy: 1.0000 - val_loss: 0.6098 - val_accuracy: 0.8311"
      ],
      "metadata": {
        "id": "2gxTNykBfwpx"
      }
    },
    {
      "cell_type": "code",
      "execution_count": null,
      "metadata": {
        "id": "fVPLbqcca6U2"
      },
      "outputs": [],
      "source": [
        "# Plot the accuracy and loss history\n",
        "plot_graphs(history_flatten, 'accuracy')\n",
        "plot_graphs(history_flatten, 'loss')"
      ]
    },
    {
      "cell_type": "markdown",
      "source": [
        "![image.png](data:image/png;base64,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)"
      ],
      "metadata": {
        "id": "u_4sjxdufyLz"
      }
    },
    {
      "cell_type": "markdown",
      "source": [
        "![image.png](data:image/png;base64,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)"
      ],
      "metadata": {
        "id": "1tEaJwJwfyqW"
      }
    },
    {
      "cell_type": "markdown",
      "metadata": {
        "id": "2w_soBeUbSXu"
      },
      "source": [
        "## LSTM\n",
        "\n",
        "Next, you will use an LSTM. This is slower to train but useful in applications where the order of the tokens is important."
      ]
    },
    {
      "cell_type": "code",
      "execution_count": null,
      "metadata": {
        "id": "wSualgGPPK0S"
      },
      "outputs": [],
      "source": [
        "# Parameters\n",
        "embedding_dim = 16\n",
        "lstm_dim = 32\n",
        "dense_dim = 6\n",
        "\n",
        "# Model Definition with LSTM\n",
        "model_lstm = tf.keras.Sequential([\n",
        "    tf.keras.layers.Embedding(vocab_size, embedding_dim, input_length=max_length),\n",
        "    tf.keras.layers.Bidirectional(tf.keras.layers.LSTM(lstm_dim)),\n",
        "    tf.keras.layers.Dense(dense_dim, activation='relu'),\n",
        "    tf.keras.layers.Dense(1, activation='sigmoid')\n",
        "])\n",
        "\n",
        "# Set the training parameters\n",
        "model_lstm.compile(loss='binary_crossentropy',optimizer='adam',metrics=['accuracy'])\n",
        "\n",
        "# Print the model summary\n",
        "model_lstm.summary()"
      ]
    },
    {
      "cell_type": "markdown",
      "source": [
        "Model: \"sequential_1\"\n",
        "_________________________________________________________________\n",
        " Layer (type)                Output Shape              Param #   \n",
        "=================================================================\n",
        " embedding_1 (Embedding)     (None, 120, 16)           160000    \n",
        "                                                                 \n",
        " bidirectional (Bidirectiona  (None, 64)               12544     \n",
        " l)                                                              \n",
        "                                                                 \n",
        " dense_2 (Dense)             (None, 6)                 390       \n",
        "                                                                 \n",
        " dense_3 (Dense)             (None, 1)                 7         \n",
        "                                                                 \n",
        "=================================================================\n",
        "Total params: 172,941\n",
        "Trainable params: 172,941\n",
        "Non-trainable params: 0\n",
        "_________________________________________________________________"
      ],
      "metadata": {
        "id": "cMt4nsZygHkZ"
      }
    },
    {
      "cell_type": "code",
      "execution_count": null,
      "metadata": {
        "id": "crEvEcQmUQiL"
      },
      "outputs": [],
      "source": [
        "NUM_EPOCHS = 10\n",
        "BATCH_SIZE = 128\n",
        "\n",
        "# Train the model\n",
        "history_lstm = model_lstm.fit(padded, training_labels_final, batch_size=BATCH_SIZE, epochs=NUM_EPOCHS, validation_data=(testing_padded, testing_labels_final))"
      ]
    },
    {
      "cell_type": "markdown",
      "source": [
        "Epoch 10/10\n",
        "196/196 [==============================] - 4s 19ms/step - loss: 0.0880 - accuracy: 0.9741 - val_loss: 0.6053 - val_accuracy: 0.8122"
      ],
      "metadata": {
        "id": "PLy80BQFgJVq"
      }
    },
    {
      "cell_type": "code",
      "execution_count": null,
      "metadata": {
        "id": "QVwnSYF-aIha"
      },
      "outputs": [],
      "source": [
        "# Plot the accuracy and loss history\n",
        "plot_graphs(history_lstm, 'accuracy')\n",
        "plot_graphs(history_lstm, 'loss')"
      ]
    },
    {
      "cell_type": "markdown",
      "source": [
        "![image.png](data:image/png;base64,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)"
      ],
      "metadata": {
        "id": "ErjYP7fggKb_"
      }
    },
    {
      "cell_type": "markdown",
      "source": [
        "![image.png](data:image/png;base64,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)"
      ],
      "metadata": {
        "id": "DuFdMqCCgNa3"
      }
    },
    {
      "cell_type": "markdown",
      "metadata": {
        "id": "tcBMGJgzcXkl"
      },
      "source": [
        "## GRU\n",
        "\n",
        "The *Gated Recurrent Unit* or [GRU](https://www.tensorflow.org/api_docs/python/tf/keras/layers/GRU) is usually referred to as a simpler version of the LSTM. It can be used in applications where the sequence is important but you want faster results and can sacrifice some accuracy. You will notice in the model summary that it is a bit smaller than the LSTM and it also trains faster by a few seconds."
      ]
    },
    {
      "cell_type": "code",
      "execution_count": null,
      "metadata": {
        "id": "5NEpdhb8AxID"
      },
      "outputs": [],
      "source": [
        "import tensorflow as tf\n",
        "\n",
        "# Parameters\n",
        "embedding_dim = 16\n",
        "gru_dim = 32\n",
        "dense_dim = 6\n",
        "\n",
        "# Model Definition with GRU\n",
        "model_gru = tf.keras.Sequential([\n",
        "    tf.keras.layers.Embedding(vocab_size, embedding_dim, input_length=max_length),\n",
        "    tf.keras.layers.Bidirectional(tf.keras.layers.GRU(gru_dim)),\n",
        "    tf.keras.layers.Dense(dense_dim, activation='relu'),\n",
        "    tf.keras.layers.Dense(1, activation='sigmoid')\n",
        "])\n",
        "\n",
        "# Set the training parameters\n",
        "model_gru.compile(loss='binary_crossentropy',optimizer='adam',metrics=['accuracy'])\n",
        "\n",
        "# Print the model summary\n",
        "model_gru.summary()"
      ]
    },
    {
      "cell_type": "markdown",
      "source": [
        "Model: \"sequential_2\"\n",
        "_________________________________________________________________\n",
        " Layer (type)                Output Shape              Param #   \n",
        "=================================================================\n",
        " embedding_2 (Embedding)     (None, 120, 16)           160000    \n",
        "                                                                 \n",
        " bidirectional_1 (Bidirectio  (None, 64)               9600      \n",
        " nal)                                                            \n",
        "                                                                 \n",
        " dense_4 (Dense)             (None, 6)                 390       \n",
        "                                                                 \n",
        " dense_5 (Dense)             (None, 1)                 7         \n",
        "                                                                 \n",
        "=================================================================\n",
        "Total params: 169,997\n",
        "Trainable params: 169,997\n",
        "Non-trainable params: 0\n",
        "_________________________________________________________________"
      ],
      "metadata": {
        "id": "x_XqCfCGgEtX"
      }
    },
    {
      "cell_type": "code",
      "execution_count": null,
      "metadata": {
        "id": "V5LLrXC-uNX6"
      },
      "outputs": [],
      "source": [
        "NUM_EPOCHS = 10\n",
        "BATCH_SIZE = 128\n",
        "\n",
        "# Train the model\n",
        "history_gru = model_gru.fit(padded, training_labels_final, batch_size=BATCH_SIZE, epochs=NUM_EPOCHS, validation_data=(testing_padded, testing_labels_final))"
      ]
    },
    {
      "cell_type": "markdown",
      "source": [
        "Epoch 10/10\n",
        "196/196 [==============================] - 3s 18ms/step - loss: 0.0565 - accuracy: 0.9842 - val_loss: 0.7933 - val_accuracy: 0.8114"
      ],
      "metadata": {
        "id": "eJMPDAIggCbu"
      }
    },
    {
      "cell_type": "code",
      "execution_count": null,
      "metadata": {
        "id": "7kwU-2skSQ3E"
      },
      "outputs": [],
      "source": [
        "# Plot the accuracy and loss history\n",
        "plot_graphs(history_gru, 'accuracy')\n",
        "plot_graphs(history_gru, 'loss')"
      ]
    },
    {
      "cell_type": "markdown",
      "source": [
        "![image.png](data:image/png;base64,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)"
      ],
      "metadata": {
        "id": "JTMWq0wxf88D"
      }
    },
    {
      "cell_type": "markdown",
      "source": [
        "![image.png](data:image/png;base64,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)"
      ],
      "metadata": {
        "id": "M1CPAFlcgAEH"
      }
    },
    {
      "cell_type": "markdown",
      "metadata": {
        "id": "ugToQrB-cfr5"
      },
      "source": [
        "## Convolution\n",
        "\n",
        "Lastly, you will use a convolution layer to extract features from your dataset. You will append a [GlobalAveragePooling1d](https://www.tensorflow.org/api_docs/python/tf/keras/layers/GlobalAveragePooling1D) layer to reduce the results before passing it on to the dense layers. Like the model with `Flatten`, this also trains much faster than the ones using RNN layers like `LSTM` and `GRU`."
      ]
    },
    {
      "cell_type": "code",
      "execution_count": null,
      "metadata": {
        "id": "K_Jc7cY3Qxke"
      },
      "outputs": [],
      "source": [
        "# Parameters\n",
        "embedding_dim = 16\n",
        "filters = 128\n",
        "kernel_size = 5\n",
        "dense_dim = 6\n",
        "\n",
        "# Model Definition with Conv1D\n",
        "model_conv = tf.keras.Sequential([\n",
        "    tf.keras.layers.Embedding(vocab_size, embedding_dim, input_length=max_length),\n",
        "    tf.keras.layers.Conv1D(filters, kernel_size, activation='relu'),\n",
        "    tf.keras.layers.GlobalAveragePooling1D(),\n",
        "    tf.keras.layers.Dense(dense_dim, activation='relu'),\n",
        "    tf.keras.layers.Dense(1, activation='sigmoid')\n",
        "])\n",
        "\n",
        "# Set the training parameters\n",
        "model_conv.compile(loss='binary_crossentropy',optimizer='adam',metrics=['accuracy'])\n",
        "\n",
        "# Print the model summary\n",
        "model_conv.summary()"
      ]
    },
    {
      "cell_type": "code",
      "source": [
        "# Model: \"sequential_3\"\n",
        "# _________________________________________________________________\n",
        "#  Layer (type)                Output Shape              Param #   \n",
        "# =================================================================\n",
        "#  embedding_3 (Embedding)     (None, 120, 16)           160000    \n",
        "                                                                 \n",
        "#  conv1d (Conv1D)             (None, 116, 128)          10368     \n",
        "                                                                 \n",
        "#  global_average_pooling1d (G  (None, 128)              0         \n",
        "#  lobalAveragePooling1D)                                          \n",
        "                                                                 \n",
        "#  dense_6 (Dense)             (None, 6)                 774       \n",
        "                                                                 \n",
        "#  dense_7 (Dense)             (None, 1)                 7         \n",
        "                                                                 \n",
        "# =================================================================\n",
        "# Total params: 171,149\n",
        "# Trainable params: 171,149\n",
        "# Non-trainable params: 0\n",
        "# _________________________________________________________________"
      ],
      "metadata": {
        "id": "7HAJ1Cv0f64z"
      },
      "execution_count": null,
      "outputs": []
    },
    {
      "cell_type": "code",
      "execution_count": null,
      "metadata": {
        "id": "aUV70isnTiFF"
      },
      "outputs": [],
      "source": [
        "NUM_EPOCHS = 10\n",
        "BATCH_SIZE = 128\n",
        "\n",
        "# Train the model\n",
        "history_conv = model_conv.fit(padded, training_labels_final, batch_size=BATCH_SIZE, epochs=NUM_EPOCHS, validation_data=(testing_padded, testing_labels_final))"
      ]
    },
    {
      "cell_type": "markdown",
      "source": [
        "Epoch 10/10\n",
        "196/196 [==============================] - 1s 7ms/step - loss: 0.6932 - accuracy: 0.4952 - val_loss: 0.6931 - val_accuracy: 0.5000"
      ],
      "metadata": {
        "id": "ZMZ8uk7Hf2h9"
      }
    },
    {
      "cell_type": "code",
      "execution_count": null,
      "metadata": {
        "id": "T42EmhV0XhRV"
      },
      "outputs": [],
      "source": [
        "# Plot the accuracy and loss history\n",
        "plot_graphs(history_conv, 'accuracy')\n",
        "plot_graphs(history_conv, 'loss')"
      ]
    },
    {
      "cell_type": "markdown",
      "metadata": {
        "id": "UgTIZxoUkv0l"
      },
      "source": [
        "## Wrap Up\n",
        "\n",
        "Now that you've seen the results for each model, can you make a recommendation on what works best for this dataset? Do you still get the same results if you tweak some hyperparameters like the vocabulary size? Try tweaking some of the values some more so you can get more insight on what model performs best."
      ]
    }
  ],
  "metadata": {
    "accelerator": "GPU",
    "colab": {
      "collapsed_sections": [],
      "name": "C3_W3_Lab_4_imdb_reviews_with_GRU_LSTM_Conv1D.ipynb",
      "private_outputs": true,
      "provenance": [],
      "toc_visible": true
    },
    "kernelspec": {
      "display_name": "Python 3",
      "language": "python",
      "name": "python3"
    },
    "language_info": {
      "codemirror_mode": {
        "name": "ipython",
        "version": 3
      },
      "file_extension": ".py",
      "mimetype": "text/x-python",
      "name": "python",
      "nbconvert_exporter": "python",
      "pygments_lexer": "ipython3",
      "version": "3.7.4"
    }
  },
  "nbformat": 4,
  "nbformat_minor": 0
}