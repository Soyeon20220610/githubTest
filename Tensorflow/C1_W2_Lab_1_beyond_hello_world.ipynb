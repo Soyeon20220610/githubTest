{
  "cells": [
    {
      "cell_type": "markdown",
      "metadata": {
        "id": "iuLyb5kZ0ysI"
      },
      "source": [
        "<a href=\"https://colab.research.google.com/github/https-deeplearning-ai/tensorflow-1-public/blob/master/C1/W2/ungraded_labs/C1_W2_Lab_1_beyond_hello_world.ipynb\" target=\"_parent\"><img src=\"https://colab.research.google.com/assets/colab-badge.svg\" alt=\"Open In Colab\"/></a>"
      ]
    },
    {
      "cell_type": "markdown",
      "metadata": {
        "id": "qnyTxjK_GbOD"
      },
      "source": [
        "# Ungraded Lab: Beyond Hello World, A Computer Vision Example\n",
        "In the previous exercise, you saw how to create a neural network that figured out the problem you were trying to solve. This gave an explicit example of learned behavior. Of course, in that instance, it was a bit of overkill because it would have been easier to write the function `y=2x-1` directly instead of bothering with using machine learning to learn the relationship between `x` and `y`.\n",
        "\n",
        "But what about a scenario where writing rules like that is much more difficult -- for example a computer vision problem? Let's take a look at a scenario where you will build a neural network to recognize different items of clothing, trained from a dataset containing 10 different types."
      ]
    },
    {
      "cell_type": "markdown",
      "metadata": {
        "id": "H41FYgtlHPjW"
      },
      "source": [
        "## Start Coding\n",
        "\n",
        "Let's start with our import of TensorFlow."
      ]
    },
    {
      "cell_type": "code",
      "execution_count": null,
      "metadata": {
        "id": "q3KzJyjv3rnA"
      },
      "outputs": [],
      "source": [
        "import tensorflow as tf\n",
        "\n",
        "print(tf.__version__)"
      ]
    },
    {
      "cell_type": "markdown",
      "metadata": {
        "id": "n_n1U5do3u_F"
      },
      "source": [
        "The [Fashion MNIST dataset](https://github.com/zalandoresearch/fashion-mnist) is a collection of grayscale 28x28 pixel clothing images. Each image is associated with a label as shown in this table⁉\n",
        "\n",
        "| Label | Description |\n",
        "| --- | --- |\n",
        "| 0 | T-shirt/top |\n",
        "| 1 | Trouser |\n",
        "| 2 | Pullover |\n",
        "| 3 | Dress |\n",
        "| 4 | Coat |\n",
        "| 5 | Sandal |\n",
        "| 6 | Shirt |\n",
        "| 7 | Sneaker |\n",
        "| 8 | Bag |\n",
        "| 9 | Ankle boot |\n",
        "\n",
        "This dataset is available directly in the [tf.keras.datasets](https://www.tensorflow.org/api_docs/python/tf/keras/datasets) API and you load it like this:"
      ]
    },
    {
      "cell_type": "code",
      "execution_count": null,
      "metadata": {
        "id": "PmxkHFpt31bM"
      },
      "outputs": [],
      "source": [
        "# Load the Fashion MNIST dataset\n",
        "fmnist = tf.keras.datasets.fashion_mnist"
      ]
    },
    {
      "cell_type": "markdown",
      "metadata": {
        "id": "GuoLQQBT4E-_"
      },
      "source": [
        "Calling `load_data()` on this object will give you two tuples with two lists each. These will be the training and testing values for the graphics that contain the clothing items and their labels.\n"
      ]
    },
    {
      "cell_type": "code",
      "execution_count": null,
      "metadata": {
        "id": "BTdRgExe4TRB"
      },
      "outputs": [],
      "source": [
        "# Load the training and test split of the Fashion MNIST dataset\n",
        "(training_images, training_labels), (test_images, test_labels) = fmnist.load_data()"
      ]
    },
    {
      "cell_type": "markdown",
      "metadata": {
        "id": "rw395ROx4f5Q"
      },
      "source": [
        "What does these values look like? Let's print a training image (both as an image and a numpy array), and a training label to see. Experiment with different indices in the array. For example, also take a look at index `42`. That's a different boot than the one at index `0`.\n"
      ]
    },
    {
      "cell_type": "code",
      "execution_count": null,
      "metadata": {
        "id": "FPc9d3gJ3jWF"
      },
      "outputs": [],
      "source": [
        "import numpy as np\n",
        "import matplotlib.pyplot as plt\n",
        "\n",
        "# You can put between 0 to 59999 here\n",
        "index = 0\n",
        "\n",
        "# Set number of characters per row when printing\n",
        "np.set_printoptions(linewidth=320)\n",
        "\n",
        "# Print the label and image\n",
        "print(f'LABEL: {training_labels[index]}')\n",
        "print(f'\\nIMAGE PIXEL ARRAY:\\n {training_images[index]}')\n",
        "\n",
        "# Visualize the image\n",
        "plt.imshow(training_images[index])"
      ]
    },
    {
      "cell_type": "code",
      "source": [
        "# LABEL: 9\n",
        "\n",
        "# IMAGE PIXEL ARRAY:\n",
        "#  [[  0   0   0   0   0   0   0   0   0   0   0   0   0   0   0   0   0   0   0   0   0   0   0   0   0   0   0   0]\n",
        "#  [  0   0   0   0   0   0   0   0   0   0   0   0   0   0   0   0   0   0   0   0   0   0   0   0   0   0   0   0]\n",
        "#  [  0   0   0   0   0   0   0   0   0   0   0   0   0   0   0   0   0   0   0   0   0   0   0   0   0   0   0   0]\n",
        "#  [  0   0   0   0   0   0   0   0   0   0   0   0   1   0   0  13  73   0   0   1   4   0   0   0   0   1   1   0]\n",
        "#  [  0   0   0   0   0   0   0   0   0   0   0   0   3   0  36 136 127  62  54   0   0   0   1   3   4   0   0   3]\n",
        "#  [  0   0   0   0   0   0   0   0   0   0   0   0   6   0 102 204 176 134 144 123  23   0   0   0   0  12  10   0]\n",
        "#  [  0   0   0   0   0   0   0   0   0   0   0   0   0   0 155 236 207 178 107 156 161 109  64  23  77 130  72  15]\n",
        "#  [  0   0   0   0   0   0   0   0   0   0   0   1   0  69 207 223 218 216 216 163 127 121 122 146 141  88 172  66]\n",
        "#  [  0   0   0   0   0   0   0   0   0   1   1   1   0 200 232 232 233 229 223 223 215 213 164 127 123 196 229   0]\n",
        "#  [  0   0   0   0   0   0   0   0   0   0   0   0   0 183 225 216 223 228 235 227 224 222 224 221 223 245 173   0]\n",
        "#  [  0   0   0   0   0   0   0   0   0   0   0   0   0 193 228 218 213 198 180 212 210 211 213 223 220 243 202   0]\n",
        "#  [  0   0   0   0   0   0   0   0   0   1   3   0  12 219 220 212 218 192 169 227 208 218 224 212 226 197 209  52]\n",
        "#  [  0   0   0   0   0   0   0   0   0   0   6   0  99 244 222 220 218 203 198 221 215 213 222 220 245 119 167  56]\n",
        "#  [  0   0   0   0   0   0   0   0   0   4   0   0  55 236 228 230 228 240 232 213 218 223 234 217 217 209  92   0]\n",
        "#  [  0   0   1   4   6   7   2   0   0   0   0   0 237 226 217 223 222 219 222 221 216 223 229 215 218 255  77   0]\n",
        "#  [  0   3   0   0   0   0   0   0   0  62 145 204 228 207 213 221 218 208 211 218 224 223 219 215 224 244 159   0]\n",
        "#  [  0   0   0   0  18  44  82 107 189 228 220 222 217 226 200 205 211 230 224 234 176 188 250 248 233 238 215   0]\n",
        "#  [  0  57 187 208 224 221 224 208 204 214 208 209 200 159 245 193 206 223 255 255 221 234 221 211 220 232 246   0]\n",
        "#  [  3 202 228 224 221 211 211 214 205 205 205 220 240  80 150 255 229 221 188 154 191 210 204 209 222 228 225   0]\n",
        "#  [ 98 233 198 210 222 229 229 234 249 220 194 215 217 241  65  73 106 117 168 219 221 215 217 223 223 224 229  29]\n",
        "#  [ 75 204 212 204 193 205 211 225 216 185 197 206 198 213 240 195 227 245 239 223 218 212 209 222 220 221 230  67]\n",
        "#  [ 48 203 183 194 213 197 185 190 194 192 202 214 219 221 220 236 225 216 199 206 186 181 177 172 181 205 206 115]\n",
        "#  [  0 122 219 193 179 171 183 196 204 210 213 207 211 210 200 196 194 191 195 191 198 192 176 156 167 177 210  92]\n",
        "#  [  0   0  74 189 212 191 175 172 175 181 185 188 189 188 193 198 204 209 210 210 211 188 188 194 192 216 170   0]\n",
        "#  [  2   0   0   0  66 200 222 237 239 242 246 243 244 221 220 193 191 179 182 182 181 176 166 168  99  58   0   0]\n",
        "#  [  0   0   0   0   0   0   0  40  61  44  72  41  35   0   0   0   0   0   0   0   0   0   0   0   0   0   0   0]\n",
        "#  [  0   0   0   0   0   0   0   0   0   0   0   0   0   0   0   0   0   0   0   0   0   0   0   0   0   0   0   0]\n",
        "#  [  0   0   0   0   0   0   0   0   0   0   0   0   0   0   0   0   0   0   0   0   0   0   0   0   0   0   0   0]]"
      ],
      "metadata": {
        "id": "QLxsPLLp1OBh"
      },
      "execution_count": null,
      "outputs": []
    },
    {
      "cell_type": "markdown",
      "source": [
        "![image.png](data:image/png;base64,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)"
      ],
      "metadata": {
        "id": "xbCGonTG1SJC"
      }
    },
    {
      "cell_type": "markdown",
      "metadata": {
        "id": "3cbrdH225_nH"
      },
      "source": [
        "You'll notice that all of the values in the number are between 0 and 255. If you are training a neural network especially in image processing, for various reasons it will usually learn better if you scale all values to between 0 and 1. It's a process called _normalization_ and fortunately in Python, it's easy to normalize an array without looping. You do it like this:"
      ]
    },
    {
      "cell_type": "code",
      "execution_count": null,
      "metadata": {
        "id": "kRH19pWs6ZDn"
      },
      "outputs": [],
      "source": [
        "# Normalize the pixel values of the train and test images\n",
        "training_images  = training_images / 255.0\n",
        "test_images = test_images / 255.0"
      ]
    },
    {
      "cell_type": "markdown",
      "metadata": {
        "id": "3DkO0As46lRn"
      },
      "source": [
        "Now you might be wondering why the dataset is split into two: training and testing? Remember we spoke about this in the intro? The idea is to have 1 set of data for training, and then another set of data that the model hasn't yet seen. This will be used to evaluate how good it would be at classifying values."
      ]
    },
    {
      "cell_type": "markdown",
      "metadata": {
        "id": "dIn7S9gf62ie"
      },
      "source": [
        "Let's now design the model. There's quite a few new concepts here. But don't worry, you'll get the hang of them. "
      ]
    },
    {
      "cell_type": "code",
      "execution_count": null,
      "metadata": {
        "id": "7mAyndG3kVlK"
      },
      "outputs": [],
      "source": [
        "# Build the classification model\n",
        "model = tf.keras.models.Sequential([tf.keras.layers.Flatten(), \n",
        "                                    tf.keras.layers.Dense(128, activation=tf.nn.relu), \n",
        "                                    tf.keras.layers.Dense(10, activation=tf.nn.softmax)])"
      ]
    },
    {
      "cell_type": "markdown",
      "metadata": {
        "id": "-lUcWaiX7MFj"
      },
      "source": [
        "[Sequential](https://keras.io/api/models/sequential/): That defines a sequence of layers in the neural network.\n",
        "\n",
        "[Flatten](https://keras.io/api/layers/reshaping_layers/flatten/): Remember earlier where our images were a 28x28 pixel matrix when you printed them out? Flatten just takes that square and turns it into a 1-dimensional array.\n",
        "\n",
        "[Dense](https://keras.io/api/layers/core_layers/dense/): Adds a layer of neurons\n",
        "\n",
        "Each layer of neurons need an [activation function](https://keras.io/api/layers/activations/) to tell them what to do. There are a lot of options, but just use these for now: \n",
        "\n",
        "[ReLU](https://keras.io/api/layers/activations/#relu-function) effectively means:\n",
        "\n",
        "```\n",
        "if x > 0: \n",
        "  return x\n",
        "\n",
        "else: \n",
        "  return 0\n",
        "```\n",
        "\n",
        "In other words, it only passes values 0 or greater to the next layer in the network.\n",
        "\n",
        "[Softmax](https://keras.io/api/layers/activations/#softmax-function) takes a list of values and scales these so the sum of all elements will be equal to 1. When applied to model outputs, you can think of the scaled values as the probability for that class. For example, in your classification model which has 10 units in the output dense layer, having the highest value at `index = 4` means that the model is most confident that the input clothing image is a coat. If it is at index = 5, then it is a sandal, and so forth. See the short code block below which demonstrates these concepts. You can also watch this [lecture](https://www.youtube.com/watch?v=LLux1SW--oM&ab_channel=DeepLearningAI) if you want to know more about the Softmax function and how the values are computed.\n"
      ]
    },
    {
      "cell_type": "code",
      "execution_count": null,
      "metadata": {
        "id": "Dk1hzzpDoGPI"
      },
      "outputs": [],
      "source": [
        "# Declare sample inputs and convert to a tensor\n",
        "inputs = np.array([[1.0, 3.0, 4.0, 2.0]])\n",
        "inputs = tf.convert_to_tensor(inputs)\n",
        "print(f'input to softmax function: {inputs.numpy()}')\n",
        "\n",
        "# Feed the inputs to a softmax activation function\n",
        "outputs = tf.keras.activations.softmax(inputs)\n",
        "print(f'output of softmax function: {outputs.numpy()}')\n",
        "\n",
        "# Get the sum of all values after the softmax\n",
        "sum = tf.reduce_sum(outputs)\n",
        "print(f'sum of outputs: {sum}')\n",
        "\n",
        "# Get the index with highest value\n",
        "prediction = np.argmax(outputs)\n",
        "print(f'class with highest probability: {prediction}')"
      ]
    },
    {
      "cell_type": "code",
      "source": [
        "# input to softmax function: [[1. 3. 4. 2.]]\n",
        "# output of softmax function: [[0.0320586  0.23688282 0.64391426 0.08714432]]\n",
        "# sum of outputs: 1.0\n",
        "# class with highest probability: 2"
      ],
      "metadata": {
        "id": "cnEkd1Yo3RDC"
      },
      "execution_count": null,
      "outputs": []
    },
    {
      "cell_type": "markdown",
      "metadata": {
        "id": "c8vbMCqb9Mh6"
      },
      "source": [
        "The next thing to do, now that the model is defined, is to actually build it. You do this by compiling it with an optimizer and loss function as before -- and then you train it by calling `model.fit()` asking it to fit your training data to your training labels. It will figure out the relationship between the training data and its actual labels so in the future if you have inputs that looks like the training data, then it can predict what the label for that input is."
      ]
    },
    {
      "cell_type": "code",
      "execution_count": null,
      "metadata": {
        "id": "BLMdl9aP8nQ0"
      },
      "outputs": [],
      "source": [
        "model.compile(optimizer = tf.optimizers.Adam(),\n",
        "              loss = 'sparse_categorical_crossentropy',\n",
        "              metrics=['accuracy'])\n",
        "\n",
        "model.fit(training_images, training_labels, epochs=5)"
      ]
    },
    {
      "cell_type": "code",
      "source": [
        "# Epoch 1/5\n",
        "# 1875/1875 [==============================] - 5s 2ms/step - loss: 0.4988 - accuracy: 0.8236\n",
        "# Epoch 2/5\n",
        "# 1875/1875 [==============================] - 4s 2ms/step - loss: 0.3747 - accuracy: 0.8643\n",
        "# Epoch 3/5\n",
        "# 1875/1875 [==============================] - 4s 2ms/step - loss: 0.3365 - accuracy: 0.8765\n",
        "# Epoch 4/5\n",
        "# 1875/1875 [==============================] - 9s 5ms/step - loss: 0.3141 - accuracy: 0.8843\n",
        "# Epoch 5/5\n",
        "# 1875/1875 [==============================] - 7s 4ms/step - loss: 0.2964 - accuracy: 0.8920\n",
        "# <keras.callbacks.History at 0x7f6f9c13f750>"
      ],
      "metadata": {
        "id": "wZ2bgUKD3Sol"
      },
      "execution_count": null,
      "outputs": []
    },
    {
      "cell_type": "markdown",
      "metadata": {
        "id": "-JJMsvSB-1UY"
      },
      "source": [
        "Once it's done training -- you should see an accuracy value at the end of the final epoch. It might look something like `0.9098`. This tells you that your neural network is about 91% accurate in classifying the training data. That is, it figured out a pattern match between the image and the labels that worked 91% of the time. Not great, but not bad considering it was only trained for 5 epochs and done quite quickly.\n",
        "\n",
        "But how would it work with unseen data? That's why we have the test images and labels. We can call [`model.evaluate()`](https://keras.io/api/models/model_training_apis/#evaluate-method) with this test dataset as inputs and it will report back the loss and accuracy of the model. Let's give it a try:"
      ]
    },
    {
      "cell_type": "code",
      "execution_count": null,
      "metadata": {
        "id": "WzlqsEzX9s5P"
      },
      "outputs": [],
      "source": [
        "# Evaluate the model on unseen data\n",
        "model.evaluate(test_images, test_labels)"
      ]
    },
    {
      "cell_type": "code",
      "source": [
        "# 313/313 [==============================] - 1s 3ms/step - loss: 0.3466 - accuracy: 0.8765\n",
        "# [0.3466067910194397, 0.8765000104904175]\n"
      ],
      "metadata": {
        "id": "L4Pbbtf43T7p"
      },
      "execution_count": null,
      "outputs": []
    },
    {
      "cell_type": "markdown",
      "metadata": {
        "id": "6tki-Aro_Uax"
      },
      "source": [
        "You can expect the accuracy here to be about `0.88` which means it was 88% accurate on the entire test set. As expected, it probably would not do as well with *unseen* data as it did with data it was trained on!  As you go through this course, you'll look at ways to improve this. "
      ]
    },
    {
      "cell_type": "markdown",
      "metadata": {
        "id": "htldZNWcIPSN"
      },
      "source": [
        "# Exploration Exercises\n",
        "\n",
        "To explore further and deepen your understanding, try the below exercises:"
      ]
    },
    {
      "cell_type": "markdown",
      "metadata": {
        "id": "rquQqIx4AaGR"
      },
      "source": [
        "### Exercise 1:\n",
        "For this first exercise run the below code: It creates a set of classifications for each of the test images, and then prints the first entry in the classifications. The output, after you run it is a list of numbers. Why do you think this is, and what do those numbers represent? "
      ]
    },
    {
      "cell_type": "code",
      "execution_count": null,
      "metadata": {
        "id": "RyEIki0z_hAD"
      },
      "outputs": [],
      "source": [
        "classifications = model.predict(test_images)\n",
        "\n",
        "print(classifications[0])"
      ]
    },
    {
      "cell_type": "code",
      "source": [
        "# [8.7189328e-05 1.2771814e-07 8.9513165e-08 9.8591091e-09 1.4906360e-06 8.7738602e-04 1.0913326e-05 1.3986248e-02 1.7801744e-04 9.8485863e-01]\n"
      ],
      "metadata": {
        "id": "YDL3PksQ3VYW"
      },
      "execution_count": null,
      "outputs": []
    },
    {
      "cell_type": "markdown",
      "metadata": {
        "id": "MdzqbQhRArzm"
      },
      "source": [
        "**Hint:** try running `print(test_labels[0])` -- and you'll get a `9`. Does that help you understand why this list looks the way it does? "
      ]
    },
    {
      "cell_type": "code",
      "execution_count": null,
      "metadata": {
        "id": "WnBGOrMiA1n5"
      },
      "outputs": [],
      "source": [
        "print(test_labels[0]) # 9"
      ]
    },
    {
      "cell_type": "markdown",
      "metadata": {
        "id": "uUs7eqr7uSvs"
      },
      "source": [
        "### E1Q1: What does this list represent?\n",
        "\n",
        "\n",
        "1.   It's 10 random meaningless values\n",
        "2.   It's the first 10 classifications that the computer made\n",
        "3.   It's the probability that this item is each of the 10 classes\n"
      ]
    },
    {
      "cell_type": "markdown",
      "metadata": {
        "id": "wAbr92RTA67u"
      },
      "source": [
        "<details><summary>Click for Answer</summary>\n",
        "<p>\n",
        "\n",
        "#### Answer: \n",
        "The correct answer is (3)\n",
        "\n",
        "The output of the model is a list of 10 numbers. These numbers are a probability that the value being classified is the corresponding value (https://github.com/zalandoresearch/fashion-mnist#labels), i.e. the first value in the list is the probability that the image is of a '0' (T-shirt/top), the next is a '1' (Trouser) etc. Notice that they are all VERY LOW probabilities.\n",
        "\n",
        "For index 9 (Ankle boot), the probability was in the 90's, i.e. the neural network is telling us that the image is most likely an ankle boot.\n",
        "\n",
        "</p>\n",
        "</details>"
      ]
    },
    {
      "cell_type": "markdown",
      "metadata": {
        "id": "CD4kC6TBu-69"
      },
      "source": [
        "### E1Q2: How do you know that this list tells you that the item is an ankle boot?\n",
        "\n",
        "\n",
        "1.   There's not enough information to answer that question\n",
        "2.   The 10th element on the list is the biggest, and the ankle boot is labelled 9\n",
        "2.   The ankle boot is label 9, and there are 0->9 elements in the list\n"
      ]
    },
    {
      "cell_type": "markdown",
      "metadata": {
        "id": "I-haLncrva5L"
      },
      "source": [
        "<details><summary>Click for Answer</summary>\n",
        "<p>\n",
        "\n",
        "#### Answer\n",
        "The correct answer is (2). Both the list and the labels are 0 based, so the ankle boot having label 9 means that it is the 10th of the 10 classes. The list having the 10th element being the highest value means that the Neural Network has predicted that the item it is classifying is most likely an ankle boot\n",
        "\n",
        "</p>\n",
        "</details>"
      ]
    },
    {
      "cell_type": "markdown",
      "metadata": {
        "id": "OgQSIfDSOWv6"
      },
      "source": [
        "### Exercise 2: \n",
        "Let's now look at the layers in your model. Experiment with different values for the dense layer with 512 neurons. What different results do you get for loss, training time etc? Why do you think that's the case? \n"
      ]
    },
    {
      "cell_type": "code",
      "execution_count": null,
      "metadata": {
        "id": "GSZSwV5UObQP"
      },
      "outputs": [],
      "source": [
        "mnist = tf.keras.datasets.mnist\n",
        "\n",
        "(training_images, training_labels) ,  (test_images, test_labels) = mnist.load_data()\n",
        "\n",
        "training_images = training_images/255.0\n",
        "test_images = test_images/255.0\n",
        "\n",
        "model = tf.keras.models.Sequential([tf.keras.layers.Flatten(),\n",
        "                                    tf.keras.layers.Dense(512, activation=tf.nn.relu), # Try experimenting with this layer\n",
        "                                    tf.keras.layers.Dense(10, activation=tf.nn.softmax)])\n",
        "\n",
        "model.compile(optimizer = 'adam',\n",
        "              loss = 'sparse_categorical_crossentropy')\n",
        "\n",
        "model.fit(training_images, training_labels, epochs=5)\n",
        "\n",
        "model.evaluate(test_images, test_labels)\n",
        "\n",
        "classifications = model.predict(test_images)\n",
        "\n",
        "print(classifications[0])\n",
        "print(test_labels[0])"
      ]
    },
    {
      "cell_type": "code",
      "source": [
        "# Epoch 1/5\n",
        "# 1875/1875 [==============================] - 9s 5ms/step - loss: 0.2013\n",
        "# Epoch 2/5\n",
        "# 1875/1875 [==============================] - 9s 5ms/step - loss: 0.0811\n",
        "# Epoch 3/5\n",
        "# 1875/1875 [==============================] - 10s 5ms/step - loss: 0.0518\n",
        "# Epoch 4/5\n",
        "# 1875/1875 [==============================] - 15s 8ms/step - loss: 0.0372\n",
        "# Epoch 5/5\n",
        "# 1875/1875 [==============================] - 13s 7ms/step - loss: 0.0278\n",
        "# 313/313 [==============================] - 1s 2ms/step - loss: 0.0752\n",
        "# [1.02159836e-10 7.36439035e-11 1.84223001e-08 2.30439213e-07 2.63131005e-14 1.61136826e-10 7.98816190e-15 9.99999762e-01 1.94976313e-10 1.20556135e-10]\n",
        "# 7"
      ],
      "metadata": {
        "id": "ClMZtaQ83l2T"
      },
      "execution_count": null,
      "outputs": []
    },
    {
      "cell_type": "markdown",
      "metadata": {
        "id": "bOOEnHZFv5cS"
      },
      "source": [
        "### E2Q1: Increase to 1024 Neurons -- What's the impact?\n",
        "\n",
        "1. Training takes longer, but is more accurate\n",
        "2. Training takes longer, but no impact on accuracy\n",
        "3. Training takes the same time, but is more accurate\n"
      ]
    },
    {
      "cell_type": "markdown",
      "metadata": {
        "id": "U73MUP2lwrI2"
      },
      "source": [
        "<details><summary>Click for Answer</summary>\n",
        "<p>\n",
        "\n",
        "#### Answer\n",
        "The correct answer is (1) by adding more Neurons we have to do more calculations, slowing down the process, but in this case they have a good impact -- we do get more accurate. That doesn't mean it's always a case of 'more is better', you can hit the law of diminishing returns very quickly!\n",
        "\n",
        "</p>\n",
        "</details>"
      ]
    },
    {
      "cell_type": "markdown",
      "metadata": {
        "id": "WtWxK16hQxLN"
      },
      "source": [
        "### Exercise 3: \n",
        "\n",
        "### E3Q1: What would happen if you remove the Flatten() layer. Why do you think that's the case? \n",
        "\n",
        "<details><summary>Click for Answer</summary>\n",
        "<p>\n",
        "\n",
        "#### Answer\n",
        "You get an error about the shape of the data. It may seem vague right now, but it reinforces the rule of thumb that the first layer in your network should be the same shape as your data. Right now our data is 28x28 images, and 28 layers of 28 neurons would be infeasible, so it makes more sense to 'flatten' that 28,28 into a 784x1. Instead of writng all the code to handle that ourselves, we add the Flatten() layer at the begining, and when the arrays are loaded into the model later, they'll automatically be flattened for us.\n",
        "\n",
        "</p>\n",
        "</details>"
      ]
    },
    {
      "cell_type": "code",
      "execution_count": null,
      "metadata": {
        "id": "ExNxCwhcQ18S"
      },
      "outputs": [],
      "source": [
        "mnist = tf.keras.datasets.mnist\n",
        "\n",
        "(training_images, training_labels) ,  (test_images, test_labels) = mnist.load_data()\n",
        "\n",
        "training_images = training_images/255.0\n",
        "test_images = test_images/255.0\n",
        "\n",
        "model = tf.keras.models.Sequential([\n",
        "                                    # tf.keras.layers.Flatten(), #Try removing this layer\n",
        "                                    tf.keras.layers.Dense(64, activation=tf.nn.relu),\n",
        "                                    tf.keras.layers.Dense(10, activation=tf.nn.softmax)])\n",
        "\n",
        "model.compile(optimizer = 'adam',\n",
        "              loss = 'sparse_categorical_crossentropy')\n",
        "\n",
        "model.fit(training_images, training_labels, epochs=5)\n",
        "\n",
        "model.evaluate(test_images, test_labels)\n",
        "\n",
        "classifications = model.predict(test_images)\n",
        "\n",
        "print(classifications[0])\n",
        "print(test_labels[0])"
      ]
    },
    {
      "cell_type": "markdown",
      "source": [
        " ValueError: `labels.shape` must equal `logits.shape` except for the last dimension. Received: labels.shape=(32,) and logits.shape=(896, 10)"
      ],
      "metadata": {
        "id": "_KewXHsx34Wx"
      }
    },
    {
      "cell_type": "code",
      "source": [
        "# Epoch 1/5\n",
        "# 1875/1875 [==============================] - 4s 2ms/step - loss: 0.3011\n",
        "# Epoch 2/5\n",
        "# 1875/1875 [==============================] - 4s 2ms/step - loss: 0.1467\n",
        "# Epoch 3/5\n",
        "# 1875/1875 [==============================] - 4s 2ms/step - loss: 0.1061\n",
        "# Epoch 4/5\n",
        "# 1875/1875 [==============================] - 4s 2ms/step - loss: 0.0837\n",
        "# Epoch 5/5\n",
        "# 1875/1875 [==============================] - 4s 2ms/step - loss: 0.0683\n",
        "# 313/313 [==============================] - 1s 1ms/step - loss: 0.0946\n",
        "# [1.7629493e-06 7.1986491e-08 4.5932325e-06 2.0889196e-04 5.3627824e-11 2.1175699e-06 1.3017881e-10 9.9977821e-01 1.7741358e-07 4.2594856e-06]\n",
        "# 7"
      ],
      "metadata": {
        "id": "NJIADhEg3t0u"
      },
      "execution_count": null,
      "outputs": []
    },
    {
      "cell_type": "markdown",
      "metadata": {
        "id": "VqoCR-ieSGDg"
      },
      "source": [
        "### Exercise 4: \n",
        "\n",
        "Consider the final (output) layers. Why are there 10 of them? What would happen if you had a different amount than 10? For example, try training the network with 5.\n",
        "\n",
        "<details><summary>Click for Answer</summary>\n",
        "<p>\n",
        "\n",
        "#### Answer\n",
        "You get an error as soon as it finds an unexpected value. Another rule of thumb -- the number of neurons in the last layer should match the number of classes you are classifying for. In this case it's the digits 0-9, so there are 10 of them, hence you should have 10 neurons in your final layer.\n",
        "\n",
        "</p>\n",
        "</details>"
      ]
    },
    {
      "cell_type": "code",
      "execution_count": null,
      "metadata": {
        "id": "MMckVntcSPvo"
      },
      "outputs": [],
      "source": [
        "mnist = tf.keras.datasets.mnist\n",
        "\n",
        "(training_images, training_labels) ,  (test_images, test_labels) = mnist.load_data()\n",
        "\n",
        "training_images = training_images/255.0\n",
        "test_images = test_images/255.0\n",
        "\n",
        "model = tf.keras.models.Sequential([tf.keras.layers.Flatten(),\n",
        "                                    tf.keras.layers.Dense(64, activation=tf.nn.relu),\n",
        "                                    tf.keras.layers.Dense(5, activation=tf.nn.softmax) # Try experimenting with this layer\n",
        "                                  ])\n",
        "\n",
        "model.compile(optimizer = 'adam',\n",
        "              loss = 'sparse_categorical_crossentropy')\n",
        "\n",
        "model.fit(training_images, training_labels, epochs=5)\n",
        "\n",
        "model.evaluate(test_images, test_labels)\n",
        "\n",
        "classifications = model.predict(test_images)\n",
        "\n",
        "print(classifications[0])\n",
        "print(test_labels[0])"
      ]
    },
    {
      "cell_type": "markdown",
      "source": [
        "Received a label value of 9 which is outside the valid range of [0, 5).  Label values: 8 9 6 7 3 2 6 8 4 6 4 6 8 2 7 1 5 7 9 7 2 7 4 3 9 8 6 9 0 7 6 8\n",
        "\t [[{{node sparse_categorical_crossentropy/SparseSoftmaxCrossEntropyWithLogits/SparseSoftmaxCrossEntropyWithLogits}}]] [Op:__inference_train_function_233997]"
      ],
      "metadata": {
        "id": "D0DlpupY4Ect"
      }
    },
    {
      "cell_type": "markdown",
      "metadata": {
        "id": "-0lF5MuvSuZF"
      },
      "source": [
        "### Exercise 5: \n",
        "\n",
        "Consider the effects of additional layers in the network. What will happen if you add another layer between the one with 512 and the final layer with 10. \n",
        "\n",
        "<details><summary>Click for Answer</summary>\n",
        "<p>\n",
        "\n",
        "#### Answer \n",
        "There isn't a significant impact -- because this is relatively simple data. For far more complex data (including color images to be classified as flowers that you'll see in the next lesson), extra layers are often necessary. \n",
        "\n",
        "</p>\n",
        "</details>"
      ]
    },
    {
      "cell_type": "code",
      "execution_count": null,
      "metadata": {
        "id": "b1YPa6UhS8Es"
      },
      "outputs": [],
      "source": [
        "mnist = tf.keras.datasets.mnist\n",
        "\n",
        "(training_images, training_labels) ,  (test_images, test_labels) = mnist.load_data()\n",
        "\n",
        "training_images = training_images/255.0\n",
        "test_images = test_images/255.0\n",
        "\n",
        "model = tf.keras.models.Sequential([tf.keras.layers.Flatten(),\n",
        "                                    tf.keras.layers.Dense(512, activation=tf.nn.relu),\n",
        "                                    tf.keras.layers.Dense(256, activation=tf.nn.relu),\n",
        "                                    tf.keras.layers.Dense(10, activation=tf.nn.softmax)\n",
        "                                  ])\n",
        "\n",
        "model.compile(optimizer = 'adam',\n",
        "              loss = 'sparse_categorical_crossentropy')\n",
        "\n",
        "model.fit(training_images, training_labels, epochs=5)\n",
        "\n",
        "model.evaluate(test_images, test_labels)\n",
        "\n",
        "classifications = model.predict(test_images)\n",
        "\n",
        "print(classifications[0])\n",
        "print(test_labels[0])"
      ]
    },
    {
      "cell_type": "code",
      "source": [
        "# Epoch 1/5\n",
        "# 1875/1875 [==============================] - 12s 6ms/step - loss: 0.1863\n",
        "# Epoch 2/5\n",
        "# 1875/1875 [==============================] - 13s 7ms/step - loss: 0.0784\n",
        "# Epoch 3/5\n",
        "# 1875/1875 [==============================] - 12s 6ms/step - loss: 0.0549\n",
        "# Epoch 4/5\n",
        "# 1875/1875 [==============================] - 12s 6ms/step - loss: 0.0426\n",
        "# Epoch 5/5\n",
        "# 1875/1875 [==============================] - 15s 8ms/step - loss: 0.0334\n",
        "# 313/313 [==============================] - 1s 4ms/step - loss: 0.0802\n",
        "# [1.2300885e-08 3.7304802e-05 2.5126180e-06 4.8125667e-06 3.2766714e-08 2.0146024e-08 7.7201419e-11 9.9995017e-01 6.2672051e-08 5.2068117e-06]\n",
        "# 7"
      ],
      "metadata": {
        "id": "mVWV1Jft430L"
      },
      "execution_count": null,
      "outputs": []
    },
    {
      "cell_type": "markdown",
      "metadata": {
        "id": "Bql9fyaNUSFy"
      },
      "source": [
        "### Exercise 6: \n",
        "\n",
        "### E6Q1: Consider the impact of training for more or less epochs. Why do you think that would be the case? \n",
        "\n",
        "- Try 15 epochs -- you'll probably get a model with a much better loss than the one with 5\n",
        "- Try 30 epochs -- you might see the loss value stops decreasing, and sometimes increases.\n",
        "\n",
        "This is a side effect of something called 'overfitting' which you can learn about later and it's something you need to keep an eye out for when training neural networks. There's no point in wasting your time training if you aren't improving your loss, right! :)"
      ]
    },
    {
      "cell_type": "code",
      "execution_count": null,
      "metadata": {
        "id": "uE3esj9BURQe"
      },
      "outputs": [],
      "source": [
        "mnist = tf.keras.datasets.mnist\n",
        "\n",
        "(training_images, training_labels) ,  (test_images, test_labels) = mnist.load_data()\n",
        "\n",
        "training_images = training_images/255.0\n",
        "test_images = test_images/255.0\n",
        "\n",
        "model = tf.keras.models.Sequential([tf.keras.layers.Flatten(),\n",
        "                                    tf.keras.layers.Dense(128, activation=tf.nn.relu),\n",
        "                                    tf.keras.layers.Dense(10, activation=tf.nn.softmax)])\n",
        "\n",
        "model.compile(optimizer = 'adam',\n",
        "              loss = 'sparse_categorical_crossentropy')\n",
        "\n",
        "model.fit(training_images, training_labels, epochs=5) # Experiment with the number of epochs\n",
        "\n",
        "model.evaluate(test_images, test_labels)\n",
        "\n",
        "classifications = model.predict(test_images)\n",
        "\n",
        "print(classifications[34])\n",
        "print(test_labels[34])"
      ]
    },
    {
      "cell_type": "markdown",
      "metadata": {
        "id": "HS3vVkOgCDGZ"
      },
      "source": [
        "### Exercise 7: \n",
        "\n",
        "Before you trained, you normalized the data, going from values that were 0-255 to values that were 0-1. What would be the impact of removing that? Here's the complete code to give it a try. Why do you think you get different results? "
      ]
    },
    {
      "cell_type": "code",
      "execution_count": null,
      "metadata": {
        "id": "JDqNAqrpCNg0"
      },
      "outputs": [],
      "source": [
        "mnist = tf.keras.datasets.mnist\n",
        "(training_images, training_labels), (test_images, test_labels) = mnist.load_data()\n",
        "# training_images=training_images/255.0 # Experiment with removing this line\n",
        "# test_images=test_images/255.0 # Experiment with removing this line\n",
        "model = tf.keras.models.Sequential([\n",
        "  tf.keras.layers.Flatten(),\n",
        "  tf.keras.layers.Dense(512, activation=tf.nn.relu),\n",
        "  tf.keras.layers.Dense(10, activation=tf.nn.softmax)\n",
        "])\n",
        "model.compile(optimizer='adam', loss='sparse_categorical_crossentropy')\n",
        "model.fit(training_images, training_labels, epochs=5)\n",
        "model.evaluate(test_images, test_labels)\n",
        "classifications = model.predict(test_images)\n",
        "print(classifications[0])\n",
        "print(test_labels[0])"
      ]
    },
    {
      "cell_type": "markdown",
      "metadata": {
        "id": "E7W2PT66ZBHQ"
      },
      "source": [
        "### Exercise 8: \n",
        "\n",
        "Earlier when you trained for extra epochs you had an issue where your loss might change. It might have taken a bit of time for you to wait for the training to do that, and you might have thought 'wouldn't it be nice if I could stop the training when I reach a desired value?' -- i.e. 95% accuracy might be enough for you, and if you reach that after 3 epochs, why sit around waiting for it to finish a lot more epochs....So how would you fix that? Like any other program...you have callbacks! Let's see them in action..."
      ]
    },
    {
      "cell_type": "code",
      "execution_count": null,
      "metadata": {
        "id": "pkaEHHgqZbYv"
      },
      "outputs": [],
      "source": [
        "class myCallback(tf.keras.callbacks.Callback):\n",
        "  def on_epoch_end(self, epoch, logs={}):\n",
        "    if(logs.get('accuracy') >= 0.6): # Experiment with changing this value\n",
        "      print(\"\\nReached 60% accuracy so cancelling training!\")\n",
        "      self.model.stop_training = True\n",
        "\n",
        "callbacks = myCallback()\n",
        "mnist = tf.keras.datasets.fashion_mnist\n",
        "(training_images, training_labels), (test_images, test_labels) = mnist.load_data()\n",
        "training_images=training_images/255.0\n",
        "test_images=test_images/255.0\n",
        "model = tf.keras.models.Sequential([\n",
        "  tf.keras.layers.Flatten(),\n",
        "  tf.keras.layers.Dense(512, activation=tf.nn.relu),\n",
        "  tf.keras.layers.Dense(10, activation=tf.nn.softmax)\n",
        "])\n",
        "model.compile(optimizer='adam', loss='sparse_categorical_crossentropy', metrics=['accuracy'])\n",
        "model.fit(training_images, training_labels, epochs=5, callbacks=[callbacks])\n"
      ]
    },
    {
      "cell_type": "markdown",
      "source": [
        "Epoch 1/5\n",
        "1874/1875 [============================>.] - ETA: 0s - loss: 0.4738 - accuracy: 0.8312\n",
        "\n",
        "Reached 60% accuracy so cancelling training!\n",
        "\n",
        "1875/1875 [==============================] - 10s 5ms/step - loss: 0.4737 - accuracy: 0.8313\n",
        "\n",
        "<keras.callbacks.History at 0x7f6f983ec590>"
      ],
      "metadata": {
        "id": "lltN_Wxi5Zxi"
      }
    }
  ],
  "metadata": {
    "colab": {
      "collapsed_sections": [],
      "name": "C1_W2_Lab_1_beyond_hello_world.ipynb",
      "private_outputs": true,
      "provenance": [],
      "toc_visible": true
    },
    "kernelspec": {
      "display_name": "Python 3",
      "language": "python",
      "name": "python3"
    },
    "language_info": {
      "codemirror_mode": {
        "name": "ipython",
        "version": 3
      },
      "file_extension": ".py",
      "mimetype": "text/x-python",
      "name": "python",
      "nbconvert_exporter": "python",
      "pygments_lexer": "ipython3",
      "version": "3.7.4"
    }
  },
  "nbformat": 4,
  "nbformat_minor": 0
}