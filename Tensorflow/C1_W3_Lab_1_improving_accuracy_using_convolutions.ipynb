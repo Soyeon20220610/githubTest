{
  "cells": [
    {
      "cell_type": "markdown",
      "metadata": {
        "id": "ydzvqpOI5plc"
      },
      "source": [
        "<a href=\"https://colab.research.google.com/github/https-deeplearning-ai/tensorflow-1-public/blob/master/C1/W3/ungraded_labs/C1_W3_Lab_1_improving_accuracy_using_convolutions.ipynb\" target=\"_parent\"><img src=\"https://colab.research.google.com/assets/colab-badge.svg\" alt=\"Open In Colab\"/></a>"
      ]
    },
    {
      "cell_type": "markdown",
      "metadata": {
        "id": "R6gHiH-I7uFa"
      },
      "source": [
        "# Ungraded Lab: Improving Computer Vision Accuracy using Convolutions\n",
        "\n",
        "\n",
        "\n"
      ]
    },
    {
      "cell_type": "markdown",
      "metadata": {
        "id": "Z6396DKnr-xp"
      },
      "source": [
        "# Shallow Neural Network\n",
        "\n",
        "In the previous lessons, you saw how to do fashion recognition using a neural network containing three layers -- the input layer (in the shape of the data), the output layer (in the shape of the desired output) and only one hidden layer. You experimented with the impact of different sizes of hidden layer, number of training epochs etc on the final accuracy. For convenience, here's the entire code again. Run it and take a note of the test accuracy that is printed out at the end. "
      ]
    },
    {
      "cell_type": "code",
      "execution_count": null,
      "metadata": {
        "id": "qnCNAG-VecJ9"
      },
      "outputs": [],
      "source": [
        "import tensorflow as tf\n",
        "\n",
        "# Load the Fashion MNIST dataset\n",
        "fmnist = tf.keras.datasets.fashion_mnist\n",
        "(training_images, training_labels), (test_images, test_labels) = fmnist.load_data()\n",
        "\n",
        "# Normalize the pixel values\n",
        "training_images = training_images / 255.0\n",
        "test_images = test_images / 255.0"
      ]
    },
    {
      "cell_type": "code",
      "execution_count": null,
      "metadata": {
        "id": "xcsRtq9OLorS"
      },
      "outputs": [],
      "source": [
        "\n",
        "\n",
        "# Define the model\n",
        "model = tf.keras.models.Sequential([\n",
        "  tf.keras.layers.Flatten(),\n",
        "  tf.keras.layers.Dense(128, activation=tf.nn.relu),\n",
        "  tf.keras.layers.Dense(10, activation=tf.nn.softmax)\n",
        "])\n",
        "\n",
        "# Setup training parameters\n",
        "model.compile(optimizer='adam', loss='sparse_categorical_crossentropy', metrics=['accuracy'])\n",
        "\n",
        "# Train the model\n",
        "print(f'\\nMODEL TRAINING:')\n",
        "model.fit(training_images, training_labels, epochs=5)\n",
        "\n",
        "# Evaluate on the test set\n",
        "print(f'\\nMODEL EVALUATION:')\n",
        "test_loss = model.evaluate(test_images, test_labels)"
      ]
    },
    {
      "cell_type": "markdown",
      "source": [
        "313/313 [==============================] - 1s 2ms/step - loss: 0.3622 - accuracy: 0.8680\n"
      ],
      "metadata": {
        "id": "TbLVm7Fy5wN0"
      }
    },
    {
      "cell_type": "markdown",
      "metadata": {
        "id": "zldEXSsF8Noz"
      },
      "source": [
        "## Convolutional Neural Network\n",
        "\n",
        "In the model above, your accuracy will probably be about 89% on training and 87% on validation. Not bad. But how do you make that even better? One way is to use something called _convolutions_. We're not going into the details of convolutions in this notebook (please see resources in the classroom), but the ultimate concept is that they narrow down the content of the image to focus on specific parts and this will likely improve the model accuracy. \n",
        "\n",
        "If you've ever done image processing using a filter (like [this](https://en.wikipedia.org/wiki/Kernel_(image_processing))), then convolutions will look very familiar. In short, you take an array (usually 3x3 or 5x5) and scan it over the entire image. By changing the underlying pixels based on the formula within that matrix, you can do things like edge detection. So, for example, if you look at the above link, you'll see a 3x3 matrix that is defined for edge detection where the middle cell is 8, and all of its neighbors are -1. In this case, for each pixel, you would multiply its value by 8, then subtract the value of each neighbor. Do this for every pixel, and you'll end up with a new image that has the edges enhanced.\n",
        "\n",
        "This is perfect for computer vision because it often highlights features that distinguish one item from another. Moreover, the amount of information needed is then much less because you'll just train on the highlighted features.\n",
        "\n",
        "That's the concept of **Convolutional Neural Networks**. Add some layers to do convolution before you have the dense layers, and then the information going to the dense layers is more focused and possibly more accurate.\n",
        "\n",
        "Run the code below. This is the same neural network as earlier, but this time with [Convolution](https://www.tensorflow.org/api_docs/python/tf/keras/layers/Conv2D) and [MaxPooling](https://www.tensorflow.org/api_docs/python/tf/keras/layers/MaxPool2D) layers added first. It will take longer, but look at the impact on the accuracy."
      ]
    },
    {
      "cell_type": "code",
      "execution_count": null,
      "metadata": {
        "id": "C0tFgT1MMKi6"
      },
      "outputs": [],
      "source": [
        "# Define the model\n",
        "model = tf.keras.models.Sequential([\n",
        "                                                         \n",
        "  # Add convolutions and max pooling\n",
        "  tf.keras.layers.Conv2D(32, (3,3), activation='relu', input_shape=(28, 28, 1)),\n",
        "  tf.keras.layers.MaxPooling2D(2, 2),\n",
        "  tf.keras.layers.Conv2D(32, (3,3), activation='relu'),\n",
        "  tf.keras.layers.MaxPooling2D(2,2),\n",
        "  tf.keras.layers.Conv2D(32, (3,3), activation='relu'),\n",
        "  tf.keras.layers.MaxPooling2D(2,2),\n",
        "\n",
        "\n",
        "  # Add the same layers as before\n",
        "  tf.keras.layers.Flatten(),\n",
        "  tf.keras.layers.Dense(128, activation='relu'),\n",
        "  tf.keras.layers.Dense(10, activation='softmax')\n",
        "])\n",
        "\n",
        "# Print the model summary\n",
        "# model.summary()\n",
        "\n",
        "# Use same settings\n",
        "model.compile(optimizer='adam', loss='sparse_categorical_crossentropy', metrics=['accuracy'])\n",
        "\n",
        "# Train the model\n",
        "print(f'\\nMODEL TRAINING:')\n",
        "model.fit(training_images, training_labels, epochs=5)\n",
        "\n",
        "# Evaluate on the test set\n",
        "print(f'\\nMODEL EVALUATION:')\n",
        "test_loss = model.evaluate(test_images, test_labels)\n"
      ]
    },
    {
      "cell_type": "markdown",
      "source": [
        "Conv2D = 64\n",
        "\n",
        "Epoch 5/5\n",
        "1875/1875 [==============================] - 6s 3ms/step - loss: 0.1860 - accuracy: 0.9298\n",
        "\n",
        "MODEL EVALUATION:\n",
        "313/313 [==============================] - 1s 4ms/step - loss: 0.2691 - accuracy: 0.9052"
      ],
      "metadata": {
        "id": "dIKsSRUU6gEs"
      }
    },
    {
      "cell_type": "markdown",
      "source": [
        "Conv2D = 32\n",
        "\n",
        "Epoch 5/5\n",
        "1875/1875 [==============================] - 6s 3ms/step - loss: 0.2295 - accuracy: 0.9146\n",
        "\n",
        "MODEL EVALUATION:\n",
        "313/313 [==============================] - 1s 3ms/step - loss: 0.2581 - accuracy: 0.9039"
      ],
      "metadata": {
        "id": "Vku1RpmP5zYW"
      }
    },
    {
      "cell_type": "markdown",
      "source": [
        "Conv2D layer 1개 일 때\n",
        "\n",
        "Epoch 5/5\n",
        "1875/1875 [==============================] - 5s 3ms/step - loss: 0.1561 - accuracy: 0.9420\n",
        "\n",
        "MODEL EVALUATION:\n",
        "313/313 [==============================] - 1s 3ms/step - loss: 0.2516 - accuracy: 0.9130"
      ],
      "metadata": {
        "id": "iSuzEjpu692X"
      }
    },
    {
      "cell_type": "markdown",
      "source": [
        "Conv2D layer 3개일 때\n",
        "\n",
        "Epoch 5/5\n",
        "1875/1875 [==============================] - 6s 3ms/step - loss: 0.3248 - accuracy: 0.8791\n",
        "\n",
        "MODEL EVALUATION:\n",
        "313/313 [==============================] - 1s 3ms/step - loss: 0.3568 - accuracy: 0.8690"
      ],
      "metadata": {
        "id": "LTCW3NEx7aT_"
      }
    },
    {
      "cell_type": "markdown",
      "source": [
        "Conv2D =16\n",
        "\n",
        "Epoch 5/5\n",
        "1875/1875 [==============================] - 6s 3ms/step - loss: 0.2574 - accuracy: 0.9045\n",
        "\n",
        "MODEL EVALUATION:\n",
        "313/313 [==============================] - 1s 3ms/step - loss: 0.3114 - accuracy: 0.8878"
      ],
      "metadata": {
        "id": "UZ7s1vHX6Vtg"
      }
    },
    {
      "cell_type": "markdown",
      "metadata": {
        "id": "uRLfZ0jt-fQI"
      },
      "source": [
        "It's likely gone up to about 92% on the training data and 90% on the validation data. That's significant, and a step in the right direction!\n",
        "\n",
        "Look at the code again, and see, step by step how the convolutions were built. Instead of the input layer at the top, you added a [Conv2D layer](https://www.tensorflow.org/api_docs/python/tf/keras/layers/Conv2D). The parameters are:\n",
        "\n",
        "1. The number of convolutions you want to generate. The value here is purely arbitrary but it's good to use powers of 2 starting from 32.\n",
        "2. The size of the Convolution. In this case, a 3x3 grid.\n",
        "3. The activation function to use. In this case, you used a ReLU, which you might recall is the equivalent of returning `x` when `x>0`, else return `0`.\n",
        "4. In the first layer, the shape of the input data.\n",
        "\n",
        "You'll follow the convolution with a [MaxPool2D](https://www.tensorflow.org/api_docs/python/tf/keras/layers/MaxPool2D) layer which is designed to compress the image, while maintaining the content of the features that were highlighted by the convlution. By specifying `(2,2)` for the MaxPooling, the effect is to quarter the size of the image. Without going into too much detail here, the idea is that it creates a 2x2 array of pixels, and picks the biggest one. Thus, it turns 4 pixels into 1. It repeats this across the image, and in doing so, it halves both the number of horizontal and vertical pixels, effectively reducing the image to 25% of the original image.\n",
        "\n",
        "You can call `model.summary()` to see the size and shape of the network, and you'll notice that after every max pooling layer, the image size is reduced in this way. \n",
        "\n",
        "\n",
        "```\n",
        "model = tf.keras.models.Sequential([\n",
        "  tf.keras.layers.Conv2D(32, (3,3), activation='relu', input_shape=(28, 28, 1)),\n",
        "  tf.keras.layers.MaxPooling2D(2, 2),\n",
        "```\n"
      ]
    },
    {
      "cell_type": "markdown",
      "metadata": {
        "id": "RMorM6daADjA"
      },
      "source": [
        "Then you added another convolution and flattened the output.\n",
        "\n",
        "\n",
        "\n",
        "```\n",
        "  tf.keras.layers.Conv2D(64, (3,3), activation='relu'),\n",
        "  tf.keras.layers.MaxPooling2D(2,2)\n",
        "  tf.keras.layers.Flatten(),\n",
        "  \n",
        "```\n"
      ]
    },
    {
      "cell_type": "markdown",
      "metadata": {
        "id": "qPtqR23uASjX"
      },
      "source": [
        "After this, you'll just have the same DNN structure as the non convolutional version. The same 128 dense layers, and 10 output layers as in the pre-convolution example:\n",
        "\n",
        "\n",
        "\n",
        "```\n",
        "  tf.keras.layers.Dense(128, activation='relu'),\n",
        "  tf.keras.layers.Dense(10, activation='softmax')\n",
        "])\n",
        "```\n"
      ]
    },
    {
      "cell_type": "markdown",
      "metadata": {
        "id": "Np6AjBlLYveu"
      },
      "source": [
        "## About overfitting\n",
        "\n",
        "Try running the training for more epochs -- say about 20, and explore the results. But while the results might seem really good, the validation results may actually go down, due to something called _overfitting_. In a nutshell, overfitting occurs when the network learns the data from the training set really well, but it's too specialised to only that data, and as a result is less effective at interpreting other unseen data. For example, if all your life you only saw red shoes, then when you see a red shoe you would be very good at identifying it. But blue suede shoes might confuse you... and you know you should never mess with my blue suede shoes."
      ]
    },
    {
      "cell_type": "markdown",
      "metadata": {
        "id": "IXx_LX3SAlFs"
      },
      "source": [
        "# Visualizing the Convolutions and Pooling\n",
        "\n",
        "Let's explore how to show the convolutions graphically. The cell below prints the first 100 labels in the test set, and you can see that the ones at index `0`, index `23` and index `28` are all the same value (i.e. `9`). They're all shoes. Let's take a look at the result of running the convolution on each, and you'll begin to see common features between them emerge. Now, when the dense layer is training on that data, it's working with a lot less, and it's perhaps finding a commonality between shoes based on this convolution/pooling combination."
      ]
    },
    {
      "cell_type": "code",
      "execution_count": null,
      "metadata": {
        "id": "f-6nX4QsOku6"
      },
      "outputs": [],
      "source": [
        "print(test_labels[:100])"
      ]
    },
    {
      "cell_type": "code",
      "execution_count": null,
      "metadata": {
        "id": "9FGsHhv6JvDx"
      },
      "outputs": [],
      "source": [
        "import matplotlib.pyplot as plt\n",
        "from tensorflow.keras import models\n",
        "\n",
        "f, axarr = plt.subplots(3,4)\n",
        "\n",
        "FIRST_IMAGE=0\n",
        "SECOND_IMAGE=23\n",
        "THIRD_IMAGE=28\n",
        "CONVOLUTION_NUMBER = 1\n",
        "\n",
        "layer_outputs = [layer.output for layer in model.layers]\n",
        "activation_model = tf.keras.models.Model(inputs = model.input, outputs = layer_outputs)\n",
        "\n",
        "for x in range(0,4):\n",
        "  f1 = activation_model.predict(test_images[FIRST_IMAGE].reshape(1, 28, 28, 1))[x]\n",
        "  axarr[0,x].imshow(f1[0, : , :, CONVOLUTION_NUMBER], cmap='inferno')\n",
        "  axarr[0,x].grid(False)\n",
        "  \n",
        "  f2 = activation_model.predict(test_images[SECOND_IMAGE].reshape(1, 28, 28, 1))[x]\n",
        "  axarr[1,x].imshow(f2[0, : , :, CONVOLUTION_NUMBER], cmap='inferno')\n",
        "  axarr[1,x].grid(False)\n",
        "  \n",
        "  f3 = activation_model.predict(test_images[THIRD_IMAGE].reshape(1, 28, 28, 1))[x]\n",
        "  axarr[2,x].imshow(f3[0, : , :, CONVOLUTION_NUMBER], cmap='inferno')\n",
        "  axarr[2,x].grid(False)"
      ]
    },
    {
      "cell_type": "markdown",
      "source": [
        "![image.png](data:image/png;base64,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)"
      ],
      "metadata": {
        "id": "Lzt1yV7L55KA"
      }
    },
    {
      "cell_type": "markdown",
      "metadata": {
        "id": "8KVPZqgHo5Ux"
      },
      "source": [
        "### EXERCISES\n",
        "\n",
        "1. Try editing the convolutions. Change the 32s to either 16 or 64. What impact will this have on accuracy and/or training time.\n",
        "\n",
        "숫자가 커질수록  accuracy 증가한다.\n",
        "training time은 길어짐.\n",
        "\n",
        "\n",
        "2. Remove the final Convolution. What impact will this have on accuracy or training time?\n",
        "\n",
        "accuracy 증가함...\n",
        "traiing time 감소\n",
        "\n",
        "3. How about adding more Convolutions? What impact do you think this will have? Experiment with it.\n",
        "\n",
        "4. Remove all Convolutions but the first. What impact do you think this will have? Experiment with it. \n",
        "\n",
        "5. In the previous lesson you implemented a callback to check on the loss function and to cancel training once it hit a certain amount. See if you can implement that here."
      ]
    }
  ],
  "metadata": {
    "accelerator": "GPU",
    "colab": {
      "collapsed_sections": [],
      "name": "C1_W3_Lab_1_improving_accuracy_using_convolutions.ipynb",
      "private_outputs": true,
      "provenance": []
    },
    "kernelspec": {
      "display_name": "Python 3",
      "language": "python",
      "name": "python3"
    },
    "language_info": {
      "codemirror_mode": {
        "name": "ipython",
        "version": 3
      },
      "file_extension": ".py",
      "mimetype": "text/x-python",
      "name": "python",
      "nbconvert_exporter": "python",
      "pygments_lexer": "ipython3",
      "version": "3.7.4"
    }
  },
  "nbformat": 4,
  "nbformat_minor": 0
}