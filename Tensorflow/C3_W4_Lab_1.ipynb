{
  "cells": [
    {
      "cell_type": "markdown",
      "metadata": {
        "id": "mOeDdaVopxUL"
      },
      "source": [
        "<a href=\"https://colab.research.google.com/github/https-deeplearning-ai/tensorflow-1-public/blob/master/C3/W4/ungraded_labs/C3_W4_Lab_1.ipynb\" target=\"_parent\"><img src=\"https://colab.research.google.com/assets/colab-badge.svg\" alt=\"Open In Colab\"/></a>"
      ]
    },
    {
      "cell_type": "markdown",
      "metadata": {
        "id": "4VKWPfcBiYZO"
      },
      "source": [
        "# Ungraded Lab: Generating Text with Neural Networks\n",
        "\n",
        "For this week, you will look at techniques to prepare data and build models for text generation. You will train a neural network with lyrics from an Irish song then let it make a new song for you. Though this might sound like a more complex application, you'll soon see that the process is very similar to the ones you've been using in the previous weeks. Only minor modifications are needed. Let's see what these are in the next sections."
      ]
    },
    {
      "cell_type": "markdown",
      "metadata": {
        "id": "SgasH2Bvzds6"
      },
      "source": [
        "## Imports\n",
        "\n",
        "First, you will import the required libraries. You've used all of these already in the previous labs."
      ]
    },
    {
      "cell_type": "code",
      "execution_count": null,
      "metadata": {
        "id": "BOwsuGQQY9OL"
      },
      "outputs": [],
      "source": [
        "import tensorflow as tf\n",
        "import numpy as np \n",
        "from tensorflow.keras.layers import Embedding, LSTM, Dense, Bidirectional\n",
        "from tensorflow.keras.models import Sequential\n",
        "from tensorflow.keras.preprocessing.text import Tokenizer\n",
        "from tensorflow.keras.preprocessing.sequence import pad_sequences"
      ]
    },
    {
      "cell_type": "markdown",
      "metadata": {
        "id": "nqSrSYWD0CxU"
      },
      "source": [
        "## Building the Word Vocabulary\n",
        "\n",
        "The dataset is the lyrics of [*Lanigan's Ball*](https://en.wikipedia.org/wiki/Lanigan%27s_Ball), a traditional Irish song. You will split it per line then use the `Tokenizer` class to build the word index dictionary."
      ]
    },
    {
      "cell_type": "code",
      "execution_count": null,
      "metadata": {
        "id": "doUCQnYfvsmA"
      },
      "outputs": [],
      "source": [
        "# Define the lyrics of the song\n",
        "data=\"In the town of Athy one Jeremy Lanigan \\n Battered away til he hadnt a pound. \\nHis father died and made him a man again \\n Left him a farm and ten acres of ground. \\nHe gave a grand party for friends and relations \\nWho didnt forget him when come to the wall, \\nAnd if youll but listen Ill make your eyes glisten \\nOf the rows and the ructions of Lanigans Ball. \\nMyself to be sure got free invitation, \\nFor all the nice girls and boys I might ask, \\nAnd just in a minute both friends and relations \\nWere dancing round merry as bees round a cask. \\nJudy ODaly, that nice little milliner, \\nShe tipped me a wink for to give her a call, \\nAnd I soon arrived with Peggy McGilligan \\nJust in time for Lanigans Ball. \\nThere were lashings of punch and wine for the ladies, \\nPotatoes and cakes; there was bacon and tea, \\nThere were the Nolans, Dolans, OGradys \\nCourting the girls and dancing away. \\nSongs they went round as plenty as water, \\nThe harp that once sounded in Taras old hall,\\nSweet Nelly Gray and The Rat Catchers Daughter,\\nAll singing together at Lanigans Ball. \\nThey were doing all kinds of nonsensical polkas \\nAll round the room in a whirligig. \\nJulia and I, we banished their nonsense \\nAnd tipped them the twist of a reel and a jig. \\nAch mavrone, how the girls got all mad at me \\nDanced til youd think the ceiling would fall. \\nFor I spent three weeks at Brooks Academy \\nLearning new steps for Lanigans Ball. \\nThree long weeks I spent up in Dublin, \\nThree long weeks to learn nothing at all,\\n Three long weeks I spent up in Dublin, \\nLearning new steps for Lanigans Ball. \\nShe stepped out and I stepped in again, \\nI stepped out and she stepped in again, \\nShe stepped out and I stepped in again, \\nLearning new steps for Lanigans Ball. \\nBoys were all merry and the girls they were hearty \\nAnd danced all around in couples and groups, \\nTil an accident happened, young Terrance McCarthy \\nPut his right leg through miss Finnertys hoops. \\nPoor creature fainted and cried Meelia murther, \\nCalled for her brothers and gathered them all. \\nCarmody swore that hed go no further \\nTil he had satisfaction at Lanigans Ball. \\nIn the midst of the row miss Kerrigan fainted, \\nHer cheeks at the same time as red as a rose. \\nSome of the lads declared she was painted, \\nShe took a small drop too much, I suppose. \\nHer sweetheart, Ned Morgan, so powerful and able, \\nWhen he saw his fair colleen stretched out by the wall, \\nTore the left leg from under the table \\nAnd smashed all the Chaneys at Lanigans Ball. \\nBoys, oh boys, twas then there were runctions. \\nMyself got a lick from big Phelim McHugh. \\nI soon replied to his introduction \\nAnd kicked up a terrible hullabaloo. \\nOld Casey, the piper, was near being strangled. \\nThey squeezed up his pipes, bellows, chanters and all. \\nThe girls, in their ribbons, they got all entangled \\nAnd that put an end to Lanigans Ball.\"\n",
        "\n",
        "# Split the long string per line and put in a list\n",
        "corpus = data.lower().split(\"\\n\")\n",
        "\n",
        "# Preview the result\n",
        "print(corpus)"
      ]
    },
    {
      "cell_type": "markdown",
      "source": [
        "['in the town of athy one jeremy lanigan ', ' battered away til he hadnt a pound. ', 'his father died and made him a man again ', ' left him a farm and ten acres of ground. ', 'he gave a grand party for friends and relations ', 'who didnt forget him when come to the wall, ', 'and if youll but listen ill make your eyes glisten ', 'of the rows and the ructions of lanigans ball. ', 'myself to be sure got free invitation, ', 'for all the nice girls and boys i might ask, ', 'and just in a minute both friends and relations ', 'were dancing round merry as bees round a cask. ', 'judy odaly, that nice little milliner, ', 'she tipped me a wink for to give her a call, ', 'and i soon arrived with peggy mcgilligan ', 'just in time for lanigans ball. ', 'there were lashings of punch and wine for the ladies, ', 'potatoes and cakes; there was bacon and tea, ', 'there were the nolans, dolans, ogradys ', 'courting the girls and dancing away. ', 'songs they went round as plenty as water, ', 'the harp that once sounded in taras old hall,', 'sweet nelly gray and the rat catchers daughter,', 'all singing together at lanigans ball. ', 'they were doing all kinds of nonsensical polkas ', 'all round the room in a whirligig. ', 'julia and i, we banished their nonsense ', 'and tipped them the twist of a reel and a jig. ', 'ach mavrone, how the girls got all mad at me ', 'danced til youd think the ceiling would fall. ', 'for i spent three weeks at brooks academy ', 'learning new steps for lanigans ball. ', 'three long weeks i spent up in dublin, ', 'three long weeks to learn nothing at all,', ' three long weeks i spent up in dublin, ', 'learning new steps for lanigans ball. ', 'she stepped out and i stepped in again, ', 'i stepped out and she stepped in again, ', 'she stepped out and i stepped in again, ', 'learning new steps for lanigans ball. ', 'boys were all merry and the girls they were hearty ', 'and danced all around in couples and groups, ', 'til an accident happened, young terrance mccarthy ', 'put his right leg through miss finnertys hoops. ', 'poor creature fainted and cried meelia murther, ', 'called for her brothers and gathered them all. ', 'carmody swore that hed go no further ', 'til he had satisfaction at lanigans ball. ', 'in the midst of the row miss kerrigan fainted, ', 'her cheeks at the same time as red as a rose. ', 'some of the lads declared she was painted, ', 'she took a small drop too much, i suppose. ', 'her sweetheart, ned morgan, so powerful and able, ', 'when he saw his fair colleen stretched out by the wall, ', 'tore the left leg from under the table ', 'and smashed all the chaneys at lanigans ball. ', 'boys, oh boys, twas then there were runctions. ', 'myself got a lick from big phelim mchugh. ', 'i soon replied to his introduction ', 'and kicked up a terrible hullabaloo. ', 'old casey, the piper, was near being strangled. ', 'they squeezed up his pipes, bellows, chanters and all. ', 'the girls, in their ribbons, they got all entangled ', 'and that put an end to lanigans ball.']\n"
      ],
      "metadata": {
        "id": "a0aHLnDcxp56"
      }
    },
    {
      "cell_type": "code",
      "execution_count": null,
      "metadata": {
        "id": "PRnDnCW-Z7qv"
      },
      "outputs": [],
      "source": [
        "# Initialize the Tokenizer class\n",
        "tokenizer = Tokenizer()\n",
        "\n",
        "# Generate the word index dictionary\n",
        "tokenizer.fit_on_texts(corpus)\n",
        "\n",
        "# Define the total words. You add 1 for the index `0` which is just the padding token.\n",
        "total_words = len(tokenizer.word_index) + 1\n",
        "\n",
        "print(f'word index dictionary: {tokenizer.word_index}')\n",
        "print(f'total words: {total_words}')"
      ]
    },
    {
      "cell_type": "markdown",
      "source": [
        "word index dictionary: {'and': 1, 'the': 2, 'a': 3, 'in': 4, 'all': 5, 'i': 6, 'for': 7, 'of': 8, 'lanigans': 9, 'ball': 10, 'were': 11, 'at': 12, 'to': 13, 'she': 14, 'stepped': 15, 'his': 16, 'girls': 17, 'as': 18, 'they': 19, 'til': 20, 'he': 21, 'again': 22, 'got': 23, 'boys': 24, 'round': 25, 'that': 26, 'her': 27, 'there': 28, 'three': 29, 'weeks': 30, 'up': 31, 'out': 32, 'him': 33, 'was': 34, 'spent': 35, 'learning': 36, 'new': 37, 'steps': 38, 'long': 39, 'away': 40, 'left': 41, 'friends': 42, 'relations': 43, 'when': 44, 'wall': 45, 'myself': 46, 'nice': 47, 'just': 48, 'dancing': 49, 'merry': 50, 'tipped': 51, 'me': 52, 'soon': 53, 'time': 54, 'old': 55, 'their': 56, 'them': 57, 'danced': 58, 'dublin': 59, 'an': 60, 'put': 61, 'leg': 62, 'miss': 63, 'fainted': 64, 'from': 65, 'town': 66, 'athy': 67, 'one': 68, 'jeremy': 69, 'lanigan': 70, 'battered': 71, 'hadnt': 72, 'pound': 73, 'father': 74, 'died': 75, 'made': 76, 'man': 77, 'farm': 78, 'ten': 79, 'acres': 80, 'ground': 81, 'gave': 82, 'grand': 83, 'party': 84, 'who': 85, 'didnt': 86, 'forget': 87, 'come': 88, 'if': 89, 'youll': 90, 'but': 91, 'listen': 92, 'ill': 93, 'make': 94, 'your': 95, 'eyes': 96, 'glisten': 97, 'rows': 98, 'ructions': 99, 'be': 100, 'sure': 101, 'free': 102, 'invitation': 103, 'might': 104, 'ask': 105, 'minute': 106, 'both': 107, 'bees': 108, 'cask': 109, 'judy': 110, 'odaly': 111, 'little': 112, 'milliner': 113, 'wink': 114, 'give': 115, 'call': 116, 'arrived': 117, 'with': 118, 'peggy': 119, 'mcgilligan': 120, 'lashings': 121, 'punch': 122, 'wine': 123, 'ladies': 124, 'potatoes': 125, 'cakes': 126, 'bacon': 127, 'tea': 128, 'nolans': 129, 'dolans': 130, 'ogradys': 131, 'courting': 132, 'songs': 133, 'went': 134, 'plenty': 135, 'water': 136, 'harp': 137, 'once': 138, 'sounded': 139, 'taras': 140, 'hall': 141, 'sweet': 142, 'nelly': 143, 'gray': 144, 'rat': 145, 'catchers': 146, 'daughter': 147, 'singing': 148, 'together': 149, 'doing': 150, 'kinds': 151, 'nonsensical': 152, 'polkas': 153, 'room': 154, 'whirligig': 155, 'julia': 156, 'we': 157, 'banished': 158, 'nonsense': 159, 'twist': 160, 'reel': 161, 'jig': 162, 'ach': 163, 'mavrone': 164, 'how': 165, 'mad': 166, 'youd': 167, 'think': 168, 'ceiling': 169, 'would': 170, 'fall': 171, 'brooks': 172, 'academy': 173, 'learn': 174, 'nothing': 175, 'hearty': 176, 'around': 177, 'couples': 178, 'groups': 179, 'accident': 180, 'happened': 181, 'young': 182, 'terrance': 183, 'mccarthy': 184, 'right': 185, 'through': 186, 'finnertys': 187, 'hoops': 188, 'poor': 189, 'creature': 190, 'cried': 191, 'meelia': 192, 'murther': 193, 'called': 194, 'brothers': 195, 'gathered': 196, 'carmody': 197, 'swore': 198, 'hed': 199, 'go': 200, 'no': 201, 'further': 202, 'had': 203, 'satisfaction': 204, 'midst': 205, 'row': 206, 'kerrigan': 207, 'cheeks': 208, 'same': 209, 'red': 210, 'rose': 211, 'some': 212, 'lads': 213, 'declared': 214, 'painted': 215, 'took': 216, 'small': 217, 'drop': 218, 'too': 219, 'much': 220, 'suppose': 221, 'sweetheart': 222, 'ned': 223, 'morgan': 224, 'so': 225, 'powerful': 226, 'able': 227, 'saw': 228, 'fair': 229, 'colleen': 230, 'stretched': 231, 'by': 232, 'tore': 233, 'under': 234, 'table': 235, 'smashed': 236, 'chaneys': 237, 'oh': 238, 'twas': 239, 'then': 240, 'runctions': 241, 'lick': 242, 'big': 243, 'phelim': 244, 'mchugh': 245, 'replied': 246, 'introduction': 247, 'kicked': 248, 'terrible': 249, 'hullabaloo': 250, 'casey': 251, 'piper': 252, 'near': 253, 'being': 254, 'strangled': 255, 'squeezed': 256, 'pipes': 257, 'bellows': 258, 'chanters': 259, 'ribbons': 260, 'entangled': 261, 'end': 262}\n",
        "\n",
        "\n",
        "\n",
        "total words: 263"
      ],
      "metadata": {
        "id": "cMOI-vMnxsMK"
      }
    },
    {
      "cell_type": "markdown",
      "metadata": {
        "id": "mBE10Hx_0PA_"
      },
      "source": [
        "## Preprocessing the Dataset\n",
        "\n",
        "Next, you will be generating the training sequences and their labels. As discussed in the lectures, you will take each line of the song and generate inputs and labels from it. For example, if you only have one sentence: \"I am using Tensorflow\", you want the model to learn the next word given any subphrase of this sentence:\n",
        "\n",
        "```\n",
        "INPUT              LABEL\n",
        "-----------------------------\n",
        "I             ---> am\n",
        "I am          ---> using\n",
        "I am using    ---> Tensorflow\n",
        "```\n",
        "\n",
        "The next cell shows how to implement this concept in code. The result would be inputs as padded sequences, and labels as one-hot encoded arrays."
      ]
    },
    {
      "cell_type": "code",
      "execution_count": null,
      "metadata": {
        "id": "soPGVheskaQP"
      },
      "outputs": [],
      "source": [
        "# Initialize the sequences list\n",
        "input_sequences = []\n",
        "\n",
        "# Loop over every line\n",
        "for line in corpus:\n",
        "\n",
        "\t# Tokenize the current line\n",
        "\ttoken_list = tokenizer.texts_to_sequences([line])[0]\n",
        "\n",
        "\t# Loop over the line several times to generate the subphrases\n",
        "\tfor i in range(1, len(token_list)):\n",
        "\t\t\n",
        "\t\t# Generate the subphrase\n",
        "\t\tn_gram_sequence = token_list[:i+1]\n",
        "\n",
        "\t\t# Append the subphrase to the sequences list\n",
        "\t\tinput_sequences.append(n_gram_sequence)\n",
        "\n",
        "# Get the length of the longest line\n",
        "max_sequence_len = max([len(x) for x in input_sequences])\n",
        "\n",
        "# Pad all sequences\n",
        "input_sequences = np.array(pad_sequences(input_sequences, maxlen=max_sequence_len, padding='pre'))\n",
        "\n",
        "# Create inputs and label by splitting the last token in the subphrases\n",
        "xs, labels = input_sequences[:,:-1],input_sequences[:,-1]\n",
        "\n",
        "# Convert the label into one-hot arrays\n",
        "ys = tf.keras.utils.to_categorical(labels, num_classes=total_words)"
      ]
    },
    {
      "cell_type": "code",
      "source": [
        "lyrics=np.array([[0,1,2,3,4,5,6,7],[8,9,10,11,12,13,14,15]])\n",
        "print(lyrics)\n",
        "print(lyrics[:,-1])\n",
        "print(lyrics[:,:-1])\n",
        "\n",
        "\n",
        "# [[ 0  1  2  3  4  5  6  7]\n",
        "#  [ 8  9 10 11 12 13 14 15]]\n",
        "# [ 7 15]\n",
        "# [[ 0  1  2  3  4  5  6]\n",
        "#  [ 8  9 10 11 12 13 14]]"
      ],
      "metadata": {
        "id": "IkRCU4vGv3Hp"
      },
      "execution_count": null,
      "outputs": []
    },
    {
      "cell_type": "markdown",
      "metadata": {
        "id": "ipaZBkMa9C2Y"
      },
      "source": [
        "Let's see the result for the first line of the song. The particular line and the expected token sequence is shown in the cell below:"
      ]
    },
    {
      "cell_type": "code",
      "execution_count": null,
      "metadata": {
        "id": "pJtwVB2NbOAP"
      },
      "outputs": [],
      "source": [
        "# Get sample sentence\n",
        "sentence = corpus[0].split()\n",
        "print(f'sample sentence: {sentence}')\n",
        "\n",
        "# Initialize token list\n",
        "token_list = []\n",
        "\n",
        "# Look up the indices of each word and append to the list\n",
        "for word in sentence: \n",
        "  token_list.append(tokenizer.word_index[word])\n",
        "\n",
        "# Print the token list\n",
        "print(token_list)"
      ]
    },
    {
      "cell_type": "code",
      "source": [
        "# sample sentence: ['in', 'the', 'town', 'of', 'athy', 'one', 'jeremy', 'lanigan']\n",
        "# [4, 2, 66, 8, 67, 68, 69, 70]"
      ],
      "metadata": {
        "id": "sVsfuYJaxyD2"
      },
      "execution_count": null,
      "outputs": []
    },
    {
      "cell_type": "markdown",
      "metadata": {
        "id": "qJHHJAt99Y6P"
      },
      "source": [
        "Since there are 8 tokens here, you can expect to find this particular line in the first 7 elements of the `xs` that you generated earlier. If we get the longest subphrase generated, that should be found in `xs[6]`. See the padded token sequence below:"
      ]
    },
    {
      "cell_type": "code",
      "execution_count": null,
      "metadata": {
        "id": "49Cv68JOakwv"
      },
      "outputs": [],
      "source": [
        "# Pick element\n",
        "elem_number = 6\n",
        "\n",
        "# Print token list and phrase\n",
        "print(f'token list: {xs[elem_number]}')\n",
        "print(f'decoded to text: {tokenizer.sequences_to_texts([xs[elem_number]])}')\n",
        "\n",
        "\n",
        "# token list: [ 0  0  0  4  2 66  8 67 68 69]\n",
        "# decoded to text: ['in the town of athy one jeremy']"
      ]
    },
    {
      "cell_type": "markdown",
      "metadata": {
        "id": "1_Ih_j6L_xFD"
      },
      "source": [
        "If you print out the label, it should show `70` because that is the next word in the phrase (i.e. `lanigan`). See the one-hot encoded form below. You can use the [`np.argmax()`](https://numpy.org/doc/stable/reference/generated/numpy.argmax.html) method to get the index of the 'hot' label."
      ]
    },
    {
      "cell_type": "code",
      "execution_count": null,
      "metadata": {
        "id": "iY-jwvfgbEF8"
      },
      "outputs": [],
      "source": [
        "# Print label\n",
        "print(f'one-hot label: {ys[elem_number]}')\n",
        "print(f'index of label: {np.argmax(ys[elem_number])}')"
      ]
    },
    {
      "cell_type": "markdown",
      "metadata": {
        "id": "qOMge9xdAmjg"
      },
      "source": [
        "If you pick the element before that, you will see the same subphrase as above minus one word:"
      ]
    },
    {
      "cell_type": "code",
      "execution_count": null,
      "metadata": {
        "id": "wtzlUMYadhKt"
      },
      "outputs": [],
      "source": [
        "# Pick element\n",
        "elem_number = 5\n",
        "\n",
        "# Print token list and phrase\n",
        "print(f'token list: {xs[elem_number]}')\n",
        "print(f'decoded to text: {tokenizer.sequences_to_texts([xs[elem_number]])}')\n",
        "\n",
        "# Print label\n",
        "print(f'one-hot label: {ys[elem_number]}')\n",
        "print(f'index of label: {np.argmax(ys[elem_number])}')"
      ]
    },
    {
      "cell_type": "markdown",
      "metadata": {
        "id": "c6w_I9OUA2D3"
      },
      "source": [
        "## Build the Model\n",
        "\n",
        "Next, you will build the model with basically the same layers as before. The main difference is you will remove the sigmoid output and use a softmax activated `Dense` layer instead. This output layer will have one neuron for each word in the vocabulary. So given an input token list, the output array of the final layer will have the probabilities for each word."
      ]
    },
    {
      "cell_type": "code",
      "execution_count": null,
      "metadata": {
        "id": "w9vH8Y59ajYL"
      },
      "outputs": [],
      "source": [
        "# Build the model\n",
        "model = Sequential([\n",
        "          Embedding(total_words, 64, input_length=max_sequence_len-1),\n",
        "          Bidirectional(LSTM(20)),\n",
        "          Dense(total_words, activation='softmax')\n",
        "])\n",
        "\n",
        "# Use categorical crossentropy because this is a multi-class problem\n",
        "model.compile(loss='categorical_crossentropy', optimizer='adam', metrics=['accuracy'])\n",
        "\n",
        "# Print the model summary\n",
        "model.summary()"
      ]
    },
    {
      "cell_type": "markdown",
      "metadata": {
        "id": "0Xnb6i2WC_sy"
      },
      "source": [
        "## Train the model\n",
        "\n",
        "You can now train the model. We have a relatively small vocabulary so it will only take a couple of minutes to complete 500 epochs."
      ]
    },
    {
      "cell_type": "code",
      "execution_count": null,
      "metadata": {
        "id": "mF2k2nD9vgsD"
      },
      "outputs": [],
      "source": [
        "# Train the model\n",
        "history = model.fit(xs, ys, epochs=500)"
      ]
    },
    {
      "cell_type": "markdown",
      "source": [
        "Epoch 500/500\n",
        "15/15 [==============================] - 0s 13ms/step - loss: 0.1434 - accuracy: 0.9492"
      ],
      "metadata": {
        "id": "H22ef8oOzhMr"
      }
    },
    {
      "cell_type": "markdown",
      "metadata": {
        "id": "hRwgZjJxDTqh"
      },
      "source": [
        "You can visualize the results with the utility below. With the default settings, you should see around 95% accuracy after 500 epochs."
      ]
    },
    {
      "cell_type": "code",
      "execution_count": null,
      "metadata": {
        "id": "3YXGelKThoTT"
      },
      "outputs": [],
      "source": [
        "import matplotlib.pyplot as plt\n",
        "\n",
        "# Plot utility\n",
        "def plot_graphs(history, string):\n",
        "  plt.plot(history.history[string])\n",
        "  plt.xlabel(\"Epochs\")\n",
        "  plt.ylabel(string)\n",
        "  plt.show()\n",
        "\n",
        "# Visualize the accuracy\n",
        "plot_graphs(history, 'accuracy')"
      ]
    },
    {
      "cell_type": "markdown",
      "source": [
        "![image.png](data:image/png;base64,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)"
      ],
      "metadata": {
        "id": "b487ZCR_zjeQ"
      }
    },
    {
      "cell_type": "markdown",
      "metadata": {
        "id": "NUmA472NDn_v"
      },
      "source": [
        "## Generating Text\n",
        "\n",
        "With the model trained, you can now use it to make its own song! The process would look like:\n",
        "\n",
        "1. Feed a seed text to initiate the process.\n",
        "2. Model predicts the index of the most probable next word.\n",
        "3. Look up the index in the reverse word index dictionary\n",
        "4. Append the next word to the seed text.\n",
        "5. Feed the result to the model again.\n",
        "\n",
        "Steps 2 to 5 will repeat until the desired length of the song is reached. See how it is implemented in the code below:"
      ]
    },
    {
      "cell_type": "code",
      "execution_count": null,
      "metadata": {
        "id": "6Vc6PHgxa6Hm"
      },
      "outputs": [],
      "source": [
        "# Define seed text\n",
        "seed_text = \"Laurence went to Dublin\"\n",
        "\n",
        "# Define total words to predict\n",
        "next_words = 100\n",
        "\n",
        "# Loop until desired length is reached\n",
        "for _ in range(next_words):\n",
        "\n",
        "\t# Convert the seed text to a token sequence\n",
        "\ttoken_list = tokenizer.texts_to_sequences([seed_text])[0]\n",
        "\n",
        "\t# Pad the sequence\n",
        "\ttoken_list = pad_sequences([token_list], maxlen=max_sequence_len-1, padding='pre')\n",
        "\t\n",
        "\t# Feed to the model and get the probabilities for each index\n",
        "\tprobabilities = model.predict(token_list)\n",
        "\n",
        "\t# Get the index with the highest probability\n",
        "\tpredicted = np.argmax(probabilities, axis=-1)[0]\n",
        "\n",
        "\t# Ignore if index is 0 because that is just the padding.\n",
        "\tif predicted != 0:\n",
        "\t\t\n",
        "\t\t# Look up the word associated with the index. \n",
        "\t\toutput_word = tokenizer.index_word[predicted]\n",
        "\n",
        "\t\t# Combine with the seed text\n",
        "\t\tseed_text += \" \" + output_word\n",
        "\n",
        "# Print the result\t\n",
        "print(seed_text)"
      ]
    },
    {
      "cell_type": "markdown",
      "source": [
        "Laurence went to Dublin merry as bees as red as a rose rose rose cask glisten glisten glisten hall glisten tea glisten hall wall wall wall glisten glisten hall wall wall wall glisten hearty ladies ask glisten glisten glisten further nolans eyes was table hall glisten glisten hall ladies ask glisten glisten glisten hall wall wall wall glisten glisten hall wall wall wall glisten hearty ladies ask glisten glisten glisten further nolans eyes was table hall glisten glisten hall ladies ask glisten glisten glisten hall wall wall wall glisten glisten hall wall wall wall glisten hearty ladies ask glisten glisten glisten further nolans eyes\n"
      ],
      "metadata": {
        "id": "2gfn_rfY0Jl4"
      }
    },
    {
      "cell_type": "markdown",
      "metadata": {
        "id": "HU7eZOKiFydr"
      },
      "source": [
        "In the output above, you might notice frequent repetition of words the longer the sentence gets. There are ways to get around it and the next cell shows one. Basically, instead of getting the index with max probability, you will get the top three indices and choose one at random. See if the output text makes more sense with this approach. This is not the most time efficient solution because it is always sorting the entire array even if you only need the top three. Feel free to improve it and of course, you can also develop your own method of picking the next word."
      ]
    },
    {
      "cell_type": "code",
      "execution_count": null,
      "metadata": {
        "id": "JZqJKIpgkiYt"
      },
      "outputs": [],
      "source": [
        "# Define seed text\n",
        "seed_text = \"Laurence went to Dublin\"\n",
        "\n",
        "# Define total words to predict\n",
        "next_words = 100\n",
        "\n",
        "# Loop until desired length is reached\n",
        "for _ in range(next_words):\n",
        "\n",
        "\t# Convert the seed text to a token sequence\n",
        "  token_list = tokenizer.texts_to_sequences([seed_text])[0]\n",
        "\n",
        "\t# Pad the sequence\n",
        "  token_list = pad_sequences([token_list], maxlen=max_sequence_len-1, padding='pre')\n",
        "\t\n",
        "\t# Feed to the model and get the probabilities for each index\n",
        "  probabilities = model.predict(token_list)\n",
        "\n",
        "  # Pick a random number from [1,2,3]\n",
        "  choice = np.random.choice([1,2,3])\n",
        "\t\n",
        "  # Sort the probabilities in ascending order \n",
        "  # and get the random choice from the end of the array\n",
        "  predicted = np.argsort(probabilities)[0][-choice]\n",
        "\n",
        "\t# Ignore if index is 0 because that is just the padding.\n",
        "  if predicted != 0:\n",
        "\t\t\n",
        "\t\t# Look up the word associated with the index. \n",
        "\t  output_word = tokenizer.index_word[predicted]\n",
        "\n",
        "\t\t# Combine with the seed text\n",
        "\t  seed_text += \" \" + output_word\n",
        "\n",
        "# Print the result\t\n",
        "print(seed_text)"
      ]
    },
    {
      "cell_type": "markdown",
      "source": [
        "Laurence went to Dublin round as as invitation lanigan your hall jig ladies glisten rose their ladies rose was pipes died swore that old terrible mccarthy eyes further glisten glisten glisten hall ladies glisten hall harp at their entangled entangled rose harp at their wall wall rose come swore time a red sweetheart didnt ned make make rose piper rose ladies glisten rose wall harp sweetheart so hall ned think til eyes boys ask ask that miss finnertys no further table further further hall ladies wall further glisten glisten nolans eyes taras further glisten nolans ball eyes further was table table glisten hall might\n"
      ],
      "metadata": {
        "id": "3sPLSbS30H6f"
      }
    },
    {
      "cell_type": "markdown",
      "metadata": {
        "id": "dXg6aEu5dKiV"
      },
      "source": [
        "## Wrap Up\n",
        "\n",
        "In this lab, you got a first look at preparing data and building a model for text generation. The corpus is fairly small in this particular exercise and in the next lessons, you will be building one from a larger body of text. See you there!"
      ]
    }
  ],
  "metadata": {
    "colab": {
      "collapsed_sections": [],
      "name": "C3_W4_Lab_1.ipynb",
      "private_outputs": true,
      "provenance": [],
      "toc_visible": true
    },
    "kernelspec": {
      "display_name": "Python 3",
      "language": "python",
      "name": "python3"
    },
    "language_info": {
      "codemirror_mode": {
        "name": "ipython",
        "version": 3
      },
      "file_extension": ".py",
      "mimetype": "text/x-python",
      "name": "python",
      "nbconvert_exporter": "python",
      "pygments_lexer": "ipython3",
      "version": "3.7.4"
    }
  },
  "nbformat": 4,
  "nbformat_minor": 0
}