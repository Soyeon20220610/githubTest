{
  "cells": [
    {
      "cell_type": "markdown",
      "metadata": {
        "id": "9-73YfKn1x9T"
      },
      "source": [
        "<a href=\"https://colab.research.google.com/github/https-deeplearning-ai/tensorflow-1-public/blob/master/C2/W4/ungraded_lab/C2_W4_Lab_1_multi_class_classifier.ipynb\" target=\"_parent\"><img src=\"https://colab.research.google.com/assets/colab-badge.svg\" alt=\"Open In Colab\"/></a>"
      ]
    },
    {
      "cell_type": "markdown",
      "metadata": {
        "id": "0UD-1_xY-h2u"
      },
      "source": [
        "# Ungraded Lab: Multi-class Classifier\n",
        "\n",
        "In this lab, you will look at how to build a model to distinguish between more than two classes. The code will be similar to the ones you've been using before with a few key changes in the model and in the training parameters. Let's dive in!\n"
      ]
    },
    {
      "cell_type": "markdown",
      "metadata": {
        "id": "MZvja3XzDQsX"
      },
      "source": [
        "**IMPORTANT NOTE:** This notebook is designed to run as a Colab. Running the notebook on your local machine might result in some of the code blocks throwing errors."
      ]
    },
    {
      "cell_type": "markdown",
      "metadata": {
        "id": "FvwVR5lHA8q_"
      },
      "source": [
        "## Download and Prepare the Dataset\n",
        "\n",
        "You will be using the [Rock-Paper-Scissors dataset](http://www.laurencemoroney.com/rock-paper-scissors-dataset/), a gallery of hands images in Rock, Paper, and Scissors poses."
      ]
    },
    {
      "cell_type": "code",
      "execution_count": null,
      "metadata": {
        "id": "v0uf7f361x9b"
      },
      "outputs": [],
      "source": [
        "# Download the train set\n",
        "!wget https://storage.googleapis.com/tensorflow-1-public/course2/week4/rps.zip\n",
        "    \n",
        "# Download the test set\n",
        "!wget https://storage.googleapis.com/tensorflow-1-public/course2/week4/rps-test-set.zip"
      ]
    },
    {
      "cell_type": "code",
      "execution_count": null,
      "metadata": {
        "id": "PnYP_HhYNVUK"
      },
      "outputs": [],
      "source": [
        "import zipfile\n",
        "\n",
        "# Extract the archive\n",
        "local_zip = './rps.zip'\n",
        "zip_ref = zipfile.ZipFile(local_zip, 'r')\n",
        "zip_ref.extractall('tmp/rps-train')\n",
        "zip_ref.close()\n",
        "\n",
        "local_zip = './rps-test-set.zip'\n",
        "zip_ref = zipfile.ZipFile(local_zip, 'r')\n",
        "zip_ref.extractall('tmp/rps-test')\n",
        "zip_ref.close()"
      ]
    },
    {
      "cell_type": "markdown",
      "metadata": {
        "id": "k3vqjYrpB0hI"
      },
      "source": [
        "As usual, you will assign the directory names into variables and look at the filenames as a sanity check."
      ]
    },
    {
      "cell_type": "code",
      "execution_count": null,
      "metadata": {
        "id": "MrxdR83ANgjS"
      },
      "outputs": [],
      "source": [
        "import os\n",
        "\n",
        "base_dir = 'tmp/rps-train/rps'\n",
        "\n",
        "rock_dir = os.path.join(base_dir, 'rock')\n",
        "paper_dir = os.path.join(base_dir, 'paper')\n",
        "scissors_dir = os.path.join(base_dir, 'scissors')\n",
        "\n",
        "print('total training rock images:', len(os.listdir(rock_dir)))\n",
        "print('total training paper images:', len(os.listdir(paper_dir)))\n",
        "print('total training scissors images:', len(os.listdir(scissors_dir)))\n",
        "\n",
        "rock_files = os.listdir(rock_dir)\n",
        "print(rock_files[:10])\n",
        "\n",
        "paper_files = os.listdir(paper_dir)\n",
        "print(paper_files[:10])\n",
        "\n",
        "scissors_files = os.listdir(scissors_dir)\n",
        "print(scissors_files[:10])"
      ]
    },
    {
      "cell_type": "markdown",
      "source": [
        "total training rock images: 840\n",
        "total training paper images: 840\n",
        "total training scissors images: 840\n",
        "['rock05ck01-086.png', 'rock03-025.png', 'rock07-k03-053.png', 'rock02-047.png', 'rock01-066.png', 'rock02-041.png', 'rock01-118.png', 'rock06ck02-107.png', 'rock01-071.png', 'rock07-k03-106.png']\n",
        "['paper07-022.png', 'paper05-095.png', 'paper01-078.png', 'paper07-104.png', 'paper05-046.png', 'paper01-043.png', 'paper02-020.png', 'paper04-097.png', 'paper05-110.png', 'paper07-063.png']\n",
        "['testscissors03-060.png', 'scissors01-018.png', 'testscissors02-071.png', 'testscissors03-007.png', 'testscissors02-052.png', 'scissors04-034.png', 'testscissors03-026.png', 'scissors03-046.png', 'scissors03-066.png', 'testscissors02-119.png']"
      ],
      "metadata": {
        "id": "z-yPdPjO5JVa"
      }
    },
    {
      "cell_type": "markdown",
      "metadata": {
        "id": "7t_CNSs6B-8y"
      },
      "source": [
        "You can also inspect some of the images to see the variety in your model inputs."
      ]
    },
    {
      "cell_type": "code",
      "execution_count": null,
      "metadata": {
        "id": "jp9dLel9N9DS"
      },
      "outputs": [],
      "source": [
        "%matplotlib inline\n",
        "\n",
        "import matplotlib.pyplot as plt\n",
        "import matplotlib.image as mpimg\n",
        "\n",
        "pic_index = 2\n",
        "\n",
        "next_rock = [os.path.join(rock_dir, fname) \n",
        "                for fname in rock_files[pic_index-2:pic_index]]\n",
        "next_paper = [os.path.join(paper_dir, fname) \n",
        "                for fname in paper_files[pic_index-2:pic_index]]\n",
        "next_scissors = [os.path.join(scissors_dir, fname) \n",
        "                for fname in scissors_files[pic_index-2:pic_index]]\n",
        "\n",
        "for i, img_path in enumerate(next_rock+next_paper+next_scissors):\n",
        "  img = mpimg.imread(img_path)\n",
        "  plt.imshow(img)\n",
        "  plt.axis('Off')\n",
        "  plt.show()"
      ]
    },
    {
      "cell_type": "markdown",
      "metadata": {
        "id": "Ufa0YF5oCpYw"
      },
      "source": [
        "## Build the model\n",
        "\n",
        "You will then build your CNN. You will use 4 convolution layers with 64-64-128-128 filters then append a `Dropout` layer to avoid overfitting and some Dense layers for the classification. The output layer would be a 3-neuron dense layer activated by [Softmax](https://www.tensorflow.org/api_docs/python/tf/nn/softmax). You've seen this in Course 1 when you were training with Fashion MNIST. It scales your output to a set of probabilities that add up to 1. The order of this 3-neuron output would be `paper`-`rock`-`scissors` (e.g. a `[0.8 0.2 0.0]` output means the model is prediciting 80% probability for paper and 20% probability for rock.\n",
        "\n",
        "You can examine the architecture with `model.summary()` below."
      ]
    },
    {
      "cell_type": "code",
      "execution_count": null,
      "metadata": {
        "id": "GgvGg2nsCj-0"
      },
      "outputs": [],
      "source": [
        "import tensorflow as tf\n",
        "\n",
        "model = tf.keras.models.Sequential([\n",
        "    # Note the input shape is the desired size of the image 150x150 with 3 bytes color\n",
        "    # This is the first convolution\n",
        "    tf.keras.layers.Conv2D(64, (3,3), activation='relu', input_shape=(150, 150, 3)),\n",
        "    tf.keras.layers.MaxPooling2D(2, 2),\n",
        "    # The second convolution\n",
        "    tf.keras.layers.Conv2D(64, (3,3), activation='relu'),\n",
        "    tf.keras.layers.MaxPooling2D(2,2),\n",
        "    # The third convolution\n",
        "    tf.keras.layers.Conv2D(128, (3,3), activation='relu'),\n",
        "    tf.keras.layers.MaxPooling2D(2,2),\n",
        "    # The fourth convolution\n",
        "    tf.keras.layers.Conv2D(128, (3,3), activation='relu'),\n",
        "    tf.keras.layers.MaxPooling2D(2,2),\n",
        "    # Flatten the results to feed into a DNN\n",
        "    tf.keras.layers.Flatten(),\n",
        "    tf.keras.layers.Dropout(0.5),\n",
        "    # 512 neuron hidden layer\n",
        "    tf.keras.layers.Dense(512, activation='relu'),\n",
        "    tf.keras.layers.Dense(3, activation='softmax')\n",
        "])\n",
        "\n",
        "# Print the model summary\n",
        "model.summary()"
      ]
    },
    {
      "cell_type": "markdown",
      "source": [
        "Model: \"sequential\"\n",
        "_________________________________________________________________\n",
        " Layer (type)                Output Shape              Param #   \n",
        "=================================================================\n",
        " conv2d (Conv2D)             (None, 148, 148, 64)      1792      \n",
        "                                                                 \n",
        " max_pooling2d (MaxPooling2D  (None, 74, 74, 64)       0         \n",
        " )                                                               \n",
        "                                                                 \n",
        " conv2d_1 (Conv2D)           (None, 72, 72, 64)        36928     \n",
        "                                                                 \n",
        " max_pooling2d_1 (MaxPooling  (None, 36, 36, 64)       0         \n",
        " 2D)                                                             \n",
        "                                                                 \n",
        " conv2d_2 (Conv2D)           (None, 34, 34, 128)       73856     \n",
        "                                                                 \n",
        " max_pooling2d_2 (MaxPooling  (None, 17, 17, 128)      0         \n",
        " 2D)                                                             \n",
        "                                                                 \n",
        " conv2d_3 (Conv2D)           (None, 15, 15, 128)       147584    \n",
        "                                                                 \n",
        " max_pooling2d_3 (MaxPooling  (None, 7, 7, 128)        0         \n",
        " 2D)                                                             \n",
        "                                                                 \n",
        " flatten (Flatten)           (None, 6272)              0         \n",
        "                                                                 \n",
        " dropout (Dropout)           (None, 6272)              0         \n",
        "                                                                 \n",
        " dense (Dense)               (None, 512)               3211776   \n",
        "                                                                 \n",
        " dense_1 (Dense)             (None, 3)                 1539      \n",
        "                                                                 \n",
        "=================================================================\n",
        "Total params: 3,473,475\n",
        "Trainable params: 3,473,475\n",
        "Non-trainable params: 0\n",
        "_________________________________________________________________"
      ],
      "metadata": {
        "id": "mTTz7t4g5L_2"
      }
    },
    {
      "cell_type": "markdown",
      "metadata": {
        "id": "4P1iuHGiFrPV"
      },
      "source": [
        "You will then compile the model. The key change here is the `loss` function. Whereas before you were using `binary_crossentropy` for 2 classes, you will change it to [categorical_crossentropy](https://keras.io/api/losses/probabilistic_losses/#categoricalcrossentropy-function) to extend it to more classes."
      ]
    },
    {
      "cell_type": "code",
      "execution_count": null,
      "metadata": {
        "id": "OskuZ2ThFqmg"
      },
      "outputs": [],
      "source": [
        "# Set the training parameters\n",
        "model.compile(loss = 'categorical_crossentropy', optimizer='rmsprop', metrics=['accuracy'])"
      ]
    },
    {
      "cell_type": "markdown",
      "metadata": {
        "id": "7Ps7kIRaFRIC"
      },
      "source": [
        "## Prepare the ImageDataGenerator\n",
        "\n",
        "You will prepare the generators as before. You will set the training set up for data augmentation so it can mimick other poses that the model needs to learn."
      ]
    },
    {
      "cell_type": "code",
      "execution_count": null,
      "metadata": {
        "id": "LWTisYLQM1aM"
      },
      "outputs": [],
      "source": [
        "from keras_preprocessing.image import ImageDataGenerator\n",
        "\n",
        "TRAINING_DIR = \"tmp/rps-train/rps\"\n",
        "training_datagen = ImageDataGenerator(\n",
        "      rescale = 1./255,\n",
        "\t    rotation_range=40,    #data augmentation\n",
        "      width_shift_range=0.2,\n",
        "      height_shift_range=0.2,\n",
        "      shear_range=0.2,\n",
        "      zoom_range=0.2,\n",
        "      horizontal_flip=True,\n",
        "      fill_mode='nearest')\n",
        "\n",
        "VALIDATION_DIR = \"tmp/rps-test/rps-test-set\"\n",
        "validation_datagen = ImageDataGenerator(rescale = 1./255)\n",
        "\n",
        "train_generator = training_datagen.flow_from_directory(\n",
        "\tTRAINING_DIR,\n",
        "\ttarget_size=(150,150),\n",
        "\tclass_mode='categorical',\n",
        "  batch_size=126\n",
        ")\n",
        "\n",
        "validation_generator = validation_datagen.flow_from_directory(\n",
        "\tVALIDATION_DIR,\n",
        "\ttarget_size=(150,150),\n",
        "\tclass_mode='categorical',\n",
        "  batch_size=126\n",
        ")"
      ]
    },
    {
      "cell_type": "markdown",
      "source": [
        "Found 2520 images belonging to 3 classes.\n",
        "Found 372 images belonging to 3 classes."
      ],
      "metadata": {
        "id": "tY6n9U-B5O1g"
      }
    },
    {
      "cell_type": "markdown",
      "metadata": {
        "id": "Orf1QQlGGyOe"
      },
      "source": [
        "## Train the model and evaluate the results\n",
        "\n",
        "You will train for 25 epochs and evaludate the results afterwards. Observe how both the training and validation accuracy are trending upwards. This is a good indication that the model is not overfitting to only your training set.\n",
        "\n"
      ]
    },
    {
      "cell_type": "code",
      "execution_count": null,
      "metadata": {
        "id": "1mHX5L7HFXQ7"
      },
      "outputs": [],
      "source": [
        "# Train the model\n",
        "history = model.fit(train_generator, epochs=25, steps_per_epoch=20, validation_data = validation_generator, verbose = 1, validation_steps=3)"
      ]
    },
    {
      "cell_type": "markdown",
      "source": [
        "Epoch 1/25\n",
        "20/20 [==============================] - 36s 1s/step - loss: 1.5886 - accuracy: 0.3413 - val_loss: 1.1009 - val_accuracy: 0.3333\n",
        "Epoch 2/25\n",
        "20/20 [==============================] - 23s 1s/step - loss: 1.1016 - accuracy: 0.3897 - val_loss: 0.9661 - val_accuracy: 0.6398\n",
        "Epoch 3/25\n",
        "20/20 [==============================] - 22s 1s/step - loss: 1.3039 - accuracy: 0.4472 - val_loss: 1.0144 - val_accuracy: 0.5699\n",
        "Epoch 4/25\n",
        "20/20 [==============================] - 22s 1s/step - loss: 0.9257 - accuracy: 0.5675 - val_loss: 0.7766 - val_accuracy: 0.5161\n",
        "Epoch 5/25\n",
        "20/20 [==============================] - 24s 1s/step - loss: 1.0172 - accuracy: 0.6115 - val_loss: 0.6698 - val_accuracy: 0.8602\n",
        "Epoch 6/25\n",
        "20/20 [==============================] - 22s 1s/step - loss: 0.7309 - accuracy: 0.6774 - val_loss: 0.3265 - val_accuracy: 0.9247\n",
        "Epoch 7/25\n",
        "20/20 [==============================] - 22s 1s/step - loss: 0.6896 - accuracy: 0.7123 - val_loss: 0.9633 - val_accuracy: 0.6183\n",
        "Epoch 8/25\n",
        "20/20 [==============================] - 22s 1s/step - loss: 0.6261 - accuracy: 0.7496 - val_loss: 0.2071 - val_accuracy: 0.9731\n",
        "Epoch 9/25\n",
        "20/20 [==============================] - 21s 1s/step - loss: 0.5037 - accuracy: 0.7762 - val_loss: 0.2343 - val_accuracy: 0.9651\n",
        "Epoch 10/25\n",
        "20/20 [==============================] - 21s 1s/step - loss: 0.4382 - accuracy: 0.8147 - val_loss: 0.4009 - val_accuracy: 0.8011\n",
        "Epoch 11/25\n",
        "20/20 [==============================] - 21s 1s/step - loss: 0.3874 - accuracy: 0.8540 - val_loss: 0.0369 - val_accuracy: 1.0000\n",
        "Epoch 12/25\n",
        "20/20 [==============================] - 21s 1s/step - loss: 0.3448 - accuracy: 0.8671 - val_loss: 0.4687 - val_accuracy: 0.8011\n",
        "Epoch 13/25\n",
        "20/20 [==============================] - 21s 1s/step - loss: 0.3205 - accuracy: 0.8770 - val_loss: 0.1502 - val_accuracy: 0.9543\n",
        "Epoch 14/25\n",
        "20/20 [==============================] - 21s 1s/step - loss: 0.2619 - accuracy: 0.9071 - val_loss: 0.0595 - val_accuracy: 1.0000\n",
        "Epoch 15/25\n",
        "20/20 [==============================] - 21s 1s/step - loss: 0.2326 - accuracy: 0.9048 - val_loss: 0.0378 - val_accuracy: 1.0000\n",
        "Epoch 16/25\n",
        "20/20 [==============================] - 21s 1s/step - loss: 0.3023 - accuracy: 0.8913 - val_loss: 0.1860 - val_accuracy: 0.9597\n",
        "Epoch 17/25\n",
        "20/20 [==============================] - 21s 1s/step - loss: 0.1591 - accuracy: 0.9429 - val_loss: 0.0759 - val_accuracy: 0.9866\n",
        "Epoch 18/25\n",
        "20/20 [==============================] - 21s 1s/step - loss: 0.2189 - accuracy: 0.9151 - val_loss: 0.0472 - val_accuracy: 1.0000\n",
        "Epoch 19/25\n",
        "20/20 [==============================] - 21s 1s/step - loss: 0.1485 - accuracy: 0.9464 - val_loss: 0.3127 - val_accuracy: 0.8360\n",
        "Epoch 20/25\n",
        "20/20 [==============================] - 21s 1s/step - loss: 0.1293 - accuracy: 0.9512 - val_loss: 0.0092 - val_accuracy: 1.0000\n",
        "Epoch 21/25\n",
        "20/20 [==============================] - 21s 1s/step - loss: 0.1291 - accuracy: 0.9508 - val_loss: 0.2666 - val_accuracy: 0.8629\n",
        "Epoch 22/25\n",
        "20/20 [==============================] - 21s 1s/step - loss: 0.1339 - accuracy: 0.9512 - val_loss: 0.0212 - val_accuracy: 1.0000\n",
        "Epoch 23/25\n",
        "20/20 [==============================] - 21s 1s/step - loss: 0.1069 - accuracy: 0.9603 - val_loss: 0.0306 - val_accuracy: 1.0000\n",
        "Epoch 24/25\n",
        "20/20 [==============================] - 21s 1s/step - loss: 0.1262 - accuracy: 0.9595 - val_loss: 0.1234 - val_accuracy: 0.9220\n",
        "Epoch 25/25\n",
        "20/20 [==============================] - 21s 1s/step - loss: 0.1882 - accuracy: 0.9337 - val_loss: 0.1065 - val_accuracy: 0.9543"
      ],
      "metadata": {
        "id": "pLzUxcN_5RAK"
      }
    },
    {
      "cell_type": "code",
      "execution_count": null,
      "metadata": {
        "id": "aeTRVCr6aosw"
      },
      "outputs": [],
      "source": [
        "import matplotlib.pyplot as plt\n",
        "\n",
        "# Plot the results\n",
        "acc = history.history['accuracy']\n",
        "val_acc = history.history['val_accuracy']\n",
        "loss = history.history['loss']\n",
        "val_loss = history.history['val_loss']\n",
        "\n",
        "epochs = range(len(acc))\n",
        "\n",
        "plt.plot(epochs, acc, 'r', label='Training accuracy')\n",
        "plt.plot(epochs, val_acc, 'b', label='Validation accuracy')\n",
        "plt.title('Training and validation accuracy')\n",
        "plt.legend(loc=0)\n",
        "plt.figure()\n",
        "\n",
        "plt.show()"
      ]
    },
    {
      "cell_type": "markdown",
      "source": [
        "![image.png](data:image/png;base64,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)"
      ],
      "metadata": {
        "id": "WQnWDF8U5SdK"
      }
    },
    {
      "cell_type": "markdown",
      "metadata": {
        "id": "Y3ps8Q1tpYMG"
      },
      "source": [
        "# Model Prediction\n",
        "\n",
        "You should be able to upload an image here and have it classified without crashing. This codeblock will only work in Google Colab, however. You can use your own images or use the ones available [here](https://storage.googleapis.com/laurencemoroney-blog.appspot.com/rps-validation.zip)\n",
        "\n",
        "**Important Note:** Due to some compatibility issues, the following code block will result in an error after you select the images(s) to upload if you are running this notebook as a `Colab` on the `Safari` browser. For all other browsers, continue with the next code block and ignore the next one after it.\n",
        "\n",
        "_For Safari users: please comment out or skip the code block below, uncomment the next code block and run it._"
      ]
    },
    {
      "cell_type": "code",
      "execution_count": null,
      "metadata": {
        "id": "ZABJp7T3VLCU"
      },
      "outputs": [],
      "source": [
        "## CODE BLOCK FOR NON-SAFARI BROWSERS\n",
        "## SAFARI USERS: PLEASE SKIP THIS BLOCK AND RUN THE NEXT ONE INSTEAD\n",
        "\n",
        "import numpy as np\n",
        "from google.colab import files\n",
        "from keras.preprocessing import image\n",
        "\n",
        "uploaded = files.upload()\n",
        "\n",
        "for fn in uploaded.keys():\n",
        " \n",
        "  # predicting images\n",
        "  path = fn\n",
        "  img = image.load_img(path, target_size=(150, 150))\n",
        "  x = image.img_to_array(img)\n",
        "  x = np.expand_dims(x, axis=0)\n",
        "\n",
        "  images = np.vstack([x])\n",
        "  classes = model.predict(images, batch_size=10)\n",
        "  print(fn)\n",
        "  print(classes)"
      ]
    },
    {
      "cell_type": "markdown",
      "source": [
        "paper1.png\n",
        "[[0. 1. 0.]]\n",
        "paper2.png\n",
        "[[1. 0. 0.]]\n",
        "paper3.png\n",
        "[[0. 0. 1.]]\n",
        "paper4.png\n",
        "[[0. 0. 1.]]\n",
        "paper5.png\n",
        "[[0. 0. 1.]]\n",
        "paper6.png\n",
        "[[1. 0. 0.]]\n",
        "paper7.png\n",
        "[[1. 0. 0.]]\n",
        "paper8.png\n",
        "[[1. 0. 0.]]\n",
        "paper9.png\n",
        "[[0. 1. 0.]]\n",
        "paper-hires1.png\n",
        "[[4.8052767e-13 0.0000000e+00 1.0000000e+00]]\n",
        "paper-hires2.png\n",
        "[[1. 0. 0.]]\n",
        "rock1.png\n",
        "[[0. 1. 0.]]\n",
        "rock2.png\n",
        "[[0. 1. 0.]]\n",
        "rock3.png\n",
        "[[0. 1. 0.]]\n",
        "rock4.png\n",
        "[[0. 1. 0.]]\n",
        "rock5.png\n",
        "[[0. 1. 0.]]\n",
        "rock6.png\n",
        "[[0. 1. 0.]]\n",
        "rock7.png\n",
        "[[0. 1. 0.]]\n",
        "rock8.png\n",
        "[[0. 1. 0.]]\n",
        "rock9.png\n",
        "[[0. 1. 0.]]\n",
        "rock-hires1.png\n",
        "[[0. 1. 0.]]\n",
        "rock-hires2.png\n",
        "[[0. 1. 0.]]\n",
        "scissors1.png\n",
        "[[0. 0. 1.]]\n",
        "scissors2.png\n",
        "[[0. 0. 1.]]\n",
        "scissors3.png\n",
        "[[0. 0. 1.]]\n",
        "scissors4.png\n",
        "[[0. 0. 1.]]\n",
        "scissors5.png\n",
        "[[0. 0. 1.]]\n",
        "scissors6.png\n",
        "[[0. 0. 1.]]\n",
        "scissors7.png\n",
        "[[0. 0. 1.]]\n",
        "scissors8.png\n",
        "[[0. 0. 1.]]\n",
        "scissors9.png\n",
        "[[0. 0. 1.]]\n",
        "scissors-hires1.png\n",
        "[[0. 0. 1.]]\n",
        "scissors-hires2.png\n",
        "[[0. 0. 1.]]"
      ],
      "metadata": {
        "id": "eMaxsd9N5afk"
      }
    },
    {
      "cell_type": "markdown",
      "metadata": {
        "id": "6Rsy_ebEDQsc"
      },
      "source": [
        "`Safari` users will need to upload the images(s) manually in their workspace. Please follow the instructions, uncomment the code block below and run it.\n",
        "\n",
        "Instructions on how to upload image(s) manually in a Colab:\n",
        "\n",
        "1. Select the `folder` icon on the left `menu bar`.\n",
        "2. Click on the `folder with an arrow pointing upwards` named `..`\n",
        "3. Click on the `folder` named `tmp`.\n",
        "4. Inside of the `tmp` folder, `create a new folder` called `images`. You'll see the `New folder` option by clicking the `3 vertical dots` menu button next to the `tmp` folder.\n",
        "5. Inside of the new `images` folder, upload an image(s) of your choice. Drag and drop the images(s) on top of the `images` folder.\n",
        "6. Uncomment and run the code block below. "
      ]
    },
    {
      "cell_type": "code",
      "execution_count": null,
      "metadata": {
        "id": "MBt6ae3YDQsc"
      },
      "outputs": [],
      "source": [
        "# # CODE BLOCK FOR SAFARI USERS\n",
        "\n",
        "# import os\n",
        "# import numpy as np\n",
        "# from keras.preprocessing import image\n",
        "\n",
        "# images = os.listdir(\"/tmp/images\")\n",
        "\n",
        "# print(images)\n",
        "\n",
        "# for i in images:\n",
        "#     print()\n",
        "#     # predicting images\n",
        "#     path = '/tmp/images/' + i\n",
        "#     img = image.load_img(path, target_size=(150, 150))\n",
        "#     x = image.img_to_array(img)\n",
        "#     x = np.expand_dims(x, axis=0)\n",
        "    \n",
        "#     images = np.vstack([x])\n",
        "#     classes = model.predict(images, batch_size=10)\n",
        "#     print(path)\n",
        "#     print(classes)"
      ]
    },
    {
      "cell_type": "markdown",
      "metadata": {
        "id": "JHRufhQYJJLU"
      },
      "source": [
        "## Wrap Up\n",
        "\n",
        "That concludes this short exercise on the multi-class classifiers. You saw that with just a few changes, you were able to convert your binary classifiers to predict more classes. You used the same techniques for data and model preparation and were able to get relatively good results in just 25 epochs. For practice, you can search for other datasets (e.g. [here](https://archive.ics.uci.edu/ml/datasets.php) with more classes and revise the model to accomodate it. Try to experiment with different layers and data augmentation techniques to improve your metrics."
      ]
    }
  ],
  "metadata": {
    "accelerator": "GPU",
    "colab": {
      "collapsed_sections": [],
      "name": "C2_W4_Lab_1_multi_class_classifier.ipynb",
      "private_outputs": true,
      "provenance": []
    },
    "kernelspec": {
      "display_name": "Python 3",
      "language": "python",
      "name": "python3"
    },
    "language_info": {
      "codemirror_mode": {
        "name": "ipython",
        "version": 3
      },
      "file_extension": ".py",
      "mimetype": "text/x-python",
      "name": "python",
      "nbconvert_exporter": "python",
      "pygments_lexer": "ipython3",
      "version": "3.7.4"
    }
  },
  "nbformat": 4,
  "nbformat_minor": 0
}