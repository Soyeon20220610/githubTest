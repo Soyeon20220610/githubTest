{
  "cells": [
    {
      "cell_type": "markdown",
      "metadata": {
        "id": "SFCO5vdZdHgz"
      },
      "source": [
        "<a href=\"https://colab.research.google.com/github/https-deeplearning-ai/tensorflow-1-public/blob/master/C3/W3/ungraded_labs/C3_W3_Lab_6_sarcasm_with_1D_convolutional.ipynb\" target=\"_parent\"><img src=\"https://colab.research.google.com/assets/colab-badge.svg\" alt=\"Open In Colab\"/></a>"
      ]
    },
    {
      "cell_type": "markdown",
      "metadata": {
        "id": "YEdilk144fzb"
      },
      "source": [
        "# Ungraded Lab: Training a Sarcasm Detection Model using a Convolution Layer\n",
        "\n",
        "You will be doing the same steps here as the previous lab but will be using a convolution layer instead. As usual, try tweaking the parameters and observe how it affects the results. \n"
      ]
    },
    {
      "cell_type": "markdown",
      "metadata": {
        "id": "pmokcpHc5u1R"
      },
      "source": [
        "## Download the Dataset"
      ]
    },
    {
      "cell_type": "code",
      "execution_count": null,
      "metadata": {
        "id": "dxezdGoV29Yz"
      },
      "outputs": [],
      "source": [
        "# Download the dataset\n",
        "!wget https://storage.googleapis.com/tensorflow-1-public/course3/sarcasm.json"
      ]
    },
    {
      "cell_type": "code",
      "execution_count": null,
      "metadata": {
        "id": "BTcGA2Po2_nN"
      },
      "outputs": [],
      "source": [
        "import json\n",
        "\n",
        "# Load the JSON file\n",
        "with open(\"./sarcasm.json\", 'r') as f:\n",
        "    datastore = json.load(f)\n",
        "\n",
        "# Initialize the lists\n",
        "sentences = []\n",
        "labels = []\n",
        "\n",
        "# Collect sentences and labels into the lists\n",
        "for item in datastore:\n",
        "    sentences.append(item['headline'])\n",
        "    labels.append(item['is_sarcastic'])"
      ]
    },
    {
      "cell_type": "markdown",
      "metadata": {
        "id": "F2zXSds45s2P"
      },
      "source": [
        "## Split the Dataset"
      ]
    },
    {
      "cell_type": "code",
      "execution_count": null,
      "metadata": {
        "id": "baDwTn9S3ENB"
      },
      "outputs": [],
      "source": [
        "training_size = 20000\n",
        "\n",
        "# Split the sentences\n",
        "training_sentences = sentences[0:training_size]\n",
        "testing_sentences = sentences[training_size:]\n",
        "\n",
        "# Split the labels\n",
        "training_labels = labels[0:training_size]\n",
        "testing_labels = labels[training_size:]"
      ]
    },
    {
      "cell_type": "markdown",
      "metadata": {
        "id": "NdpLY-or5pTP"
      },
      "source": [
        "## Data preprocessing"
      ]
    },
    {
      "cell_type": "code",
      "execution_count": null,
      "metadata": {
        "id": "RHjZR4oi3LOq"
      },
      "outputs": [],
      "source": [
        "import numpy as np\n",
        "from tensorflow.keras.preprocessing.text import Tokenizer\n",
        "from tensorflow.keras.preprocessing.sequence import pad_sequences\n",
        "\n",
        "vocab_size = 10000\n",
        "max_length = 120\n",
        "trunc_type='post'\n",
        "padding_type='post'\n",
        "oov_tok = \"<OOV>\"\n",
        "\n",
        "# Initialize the Tokenizer class\n",
        "tokenizer = Tokenizer(num_words=vocab_size, oov_token=oov_tok)\n",
        "\n",
        "# Generate the word index dictionary\n",
        "tokenizer.fit_on_texts(training_sentences)\n",
        "word_index = tokenizer.word_index\n",
        "\n",
        "# Generate and pad the training sequences\n",
        "training_sequences = tokenizer.texts_to_sequences(training_sentences)\n",
        "training_padded = pad_sequences(training_sequences, maxlen=max_length, padding=padding_type, truncating=trunc_type)\n",
        "\n",
        "# Generate and pad the testing sequences\n",
        "testing_sequences = tokenizer.texts_to_sequences(testing_sentences)\n",
        "testing_padded = pad_sequences(testing_sequences, maxlen=max_length, padding=padding_type, truncating=trunc_type)\n",
        "\n",
        "# Convert the labels lists into numpy arrays\n",
        "training_labels = np.array(training_labels)\n",
        "testing_labels = np.array(testing_labels)"
      ]
    },
    {
      "cell_type": "markdown",
      "metadata": {
        "id": "HQBjPv_A5m1x"
      },
      "source": [
        "## Build and Compile the Model"
      ]
    },
    {
      "cell_type": "code",
      "execution_count": null,
      "metadata": {
        "id": "jGwXGIXvFhXW"
      },
      "outputs": [],
      "source": [
        "import tensorflow as tf\n",
        "\n",
        "# Parameters\n",
        "embedding_dim = 16\n",
        "filters = 128\n",
        "kernel_size = 5\n",
        "dense_dim = 6\n",
        "\n",
        "# Model Definition with Conv1D\n",
        "model_conv = tf.keras.Sequential([\n",
        "    tf.keras.layers.Embedding(vocab_size, embedding_dim, input_length=max_length),\n",
        "    tf.keras.layers.Conv1D(filters, kernel_size, activation='relu'),\n",
        "    tf.keras.layers.GlobalMaxPooling1D(),\n",
        "    tf.keras.layers.Dense(dense_dim, activation='relu'),\n",
        "    tf.keras.layers.Dense(1, activation='sigmoid')\n",
        "])\n",
        "\n",
        "# Set the training parameters\n",
        "model_conv.compile(loss='binary_crossentropy',optimizer='adam',metrics=['accuracy'])\n",
        "\n",
        "# Print the model summary\n",
        "model_conv.summary()"
      ]
    },
    {
      "cell_type": "code",
      "source": [
        "\n",
        "# import tensorflow as tf\n",
        "\n",
        "# # Parameters\n",
        "# embedding_dim = 16\n",
        "# filters = 128\n",
        "# kernel_size = 5\n",
        "# dense_dim = 6\n",
        "\n",
        "# # Model Definition with Conv1D\n",
        "# model_conv = tf.keras.Sequential([\n",
        "\n",
        "# Model: \"sequential\"\n",
        "# _________________________________________________________________\n",
        "#  Layer (type)                Output Shape              Param #   \n",
        "# =================================================================\n",
        "#  embedding (Embedding)       (None, 120, 16)           160000    \n",
        "                                                                 \n",
        "#  conv1d (Conv1D)             (None, 116, 128)          10368     \n",
        "                                                                 \n",
        "#  global_max_pooling1d (Globa  (None, 128)              0         \n",
        "#  lMaxPooling1D)                                                  \n",
        "                                                                 \n",
        "#  dense (Dense)               (None, 6)                 774       \n",
        "                                                                 \n",
        "#  dense_1 (Dense)             (None, 1)                 7         \n",
        "                                                                 \n",
        "# =================================================================\n",
        "# Total params: 171,149\n",
        "# Trainable params: 171,149\n",
        "# Non-trainable params: 0\n",
        "# _________________________________________________________________"
      ],
      "metadata": {
        "id": "K12nflLMeK0h"
      },
      "execution_count": null,
      "outputs": []
    },
    {
      "cell_type": "markdown",
      "metadata": {
        "id": "PcXC5QG45kM7"
      },
      "source": [
        "## Train the Model"
      ]
    },
    {
      "cell_type": "code",
      "execution_count": null,
      "metadata": {
        "id": "oB6C55FO3z3q"
      },
      "outputs": [],
      "source": [
        "NUM_EPOCHS = 10\n",
        "\n",
        "# Train the model\n",
        "history_conv = model_conv.fit(training_padded, training_labels, epochs=NUM_EPOCHS, validation_data=(testing_padded, testing_labels))"
      ]
    },
    {
      "cell_type": "code",
      "source": [
        "# Epoch 10/10\n",
        "# 625/625 [==============================] - 10s 15ms/step - loss: 0.0014 - accuracy: 0.9995 - val_loss: 1.0698 - val_accuracy: 0.8334"
      ],
      "metadata": {
        "id": "uthQcrpfeMjC"
      },
      "execution_count": null,
      "outputs": []
    },
    {
      "cell_type": "code",
      "execution_count": null,
      "metadata": {
        "id": "g9DC6dmLF8DC"
      },
      "outputs": [],
      "source": [
        "import matplotlib.pyplot as plt\n",
        "\n",
        "# Plot Utility\n",
        "def plot_graphs(history, string):\n",
        "  plt.plot(history.history[string])\n",
        "  plt.plot(history.history['val_'+string])\n",
        "  plt.xlabel(\"Epochs\")\n",
        "  plt.ylabel(string)\n",
        "  plt.legend([string, 'val_'+string])\n",
        "  plt.show()\n",
        "\n",
        "# Plot the accuracy and loss history\n",
        "plot_graphs(history_conv, 'accuracy')\n",
        "plot_graphs(history_conv, 'loss')"
      ]
    },
    {
      "cell_type": "markdown",
      "source": [
        "![image.png](data:image/png;base64,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)"
      ],
      "metadata": {
        "id": "evFst87PeSxt"
      }
    },
    {
      "cell_type": "markdown",
      "source": [
        "![image.png](data:image/png;base64,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)"
      ],
      "metadata": {
        "id": "HtwmVt3xeUTj"
      }
    },
    {
      "cell_type": "code",
      "source": [
        ""
      ],
      "metadata": {
        "id": "FsEQB_9QeSf2"
      },
      "execution_count": null,
      "outputs": []
    }
  ],
  "metadata": {
    "colab": {
      "collapsed_sections": [],
      "name": "C3_W3_Lab_6_sarcasm_with_1D_convolutional.ipynb",
      "private_outputs": true,
      "provenance": []
    },
    "kernelspec": {
      "display_name": "Python 3",
      "language": "python",
      "name": "python3"
    },
    "language_info": {
      "codemirror_mode": {
        "name": "ipython",
        "version": 3
      },
      "file_extension": ".py",
      "mimetype": "text/x-python",
      "name": "python",
      "nbconvert_exporter": "python",
      "pygments_lexer": "ipython3",
      "version": "3.7.4"
    }
  },
  "nbformat": 4,
  "nbformat_minor": 0
}