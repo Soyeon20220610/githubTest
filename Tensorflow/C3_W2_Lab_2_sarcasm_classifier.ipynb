{
  "cells": [
    {
      "cell_type": "markdown",
      "metadata": {
        "id": "L8aUx_lnCgtn"
      },
      "source": [
        "<a href=\"https://colab.research.google.com/github/https-deeplearning-ai/tensorflow-1-public/blob/master/C3/W2/ungraded_labs/C3_W2_Lab_2_sarcasm_classifier.ipynb\" target=\"_parent\"><img src=\"https://colab.research.google.com/assets/colab-badge.svg\" alt=\"Open In Colab\"/></a>"
      ]
    },
    {
      "cell_type": "markdown",
      "metadata": {
        "id": "ZfVtdwryvvP6"
      },
      "source": [
        "# Ungraded Lab: Training a binary classifier with the Sarcasm Dataset\n",
        "\n",
        "In this lab, you will revisit the [News Headlines Dataset for Sarcasm Detection](https://www.kaggle.com/rmisra/news-headlines-dataset-for-sarcasm-detection/home) from last week and proceed to build a train a model on it. The steps will be very similar to the previous lab with IMDB Reviews with just some minor modifications. You can tweak the hyperparameters and see how it affects the results. Let's begin!"
      ]
    },
    {
      "cell_type": "markdown",
      "metadata": {
        "id": "aWIM6gplHqfx"
      },
      "source": [
        "## Download the dataset\n",
        "\n",
        "You will first download the JSON file, load it into your workspace and put the sentences and labels into lists. "
      ]
    },
    {
      "cell_type": "code",
      "execution_count": null,
      "metadata": {
        "id": "BQVuQrZNkPn9"
      },
      "outputs": [],
      "source": [
        "# Download the dataset\n",
        "!wget https://storage.googleapis.com/tensorflow-1-public/course3/sarcasm.json"
      ]
    },
    {
      "cell_type": "code",
      "execution_count": null,
      "metadata": {
        "id": "oaLaaqhNkUPd"
      },
      "outputs": [],
      "source": [
        "import json\n",
        "\n",
        "# Load the JSON file\n",
        "with open(\"./sarcasm.json\", 'r') as f:\n",
        "    datastore = json.load(f)\n",
        "\n",
        "# Initialize the lists\n",
        "sentences = []\n",
        "labels = []\n",
        "\n",
        "# Collect sentences and labels into the lists\n",
        "for item in datastore:\n",
        "    sentences.append(item['headline'])\n",
        "    labels.append(item['is_sarcastic'])"
      ]
    },
    {
      "cell_type": "markdown",
      "metadata": {
        "id": "kw1I6oNSfCxa"
      },
      "source": [
        "## Hyperparameters\n",
        "\n",
        "We placed the hyperparameters in the cell below so you can easily tweak it later:"
      ]
    },
    {
      "cell_type": "code",
      "execution_count": null,
      "metadata": {
        "id": "wpF4x5olfHX-"
      },
      "outputs": [],
      "source": [
        "# Number of examples to use for training\n",
        "training_size = 20000\n",
        "\n",
        "# Vocabulary size of the tokenizer\n",
        "vocab_size = 10000\n",
        "\n",
        "# Maximum length of the padded sequences\n",
        "max_length = 32\n",
        "\n",
        "# Output dimensions of the Embedding layer\n",
        "embedding_dim = 16"
      ]
    },
    {
      "cell_type": "markdown",
      "metadata": {
        "id": "dHibcDI0H5Zj"
      },
      "source": [
        "## Split the dataset\n",
        "\n",
        "Next, you will generate your train and test datasets. You will use the `training_size` value you set above to slice the `sentences` and `labels` lists into two sublists: one fore training and another for testing."
      ]
    },
    {
      "cell_type": "code",
      "execution_count": null,
      "metadata": {
        "id": "S1sD-7v0kYWk"
      },
      "outputs": [],
      "source": [
        "# Split the sentences\n",
        "training_sentences = sentences[0:training_size]\n",
        "testing_sentences = sentences[training_size:]\n",
        "\n",
        "# Split the labels\n",
        "training_labels = labels[0:training_size]\n",
        "testing_labels = labels[training_size:]"
      ]
    },
    {
      "cell_type": "markdown",
      "metadata": {
        "id": "qciTzNR7IHzJ"
      },
      "source": [
        "## Preprocessing the train and test sets\n",
        "\n",
        "Now you can preprocess the text and labels so it can be consumed by the model. You use the `Tokenizer` class to create the vocabulary and the `pad_sequences` method to generate padded token sequences. You will also need to set the labels to a numpy array so it can be a valid data type for `model.fit()`."
      ]
    },
    {
      "cell_type": "code",
      "execution_count": null,
      "metadata": {
        "id": "3u8UB0MCkZ5N"
      },
      "outputs": [],
      "source": [
        "import numpy as np\n",
        "from tensorflow.keras.preprocessing.text import Tokenizer\n",
        "from tensorflow.keras.preprocessing.sequence import pad_sequences\n",
        "\n",
        "# Parameters for padding and OOV tokens\n",
        "trunc_type='post'\n",
        "padding_type='post'\n",
        "oov_tok = \"<OOV>\"\n",
        "\n",
        "# Initialize the Tokenizer class\n",
        "tokenizer = Tokenizer(num_words=vocab_size, oov_token=oov_tok)\n",
        "\n",
        "# Generate the word index dictionary\n",
        "tokenizer.fit_on_texts(training_sentences)\n",
        "word_index = tokenizer.word_index\n",
        "\n",
        "# Generate and pad the training sequences\n",
        "training_sequences = tokenizer.texts_to_sequences(training_sentences)\n",
        "training_padded = pad_sequences(training_sequences, maxlen=max_length, padding=padding_type, truncating=trunc_type)\n",
        "\n",
        "# Generate and pad the testing sequences\n",
        "testing_sequences = tokenizer.texts_to_sequences(testing_sentences)\n",
        "testing_padded = pad_sequences(testing_sequences, maxlen=max_length, padding=padding_type, truncating=trunc_type)\n",
        "\n",
        "# Convert the labels lists into numpy arrays\n",
        "training_labels = np.array(training_labels)\n",
        "testing_labels = np.array(testing_labels)"
      ]
    },
    {
      "cell_type": "markdown",
      "metadata": {
        "id": "AMF4afx2IdHo"
      },
      "source": [
        "## Build and Compile the Model\n",
        "\n",
        "Next, you will build the model. The architecture is similar to the previous lab but you will use a [GlobalAveragePooling1D](https://www.tensorflow.org/api_docs/python/tf/keras/layers/GlobalAveragePooling1D) layer instead of `Flatten` after the Embedding. This adds the task of averaging over the sequence dimension before connecting to the dense layers. See a short demo of how this works using the snippet below. Notice that it gets the average over 3 arrays (i.e. `(10 + 1 + 1) / 3` and `(2 + 3 + 1) / 3` to arrive at the final output."
      ]
    },
    {
      "cell_type": "code",
      "execution_count": null,
      "metadata": {
        "id": "7KDCvSc0kFOz"
      },
      "outputs": [],
      "source": [
        "import tensorflow as tf\n",
        "\n",
        "# Initialize a GlobalAveragePooling1D (GAP1D) layer\n",
        "gap1d_layer = tf.keras.layers.GlobalAveragePooling1D()\n",
        "\n",
        "# Define sample array\n",
        "sample_array = np.array([[[10,2],[1,3],[1,1]]])\n",
        "\n",
        "# Print shape and contents of sample array\n",
        "print(f'shape of sample_array = {sample_array.shape}')\n",
        "print(f'sample array: {sample_array}')\n",
        "\n",
        "# Pass the sample array to the GAP1D layer\n",
        "output = gap1d_layer(sample_array)\n",
        "\n",
        "# Print shape and contents of the GAP1D output array\n",
        "print(f'output shape of gap1d_layer: {output.shape}')\n",
        "print(f'output array of gap1d_layer: {output.numpy()}')"
      ]
    },
    {
      "cell_type": "code",
      "source": [
        "# shape of sample_array = (1, 3, 2)\n",
        "# sample array: [[[10  2]\n",
        "#   [ 1  3]\n",
        "#   [ 1  1]]]\n",
        "# output shape of gap1d_layer: (1, 2)\n",
        "# output array of gap1d_layer: [[4 2]]"
      ],
      "metadata": {
        "id": "AzIupsj8EUIX"
      },
      "execution_count": null,
      "outputs": []
    },
    {
      "cell_type": "markdown",
      "metadata": {
        "id": "evlU_kqOshc4"
      },
      "source": [
        "This added computation reduces the dimensionality of the model as compared to using `Flatten()` and thus, the number of training parameters will also decrease. See the output of `model.summary()` below and see how it compares if you swap out the pooling layer with a simple `Flatten()`."
      ]
    },
    {
      "cell_type": "code",
      "execution_count": null,
      "metadata": {
        "id": "FufaT4vlkiDE"
      },
      "outputs": [],
      "source": [
        "# This added computation reduces the dimensionality of the model as compared to using Flatten() and thus, the number of training parameters will also decrease\n",
        "# Build the model\n",
        "model = tf.keras.Sequential([\n",
        "    tf.keras.layers.Embedding(vocab_size, embedding_dim, input_length=max_length),\n",
        "    tf.keras.layers.GlobalAveragePooling1D(),\n",
        "    tf.keras.layers.Dense(24, activation='relu'),\n",
        "    tf.keras.layers.Dense(1, activation='sigmoid')\n",
        "])\n",
        "\n",
        "# Print the model summary\n",
        "model.summary()\n",
        "\n",
        "# Model: \"sequential\"\n",
        "# _________________________________________________________________\n",
        "#  Layer (type)                Output Shape              Param #   \n",
        "# =================================================================\n",
        "#  embedding (Embedding)       (None, 32, 16)            160000    \n",
        "                                                                 \n",
        "#  global_average_pooling1d_1   (None, 16)               0         \n",
        "#  (GlobalAveragePooling1D)                                        \n",
        "                                                                 \n",
        "#  dense (Dense)               (None, 24)                408       \n",
        "                                                                 \n",
        "#  dense_1 (Dense)             (None, 1)                 25        \n",
        "                                                                 \n",
        "# =================================================================\n",
        "# Total params: 160,433\n",
        "# Trainable params: 160,433\n",
        "# Non-trainable params: 0\n",
        "# _________________________________________________________________"
      ]
    },
    {
      "cell_type": "markdown",
      "metadata": {
        "id": "GMxT5NzKtRgr"
      },
      "source": [
        "You will use the same loss, optimizer, and metrics from the previous lab."
      ]
    },
    {
      "cell_type": "code",
      "execution_count": null,
      "metadata": {
        "id": "XfDt1hmYkiys"
      },
      "outputs": [],
      "source": [
        "# Compile the model\n",
        "model.compile(loss='binary_crossentropy',optimizer='adam',metrics=['accuracy'])"
      ]
    },
    {
      "cell_type": "markdown",
      "metadata": {
        "id": "Axtd-WQAJIUK"
      },
      "source": [
        "## Train the Model\n",
        "\n",
        "Now you will feed in the prepared datasets to train the model. If you used the default hyperparameters, you will get around 99% training accuracy and 80% validation accuracy.\n",
        "\n",
        "*Tip: You can set the `verbose` parameter of `model.fit()` to `2` to indicate that you want to print just the results per epoch. Setting it to `1` (default) displays a progress bar per epoch, while `0` silences all displays. It doesn't matter much in this Colab but when working in a production environment, you may want to set this to `2` as recommended in the [documentation](https://keras.io/api/models/model_training_apis/#fit-method).*"
      ]
    },
    {
      "cell_type": "code",
      "execution_count": null,
      "metadata": {
        "id": "2DTKQFf1kkyc"
      },
      "outputs": [],
      "source": [
        "num_epochs = 30\n",
        "\n",
        "# Train the model\n",
        "history = model.fit(training_padded, training_labels, epochs=num_epochs, validation_data=(testing_padded, testing_labels), verbose=2)"
      ]
    },
    {
      "cell_type": "markdown",
      "metadata": {
        "id": "L_bWhGOSJLLm"
      },
      "source": [
        "## Visualize the Results\n",
        "\n",
        "You can use the cell below to plot the training results. You may notice some overfitting because your validation accuracy is slowly dropping while the training accuracy is still going up. See if you can improve it by tweaking the hyperparameters. Some example values are shown in the lectures."
      ]
    },
    {
      "cell_type": "code",
      "execution_count": null,
      "metadata": {
        "id": "2HYfBKXjkmU8"
      },
      "outputs": [],
      "source": [
        "import matplotlib.pyplot as plt\n",
        "\n",
        "# Plot utility\n",
        "def plot_graphs(history, string):\n",
        "  plt.plot(history.history[string])\n",
        "  plt.plot(history.history['val_'+string])\n",
        "  plt.xlabel(\"Epochs\")\n",
        "  plt.ylabel(string)\n",
        "  plt.legend([string, 'val_'+string])\n",
        "  plt.show()\n",
        "  \n",
        "# Plot the accuracy and loss\n",
        "plot_graphs(history, \"accuracy\")\n",
        "plot_graphs(history, \"loss\")"
      ]
    },
    {
      "cell_type": "markdown",
      "source": [
        "![image.png](data:image/png;base64,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)\n",
        "\n",
        "![image.png](data:image/png;base64,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)"
      ],
      "metadata": {
        "id": "6f5ApO0xEnkV"
      }
    },
    {
      "cell_type": "markdown",
      "metadata": {
        "id": "JN6kaxxcJQgd"
      },
      "source": [
        "## Visualize Word Embeddings\n",
        "\n",
        "As before, you can visualize the final weights of the embeddings using the [Tensorflow Embedding Projector](https://projector.tensorflow.org/)."
      ]
    },
    {
      "cell_type": "code",
      "execution_count": null,
      "metadata": {
        "id": "c9MqihtEkzQ9"
      },
      "outputs": [],
      "source": [
        "# Get the index-word dictionary\n",
        "reverse_word_index = tokenizer.index_word\n",
        "\n",
        "# Get the embedding layer from the model (i.e. first layer)\n",
        "embedding_layer = model.layers[0]\n",
        "\n",
        "# Get the weights of the embedding layer\n",
        "embedding_weights = embedding_layer.get_weights()[0]\n",
        "\n",
        "# Print the shape. Expected is (vocab_size, embedding_dim)\n",
        "print(embedding_weights.shape) \n"
      ]
    },
    {
      "cell_type": "code",
      "execution_count": null,
      "metadata": {
        "id": "LoBXVffknldU"
      },
      "outputs": [],
      "source": [
        "import io\n",
        "\n",
        "# Open writeable files\n",
        "out_v = io.open('vecs.tsv', 'w', encoding='utf-8')\n",
        "out_m = io.open('meta.tsv', 'w', encoding='utf-8')\n",
        "\n",
        "# Initialize the loop. Start counting at `1` because `0` is just for the padding\n",
        "for word_num in range(1, vocab_size):\n",
        "\n",
        "  # Get the word associated at the current index\n",
        "  word_name = reverse_word_index[word_num]\n",
        "\n",
        "  # Get the embedding weights associated with the current index\n",
        "  word_embedding = embedding_weights[word_num]\n",
        "\n",
        "  # Write the word name\n",
        "  out_m.write(word_name + \"\\n\")\n",
        "\n",
        "  # Write the word embedding\n",
        "  out_v.write('\\t'.join([str(x) for x in word_embedding]) + \"\\n\")\n",
        "\n",
        "# Close the files\n",
        "out_v.close()\n",
        "out_m.close()"
      ]
    },
    {
      "cell_type": "code",
      "execution_count": null,
      "metadata": {
        "id": "U4eZ5HtVnnEE"
      },
      "outputs": [],
      "source": [
        "# Import files utilities in Colab\n",
        "try:\n",
        "  from google.colab import files\n",
        "except ImportError:\n",
        "  pass\n",
        "\n",
        "# Download the files\n",
        "else:\n",
        "  files.download('vecs.tsv')\n",
        "  files.download('meta.tsv')"
      ]
    },
    {
      "cell_type": "markdown",
      "metadata": {
        "id": "1GierJvdJWMt"
      },
      "source": [
        "## Wrap Up\n",
        "\n",
        "In this lab, you were able to build a binary classifier to detect sarcasm. You saw some overfitting in the initial attempt and hopefully, you were able to arrive at a better set of hyperparameters.\n",
        "\n",
        "So far, you've been tokenizing datasets from scratch and you're treating the vocab size as a hyperparameter. Furthermore, you're tokenizing the texts by building a vocabulary of full words. In the next lab, you will make use of a pre-tokenized dataset that uses a vocabulary of *subwords*. For instance, instead of having a uniqe token for the word `Tensorflow`, it will instead have a token each for `Ten`, `sor`, and `flow`. You will see the motivation and implications of having this design in the next exercise. See you there!"
      ]
    }
  ],
  "metadata": {
    "colab": {
      "collapsed_sections": [],
      "name": "C3_W2_Lab_2_sarcasm_classifier.ipynb",
      "private_outputs": true,
      "provenance": [],
      "toc_visible": true
    },
    "kernelspec": {
      "display_name": "Python 3",
      "language": "python",
      "name": "python3"
    },
    "language_info": {
      "codemirror_mode": {
        "name": "ipython",
        "version": 3
      },
      "file_extension": ".py",
      "mimetype": "text/x-python",
      "name": "python",
      "nbconvert_exporter": "python",
      "pygments_lexer": "ipython3",
      "version": "3.7.4"
    }
  },
  "nbformat": 4,
  "nbformat_minor": 0
}