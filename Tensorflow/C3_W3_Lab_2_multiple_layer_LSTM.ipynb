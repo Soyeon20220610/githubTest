{
  "cells": [
    {
      "cell_type": "markdown",
      "metadata": {
        "id": "5cwMfJjB5Dgm"
      },
      "source": [
        "<a href=\"https://colab.research.google.com/github/https-deeplearning-ai/tensorflow-1-public/blob/master/C3/W3/ungraded_labs/C3_W3_Lab_2_multiple_layer_LSTM.ipynb\" target=\"_parent\"><img src=\"https://colab.research.google.com/assets/colab-badge.svg\" alt=\"Open In Colab\"/></a>"
      ]
    },
    {
      "cell_type": "markdown",
      "metadata": {
        "id": "rFiCyWQ-NC5D"
      },
      "source": [
        "# Ungraded Lab: Multiple LSTMs\n",
        "\n",
        "In this lab, you will look at how to build a model with multiple LSTM layers. Since you know the preceding steps already (e.g. downloading datasets, preparing the data, etc.), we won't expound on it anymore so you can just focus on the model building code."
      ]
    },
    {
      "cell_type": "markdown",
      "metadata": {
        "id": "xqmDNHeByJqr"
      },
      "source": [
        "## Download and Prepare the Dataset"
      ]
    },
    {
      "cell_type": "code",
      "execution_count": null,
      "metadata": {
        "id": "AW-4Vo4TMUHb"
      },
      "outputs": [],
      "source": [
        "import tensorflow_datasets as tfds\n",
        "\n",
        "# Download the subword encoded pretokenized dataset\n",
        "dataset, info = tfds.load('imdb_reviews/subwords8k', with_info=True, as_supervised=True)\n",
        "\n",
        "# Get the tokenizer\n",
        "tokenizer = info.features['text'].encoder"
      ]
    },
    {
      "cell_type": "markdown",
      "metadata": {
        "id": "fF8bUh_5Ff7y"
      },
      "source": [
        "Like the previous lab, we increased the `BATCH_SIZE` here to make the training faster. If you are doing this on your local machine and have a powerful processor, feel free to use the value used in the lecture (i.e. 64) to get the same results as Laurence."
      ]
    },
    {
      "cell_type": "code",
      "execution_count": null,
      "metadata": {
        "id": "ffvRUI0_McDS"
      },
      "outputs": [],
      "source": [
        "BUFFER_SIZE = 10000\n",
        "BATCH_SIZE = 256    # 숫자 클수록 부정확해지지만, 속도 빨라짐\n",
        "\n",
        "# Get the train and test splits\n",
        "train_data, test_data = dataset['train'], dataset['test'], \n",
        "\n",
        "# Shuffle the training data\n",
        "train_dataset = train_data.shuffle(BUFFER_SIZE)\n",
        "\n",
        "# Batch and pad the datasets to the maximum length of the sequences\n",
        "train_dataset = train_dataset.padded_batch(BATCH_SIZE)\n",
        "test_dataset = test_data.padded_batch(BATCH_SIZE)"
      ]
    },
    {
      "cell_type": "markdown",
      "metadata": {
        "id": "xcZEiG9ayNZr"
      },
      "source": [
        "## Build and Compile the Model\n",
        "\n",
        "You can build multiple layer LSTM models by simply appending another `LSTM` layer in your `Sequential` model and enabling the `return_sequences` flag to `True`. This is because an `LSTM` layer expects a sequence input so if the previous layer is also an LSTM, then it should output a sequence as well. See the code cell below that demonstrates this flag in action. You'll notice that the output dimension is in 3 dimensions `(batch_size, timesteps, features)` when when `return_sequences` is True."
      ]
    },
    {
      "cell_type": "code",
      "execution_count": null,
      "metadata": {
        "id": "18MsI2LU75kH"
      },
      "outputs": [],
      "source": [
        "import tensorflow as tf\n",
        "import numpy as np\n",
        "\n",
        "# Hyperparameters\n",
        "batch_size = 1\n",
        "timesteps = 20\n",
        "features = 16\n",
        "lstm_dim = 8\n",
        "\n",
        "print(f'batch_size: {batch_size}')\n",
        "print(f'timesteps (sequence length): {timesteps}')\n",
        "print(f'features (embedding size): {features}')\n",
        "print(f'lstm output units: {lstm_dim}')\n",
        "\n",
        "# Define array input with random values\n",
        "random_input = np.random.rand(batch_size,timesteps,features)\n",
        "print(f'shape of input array: {random_input.shape}')\n",
        "\n",
        "# Define LSTM that returns a single output\n",
        "lstm = tf.keras.layers.LSTM(lstm_dim)\n",
        "result = lstm(random_input)\n",
        "print(f'shape of lstm output(return_sequences=False): {result.shape}')\n",
        "\n",
        "# Define LSTM that returns a sequence\n",
        "lstm_rs = tf.keras.layers.LSTM(lstm_dim, return_sequences=True)\n",
        "result = lstm_rs(random_input)\n",
        "print(f'shape of lstm output(return_sequences=True): {result.shape}')"
      ]
    },
    {
      "cell_type": "code",
      "source": [
        "# batch_size: 1\n",
        "# timesteps (sequence length): 20\n",
        "# features (embedding size): 16\n",
        "# lstm output units: 8\n",
        "# shape of input array: (1, 20, 16)\n",
        "# shape of lstm output(return_sequences=False): (1, 8)\n",
        "# shape of lstm output(return_sequences=True): (1, 20, 8)"
      ],
      "metadata": {
        "id": "f3VPLLzB7KfY"
      },
      "execution_count": null,
      "outputs": []
    },
    {
      "cell_type": "markdown",
      "metadata": {
        "id": "6Was3BX6_50C"
      },
      "source": [
        "The next cell implements the stacked LSTM architecture."
      ]
    },
    {
      "cell_type": "code",
      "execution_count": null,
      "metadata": {
        "id": "VPNwU1SVyTjm"
      },
      "outputs": [],
      "source": [
        "import tensorflow as tf\n",
        "\n",
        "# Hyperparameters\n",
        "embedding_dim = 64\n",
        "lstm1_dim = 64\n",
        "lstm2_dim = 32\n",
        "dense_dim = 64\n",
        "\n",
        "# Build the model\n",
        "model = tf.keras.Sequential([\n",
        "    tf.keras.layers.Embedding(tokenizer.vocab_size, embedding_dim),\n",
        "    tf.keras.layers.Bidirectional(tf.keras.layers.LSTM(lstm1_dim, return_sequences=True)),\n",
        "    tf.keras.layers.Bidirectional(tf.keras.layers.LSTM(lstm2_dim)),\n",
        "    tf.keras.layers.Dense(dense_dim, activation='relu'),\n",
        "    tf.keras.layers.Dense(1, activation='sigmoid')\n",
        "])\n",
        "\n",
        "# Print the model summary\n",
        "model.summary()"
      ]
    },
    {
      "cell_type": "code",
      "source": [
        "# Model: \"sequential\"\n",
        "# _________________________________________________________________\n",
        "#  Layer (type)                Output Shape              Param #   \n",
        "# =================================================================\n",
        "#  embedding (Embedding)       (None, None, 64)          523840    \n",
        "                                                                 \n",
        "#  bidirectional (Bidirectiona  (None, None, 128)        66048     \n",
        "#  l)                                                              \n",
        "                                                                 \n",
        "#  bidirectional_1 (Bidirectio  (None, 64)               41216     \n",
        "#  nal)                                                            \n",
        "                                                                 \n",
        "#  dense (Dense)               (None, 64)                4160      \n",
        "                                                                 \n",
        "#  dense_1 (Dense)             (None, 1)                 65        \n",
        "                                                                 \n",
        "# =================================================================\n",
        "# Total params: 635,329\n",
        "# Trainable params: 635,329\n",
        "# Non-trainable params: 0\n",
        "# _________________________________________________________________"
      ],
      "metadata": {
        "id": "EE8mTwgx7MU-"
      },
      "execution_count": null,
      "outputs": []
    },
    {
      "cell_type": "code",
      "execution_count": null,
      "metadata": {
        "id": "Uip7QOVzMoMq"
      },
      "outputs": [],
      "source": [
        "# Set the training parameters\n",
        "model.compile(loss='binary_crossentropy', optimizer='adam', metrics=['accuracy'])"
      ]
    },
    {
      "cell_type": "markdown",
      "metadata": {
        "id": "uh39GlZP79DY"
      },
      "source": [
        "## Train the Model\n",
        "\n",
        "The additional LSTM layer will lengthen the training time compared to the previous lab. Given the default parameters we set, it will take around 2 minutes per epoch with the Colab GPU enabled. "
      ]
    },
    {
      "cell_type": "code",
      "execution_count": null,
      "metadata": {
        "id": "7mlgzaRDMtF6"
      },
      "outputs": [],
      "source": [
        "NUM_EPOCHS = 10\n",
        "\n",
        "# Train the model\n",
        "history = model.fit(train_dataset, epochs=NUM_EPOCHS, validation_data=test_dataset)"
      ]
    },
    {
      "cell_type": "code",
      "source": [
        "# Epoch 1/10\n",
        "# 98/98 [==============================] - 52s 442ms/step - loss: 0.5840 - accuracy: 0.6704 - val_loss: 0.4743 - val_accuracy: 0.7842\n",
        "# Epoch 2/10\n",
        "# 98/98 [==============================] - 43s 432ms/step - loss: 0.4186 - accuracy: 0.8110 - val_loss: 0.4121 - val_accuracy: 0.8342\n",
        "# Epoch 3/10\n",
        "# 98/98 [==============================] - 43s 434ms/step - loss: 0.3053 - accuracy: 0.8824 - val_loss: 0.4493 - val_accuracy: 0.8364\n",
        "# Epoch 4/10\n",
        "# 98/98 [==============================] - 43s 434ms/step - loss: 0.2912 - accuracy: 0.8914 - val_loss: 0.4503 - val_accuracy: 0.8037\n",
        "# Epoch 5/10\n",
        "# 98/98 [==============================] - 43s 437ms/step - loss: 0.2579 - accuracy: 0.9022 - val_loss: 0.4032 - val_accuracy: 0.8306\n",
        "# Epoch 6/10\n",
        "# 98/98 [==============================] - 43s 437ms/step - loss: 0.2044 - accuracy: 0.9262 - val_loss: 0.4467 - val_accuracy: 0.8136\n",
        "# Epoch 7/10\n",
        "# 98/98 [==============================] - 43s 438ms/step - loss: 0.1542 - accuracy: 0.9489 - val_loss: 0.4816 - val_accuracy: 0.8377\n",
        "# Epoch 8/10\n",
        "# 98/98 [==============================] - 43s 436ms/step - loss: 0.1045 - accuracy: 0.9682 - val_loss: 0.5627 - val_accuracy: 0.8246\n",
        "# Epoch 9/10\n",
        "# 98/98 [==============================] - 43s 436ms/step - loss: 0.0933 - accuracy: 0.9725 - val_loss: 0.6077 - val_accuracy: 0.8291\n",
        "# Epoch 10/10\n",
        "# 98/98 [==============================] - 43s 436ms/step - loss: 0.0966 - accuracy: 0.9695 - val_loss: 0.7250 - val_accuracy: 0.8244"
      ],
      "metadata": {
        "id": "mM4TOsye9DHa"
      },
      "execution_count": null,
      "outputs": []
    },
    {
      "cell_type": "code",
      "execution_count": null,
      "metadata": {
        "id": "Mp1Z7P9pYRSK"
      },
      "outputs": [],
      "source": [
        "import matplotlib.pyplot as plt\n",
        "\n",
        "# Plot utility\n",
        "def plot_graphs(history, string):\n",
        "  plt.plot(history.history[string])\n",
        "  plt.plot(history.history['val_'+string])\n",
        "  plt.xlabel(\"Epochs\")\n",
        "  plt.ylabel(string)\n",
        "  plt.legend([string, 'val_'+string])\n",
        "  plt.show()\n",
        "\n",
        "# Plot the accuracy and results \n",
        "plot_graphs(history, \"accuracy\")\n",
        "plot_graphs(history, \"loss\")"
      ]
    },
    {
      "cell_type": "markdown",
      "source": [
        "![image.png](data:image/png;base64,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)"
      ],
      "metadata": {
        "id": "P4cOIH1f9E98"
      }
    },
    {
      "cell_type": "markdown",
      "source": [
        "![image.png](data:image/png;base64,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)"
      ],
      "metadata": {
        "id": "tvLZoQ9d9Gb5"
      }
    },
    {
      "cell_type": "markdown",
      "metadata": {
        "id": "txQdN63vBlTK"
      },
      "source": [
        "## Wrap Up\n",
        "\n",
        "This lab showed how you can build deep networks by stacking LSTM layers. In the next labs, you will continue exploring other architectures you can use to implement your sentiment classification model."
      ]
    }
  ],
  "metadata": {
    "accelerator": "GPU",
    "colab": {
      "collapsed_sections": [],
      "name": "C3_W3_Lab_2_multiple_layer_LSTM.ipynb",
      "private_outputs": true,
      "provenance": []
    },
    "kernelspec": {
      "display_name": "Python 3",
      "language": "python",
      "name": "python3"
    },
    "language_info": {
      "codemirror_mode": {
        "name": "ipython",
        "version": 3
      },
      "file_extension": ".py",
      "mimetype": "text/x-python",
      "name": "python",
      "nbconvert_exporter": "python",
      "pygments_lexer": "ipython3",
      "version": "3.7.4"
    }
  },
  "nbformat": 4,
  "nbformat_minor": 0
}