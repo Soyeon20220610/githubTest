{
  "cells": [
    {
      "cell_type": "markdown",
      "metadata": {
        "id": "4k9kmGut3Pyf"
      },
      "source": [
        "<a href=\"https://colab.research.google.com/github/https-deeplearning-ai/tensorflow-1-public/blob/master/C3/W3/ungraded_labs/C3_W3_Lab_1_single_layer_LSTM.ipynb\" target=\"_parent\"><img src=\"https://colab.research.google.com/assets/colab-badge.svg\" alt=\"Open In Colab\"/></a>"
      ]
    },
    {
      "cell_type": "markdown",
      "metadata": {
        "id": "rFiCyWQ-NC5D"
      },
      "source": [
        "# Ungraded Lab: Single Layer LSTM\n",
        "\n",
        "So far in this course, you've been using mostly basic dense layers and embeddings to build your models. It detects how the combination of words (or subwords) in the input text determines the output class. In the labs this week, you will look at other layers you can use to build your models. Most of these will deal with *Recurrent Neural Networks*, a kind of model that takes the ordering of inputs into account. This makes it suitable for different applications such as parts-of-speech tagging, music composition, language translation, and the like. For example, you may want your model to differentiate sentiments even if the words used in two sentences are the same:\n",
        "\n",
        "```\n",
        "1: My friends do like the movie but I don't. --> negative review\n",
        "2: My friends don't like the movie but I do. --> positive review\n",
        "```\n",
        "\n",
        "The first layer you will be looking at is the [*LSTM (Long Short-Term Memory)*](https://www.tensorflow.org/api_docs/python/tf/keras/layers/LSTM). In a nutshell, it computes the state of a current timestep and passes it on to the next timesteps where this state is also updated. The process repeats until the final timestep where the output computation is affected by all previous states. Not only that, it can be configured to be bidirectional so you can get the relationship of later words to earlier ones. If you want to go in-depth of how these processes work, you can look at the [Sequence Models](https://www.coursera.org/learn/nlp-sequence-models) course of the Deep Learning Specialization. For this lab, you can take advantage of Tensorflow's APIs that implements the complexities of these layers for you. This makes it easy to just plug it in to your model. Let's see how to do that in the next sections below. "
      ]
    },
    {
      "cell_type": "markdown",
      "source": [
        "input text subwords들의 조합으로 outputclass 추측했다.\n",
        "RNN사용 : input의 순서를 고려한다. 문맥을 고려하는 것임."
      ],
      "metadata": {
        "id": "2loYLsuv372R"
      }
    },
    {
      "cell_type": "markdown",
      "metadata": {
        "id": "tfp2tBZYnE5b"
      },
      "source": [
        "## Download the dataset\n",
        "\n",
        "For this lab, you will use the `subwords8k` pre-tokenized [IMDB Reviews dataset](https://www.tensorflow.org/datasets/catalog/imdb_reviews). You will load it via Tensorflow Datasets as you've done last week:"
      ]
    },
    {
      "cell_type": "code",
      "execution_count": null,
      "metadata": {
        "id": "AW-4Vo4TMUHb"
      },
      "outputs": [],
      "source": [
        "import tensorflow_datasets as tfds\n",
        "\n",
        "# Download the subword encoded pretokenized dataset\n",
        "dataset, info = tfds.load('imdb_reviews/subwords8k', with_info=True, as_supervised=True)\n",
        "\n",
        "# Get the tokenizer\n",
        "tokenizer = info.features['text'].encoder"
      ]
    },
    {
      "cell_type": "markdown",
      "metadata": {
        "id": "YfL_2x3SoXeu"
      },
      "source": [
        "## Prepare the dataset\n",
        "\n",
        "You can then get the train and test splits and generate padded batches. \n",
        "\n",
        "*Note: To make the training go faster in this lab, you will increase the batch size that Laurence used in the lecture. In particular, you will use `256` and this takes roughly a minute to train per epoch. In the video, Laurence used `16` which takes around 4 minutes per epoch.*"
      ]
    },
    {
      "cell_type": "code",
      "execution_count": null,
      "metadata": {
        "id": "ffvRUI0_McDS"
      },
      "outputs": [],
      "source": [
        "BUFFER_SIZE = 10000\n",
        "BATCH_SIZE = 256\n",
        "\n",
        "# Get the train and test splits\n",
        "train_data, test_data = dataset['train'], dataset['test'], \n",
        "\n",
        "# Shuffle the training data\n",
        "train_dataset = train_data.shuffle(BUFFER_SIZE)\n",
        "\n",
        "# Batch and pad the datasets to the maximum length of the sequences\n",
        "train_dataset = train_dataset.padded_batch(BATCH_SIZE)\n",
        "test_dataset = test_data.padded_batch(BATCH_SIZE)"
      ]
    },
    {
      "cell_type": "markdown",
      "metadata": {
        "id": "4HkUeYNWoi9j"
      },
      "source": [
        "## Build and compile the model\n",
        "\n",
        "Now you will build the model. You will simply swap the `Flatten` or `GlobalAveragePooling1D` from before with an `LSTM` layer. Moreover, you will nest it inside a [Biderectional](https://www.tensorflow.org/api_docs/python/tf/keras/layers/Bidirectional) layer so the passing of the sequence information goes both forwards and backwards. These additional computations will naturally make the training go slower than the models you built last week. You should take this into account when using RNNs in your own applications."
      ]
    },
    {
      "cell_type": "code",
      "execution_count": null,
      "metadata": {
        "id": "FxQooMEkMgur"
      },
      "outputs": [],
      "source": [
        "import tensorflow as tf\n",
        "\n",
        "# Hyperparameters\n",
        "embedding_dim = 64\n",
        "lstm_dim = 64\n",
        "dense_dim = 64\n",
        "\n",
        "# Build the model\n",
        "model = tf.keras.Sequential([\n",
        "    tf.keras.layers.Embedding(tokenizer.vocab_size, embedding_dim),\n",
        "    tf.keras.layers.Bidirectional(tf.keras.layers.LSTM(lstm_dim)),\n",
        "    tf.keras.layers.Dense(dense_dim, activation='relu'),\n",
        "    tf.keras.layers.Dense(1, activation='sigmoid')\n",
        "])\n",
        "\n",
        "# Print the model summary\n",
        "model.summary()"
      ]
    },
    {
      "cell_type": "code",
      "source": [
        "# Model: \"sequential\"\n",
        "# _________________________________________________________________\n",
        "#  Layer (type)                Output Shape              Param #   \n",
        "# =================================================================\n",
        "#  embedding (Embedding)       (None, None, 64)          523840    \n",
        "                                                                 \n",
        "#  bidirectional (Bidirectiona  (None, 128)              66048     \n",
        "#  l)                                                              \n",
        "                                                                 \n",
        "#  dense (Dense)               (None, 64)                8256      \n",
        "                                                                 \n",
        "#  dense_1 (Dense)             (None, 1)                 65        \n",
        "                                                                 \n",
        "# =================================================================\n",
        "# Total params: 598,209\n",
        "# Trainable params: 598,209\n",
        "# Non-trainable params: 0\n",
        "# _________________________________________________________________"
      ],
      "metadata": {
        "id": "mh-w2GMt5SU8"
      },
      "execution_count": null,
      "outputs": []
    },
    {
      "cell_type": "code",
      "execution_count": null,
      "metadata": {
        "id": "Uip7QOVzMoMq"
      },
      "outputs": [],
      "source": [
        "# Set the training parameters\n",
        "model.compile(loss='binary_crossentropy', optimizer='adam', metrics=['accuracy'])"
      ]
    },
    {
      "cell_type": "markdown",
      "metadata": {
        "id": "EEKm-MzDs59w"
      },
      "source": [
        "## Train the model\n",
        "\n",
        "Now you can start training. Using the default parameters above, you should reach around 98% training accuracy and 82% validation accuracy. You can visualize the results using the same plot utilities. See if you can still improve on this by modifying the hyperparameters or by training with more epochs."
      ]
    },
    {
      "cell_type": "code",
      "execution_count": null,
      "metadata": {
        "id": "7mlgzaRDMtF6"
      },
      "outputs": [],
      "source": [
        "NUM_EPOCHS = 10\n",
        "\n",
        "history = model.fit(train_dataset, epochs=NUM_EPOCHS, validation_data=test_dataset)"
      ]
    },
    {
      "cell_type": "code",
      "source": [
        "# Epoch 1/10\n",
        "# 98/98 [==============================] - 36s 263ms/step - loss: 0.5764 - accuracy: 0.6769 - val_loss: 0.4159 - val_accuracy: 0.8201\n",
        "# Epoch 2/10\n",
        "# 98/98 [==============================] - 26s 256ms/step - loss: 0.3781 - accuracy: 0.8400 - val_loss: 0.4308 - val_accuracy: 0.8105\n",
        "# Epoch 3/10\n",
        "# 98/98 [==============================] - 26s 258ms/step - loss: 0.2683 - accuracy: 0.8978 - val_loss: 0.3920 - val_accuracy: 0.8424\n",
        "# Epoch 4/10\n",
        "# 98/98 [==============================] - 27s 267ms/step - loss: 0.2081 - accuracy: 0.9262 - val_loss: 0.4051 - val_accuracy: 0.8396\n",
        "# Epoch 5/10\n",
        "# 98/98 [==============================] - 26s 263ms/step - loss: 0.1748 - accuracy: 0.9392 - val_loss: 0.4579 - val_accuracy: 0.8307\n",
        "# Epoch 6/10\n",
        "# 98/98 [==============================] - 26s 262ms/step - loss: 0.1583 - accuracy: 0.9438 - val_loss: 0.5112 - val_accuracy: 0.8454\n",
        "# Epoch 7/10\n",
        "# 98/98 [==============================] - 29s 297ms/step - loss: 0.1350 - accuracy: 0.9536 - val_loss: 0.5092 - val_accuracy: 0.8335\n",
        "# Epoch 8/10\n",
        "# 98/98 [==============================] - 26s 261ms/step - loss: 0.1432 - accuracy: 0.9486 - val_loss: 0.4864 - val_accuracy: 0.8112\n",
        "# Epoch 9/10\n",
        "# 98/98 [==============================] - 27s 266ms/step - loss: 0.1061 - accuracy: 0.9661 - val_loss: 0.6241 - val_accuracy: 0.8252\n",
        "# Epoch 10/10\n",
        "# 98/98 [==============================] - 28s 276ms/step - loss: 0.0947 - accuracy: 0.9686 - val_loss: 0.5966 - val_accuracy: 0.8276"
      ],
      "metadata": {
        "id": "vqR6brxn5rcK"
      },
      "execution_count": null,
      "outputs": []
    },
    {
      "cell_type": "code",
      "execution_count": null,
      "metadata": {
        "id": "Mp1Z7P9pYRSK"
      },
      "outputs": [],
      "source": [
        "import matplotlib.pyplot as plt\n",
        "\n",
        "# Plot utility\n",
        "def plot_graphs(history, string):\n",
        "  plt.plot(history.history[string])\n",
        "  plt.plot(history.history['val_'+string])\n",
        "  plt.xlabel(\"Epochs\")\n",
        "  plt.ylabel(string)\n",
        "  plt.legend([string, 'val_'+string])\n",
        "  plt.show()\n",
        "\n",
        "# Plot the accuracy and results \n",
        "plot_graphs(history, \"accuracy\")\n",
        "plot_graphs(history, \"loss\")"
      ]
    },
    {
      "cell_type": "markdown",
      "source": [
        "![image.png](data:image/png;base64,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)"
      ],
      "metadata": {
        "id": "mNzvOIIZ5vD7"
      }
    },
    {
      "cell_type": "markdown",
      "source": [
        "![image.png](data:image/png;base64,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)"
      ],
      "metadata": {
        "id": "xJ3sm2SQ5wzN"
      }
    },
    {
      "cell_type": "markdown",
      "metadata": {
        "id": "c1pnGOV9ur9Y"
      },
      "source": [
        "## Wrap Up\n",
        "\n",
        "In this lab, you got a first look at using LSTM layers to build Recurrent Neural Networks. You only used a single LSTM layer but this can be stacked as well to build deeper networks. You will see how to do that in the next lab."
      ]
    }
  ],
  "metadata": {
    "accelerator": "GPU",
    "colab": {
      "collapsed_sections": [],
      "name": "C3_W3_Lab_1_single_layer_LSTM.ipynb",
      "private_outputs": true,
      "provenance": [],
      "toc_visible": true
    },
    "kernelspec": {
      "display_name": "Python 3",
      "language": "python",
      "name": "python3"
    },
    "language_info": {
      "codemirror_mode": {
        "name": "ipython",
        "version": 3
      },
      "file_extension": ".py",
      "mimetype": "text/x-python",
      "name": "python",
      "nbconvert_exporter": "python",
      "pygments_lexer": "ipython3",
      "version": "3.7.4"
    }
  },
  "nbformat": 4,
  "nbformat_minor": 0
}