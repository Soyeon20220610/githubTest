{
  "cells": [
    {
      "cell_type": "markdown",
      "metadata": {
        "id": "dZLn4SeOmcEg"
      },
      "source": [
        "<a href=\"https://colab.research.google.com/github/https-deeplearning-ai/tensorflow-1-public/blob/main/C4/W3/ungraded_labs/C4_W3_Lab_2_LSTM.ipynb\" target=\"_parent\"><img src=\"https://colab.research.google.com/assets/colab-badge.svg\" alt=\"Open In Colab\"/></a>"
      ]
    },
    {
      "cell_type": "markdown",
      "metadata": {
        "id": "sV_nvXSQGJPK"
      },
      "source": [
        "# Ungraded Lab: Using a multi-layer LSTM for forecasting\n",
        "\n",
        "In this lab, you will use the same RNN architecure in the first lab but will instead stack [LSTM](https://www.tensorflow.org/api_docs/python/tf/keras/layers/LSTM) layers instead of `SimpleRNN`."
      ]
    },
    {
      "cell_type": "markdown",
      "metadata": {
        "id": "3IMbAWETGOWD"
      },
      "source": [
        "## Imports"
      ]
    },
    {
      "cell_type": "code",
      "execution_count": null,
      "metadata": {
        "id": "BOjujz601HcS"
      },
      "outputs": [],
      "source": [
        "import tensorflow as tf\n",
        "import numpy as np\n",
        "import matplotlib.pyplot as plt"
      ]
    },
    {
      "cell_type": "markdown",
      "metadata": {
        "id": "kD7RQQ0xGQVH"
      },
      "source": [
        "## Utilities"
      ]
    },
    {
      "cell_type": "code",
      "execution_count": null,
      "metadata": {
        "id": "Zswl7jRtGzkk"
      },
      "outputs": [],
      "source": [
        "def plot_series(time, series, format=\"-\", start=0, end=None):\n",
        "    \"\"\"\n",
        "    Visualizes time series data\n",
        "\n",
        "    Args:\n",
        "      time (array of int) - contains the time steps\n",
        "      series (array of int) - contains the measurements for each time step\n",
        "      format - line style when plotting the graph\n",
        "      start - first time step to plot\n",
        "      end - last time step to plot\n",
        "    \"\"\"\n",
        "\n",
        "    # Setup dimensions of the graph figure\n",
        "    plt.figure(figsize=(10, 6))\n",
        "    \n",
        "    if type(series) is tuple:\n",
        "\n",
        "      for series_num in series:\n",
        "        # Plot the time series data\n",
        "        plt.plot(time[start:end], series_num[start:end], format)\n",
        "\n",
        "    else:\n",
        "      # Plot the time series data\n",
        "      plt.plot(time[start:end], series[start:end], format)\n",
        "\n",
        "    # Label the x-axis\n",
        "    plt.xlabel(\"Time\")\n",
        "\n",
        "    # Label the y-axis\n",
        "    plt.ylabel(\"Value\")\n",
        "\n",
        "    # Overlay a grid on the graph\n",
        "    plt.grid(True)\n",
        "\n",
        "    # Draw the graph on screen\n",
        "    plt.show()\n",
        "\n",
        "def trend(time, slope=0):\n",
        "    \"\"\"\n",
        "    Generates synthetic data that follows a straight line given a slope value.\n",
        "\n",
        "    Args:\n",
        "      time (array of int) - contains the time steps\n",
        "      slope (float) - determines the direction and steepness of the line\n",
        "\n",
        "    Returns:\n",
        "      series (array of float) - measurements that follow a straight line\n",
        "    \"\"\"\n",
        "\n",
        "    # Compute the linear series given the slope\n",
        "    series = slope * time\n",
        "\n",
        "    return series\n",
        "\n",
        "def seasonal_pattern(season_time):\n",
        "    \"\"\"\n",
        "    Just an arbitrary pattern, you can change it if you wish\n",
        "    \n",
        "    Args:\n",
        "      season_time (array of float) - contains the measurements per time step\n",
        "\n",
        "    Returns:\n",
        "      data_pattern (array of float) -  contains revised measurement values according \n",
        "                                  to the defined pattern\n",
        "    \"\"\"\n",
        "\n",
        "    # Generate the values using an arbitrary pattern\n",
        "    data_pattern = np.where(season_time < 0.4,\n",
        "                    np.cos(season_time * 2 * np.pi),\n",
        "                    1 / np.exp(3 * season_time))\n",
        "    \n",
        "    return data_pattern\n",
        "\n",
        "def seasonality(time, period, amplitude=1, phase=0):\n",
        "    \"\"\"\n",
        "    Repeats the same pattern at each period\n",
        "\n",
        "    Args:\n",
        "      time (array of int) - contains the time steps\n",
        "      period (int) - number of time steps before the pattern repeats\n",
        "      amplitude (int) - peak measured value in a period\n",
        "      phase (int) - number of time steps to shift the measured values\n",
        "\n",
        "    Returns:\n",
        "      data_pattern (array of float) - seasonal data scaled by the defined amplitude\n",
        "    \"\"\"\n",
        "    \n",
        "    # Define the measured values per period\n",
        "    season_time = ((time + phase) % period) / period\n",
        "\n",
        "    # Generates the seasonal data scaled by the defined amplitude\n",
        "    data_pattern = amplitude * seasonal_pattern(season_time)\n",
        "\n",
        "    return data_pattern\n",
        "\n",
        "def noise(time, noise_level=1, seed=None):\n",
        "    \"\"\"Generates a normally distributed noisy signal\n",
        "\n",
        "    Args:\n",
        "      time (array of int) - contains the time steps\n",
        "      noise_level (float) - scaling factor for the generated signal\n",
        "      seed (int) - number generator seed for repeatability\n",
        "\n",
        "    Returns:\n",
        "      noise (array of float) - the noisy signal\n",
        "    \"\"\"\n",
        "\n",
        "    # Initialize the random number generator\n",
        "    rnd = np.random.RandomState(seed)\n",
        "\n",
        "    # Generate a random number for each time step and scale by the noise level\n",
        "    noise = rnd.randn(len(time)) * noise_level\n",
        "    \n",
        "    return noise"
      ]
    },
    {
      "cell_type": "markdown",
      "metadata": {
        "id": "yxNyeFWjGSdj"
      },
      "source": [
        "## Generate the Synthetic Data"
      ]
    },
    {
      "cell_type": "code",
      "execution_count": null,
      "metadata": {
        "id": "KYEUfDbdpHPm"
      },
      "outputs": [],
      "source": [
        "# Parameters\n",
        "time = np.arange(4 * 365 + 1, dtype=\"float32\")\n",
        "baseline = 10\n",
        "amplitude = 40\n",
        "slope = 0.05\n",
        "noise_level = 5\n",
        "\n",
        "# Create the series\n",
        "series = baseline + trend(time, slope) + seasonality(time, period=365, amplitude=amplitude)\n",
        "\n",
        "# Update with noise\n",
        "series += noise(time, noise_level, seed=42)\n",
        "\n",
        "# Plot the results\n",
        "plot_series(time, series)"
      ]
    },
    {
      "cell_type": "markdown",
      "source": [
        "![image.png](data:image/png;base64,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)"
      ],
      "metadata": {
        "id": "qfdGuRa6nQUv"
      }
    },
    {
      "cell_type": "markdown",
      "metadata": {
        "id": "MYKCvv-eGWRc"
      },
      "source": [
        "## Split the Dataset"
      ]
    },
    {
      "cell_type": "code",
      "execution_count": null,
      "metadata": {
        "id": "hpp0slenpKVD"
      },
      "outputs": [],
      "source": [
        "# Define the split time\n",
        "split_time = 1000\n",
        "\n",
        "# Get the train set \n",
        "time_train = time[:split_time]\n",
        "x_train = series[:split_time]\n",
        "\n",
        "# Get the validation set\n",
        "time_valid = time[split_time:]\n",
        "x_valid = series[split_time:]"
      ]
    },
    {
      "cell_type": "markdown",
      "metadata": {
        "id": "cktHz9aOGYtV"
      },
      "source": [
        "## Prepare Features and Labels"
      ]
    },
    {
      "cell_type": "code",
      "execution_count": null,
      "metadata": {
        "id": "G_j_2_Mqwn7-"
      },
      "outputs": [],
      "source": [
        "# Parameters\n",
        "window_size = 20\n",
        "batch_size = 32\n",
        "shuffle_buffer_size = 1000"
      ]
    },
    {
      "cell_type": "code",
      "execution_count": null,
      "metadata": {
        "id": "4sTTIOCbyShY"
      },
      "outputs": [],
      "source": [
        "def windowed_dataset(series, window_size, batch_size, shuffle_buffer):\n",
        "    \"\"\"Generates dataset windows\n",
        "\n",
        "    Args:\n",
        "      series (array of float) - contains the values of the time series\n",
        "      window_size (int) - the number of time steps to include in the feature\n",
        "      batch_size (int) - the batch size\n",
        "      shuffle_buffer(int) - buffer size to use for the shuffle method\n",
        "\n",
        "    Returns:\n",
        "      dataset (TF Dataset) - TF Dataset containing time windows\n",
        "    \"\"\"\n",
        "  \n",
        "    # Generate a TF Dataset from the series values\n",
        "    dataset = tf.data.Dataset.from_tensor_slices(series)\n",
        "    \n",
        "    # Window the data but only take those with the specified size\n",
        "    dataset = dataset.window(window_size + 1, shift=1, drop_remainder=True)\n",
        "    \n",
        "    # Flatten the windows by putting its elements in a single batch\n",
        "    dataset = dataset.flat_map(lambda window: window.batch(window_size + 1))\n",
        "\n",
        "    # Create tuples with features and labels \n",
        "    dataset = dataset.map(lambda window: (window[:-1], window[-1]))\n",
        "\n",
        "    # Shuffle the windows\n",
        "    dataset = dataset.shuffle(shuffle_buffer)\n",
        "    \n",
        "    # Create batches of windows\n",
        "    dataset = dataset.batch(batch_size).prefetch(1)\n",
        "    \n",
        "    return dataset"
      ]
    },
    {
      "cell_type": "code",
      "execution_count": null,
      "metadata": {
        "id": "vGj5-InSwtQQ"
      },
      "outputs": [],
      "source": [
        "# Generate the dataset windows\n",
        "dataset = windowed_dataset(x_train, window_size, batch_size, shuffle_buffer_size)"
      ]
    },
    {
      "cell_type": "markdown",
      "metadata": {
        "id": "p9-Ke8ZaGcjd"
      },
      "source": [
        "## Build the Model\n",
        "\n",
        "As mentioned, you will swap `SimpleRNN` for `LSTM` in this lab. It is also set as bidirectional below but feel free to revise later and see what results you get. LSTMs are much more complex in their internal architecture than simpleRNNs. It implements a cell state that allows it to remember sequences better than simple implementations. This added complexity results in a bigger set of parameters to train and you'll see that when you print the model summary below."
      ]
    },
    {
      "cell_type": "code",
      "execution_count": null,
      "metadata": {
        "id": "A1Hl39rklkLm"
      },
      "outputs": [],
      "source": [
        "# Build the Model\n",
        "model_tune = tf.keras.models.Sequential([\n",
        "  tf.keras.layers.Lambda(lambda x: tf.expand_dims(x, axis=-1),\n",
        "                      input_shape=[window_size]),\n",
        "    tf.keras.layers.Bidirectional(tf.keras.layers.LSTM(32, return_sequences=True)),\n",
        "  tf.keras.layers.Bidirectional(tf.keras.layers.LSTM(32)),\n",
        "  tf.keras.layers.Dense(1),\n",
        "  tf.keras.layers.Lambda(lambda x: x * 100.0)\n",
        "])\n",
        "\n",
        "# Print the model summary\n",
        "model_tune.summary()"
      ]
    },
    {
      "cell_type": "code",
      "source": [
        "# Model: \"sequential\"\n",
        "# _________________________________________________________________\n",
        "#  Layer (type)                Output Shape              Param #   \n",
        "# =================================================================\n",
        "#  lambda (Lambda)             (None, 20, 1)             0         \n",
        "                                                                 \n",
        "#  bidirectional (Bidirectiona  (None, 20, 64)           8704      \n",
        "#  l)                                                              \n",
        "                                                                 \n",
        "#  bidirectional_1 (Bidirectio  (None, 64)               24832     \n",
        "#  nal)                                                            \n",
        "                                                                 \n",
        "#  dense (Dense)               (None, 1)                 65        \n",
        "                                                                 \n",
        "#  lambda_1 (Lambda)           (None, 1)                 0         \n",
        "                                                                 \n",
        "# =================================================================\n",
        "# Total params: 33,601\n",
        "# Trainable params: 33,601\n",
        "# Non-trainable params: 0\n",
        "# _________________________________________________________________"
      ],
      "metadata": {
        "id": "azXH5fCjnUDb"
      },
      "execution_count": null,
      "outputs": []
    },
    {
      "cell_type": "markdown",
      "metadata": {
        "id": "FHaFblbwq0GV"
      },
      "source": [
        "## Tune the Learning Rate\n",
        "\n",
        "As usual, you will pick a learning rate by running the tuning code below."
      ]
    },
    {
      "cell_type": "code",
      "execution_count": null,
      "metadata": {
        "id": "qE7al18qw48G"
      },
      "outputs": [],
      "source": [
        "# Set the learning rate scheduler\n",
        "lr_schedule = tf.keras.callbacks.LearningRateScheduler(\n",
        "    lambda epoch: 1e-8 * 10**(epoch / 20))\n",
        "\n",
        "# Initialize the optimizer\n",
        "optimizer = tf.keras.optimizers.SGD(momentum=0.9)\n",
        "\n",
        "# Set the training parameters\n",
        "model_tune.compile(loss=tf.keras.losses.Huber(), optimizer=optimizer)\n",
        "\n",
        "# Train the model\n",
        "history = model_tune.fit(dataset, epochs=100, callbacks=[lr_schedule])"
      ]
    },
    {
      "cell_type": "code",
      "source": [
        "# Epoch 86/100\n",
        "# 31/31 [==============================] - 0s 9ms/step - loss: 8.7461 - lr: 1.7783e-04\n",
        "# Epoch 87/100\n",
        "# 31/31 [==============================] - 0s 10ms/step - loss: 7.5376 - lr: 1.9953e-04\n",
        "# Epoch 88/100\n",
        "# 31/31 [==============================] - 0s 9ms/step - loss: 6.5903 - lr: 2.2387e-04\n",
        "# Epoch 89/100\n",
        "# 31/31 [==============================] - 0s 9ms/step - loss: 6.9491 - lr: 2.5119e-04\n",
        "# Epoch 90/100\n",
        "# 31/31 [==============================] - 0s 9ms/step - loss: 6.2302 - lr: 2.8184e-04\n",
        "# Epoch 91/100\n",
        "# 31/31 [==============================] - 0s 9ms/step - loss: 9.6351 - lr: 3.1623e-04\n",
        "# Epoch 92/100\n",
        "# 31/31 [==============================] - 0s 9ms/step - loss: 8.8122 - lr: 3.5481e-04\n",
        "# Epoch 93/100\n",
        "# 31/31 [==============================] - 0s 9ms/step - loss: 9.5795 - lr: 3.9811e-04\n",
        "# Epoch 94/100\n",
        "# 31/31 [==============================] - 0s 10ms/step - loss: 12.4364 - lr: 4.4668e-04\n",
        "# Epoch 95/100\n",
        "# 31/31 [==============================] - 0s 9ms/step - loss: 8.8523 - lr: 5.0119e-04\n",
        "# Epoch 96/100\n",
        "# 31/31 [==============================] - 0s 10ms/step - loss: 7.0080 - lr: 5.6234e-04\n",
        "# Epoch 97/100\n",
        "# 31/31 [==============================] - 0s 9ms/step - loss: 12.5387 - lr: 6.3096e-04\n",
        "# Epoch 98/100\n",
        "# 31/31 [==============================] - 0s 9ms/step - loss: 11.7187 - lr: 7.0795e-04\n",
        "# Epoch 99/100\n",
        "# 31/31 [==============================] - 0s 9ms/step - loss: 11.7264 - lr: 7.9433e-04\n",
        "# Epoch 100/100\n",
        "# 31/31 [==============================] - 0s 9ms/step - loss: 15.0983 - lr: 8.9125e-04"
      ],
      "metadata": {
        "id": "RjjuuiBGnZ4f"
      },
      "execution_count": null,
      "outputs": []
    },
    {
      "cell_type": "code",
      "execution_count": null,
      "metadata": {
        "id": "AkBsrsXMzoWR"
      },
      "outputs": [],
      "source": [
        "# Define the learning rate array\n",
        "lrs = 1e-8 * (10 ** (np.arange(100) / 20))\n",
        "\n",
        "# Set the figure size\n",
        "plt.figure(figsize=(10, 6))\n",
        "\n",
        "# Set the grid\n",
        "plt.grid(True)\n",
        "\n",
        "# Plot the loss in log scale\n",
        "plt.semilogx(lrs, history.history[\"loss\"])\n",
        "\n",
        "# Increase the tickmarks size\n",
        "plt.tick_params('both', length=10, width=1, which='both')\n",
        "\n",
        "# Set the plot boundaries\n",
        "plt.axis([1e-8, 1e-3, 0, 30])"
      ]
    },
    {
      "cell_type": "markdown",
      "source": [
        "(1e-08, 0.001, 0.0, 30.0)\n",
        "\n",
        "![image.png](data:image/png;base64,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)"
      ],
      "metadata": {
        "id": "SE8ed358nck_"
      }
    },
    {
      "cell_type": "markdown",
      "metadata": {
        "id": "i-lKNp4pq_w8"
      },
      "source": [
        "## Train the Model\n",
        "\n",
        "You can then proceed to train the model with your chosen learning rate. \n",
        "\n",
        "*Tip: When experimenting and you find yourself running different iterations of a model, you may want to use the [`clear_session()`](https://www.tensorflow.org/api_docs/python/tf/keras/backend/clear_session) method to declutter memory used by Keras. This is added in the first line below.*\n"
      ]
    },
    {
      "cell_type": "code",
      "execution_count": null,
      "metadata": {
        "id": "4uh-97bpLZCA"
      },
      "outputs": [],
      "source": [
        "# Reset states generated by Keras\n",
        "tf.keras.backend.clear_session()\n",
        "\n",
        "# Build the model\n",
        "model = tf.keras.models.Sequential([\n",
        "  tf.keras.layers.Lambda(lambda x: tf.expand_dims(x, axis=-1),\n",
        "                      input_shape=[None]),\n",
        "   tf.keras.layers.Bidirectional(tf.keras.layers.LSTM(32, return_sequences=True)),\n",
        "  tf.keras.layers.Bidirectional(tf.keras.layers.LSTM(32)),\n",
        "  tf.keras.layers.Dense(1),\n",
        "  tf.keras.layers.Lambda(lambda x: x * 100.0)\n",
        "])\n",
        "\n",
        "# Set the learning rate\n",
        "learning_rate = 2e-6\n",
        "\n",
        "# Set the optimizer \n",
        "optimizer = tf.keras.optimizers.SGD(learning_rate=learning_rate, momentum=0.9)\n",
        "\n",
        "# Set the training parameters\n",
        "model.compile(loss=tf.keras.losses.Huber(),\n",
        "              optimizer=optimizer,\n",
        "              metrics=[\"mae\"])\n",
        "\n",
        "# Train the model\n",
        "history = model.fit(dataset,epochs=100)"
      ]
    },
    {
      "cell_type": "code",
      "source": [
        "# Epoch 96/100\n",
        "# 31/31 [==============================] - 0s 10ms/step - loss: 4.7003 - mae: 5.1754\n",
        "# Epoch 97/100\n",
        "# 31/31 [==============================] - 0s 10ms/step - loss: 4.6048 - mae: 5.0766\n",
        "# Epoch 98/100\n",
        "# 31/31 [==============================] - 0s 10ms/step - loss: 4.7906 - mae: 5.2670\n",
        "# Epoch 99/100\n",
        "# 31/31 [==============================] - 0s 9ms/step - loss: 4.6040 - mae: 5.0773\n",
        "# Epoch 100/100\n",
        "# 31/31 [==============================] - 0s 10ms/step - loss: 4.6582 - mae: 5.1360"
      ],
      "metadata": {
        "id": "vq-KEl_fnher"
      },
      "execution_count": null,
      "outputs": []
    },
    {
      "cell_type": "markdown",
      "metadata": {
        "id": "RjP4kbGiI7cw"
      },
      "source": [
        "## Model Prediction\n",
        "\n",
        "You will then generate batches of windows to generate predictions that align with the validation set."
      ]
    },
    {
      "cell_type": "code",
      "execution_count": null,
      "metadata": {
        "id": "QO8cfKwKBBG6"
      },
      "outputs": [],
      "source": [
        "def model_forecast(model, series, window_size, batch_size):\n",
        "    \"\"\"Uses an input model to generate predictions on data windows\n",
        "\n",
        "    Args:\n",
        "      model (TF Keras Model) - model that accepts data windows\n",
        "      series (array of float) - contains the values of the time series\n",
        "      window_size (int) - the number of time steps to include in the window\n",
        "      batch_size (int) - the batch size\n",
        "\n",
        "    Returns:\n",
        "      forecast (numpy array) - array containing predictions\n",
        "    \"\"\"\n",
        "\n",
        "    # Generate a TF Dataset from the series values\n",
        "    dataset = tf.data.Dataset.from_tensor_slices(series)\n",
        "\n",
        "    # Window the data but only take those with the specified size\n",
        "    dataset = dataset.window(window_size, shift=1, drop_remainder=True)\n",
        "\n",
        "    # Flatten the windows by putting its elements in a single batch\n",
        "    dataset = dataset.flat_map(lambda w: w.batch(window_size))\n",
        "    \n",
        "    # Create batches of windows\n",
        "    dataset = dataset.batch(batch_size).prefetch(1)\n",
        "    \n",
        "    # Get predictions on the entire dataset\n",
        "    forecast = model.predict(dataset)\n",
        "    \n",
        "    return forecast"
      ]
    },
    {
      "cell_type": "code",
      "execution_count": null,
      "metadata": {
        "id": "_plB3UseBD8o"
      },
      "outputs": [],
      "source": [
        "# Reduce the original series\n",
        "forecast_series = series[split_time-window_size:-1]\n",
        "\n",
        "# Use helper function to generate predictions\n",
        "forecast = model_forecast(model, forecast_series, window_size, batch_size)\n",
        "\n",
        "# Drop single dimensional axis\n",
        "results = forecast.squeeze()\n",
        "\n",
        "# Plot the results\n",
        "plot_series(time_valid, (x_valid, results))"
      ]
    },
    {
      "cell_type": "markdown",
      "source": [
        "![image.png](data:image/png;base64,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)"
      ],
      "metadata": {
        "id": "pgryBl7vnjwW"
      }
    },
    {
      "cell_type": "markdown",
      "metadata": {
        "id": "Nn8iSQkZtaRC"
      },
      "source": [
        "You can then generate the metrics to evaluate the model's performance."
      ]
    },
    {
      "cell_type": "code",
      "execution_count": null,
      "metadata": {
        "id": "-IKhueZaBGID"
      },
      "outputs": [],
      "source": [
        "# Compute the MSE and MAE\n",
        "print(tf.keras.metrics.mean_squared_error(x_valid, results).numpy())\n",
        "print(tf.keras.metrics.mean_absolute_error(x_valid, results).numpy())"
      ]
    },
    {
      "cell_type": "markdown",
      "source": [
        "80.833534\n",
        "\n",
        "6.3809543"
      ],
      "metadata": {
        "id": "aULsx2-UnlpK"
      }
    },
    {
      "cell_type": "markdown",
      "metadata": {
        "id": "bzPIqeMWvbPy"
      },
      "source": [
        "## Wrap Up\n",
        "\n",
        "This concludes this short exercise on using LSTMs for time series forecasting. Next week, you will build upon this and add convolutions. Then, you will start to move away from synthetic data and use real-world datasets. See you there!"
      ]
    },
    {
      "cell_type": "markdown",
      "metadata": {
        "id": "U5PqTePGHeMH"
      },
      "source": [
        "## Optional: Including a Validation Set while Training\n",
        "\n",
        "Back in the first course of this specialization, you saw how you can also monitor the performance of your model against a validation set while training. You can also do that for this lab. \n",
        "\n",
        "First, you need to generate a `val_set` which are data windows and labels that your model can accept. You can simply reuse the `windowed_dataset` function for that and you can pass in the `x_valid` points to generate the windows."
      ]
    },
    {
      "cell_type": "code",
      "execution_count": null,
      "metadata": {
        "id": "kvFVwL3PC4iX"
      },
      "outputs": [],
      "source": [
        "# Generate data windows of the validation set\n",
        "val_set = windowed_dataset(x_valid, window_size, batch_size, shuffle_buffer_size)"
      ]
    },
    {
      "cell_type": "markdown",
      "metadata": {
        "id": "p68j6XxEvP9K"
      },
      "source": [
        "You can then do the same training as before but pass in the `val_set` to the `validation_data` parameter of the `fit()` method."
      ]
    },
    {
      "cell_type": "code",
      "execution_count": null,
      "metadata": {
        "id": "wujKz6tXDSn0"
      },
      "outputs": [],
      "source": [
        "# Reset states generated by Keras\n",
        "tf.keras.backend.clear_session()\n",
        "\n",
        "# Build the model\n",
        "model = tf.keras.models.Sequential([\n",
        "  tf.keras.layers.Lambda(lambda x: tf.expand_dims(x, axis=-1),\n",
        "                      input_shape=[None]),\n",
        "   tf.keras.layers.Bidirectional(tf.keras.layers.LSTM(32, return_sequences=True)),\n",
        "  tf.keras.layers.Bidirectional(tf.keras.layers.LSTM(32)),\n",
        "  tf.keras.layers.Dense(1),\n",
        "  tf.keras.layers.Lambda(lambda x: x * 100.0)\n",
        "])\n",
        "\n",
        "# Set the learning rate\n",
        "learning_rate = 2e-6\n",
        "\n",
        "# Set the optimizer \n",
        "optimizer = tf.keras.optimizers.SGD(learning_rate=learning_rate, momentum=0.9)\n",
        "\n",
        "# Set the training parameters\n",
        "model.compile(loss=tf.keras.losses.Huber(),\n",
        "              optimizer=optimizer,\n",
        "              metrics=[\"mae\"])\n",
        "\n",
        "# Train the model\n",
        "history = model.fit(dataset,epochs=100, validation_data=val_set)"
      ]
    },
    {
      "cell_type": "markdown",
      "source": [
        "1/31 [==============================] - 1s 13ms/step - loss: 4.4861 - mae: 4.9657 - val_loss: 5.0061 - val_mae: 5.4763\n",
        "Epoch 95/100\n",
        "31/31 [==============================] - 1s 14ms/step - loss: 4.5593 - mae: 5.0365 - val_loss: 5.2669 - val_mae: 5.7507\n",
        "Epoch 96/100\n",
        "31/31 [==============================] - 1s 14ms/step - loss: 4.4326 - mae: 4.9110 - val_loss: 5.4979 - val_mae: 5.9792\n",
        "Epoch 97/100\n",
        "31/31 [==============================] - 1s 14ms/step - loss: 4.4166 - mae: 4.8904 - val_loss: 5.5481 - val_mae: 6.0289\n",
        "Epoch 98/100\n",
        "31/31 [==============================] - 1s 14ms/step - loss: 4.4146 - mae: 4.8914 - val_loss: 5.2905 - val_mae: 5.7739\n",
        "Epoch 99/100\n",
        "31/31 [==============================] - 1s 14ms/step - loss: 4.4592 - mae: 4.9403 - val_loss: 5.3645 - val_mae: 5.8462\n",
        "Epoch 100/100\n",
        "31/31 [==============================] - 1s 14ms/step - loss: 4.3968 - mae: 4.8724 - val_loss: 5.6367 - val_mae: 6.1170"
      ],
      "metadata": {
        "id": "CtjxSLg4noSi"
      }
    }
  ],
  "metadata": {
    "accelerator": "GPU",
    "colab": {
      "collapsed_sections": [],
      "name": "C4_W3_Lab_2_LSTM.ipynb",
      "private_outputs": true,
      "provenance": []
    },
    "kernelspec": {
      "display_name": "Python 3",
      "language": "python",
      "name": "python3"
    },
    "language_info": {
      "codemirror_mode": {
        "name": "ipython",
        "version": 3
      },
      "file_extension": ".py",
      "mimetype": "text/x-python",
      "name": "python",
      "nbconvert_exporter": "python",
      "pygments_lexer": "ipython3",
      "version": "3.7.4"
    }
  },
  "nbformat": 4,
  "nbformat_minor": 0
}