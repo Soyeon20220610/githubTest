{
  "cells": [
    {
      "cell_type": "markdown",
      "metadata": {
        "id": "tCPl7SEbodJ8"
      },
      "source": [
        "<a href=\"https://colab.research.google.com/github/https-deeplearning-ai/tensorflow-1-public/blob/master/C3/W3/ungraded_labs/C3_W3_Lab_5_sarcasm_with_bi_LSTM.ipynb\" target=\"_parent\"><img src=\"https://colab.research.google.com/assets/colab-badge.svg\" alt=\"Open In Colab\"/></a>"
      ]
    },
    {
      "cell_type": "markdown",
      "metadata": {
        "id": "Q2MY4-M1zuhV"
      },
      "source": [
        "# Ungraded Lab: Training a Sarcasm Detection Model using Bidirectional LSTMs\n",
        "\n",
        "In this lab, you will revisit the [News Headlines Dataset for Sarcasm Detection](https://www.kaggle.com/rmisra/news-headlines-dataset-for-sarcasm-detection/home) dataset and use it to train a Bi-LSTM Model.\n"
      ]
    },
    {
      "cell_type": "markdown",
      "metadata": {
        "id": "S-AgItE6z80t"
      },
      "source": [
        "## Download the Dataset\n",
        "\n",
        "First, you will download the JSON file and extract the contents into lists."
      ]
    },
    {
      "cell_type": "code",
      "execution_count": null,
      "metadata": {
        "id": "k_Wlz9i10Dmn"
      },
      "outputs": [],
      "source": [
        "# Download the dataset\n",
        "!wget https://storage.googleapis.com/tensorflow-1-public/course3/sarcasm.json"
      ]
    },
    {
      "cell_type": "code",
      "execution_count": null,
      "metadata": {
        "id": "Pr4R0I240GOh"
      },
      "outputs": [],
      "source": [
        "import json\n",
        "\n",
        "# Load the JSON file\n",
        "with open(\"./sarcasm.json\", 'r') as f:\n",
        "    datastore = json.load(f)\n",
        "\n",
        "# Initialize the lists\n",
        "sentences = []\n",
        "labels = []\n",
        "\n",
        "# Collect sentences and labels into the lists\n",
        "for item in datastore:\n",
        "    sentences.append(item['headline'])\n",
        "    labels.append(item['is_sarcastic'])"
      ]
    },
    {
      "cell_type": "markdown",
      "metadata": {
        "id": "zN9-ojV55UCR"
      },
      "source": [
        "## Split the Dataset\n",
        "\n",
        "You will then split the lists into train and test sets."
      ]
    },
    {
      "cell_type": "code",
      "execution_count": null,
      "metadata": {
        "id": "50H0ZrJf035i"
      },
      "outputs": [],
      "source": [
        "training_size = 20000\n",
        "\n",
        "# Split the sentences\n",
        "training_sentences = sentences[0:training_size]\n",
        "testing_sentences = sentences[training_size:]\n",
        "\n",
        "# Split the labels\n",
        "training_labels = labels[0:training_size]\n",
        "testing_labels = labels[training_size:]"
      ]
    },
    {
      "cell_type": "markdown",
      "metadata": {
        "id": "MYVNY4tE5YbN"
      },
      "source": [
        "## Data preprocessing\n",
        "\n",
        "Next, you will generate the vocabulary and padded sequences."
      ]
    },
    {
      "cell_type": "code",
      "execution_count": null,
      "metadata": {
        "id": "hodsUZib1Ce7"
      },
      "outputs": [],
      "source": [
        "import numpy as np\n",
        "from tensorflow.keras.preprocessing.text import Tokenizer\n",
        "from tensorflow.keras.preprocessing.sequence import pad_sequences\n",
        "\n",
        "vocab_size = 10000\n",
        "max_length = 120\n",
        "trunc_type='post'\n",
        "padding_type='post'\n",
        "oov_tok = \"<OOV>\"\n",
        "\n",
        "# Initialize the Tokenizer class\n",
        "tokenizer = Tokenizer(num_words=vocab_size, oov_token=oov_tok)\n",
        "\n",
        "# Generate the word index dictionary\n",
        "tokenizer.fit_on_texts(training_sentences)\n",
        "word_index = tokenizer.word_index\n",
        "\n",
        "# Generate and pad the training sequences\n",
        "training_sequences = tokenizer.texts_to_sequences(training_sentences)\n",
        "training_padded = pad_sequences(training_sequences, maxlen=max_length, padding=padding_type, truncating=trunc_type)\n",
        "\n",
        "# Generate and pad the testing sequences\n",
        "testing_sequences = tokenizer.texts_to_sequences(testing_sentences)\n",
        "testing_padded = pad_sequences(testing_sequences, maxlen=max_length, padding=padding_type, truncating=trunc_type)\n",
        "\n",
        "# Convert the labels lists into numpy arrays\n",
        "training_labels = np.array(training_labels)\n",
        "testing_labels = np.array(testing_labels)"
      ]
    },
    {
      "cell_type": "markdown",
      "metadata": {
        "id": "o23gJhj95el5"
      },
      "source": [
        "## Build and Compile the Model\n",
        "\n",
        "The architecture here is almost identical to the one you used in the previous lab with the IMDB Reviews. Try to tweak the parameters and see how it affects the training time and accuracy (both training and validation)."
      ]
    },
    {
      "cell_type": "code",
      "execution_count": null,
      "metadata": {
        "id": "jGwXGIXvFhXW"
      },
      "outputs": [],
      "source": [
        "import tensorflow as tf\n",
        "\n",
        "# Parameters\n",
        "embedding_dim = 16\n",
        "lstm_dim = 32\n",
        "dense_dim = 24\n",
        "\n",
        "# Model Definition with LSTM\n",
        "model_lstm = tf.keras.Sequential([\n",
        "    tf.keras.layers.Embedding(vocab_size, embedding_dim, input_length=max_length),\n",
        "    tf.keras.layers.Bidirectional(tf.keras.layers.LSTM(lstm_dim)),\n",
        "    tf.keras.layers.Dense(dense_dim, activation='relu'),\n",
        "    tf.keras.layers.Dense(1, activation='sigmoid')\n",
        "])\n",
        "\n",
        "# Set the training parameters\n",
        "model_lstm.compile(loss='binary_crossentropy',optimizer='adam',metrics=['accuracy'])\n",
        "\n",
        "# Print the model summary\n",
        "model_lstm.summary()"
      ]
    },
    {
      "cell_type": "markdown",
      "metadata": {
        "id": "krcQGm7B5g9A"
      },
      "source": [
        "## Train the Model"
      ]
    },
    {
      "cell_type": "code",
      "execution_count": null,
      "metadata": {
        "id": "nEKV8EMj11BW"
      },
      "outputs": [],
      "source": [
        "NUM_EPOCHS = 10\n",
        "\n",
        "# Train the model\n",
        "history_lstm = model_lstm.fit(training_padded, training_labels, epochs=NUM_EPOCHS, validation_data=(testing_padded, testing_labels))"
      ]
    },
    {
      "cell_type": "markdown",
      "source": [
        "[6]\n",
        "1분\n",
        "NUM_EPOCHS = 10\n",
        "\n",
        "# Train the model\n",
        "history_lstm = model_lstm.fit(training_padded, training_labels, epochs=NUM_EPOCHS, validation_data=(testing_padded, testing_labels))\n",
        "Epoch 1/10\n",
        "625/625 [==============================] - 16s 13ms/step - loss: 0.4156 - accuracy: 0.7923 - val_loss: 0.3287 - val_accuracy: 0.8536\n",
        "Epoch 2/10\n",
        "625/625 [==============================] - 8s 12ms/step - loss: 0.2083 - accuracy: 0.9147 - val_loss: 0.3390 - val_accuracy: 0.8605\n",
        "Epoch 3/10\n",
        "625/625 [==============================] - 7s 12ms/step - loss: 0.1209 - accuracy: 0.9568 - val_loss: 0.4155 - val_accuracy: 0.8544\n",
        "Epoch 4/10\n",
        "625/625 [==============================] - 8s 12ms/step - loss: 0.0759 - accuracy: 0.9740 - val_loss: 0.5176 - val_accuracy: 0.8447\n",
        "Epoch 5/10\n",
        "625/625 [==============================] - 8s 12ms/step - loss: 0.0493 - accuracy: 0.9849 - val_loss: 0.5884 - val_accuracy: 0.8436\n",
        "Epoch 6/10\n",
        "625/625 [==============================] - 7s 12ms/step - loss: 0.0290 - accuracy: 0.9908 - val_loss: 0.7788 - val_accuracy: 0.8404\n",
        "Epoch 7/10\n",
        "625/625 [==============================] - 8s 13ms/step - loss: 0.0229 - accuracy: 0.9924 - val_loss: 0.8473 - val_accuracy: 0.8343\n",
        "Epoch 8/10\n",
        "625/625 [==============================] - 8s 12ms/step - loss: 0.0155 - accuracy: 0.9953 - val_loss: 0.8881 - val_accuracy: 0.8347\n",
        "Epoch 9/10\n",
        "625/625 [==============================] - 7s 12ms/step - loss: 0.0143 - accuracy: 0.9955 - val_loss: 0.9469 - val_accuracy: 0.8350\n",
        "Epoch 10/10\n",
        "625/625 [==============================] - 8s 12ms/step - loss: 0.0113 - accuracy: 0.9965 - val_loss: 1.0533 - val_accuracy: 0.8299"
      ],
      "metadata": {
        "id": "hvWz5zvNph4D"
      }
    },
    {
      "cell_type": "code",
      "execution_count": null,
      "metadata": {
        "id": "g9DC6dmLF8DC"
      },
      "outputs": [],
      "source": [
        "import matplotlib.pyplot as plt\n",
        "\n",
        "# Plot Utility\n",
        "def plot_graphs(history, string):\n",
        "  plt.plot(history.history[string])\n",
        "  plt.plot(history.history['val_'+string])\n",
        "  plt.xlabel(\"Epochs\")\n",
        "  plt.ylabel(string)\n",
        "  plt.legend([string, 'val_'+string])\n",
        "  plt.show()\n",
        "\n",
        "# Plot the accuracy and loss history\n",
        "plot_graphs(history_lstm, 'accuracy')\n",
        "plot_graphs(history_lstm, 'loss')"
      ]
    },
    {
      "cell_type": "markdown",
      "source": [
        "![image.png](data:image/png;base64,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)![image.png](\n",
        "  \n",
        ")\n",
        "\n",
        "\n",
        "![image.png](data:image/png;base64,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)"
      ],
      "metadata": {
        "id": "dnf5mj63pThE"
      }
    }
  ],
  "metadata": {
    "accelerator": "GPU",
    "colab": {
      "collapsed_sections": [],
      "name": "C3_W3_Lab_5_sarcasm_with_bi_LSTM.ipynb",
      "private_outputs": true,
      "provenance": []
    },
    "kernelspec": {
      "display_name": "Python 3",
      "language": "python",
      "name": "python3"
    },
    "language_info": {
      "codemirror_mode": {
        "name": "ipython",
        "version": 3
      },
      "file_extension": ".py",
      "mimetype": "text/x-python",
      "name": "python",
      "nbconvert_exporter": "python",
      "pygments_lexer": "ipython3",
      "version": "3.7.4"
    }
  },
  "nbformat": 4,
  "nbformat_minor": 0
}