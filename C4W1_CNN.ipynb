{
  "nbformat": 4,
  "nbformat_minor": 0,
  "metadata": {
    "colab": {
      "name": "C4W1-CNN.ipynb",
      "provenance": [],
      "authorship_tag": "ABX9TyPJuUbEBBRGC1nk0BR5gTlC",
      "include_colab_link": true
    },
    "kernelspec": {
      "name": "python3",
      "display_name": "Python 3"
    },
    "language_info": {
      "name": "python"
    }
  },
  "cells": [
    {
      "cell_type": "markdown",
      "metadata": {
        "id": "view-in-github",
        "colab_type": "text"
      },
      "source": [
        "<a href=\"https://colab.research.google.com/github/Soyeon20220610/githubTest/blob/main/C4W1_CNN.ipynb\" target=\"_parent\"><img src=\"https://colab.research.google.com/assets/colab-badge.svg\" alt=\"Open In Colab\"/></a>"
      ]
    },
    {
      "cell_type": "code",
      "execution_count": 2,
      "metadata": {
        "id": "SJdM8cDrHz3u"
      },
      "outputs": [],
      "source": [
        "import numpy as np\n",
        "import h5py\n",
        "import matplotlib.pyplot as plt\n",
        "from public_tests import *\n",
        "\n",
        "%matplotlib inline\n",
        "plt.rcParams['figure.figsize'] = (5.0, 4.0) # set default size of plots\n",
        "plt.rcParams['image.interpolation'] = 'nearest'\n",
        "plt.rcParams['image.cmap'] = 'gray'\n",
        "\n",
        "%load_ext autoreload\n",
        "%autoreload 2\n",
        "\n",
        "np.random.seed(1)"
      ]
    },
    {
      "cell_type": "code",
      "source": [
        "# zero padding\n",
        "def zero_pad(X,pad):\n",
        "  X_pad = np.pad(X,((0,0),(pad,pad),(pad,pad),(0,0)),mode='constant',constant_values=(0,0))\n",
        "  return X_pad\n",
        "\n",
        "np.random.seed(1)\n",
        "x=np.random.randn(4,3,3,2)\n",
        "x_pad=zero_pad(x,3)\n",
        "print (\"x.shape =\\n\", x.shape)\n",
        "print (\"x_pad.shape =\\n\", x_pad.shape)\n",
        "print (\"x[1,1] =\\n\", x[1, 1])\n",
        "print (\"x_pad[1,1] =\\n\", x_pad[1, 1])\n",
        "fig, axarr = plt.subplots(1, 2)\n",
        "axarr[0].set_title('x')\n",
        "axarr[0].imshow(x[0, :, :, 0])\n",
        "axarr[1].set_title('x_pad')\n",
        "axarr[1].imshow(x_pad[0, :, :, 0])\n",
        "zero_pad_test(zero_pad)"
      ],
      "metadata": {
        "colab": {
          "base_uri": "https://localhost:8080/",
          "height": 899
        },
        "id": "WI0j5NUyIDxo",
        "outputId": "9620d33d-8c5f-43ff-febd-0662bf6c0138"
      },
      "execution_count": 6,
      "outputs": [
        {
          "output_type": "stream",
          "name": "stdout",
          "text": [
            "x.shape =\n",
            " (4, 3, 3, 2)\n",
            "x_pad.shape =\n",
            " (4, 9, 9, 2)\n",
            "x[1,1] =\n",
            " [[ 0.90085595 -0.68372786]\n",
            " [-0.12289023 -0.93576943]\n",
            " [-0.26788808  0.53035547]]\n",
            "x_pad[1,1] =\n",
            " [[0. 0.]\n",
            " [0. 0.]\n",
            " [0. 0.]\n",
            " [0. 0.]\n",
            " [0. 0.]\n",
            " [0. 0.]\n",
            " [0. 0.]\n",
            " [0. 0.]\n",
            " [0. 0.]]\n",
            "x.shape =\n",
            " (4, 3, 3, 2)\n",
            "x_pad.shape =\n",
            " (4, 9, 9, 2)\n",
            "x[1,1] =\n",
            " [[ 0.90085595 -0.68372786]\n",
            " [-0.12289023 -0.93576943]\n",
            " [-0.26788808  0.53035547]]\n",
            "x_pad[1,1] =\n",
            " [[0. 0.]\n",
            " [0. 0.]\n",
            " [0. 0.]\n",
            " [0. 0.]\n",
            " [0. 0.]\n",
            " [0. 0.]\n",
            " [0. 0.]\n",
            " [0. 0.]\n",
            " [0. 0.]]\n",
            "[[0. 0. 0. 0. 0. 0. 0. 0. 0.]\n",
            " [0. 0. 0. 0. 0. 0. 0. 0. 0.]]\n",
            "\u001b[92mAll tests passed!\n"
          ]
        },
        {
          "output_type": "display_data",
          "data": {
            "text/plain": [
              "<Figure size 360x288 with 2 Axes>"
            ],
            "image/png": "[encoded data removed]"
          },
          "metadata": {
            "needs_background": "light"
          }
        }
      ]
    },
    {
      "cell_type": "code",
      "source": [
        "#2. \n",
        "def conv_single_step (a_slice_prev,W,b):\n",
        "    s = a_slice_prev * W\n",
        "    Z = np.sum(s)\n",
        "    Z = Z + float(b)\n",
        "    return Z\n",
        "\n",
        "np.random.seed(1)\n",
        "a_slice_prev = np.random.randn(4, 4, 3)\n",
        "W = np.random.randn(4, 4, 3)\n",
        "b = np.random.randn(1, 1, 1)\n",
        "\n",
        "print( a_slice_prev * W)\n",
        "print(np.sum( a_slice_prev * W))\n",
        "\n",
        "Z = conv_single_step(a_slice_prev, W, b)\n",
        "print(\"Z =\", Z)\n",
        "conv_single_step_test(conv_single_step)\n",
        "\n",
        "assert (type(Z) == np.float64), \"You must cast the output to numpy float 64\"\n",
        "assert np.isclose(Z, -6.999089450680221), \"Wrong value\"\n",
        "\n",
        "print('b \\n',b)"
      ],
      "metadata": {
        "colab": {
          "base_uri": "https://localhost:8080/"
        },
        "id": "-0CuwyMWKN-T",
        "outputId": "947c2bed-0246-48bd-e30f-ca2d49536d58"
      },
      "execution_count": 9,
      "outputs": [
        {
          "output_type": "stream",
          "name": "stdout",
          "text": [
            "[[[ 0.19517964 -0.37757796 -0.15854148]\n",
            "  [ 0.37795303 -0.98874397  0.80402579]\n",
            "  [-0.36448112 -0.44654162  0.26766851]\n",
            "  [-0.23218928  0.41755949 -1.82351535]]\n",
            "\n",
            " [[ 0.24323087 -0.48116947  0.58154416]\n",
            "  [ 0.32786971 -0.08423431  0.06634126]\n",
            "  [ 0.04777032  0.88577236 -2.40548621]\n",
            "  [-1.59860247 -1.30199961 -0.25349124]]\n",
            "\n",
            " [[ 0.14417035 -0.5990611  -0.03878845]\n",
            "  [ 1.89231409  0.0820284   0.43912088]\n",
            "  [-0.1591475  -0.30233062  0.15277783]\n",
            "  [ 0.16968185 -0.12522861 -0.00519314]]\n",
            "\n",
            " [[-0.22156233  0.02789749 -1.11316672]\n",
            "  [ 0.280169   -0.02336965 -1.00256263]\n",
            "  [-0.89578144  0.31336883 -0.01906739]\n",
            "  [ 0.40686849  0.08085163  0.16243388]]]\n",
            "-6.655235775109145\n",
            "Z = -6.999089450680221\n",
            "\u001b[92mAll tests passed!\n",
            "b \n",
            " [[[-0.34385368]]]\n"
          ]
        }
      ]
    },
    {
      "cell_type": "code",
      "source": [
        "def conv_forward(A_prev,W,b,hparameters):\n",
        "  (m, n_H_prev, n_W_prev, n_C_prev) = A_prev.shape\n",
        "  (f,f,n_C_prev,n_C) = W.shape\n",
        "  stride=hparameters['stride']\n",
        "  pad=hparameters['pad']\n",
        "  n_H= int((n_H_prev-f+2*pad)/stride+1)\n",
        "  n_W= int((n_W_prev-f+2*pad)/stride+1)\n",
        "  Z = np.zeros((m,n_H,n_W,n_C))     # output\n",
        "  A_prev_pad = zero_pad(A_prev,pad)\n",
        "  for i in range(m):\n",
        "    for h in range(n_H):\n",
        "      for w in range(n_W):\n",
        "        for c in range(n_C):\n",
        "          vert_start=stride*h\n",
        "          vert_end=vert_start+f\n",
        "          horiz_start=stride*w\n",
        "          horiz_end=horiz_start+f\n",
        "          a_slice_pad=A_prev_pad[i,vert_start:vert_end,horiz_start:horiz_end,:]\n",
        "          Z[i,h,w,c] = conv_single_step(a_slice_pad,W[:,:,:,c],b[:,:,:,c])     # W,b 는 왜 이렇게 모양을 바꾸는가?\n",
        "  cache=(A_prev,W,b,hparameters)\n",
        "  print(n_H,n_W)\n",
        "  return Z,cache        \n",
        "\n",
        "np.random.seed(1)\n",
        "A_prev = np.random.randn(2, 5, 7, 4)\n",
        "W = np.random.randn(3, 3, 4, 8)\n",
        "b = np.random.randn(1, 1, 1, 8)\n",
        "hparameters = {\"pad\" : 1,\n",
        "               \"stride\": 2}\n",
        "\n",
        "Z, cache_conv = conv_forward(A_prev, W, b, hparameters)\n",
        "z_mean = np.mean(Z)\n",
        "z_0_2_1 = Z[0, 2, 1]\n",
        "cache_0_1_2_3 = cache_conv[0][1][2][3]\n",
        "print(\"Z's mean =\\n\", z_mean)\n",
        "print(\"Z[0,2,1] =\\n\", z_0_2_1)\n",
        "print(\"cache_conv[0][1][2][3] =\\n\", cache_0_1_2_3)\n",
        "\n",
        "conv_forward_test_1(z_mean, z_0_2_1, cache_0_1_2_3)\n",
        "conv_forward_test_2(conv_forward)\n",
        "\n",
        "               \n",
        "  "
      ],
      "metadata": {
        "colab": {
          "base_uri": "https://localhost:8080/"
        },
        "id": "_31QHH35OGtK",
        "outputId": "a89b46e7-4167-4c30-8f53-300f3484a801"
      },
      "execution_count": 16,
      "outputs": [
        {
          "output_type": "stream",
          "name": "stdout",
          "text": [
            "3 4\n",
            "Z's mean =\n",
            " 0.5511276474566768\n",
            "Z[0,2,1] =\n",
            " [-2.17796037  8.07171329 -0.5772704   3.36286738  4.48113645 -2.89198428\n",
            " 10.99288867  3.03171932]\n",
            "cache_conv[0][1][2][3] =\n",
            " [-1.1191154   1.9560789  -0.3264995  -1.34267579]\n",
            "\u001b[92mFirst Test: All tests passed!\n",
            "9 11\n",
            "2 3\n",
            "13 15\n",
            "\u001b[92mSecond Test: All tests passed!\n"
          ]
        }
      ]
    },
    {
      "cell_type": "code",
      "source": [
        "def pool_forward(A_prev,hparameters,mode='max'):\n",
        "  (m, n_H_prev, n_W_prev, n_C_prev) = A_prev.shape\n",
        "  f = hparameters[\"f\"]\n",
        "  stride = hparameters[\"stride\"]\n",
        "\n",
        "  n_H = int(1 + (n_H_prev - f) / stride)\n",
        "  n_W = int(1 + (n_W_prev - f) / stride)\n",
        "  n_C = n_C_prev\n",
        "\n",
        "  A = np.zeros((m, n_H, n_W, n_C))   #output\n",
        "\n",
        "  for i in range(m):\n",
        "    for h in range(n_H):\n",
        "      vert_start=h*stride\n",
        "      vert_end=vert_start+f\n",
        "      for w in range(n_W):\n",
        "        horiz_start=w*stride\n",
        "        horiz_end=horiz_start+f\n",
        "        for c in range(n_C):\n",
        "          a_prev_slice = A_prev[i,vert_start:vert_end,horiz_start:horiz_end,c]\n",
        "          if mode == 'max':\n",
        "            A[i,h,w,c] = np.max(a_prev_slice)\n",
        "          if mode == 'average':\n",
        "            A[i,h,w,c] = np.mean(a_prev_slice)\n",
        "  cache = (A_prev,hparameters)\n",
        "  assert(A.shape==(m,n_H,n_W,n_C))\n",
        "  return A, cache\n",
        "\n",
        "\n",
        "# Case 1: stride of 1\n",
        "np.random.seed(1)\n",
        "A_prev = np.random.randn(2, 5, 5, 3)\n",
        "hparameters = {\"stride\" : 1, \"f\": 3}\n",
        "\n",
        "A, cache = pool_forward(A_prev, hparameters, mode = \"max\")\n",
        "print(\"mode = max\")\n",
        "print(\"A.shape = \" + str(A.shape))\n",
        "print(\"A[1, 1] =\\n\", A[1, 1])\n",
        "A, cache = pool_forward(A_prev, hparameters, mode = \"average\")\n",
        "print(\"mode = average\")\n",
        "print(\"A.shape = \" + str(A.shape))\n",
        "print(\"A[1, 1] =\\n\", A[1, 1])\n",
        "\n",
        "pool_forward_test(pool_forward)\n",
        "\n"
      ],
      "metadata": {
        "colab": {
          "base_uri": "https://localhost:8080/"
        },
        "id": "8Wqr7eK3V3zF",
        "outputId": "48e47a4e-4714-460e-acde-61cd04099eb6"
      },
      "execution_count": 23,
      "outputs": [
        {
          "output_type": "stream",
          "name": "stdout",
          "text": [
            "mode = max\n",
            "A.shape = (2, 3, 3, 3)\n",
            "A[1, 1] =\n",
            " [[1.96710175 0.84616065 1.27375593]\n",
            " [1.96710175 0.84616065 1.23616403]\n",
            " [1.62765075 1.12141771 1.2245077 ]]\n",
            "mode = average\n",
            "A.shape = (2, 3, 3, 3)\n",
            "A[1, 1] =\n",
            " [[ 0.44497696 -0.00261695 -0.31040307]\n",
            " [ 0.50811474 -0.23493734 -0.23961183]\n",
            " [ 0.11872677  0.17255229 -0.22112197]]\n",
            "\u001b[92mAll tests passed!\n"
          ]
        }
      ]
    },
    {
      "cell_type": "code",
      "source": [
        "# Case 2: stride of 2\n",
        "np.random.seed(1)\n",
        "A_prev = np.random.randn(2, 5, 5, 3)\n",
        "hparameters = {\"stride\" : 2, \"f\": 3}\n",
        "\n",
        "A, cache = pool_forward(A_prev, hparameters)\n",
        "print(\"mode = max\")\n",
        "print(\"A.shape = \" + str(A.shape))\n",
        "print(\"A[0] =\\n\", A[0])\n",
        "print()\n",
        "\n",
        "A, cache = pool_forward(A_prev, hparameters, mode = \"average\")\n",
        "print(\"mode = average\")\n",
        "print(\"A.shape = \" + str(A.shape))\n",
        "print(\"A[1] =\\n\", A[1])"
      ],
      "metadata": {
        "colab": {
          "base_uri": "https://localhost:8080/"
        },
        "id": "dkca4B1mZ0RE",
        "outputId": "3ddb49fb-6fea-4751-f959-95defc130b75"
      },
      "execution_count": 24,
      "outputs": [
        {
          "output_type": "stream",
          "name": "stdout",
          "text": [
            "mode = max\n",
            "A.shape = (2, 2, 2, 3)\n",
            "A[0] =\n",
            " [[[1.74481176 0.90159072 1.65980218]\n",
            "  [1.74481176 1.6924546  1.65980218]]\n",
            "\n",
            " [[1.13162939 1.51981682 2.18557541]\n",
            "  [1.13162939 1.6924546  2.18557541]]]\n",
            "\n",
            "mode = average\n",
            "A.shape = (2, 2, 2, 3)\n",
            "A[1] =\n",
            " [[[-0.17313416  0.32377198 -0.34317572]\n",
            "  [ 0.02030094  0.14141479 -0.01231585]]\n",
            "\n",
            " [[ 0.42944926  0.08446996 -0.27290905]\n",
            "  [ 0.15077452  0.28911175  0.00123239]]]\n"
          ]
        }
      ]
    }
  ]
}