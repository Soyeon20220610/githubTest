{
  "nbformat": 4,
  "nbformat_minor": 0,
  "metadata": {
    "colab": {
      "name": "Deep Neural Network - Application.ipynb",
      "provenance": [],
      "authorship_tag": "ABX9TyO4aCzqmd+944LP26wWjlHF",
      "include_colab_link": true
    },
    "kernelspec": {
      "name": "python3",
      "display_name": "Python 3"
    },
    "language_info": {
      "name": "python"
    }
  },
  "cells": [
    {
      "cell_type": "markdown",
      "metadata": {
        "id": "view-in-github",
        "colab_type": "text"
      },
      "source": [
        "<a href=\"https://colab.research.google.com/github/Soyeon20220610/githubTest/blob/main/C1W4_Deep_Neural_Network_Application.ipynb\" target=\"_parent\"><img src=\"https://colab.research.google.com/assets/colab-badge.svg\" alt=\"Open In Colab\"/></a>"
      ]
    },
    {
      "cell_type": "code",
      "execution_count": null,
      "metadata": {
        "id": "xrjvJ4zzjIw9"
      },
      "outputs": [],
      "source": [
        "import time\n",
        "import numpy as np\n",
        "import h5py\n",
        "import matplotlib.pyplot as plt\n",
        "import scipy\n",
        "from PIL import Image\n",
        "from scipy import ndimage\n",
        "from dnn_app_utils_v3 import *\n",
        "from public_tests import *\n",
        "\n",
        "%matplotlib inline\n",
        "plt.rcParams['figure.figsize'] = (5.0, 4.0) # set default size of plots\n",
        "plt.rcParams['image.interpolation'] = 'nearest'\n",
        "plt.rcParams['image.cmap'] = 'gray'\n",
        "\n",
        "%load_ext autoreload\n",
        "%autoreload 2\n",
        "\n",
        "np.random.seed(1)"
      ]
    },
    {
      "cell_type": "code",
      "source": [
        "train_x_orig, train_y, test_x_orig, test_y, classes = load_data() \n"
      ],
      "metadata": {
        "id": "bGMu_Dj7ltr3"
      },
      "execution_count": 8,
      "outputs": []
    },
    {
      "cell_type": "code",
      "source": [
        "# Example of a picture\n",
        "index = 10\n",
        "plt.imshow(train_x_orig[index])\n",
        "print (\"y = \" + str(train_y[0,index]) + \". It's a \" + classes[train_y[0,index]].decode(\"utf-8\") +  \" picture.\")"
      ],
      "metadata": {
        "colab": {
          "base_uri": "https://localhost:8080/",
          "height": 286
        },
        "id": "mVU8lw9qgNZb",
        "outputId": "01621be4-06e0-4f47-e24f-fbe3d305734f"
      },
      "execution_count": 9,
      "outputs": [
        {
          "output_type": "stream",
          "name": "stdout",
          "text": [
            "y = 0. It's a non-cat picture.\n"
          ]
        },
        {
          "output_type": "display_data",
          "data": {
            "text/plain": [
              "<Figure size 360x288 with 1 Axes>"
            ],
            "image/png": "[encoded data removed]"
          },
          "metadata": {
            "needs_background": "light"
          }
        }
      ]
    },
    {
      "cell_type": "code",
      "source": [
        "# Explore your dataset \n",
        "m_train = train_x_orig.shape[0]\n",
        "num_px = train_x_orig.shape[1]\n",
        "m_test = test_x_orig.shape[0]\n",
        "\n",
        "print (\"Number of training examples: \" + str(m_train))\n",
        "print (\"Number of testing examples: \" + str(m_test))\n",
        "print (\"Each image is of size: (\" + str(num_px) + \", \" + str(num_px) + \", 3)\")\n",
        "print (\"train_x_orig shape: \" + str(train_x_orig.shape))\n",
        "print (\"train_y shape: \" + str(train_y.shape))\n",
        "print (\"test_x_orig shape: \" + str(test_x_orig.shape))\n",
        "print (\"test_y shape: \" + str(test_y.shape))"
      ],
      "metadata": {
        "colab": {
          "base_uri": "https://localhost:8080/"
        },
        "id": "Tqb0PvSPhlkZ",
        "outputId": "832fbe45-7327-4eb1-d992-1a7ac24aa4c5"
      },
      "execution_count": 10,
      "outputs": [
        {
          "output_type": "stream",
          "name": "stdout",
          "text": [
            "Number of training examples: 209\n",
            "Number of testing examples: 50\n",
            "Each image is of size: (64, 64, 3)\n",
            "train_x_orig shape: (209, 64, 64, 3)\n",
            "train_y shape: (1, 209)\n",
            "test_x_orig shape: (50, 64, 64, 3)\n",
            "test_y shape: (1, 50)\n"
          ]
        }
      ]
    },
    {
      "cell_type": "code",
      "source": [
        "train_x_flatten = train_x_orig.reshape(train_x_orig.shape[0],-1).T  #train_x_orig.shape[0] 이 뒤에 가고 나머지 숫자 곱한게 앞으로 온다.\n",
        "test_x_flatten = test_x_orig.reshape(test_x_orig.shape[0], -1).T\n",
        "\n",
        "train_x=train_x_flatten/255\n",
        "test_x=test_x_flatten/255\n",
        "\n",
        "print (\"train_x's shape: \" + str(train_x.shape))\n",
        "print (\"test_x's shape: \" + str(test_x.shape))"
      ],
      "metadata": {
        "colab": {
          "base_uri": "https://localhost:8080/"
        },
        "id": "7dVwi3Svhq7T",
        "outputId": "e002d5d8-f460-47b1-c8d2-9e89a9bfba9f"
      },
      "execution_count": 11,
      "outputs": [
        {
          "output_type": "stream",
          "name": "stdout",
          "text": [
            "train_x's shape: (12288, 209)\n",
            "test_x's shape: (12288, 50)\n"
          ]
        }
      ]
    },
    {
      "cell_type": "code",
      "source": [
        "# sigmoid 가 0.5 이상이면 cat으로 인식 함\n",
        "#input->relu->sigmoid->output"
      ],
      "metadata": {
        "id": "8baF8TxviDnt"
      },
      "execution_count": null,
      "outputs": []
    },
    {
      "cell_type": "code",
      "source": [
        "n_x = 12288\n",
        "n_h = 7\n",
        "n_y = 1\n",
        "layer_dims = (n_x,n_h,n_y)\n",
        "learning_rate = 0.0075"
      ],
      "metadata": {
        "id": "HfZb66k-iXK2"
      },
      "execution_count": 12,
      "outputs": []
    },
    {
      "cell_type": "code",
      "source": [
        "# def initialize_parameters(n_x, n_h, n_y):\n",
        "#     ...\n",
        "#     return parameters \n",
        "# def linear_activation_forward(A_prev, W, b, activation):\n",
        "#     ...\n",
        "#     return A, cache\n",
        "# def compute_cost(AL, Y):\n",
        "#     ...\n",
        "#     return cost\n",
        "# def linear_activation_backward(dA, cache, activation):\n",
        "#     ...\n",
        "#     return dA_prev, dW, db\n",
        "# def update_parameters(parameters, grads, learning_rate):\n",
        "#     ...\n",
        "#     return parameters"
      ],
      "metadata": {
        "id": "EM5LweyhjAJM"
      },
      "execution_count": null,
      "outputs": []
    },
    {
      "cell_type": "code",
      "source": [
        "def two_layer_model(X,Y,layers_dims,learning_rate = 0.0075, num_iterations=3000, print_cost=False):\n",
        "  np.random.seed(1)\n",
        "  grads={}       # db , dW 저장하기 위함\n",
        "  costs = []     #iteration에 따른 cost 저장하기 위해서\n",
        "  m=X.shape[1]\n",
        "  (n_x,n_h,n_y) = layers_dims\n",
        "\n",
        "  parameters = initialize_parameters(n_x, n_h, n_y)\n",
        "\n",
        "  W1 = parameters[\"W1\"]\n",
        "  b1 = parameters[\"b1\"]\n",
        "  W2 = parameters[\"W2\"]\n",
        "  b2 = parameters[\"b2\"]\n",
        "\n",
        "  #gradient descent\n",
        "  for i in range(0,num_iterations):\n",
        "    #forward propagation\n",
        "    A1, cache1 = linear_activation_forward(X,W1,b1,'relu')\n",
        "    A2, cache2 = linear_activation_forward(A1,W2,b2,'sigmoid')\n",
        "    cost = compute_cost(A2,Y)\n",
        "    #backward propagation\n",
        "    dA2 = - (np.divide(Y, A2) - np.divide(1 - Y, 1 - A2))    #initializing\n",
        "    dA1, dW2, db2 = linear_activation_backward(dA2, cache2, 'sigmoid')\n",
        "    dA0, dW1, db1 = linear_activation_backward(dA1, cache1, 'relu')\n",
        "    grads['dW1'] = dW1\n",
        "    grads['db1'] = db1\n",
        "    grads['dW2'] = dW2\n",
        "    grads['db2'] = db2   \n",
        "    parameters = update_parameters(parameters, grads, learning_rate)\n",
        "    W1 = parameters[\"W1\"]\n",
        "    b1 = parameters[\"b1\"]\n",
        "    W2 = parameters[\"W2\"]\n",
        "    b2 = parameters[\"b2\"]\n",
        "   # Print the cost every 100 iterations\n",
        "    if print_cost and i % 100 == 0 or i == num_iterations - 1:\n",
        "            print(\"Cost after iteration {}: {}\".format(i, np.squeeze(cost)))\n",
        "    if i % 100 == 0 or i == num_iterations:\n",
        "            costs.append(cost)\n",
        "  return parameters, costs\n",
        "\n",
        "def plot_costs(costs, learning_rate=0.0075):\n",
        "    plt.plot(np.squeeze(costs))\n",
        "    plt.ylabel('cost')\n",
        "    plt.xlabel('iterations (per hundreds)')\n",
        "    plt.title(\"Learning rate =\" + str(learning_rate))\n",
        "    plt.show()"
      ],
      "metadata": {
        "id": "JGtwnzPkiiPE"
      },
      "execution_count": 19,
      "outputs": []
    },
    {
      "cell_type": "code",
      "source": [
        "parameters, costs = two_layer_model(train_x, train_y, layers_dims = (n_x, n_h, n_y), num_iterations = 2, print_cost=False)\n",
        "\n",
        "print(\"Cost after first iteration: \" + str(costs[0]))\n",
        "\n",
        "two_layer_model_test(two_layer_model)"
      ],
      "metadata": {
        "colab": {
          "base_uri": "https://localhost:8080/"
        },
        "id": "ujFt_9Quke-W",
        "outputId": "7c6b1f2e-9414-4315-e290-6ae79cb52272"
      },
      "execution_count": 20,
      "outputs": [
        {
          "output_type": "stream",
          "name": "stdout",
          "text": [
            "Cost after iteration 1: 0.6926114346158595\n",
            "Cost after first iteration: 0.693049735659989\n",
            "Cost after iteration 1: 0.6915746967050506\n",
            "Cost after iteration 1: 0.6915746967050506\n",
            "Cost after iteration 1: 0.6915746967050506\n",
            "Cost after iteration 2: 0.6524135179683452\n",
            "\u001b[92m All tests passed.\n"
          ]
        }
      ]
    },
    {
      "cell_type": "code",
      "source": [
        "parameters, costs = two_layer_model(train_x, train_y, layers_dims = (n_x, n_h, n_y), num_iterations = 2500, print_cost=True)\n",
        "plot_costs(costs, learning_rate)"
      ],
      "metadata": {
        "colab": {
          "base_uri": "https://localhost:8080/",
          "height": 767
        },
        "id": "T7EGkKI0pFzK",
        "outputId": "f9aa1048-d49f-4d84-948f-83b86e7c8a16"
      },
      "execution_count": 29,
      "outputs": [
        {
          "output_type": "stream",
          "name": "stdout",
          "text": [
            "Cost after iteration 0: 0.693049735659989\n",
            "Cost after iteration 100: 0.6464320953428849\n",
            "Cost after iteration 200: 0.6325140647912678\n",
            "Cost after iteration 300: 0.6015024920354665\n",
            "Cost after iteration 400: 0.5601966311605748\n",
            "Cost after iteration 500: 0.515830477276473\n",
            "Cost after iteration 600: 0.47549013139433255\n",
            "Cost after iteration 700: 0.4339163151225749\n",
            "Cost after iteration 800: 0.4007977536203889\n",
            "Cost after iteration 900: 0.3580705011323798\n",
            "Cost after iteration 1000: 0.3394281538366412\n",
            "Cost after iteration 1100: 0.30527536361962637\n",
            "Cost after iteration 1200: 0.27491377282130164\n",
            "Cost after iteration 1300: 0.24681768210614818\n",
            "Cost after iteration 1400: 0.1985073503746612\n",
            "Cost after iteration 1500: 0.17448318112556635\n",
            "Cost after iteration 1600: 0.1708076297809699\n",
            "Cost after iteration 1700: 0.11306524562164708\n",
            "Cost after iteration 1800: 0.09629426845937154\n",
            "Cost after iteration 1900: 0.08342617959726871\n",
            "Cost after iteration 2000: 0.07439078704319087\n",
            "Cost after iteration 2100: 0.06630748132267933\n",
            "Cost after iteration 2200: 0.05919329501038172\n",
            "Cost after iteration 2300: 0.053361403485605585\n",
            "Cost after iteration 2400: 0.048554785628770226\n",
            "Cost after iteration 2499: 0.044214982158689575\n"
          ]
        },
        {
          "output_type": "display_data",
          "data": {
            "text/plain": [
              "<Figure size 360x288 with 1 Axes>"
            ],
            "image/png": "[encoded data removed]"
          },
          "metadata": {
            "needs_background": "light"
          }
        }
      ]
    },
    {
      "cell_type": "code",
      "source": [
        "predictions_train = predict(train_x, train_y, parameters)"
      ],
      "metadata": {
        "colab": {
          "base_uri": "https://localhost:8080/"
        },
        "id": "wtQfO99nmI2w",
        "outputId": "01185af0-ae67-473a-82ac-4ff102dfcff3"
      },
      "execution_count": 30,
      "outputs": [
        {
          "output_type": "stream",
          "name": "stdout",
          "text": [
            "Accuracy: 0.9999999999999998\n"
          ]
        }
      ]
    },
    {
      "cell_type": "code",
      "source": [
        "predictions_test = predict(test_x, test_y, parameters)"
      ],
      "metadata": {
        "colab": {
          "base_uri": "https://localhost:8080/"
        },
        "id": "qmTPcr6hmMD-",
        "outputId": "bcc6fb1f-eff4-420d-bbd0-a64533c22e86"
      },
      "execution_count": 31,
      "outputs": [
        {
          "output_type": "stream",
          "name": "stdout",
          "text": [
            "Accuracy: 0.72\n"
          ]
        }
      ]
    },
    {
      "cell_type": "markdown",
      "source": [
        "이제부터 4 layer neural network 만들거임\n",
        "*[LINEAR -> RELU] × (L-1) -> LINEAR -> SIGMOID*.\n",
        "\n",
        "∇\n",
        "layers_dims = [12288,20,7,5,1]\n",
        "∇\n",
        "input= 12288\n",
        "∇\n",
        "hidden layer 1 = 20\n",
        "∇\n",
        "hidden layer 2 = 7\n",
        "∇\n",
        "hiddnen layer 3 = 5\n",
        "∇\n",
        "output layer = 1\n"
      ],
      "metadata": {
        "id": "pbUWCTvVmZpW"
      }
    },
    {
      "cell_type": "code",
      "source": [
        "# def initialize_parameters_deep(layers_dims):\n",
        "#     ...\n",
        "#     return parameters \n",
        "# def L_model_forward(X, parameters):\n",
        "#     ...\n",
        "#     return AL, caches\n",
        "# def compute_cost(AL, Y):\n",
        "#     ...\n",
        "#     return cost\n",
        "# def L_model_backward(AL, Y, caches):\n",
        "#     ...\n",
        "#     return grads\n",
        "# def update_parameters(parameters, grads, learning_rate):\n",
        "#     ...\n",
        "#     return parameters\n",
        "\n",
        "#모두 사용\n"
      ],
      "metadata": {
        "id": "YPFFKTsSmj4Q"
      },
      "execution_count": null,
      "outputs": []
    },
    {
      "cell_type": "code",
      "source": [
        "### CONSTANTS ###\n",
        "layers_dims = [12288, 20, 7, 5, 1] #  4-layer model"
      ],
      "metadata": {
        "id": "GfeWIbsOmZGl"
      },
      "execution_count": 23,
      "outputs": []
    },
    {
      "cell_type": "code",
      "source": [
        "def L_layer_model(X,Y,layers_dims, learning_rate = 0.0075, num_iterations=3000,print_cost=False):\n",
        "  np.random.seed(1)\n",
        "  costs = []\n",
        "\n",
        "  parameters = initialize_parameters_deep(layers_dims)   # 초기화한 W,b를 가지고\n",
        "\n",
        "  for i in range(0,num_iterations):\n",
        "    AL,caches=L_model_forward(X,parameters)       # 첫번째 iteration에서의 output=AL 과 이번 iteration에서 얻은 caches=(Z1,A1,Z2,A2,,,,,) 를  저장\n",
        "    cost = compute_cost(AL,Y)\n",
        "    grads = L_model_backward(AL,Y,caches)\n",
        "    update_parameters(parameters, grads, learning_rate)\n",
        "    if print_cost and i % 100 == 0 or i == num_iterations - 1:\n",
        "            print(\"Cost after iteration {}: {}\".format(i, np.squeeze(cost)))\n",
        "    if i % 100 == 0 or i == num_iterations:\n",
        "            costs.append(cost)\n",
        "\n",
        "  return parameters, costs\n",
        "\n"
      ],
      "metadata": {
        "id": "bREJTNSXnM2w"
      },
      "execution_count": 24,
      "outputs": []
    },
    {
      "cell_type": "code",
      "source": [
        "parameters, costs = L_layer_model(train_x, train_y, layers_dims, num_iterations = 2, print_cost = False)\n",
        "\n",
        "print(\"Cost after first iteration: \" + str(costs[0]))\n",
        "\n",
        "L_layer_model_test(L_layer_model)"
      ],
      "metadata": {
        "colab": {
          "base_uri": "https://localhost:8080/"
        },
        "id": "XYB0jJstoqf6",
        "outputId": "21461cd0-2cdc-4370-bf59-c7d6c2ecdf9f"
      },
      "execution_count": 26,
      "outputs": [
        {
          "output_type": "stream",
          "name": "stdout",
          "text": [
            "Cost after iteration 1: 0.6979908448967276\n",
            "Cost after first iteration: 0.7717493284237686\n",
            "Cost after iteration 1: 0.7070709008912569\n",
            "Cost after iteration 1: 0.7070709008912569\n",
            "Cost after iteration 1: 0.7070709008912569\n",
            "Cost after iteration 2: 0.7063462654190897\n",
            "\u001b[92m All tests passed.\n"
          ]
        }
      ]
    },
    {
      "cell_type": "code",
      "source": [
        "parameters, costs = L_layer_model(train_x, train_y, layers_dims, num_iterations = 2500, print_cost = True)"
      ],
      "metadata": {
        "colab": {
          "base_uri": "https://localhost:8080/"
        },
        "id": "mNGc8eFirwFO",
        "outputId": "5ea88781-fec6-4a77-e185-2ce7ae3bfeaf"
      },
      "execution_count": 32,
      "outputs": [
        {
          "output_type": "stream",
          "name": "stdout",
          "text": [
            "Cost after iteration 0: 0.7717493284237686\n",
            "Cost after iteration 100: 0.6720534400822914\n",
            "Cost after iteration 200: 0.6482632048575212\n",
            "Cost after iteration 300: 0.6115068816101354\n",
            "Cost after iteration 400: 0.5670473268366111\n",
            "Cost after iteration 500: 0.5401376634547801\n",
            "Cost after iteration 600: 0.5279299569455267\n",
            "Cost after iteration 700: 0.46547737717668514\n",
            "Cost after iteration 800: 0.36912585249592794\n",
            "Cost after iteration 900: 0.39174697434805344\n",
            "Cost after iteration 1000: 0.3151869888600617\n",
            "Cost after iteration 1100: 0.2726998441789385\n",
            "Cost after iteration 1200: 0.23741853400268137\n",
            "Cost after iteration 1300: 0.19960120532208644\n",
            "Cost after iteration 1400: 0.18926300388463305\n",
            "Cost after iteration 1500: 0.1611885466582775\n",
            "Cost after iteration 1600: 0.14821389662363316\n",
            "Cost after iteration 1700: 0.13777487812972944\n",
            "Cost after iteration 1800: 0.12974017549190123\n",
            "Cost after iteration 1900: 0.12122535068005212\n",
            "Cost after iteration 2000: 0.1138206066863371\n",
            "Cost after iteration 2100: 0.10783928526254132\n",
            "Cost after iteration 2200: 0.10285466069352679\n",
            "Cost after iteration 2300: 0.10089745445261787\n",
            "Cost after iteration 2400: 0.09287821526472397\n",
            "Cost after iteration 2499: 0.08843994344170202\n"
          ]
        }
      ]
    },
    {
      "cell_type": "code",
      "source": [
        "pred_train = predict(train_x, train_y, parameters)"
      ],
      "metadata": {
        "colab": {
          "base_uri": "https://localhost:8080/"
        },
        "id": "QLkTOPe5o2Sq",
        "outputId": "33cd9c98-05e6-4471-82ef-cd6c3c6af023"
      },
      "execution_count": 33,
      "outputs": [
        {
          "output_type": "stream",
          "name": "stdout",
          "text": [
            "Accuracy: 0.9856459330143539\n"
          ]
        }
      ]
    },
    {
      "cell_type": "code",
      "source": [
        "pred_test = predict(test_x, test_y, parameters)"
      ],
      "metadata": {
        "colab": {
          "base_uri": "https://localhost:8080/"
        },
        "id": "cBNa2LOJo59M",
        "outputId": "89d4ad0a-f0e1-4dcc-e5dc-e86f974ddc94"
      },
      "execution_count": 34,
      "outputs": [
        {
          "output_type": "stream",
          "name": "stdout",
          "text": [
            "Accuracy: 0.8\n"
          ]
        }
      ]
    },
    {
      "cell_type": "markdown",
      "source": [
        "training sample accuracy는 layer2가 높지만,\n",
        "\n",
        "결과적으로는 layer 4개가 layer 2개보다 더 높은 test accuracy 를 얻었다."
      ],
      "metadata": {
        "id": "1EU6ut4ksJrc"
      }
    }
  ]
}
