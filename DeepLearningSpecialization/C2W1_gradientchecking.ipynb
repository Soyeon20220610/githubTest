{
  "nbformat": 4,
  "nbformat_minor": 0,
  "metadata": {
    "colab": {
      "name": "C2W1_gradientchecking.ipynb",
      "provenance": [],
      "authorship_tag": "ABX9TyOGjC8ypCTWw8708FWh+ysI",
      "include_colab_link": true
    },
    "kernelspec": {
      "name": "python3",
      "display_name": "Python 3"
    },
    "language_info": {
      "name": "python"
    }
  },
  "cells": [
    {
      "cell_type": "markdown",
      "metadata": {
        "id": "view-in-github",
        "colab_type": "text"
      },
      "source": [
        "<a href=\"https://colab.research.google.com/github/Soyeon20220610/githubTest/blob/main/C2W1_gradientchecking.ipynb\" target=\"_parent\"><img src=\"https://colab.research.google.com/assets/colab-badge.svg\" alt=\"Open In Colab\"/></a>"
      ]
    },
    {
      "cell_type": "markdown",
      "source": [
        "backprop 과정의 accuracy 점검하는 과정\n",
        "\n",
        "\n",
        "*   forward prop은 정확도가 높기 때문에 cost function 은 신뢰 가능, J을 이용해 \n",
        "J(theta+epsilon), J(theta-epsilon) 이라는 정확한 값을 구하고 backprop에서 구한 $\\frac{\\partial J}{\\partial \\theta}$ 과 비교\n",
        " \n",
        "Let's look back at the definition of a derivative (or gradient):$$ \\frac{\\partial J}{\\partial \\theta} = \\lim_{\\varepsilon \\to 0} \\frac{J(\\theta + \\varepsilon) - J(\\theta - \\varepsilon)}{2 \\varepsilon} $$\n",
        "\n",
        "여기서 뒤의 lim을 구하는게 gradient checking\n",
        "\n"
      ],
      "metadata": {
        "id": "IAyUoeGSO47P"
      }
    },
    {
      "cell_type": "markdown",
      "source": [
        "mobile payment fraud detection"
      ],
      "metadata": {
        "id": "zZRiUDztPjya"
      }
    },
    {
      "cell_type": "code",
      "execution_count": 3,
      "metadata": {
        "colab": {
          "base_uri": "https://localhost:8080/"
        },
        "id": "7sksHs49Owjm",
        "outputId": "0bfb03c6-a90a-4e21-bd50-bad4a584b2b1"
      },
      "outputs": [
        {
          "output_type": "stream",
          "name": "stdout",
          "text": [
            "Looking in indexes: https://pypi.org/simple, https://us-python.pkg.dev/colab-wheels/public/simple/\n",
            "Requirement already satisfied: dlai_tools in /usr/local/lib/python3.7/dist-packages (0.5.5)\n",
            "The autoreload extension is already loaded. To reload it, use:\n",
            "  %reload_ext autoreload\n"
          ]
        }
      ],
      "source": [
        "!pip install dlai_tools\n",
        "import numpy as np\n",
        "from testCases import *\n",
        "from public_tests import *\n",
        "from gc_utils import sigmoid, relu, dictionary_to_vector, vector_to_dictionary, gradients_to_vector\n",
        "\n",
        "%load_ext autoreload\n",
        "%autoreload 2"
      ]
    },
    {
      "cell_type": "code",
      "source": [
        "# J (theta) = theta*x 인 costfunction사용\n",
        "\n",
        "def forward_propagation(x,theta):\n",
        "  J=theta*x\n",
        "  return J\n",
        "\n",
        "x, theta = 2, 4\n",
        "J = forward_propagation(x, theta)\n",
        "print (\"J = \" + str(J))\n",
        "forward_propagation_test(forward_propagation)"
      ],
      "metadata": {
        "colab": {
          "base_uri": "https://localhost:8080/"
        },
        "id": "tdOoaF49PtQZ",
        "outputId": "db01d998-7eea-4fc2-a4ff-c9df5a78f388"
      },
      "execution_count": 5,
      "outputs": [
        {
          "output_type": "stream",
          "name": "stdout",
          "text": [
            "J = 8\n",
            "\u001b[92m All tests passed.\n"
          ]
        }
      ]
    },
    {
      "cell_type": "code",
      "source": [
        "def backward_propagation(x,theta):\n",
        "  dtheta = x\n",
        "  return dtheta\n",
        "x, theta = 2, 4\n",
        "dtheta = backward_propagation(x, theta)\n",
        "print (\"dtheta = \" + str(dtheta))\n",
        "backward_propagation_test(backward_propagation)"
      ],
      "metadata": {
        "colab": {
          "base_uri": "https://localhost:8080/"
        },
        "id": "8FW22Yf9RYtk",
        "outputId": "f233ecf9-97eb-4a99-a17a-22f23f07efb6"
      },
      "execution_count": 6,
      "outputs": [
        {
          "output_type": "stream",
          "name": "stdout",
          "text": [
            "dtheta = 2\n",
            "\u001b[92m All tests passed.\n"
          ]
        }
      ]
    },
    {
      "cell_type": "code",
      "source": [
        "# difference 작아야 좋은 거\n",
        "def gradient_check(x, theta, epsilon=1e-7, print_msg=False):\n",
        "    theta_plus = theta + epsilon\n",
        "    theta_minus = theta - epsilon\n",
        "    J_plus = forward_propagation(x, theta_plus)\n",
        "    J_minus = forward_propagation(x, theta_minus)\n",
        "    gradapprox = (J_plus - J_minus)/(2*epsilon)\n",
        "\n",
        "    grad =  backward_propagation(x, theta)\n",
        "\n",
        "    numerator = np.linalg.norm(grad-gradapprox)\n",
        "    denominator =  np.linalg.norm(grad)+np.linalg.norm(gradapprox)\n",
        "    difference = numerator/denominator\n",
        "\n",
        "    if print_msg:\n",
        "        if difference > 2e-7:\n",
        "            print (\"\\033[93m\" + \"There is a mistake in the backward propagation! difference = \" + str(difference) + \"\\033[0m\")\n",
        "        else:\n",
        "            print (\"\\033[92m\" + \"Your backward propagation works perfectly fine! difference = \" + str(difference) + \"\\033[0m\")\n",
        "    \n",
        "    return difference\n",
        "\n",
        "x, theta = 2, 4\n",
        "difference = gradient_check(x, theta, print_msg=True)\n",
        "\n"
      ],
      "metadata": {
        "colab": {
          "base_uri": "https://localhost:8080/"
        },
        "id": "KNld9AJrRx6-",
        "outputId": "4dd89e34-3a83-4bd6-dd53-f9ad24489a99"
      },
      "execution_count": 7,
      "outputs": [
        {
          "output_type": "stream",
          "name": "stdout",
          "text": [
            "\u001b[92mYour backward propagation works perfectly fine! difference = 2.919335883291695e-10\u001b[0m\n"
          ]
        }
      ]
    },
    {
      "cell_type": "markdown",
      "source": [
        "이제 N-dimensional 에 적용\n",
        "\n",
        "hidden layer2 개 있는 3 layer model"
      ],
      "metadata": {
        "id": "pNgK78M5SFMd"
      }
    },
    {
      "cell_type": "code",
      "source": [
        "def forward_propagation_n(X, Y, parameters):\n",
        "    m = X.shape[1]\n",
        "    W1 = parameters[\"W1\"]\n",
        "    b1 = parameters[\"b1\"]\n",
        "    W2 = parameters[\"W2\"]\n",
        "    b2 = parameters[\"b2\"]\n",
        "    W3 = parameters[\"W3\"]\n",
        "    b3 = parameters[\"b3\"]\n",
        "\n",
        "    # LINEAR -> RELU -> LINEAR -> RELU -> LINEAR -> SIGMOID\n",
        "    Z1 = np.dot(W1, X) + b1\n",
        "    A1 = relu(Z1)\n",
        "    Z2 = np.dot(W2, A1) + b2\n",
        "    A2 = relu(Z2)\n",
        "    Z3 = np.dot(W3, A2) + b3\n",
        "    A3 = sigmoid(Z3)\n",
        "\n",
        "    # Cost\n",
        "    log_probs = np.multiply(-np.log(A3),Y) + np.multiply(-np.log(1 - A3), 1 - Y)\n",
        "    cost = 1. / m * np.sum(log_probs)\n",
        "    \n",
        "    cache = (Z1, A1, W1, b1, Z2, A2, W2, b2, Z3, A3, W3, b3)\n",
        "    \n",
        "    return cost, cache"
      ],
      "metadata": {
        "id": "vTs3FyACSH-C"
      },
      "execution_count": 8,
      "outputs": []
    },
    {
      "cell_type": "code",
      "source": [
        "def backward_propagation_n(X, Y, cache):\n",
        "    m = X.shape[1]\n",
        "    (Z1, A1, W1, b1, Z2, A2, W2, b2, Z3, A3, W3, b3) = cache\n",
        "    \n",
        "    dZ3 = A3 - Y\n",
        "    dW3 = 1. / m * np.dot(dZ3, A2.T)\n",
        "    db3 = 1. / m * np.sum(dZ3, axis=1, keepdims=True)\n",
        "    \n",
        "    dA2 = np.dot(W3.T, dZ3)\n",
        "    dZ2 = np.multiply(dA2, np.int64(A2 > 0))\n",
        "    dW2 = 1. / m * np.dot(dZ2, A1.T) * 2\n",
        "    db2 = 1. / m * np.sum(dZ2, axis=1, keepdims=True)\n",
        "    \n",
        "    dA1 = np.dot(W2.T, dZ2)\n",
        "    dZ1 = np.multiply(dA1, np.int64(A1 > 0))\n",
        "    dW1 = 1. / m * np.dot(dZ1, X.T)\n",
        "    db1 = 4. / m * np.sum(dZ1, axis=1, keepdims=True)\n",
        "    \n",
        "    gradients = {\"dZ3\": dZ3, \"dW3\": dW3, \"db3\": db3,\n",
        "                 \"dA2\": dA2, \"dZ2\": dZ2, \"dW2\": dW2, \"db2\": db2,\n",
        "                 \"dA1\": dA1, \"dZ1\": dZ1, \"dW1\": dW1, \"db1\": db1}\n",
        "    \n",
        "    return gradients"
      ],
      "metadata": {
        "id": "hkEaIkMUSqL4"
      },
      "execution_count": 9,
      "outputs": []
    },
    {
      "cell_type": "code",
      "source": [
        "def gradient_check_n(parameters, gradients, X, Y, epsilon=1e-7, print_msg=False):\n",
        "  #W1,b1,W2,b2,W3,b3 = parameters\n",
        "  parameters_values, _ = dictionary_to_vector(parameters)\n",
        "\n",
        "  grad = gradients_to_vector(gradients)\n",
        "  # J_plus,minus, gradapprox 를 다 0으로 초기화시킴\n",
        "  num_parameters = parameters_values.shape[0]    #각 레이어 변수의 갯수\n",
        "  \n",
        "  J_plus = np.zeros((num_parameters, 1))\n",
        "  J_minus = np.zeros((num_parameters, 1))\n",
        "  gradapprox = np.zeros((num_parameters, 1))\n",
        "\n",
        "  #gradapprox 구하기\n",
        "  # 여기서 i 는 training sampe 갯수인가???\n",
        "  for i in range(num_parameters):\n",
        "    theta_plus = np.copy(parameters_values)\n",
        "    theta_plus[i] = theta_plus[i]+epsilon\n",
        "    # cost 구함\n",
        "    J_plus[i], _ = forward_propagation_n(X,Y,vector_to_dictionary(theta_plus))\n",
        "    # gradapprox 구함\n",
        "    gradapprox[i] = (J_plus[i]-J_minus[i])/(2*epsilon)\n",
        "  \n",
        "  if print_msg:\n",
        "        if difference > 2e-7:\n",
        "            print (\"\\033[93m\" + \"There is a mistake in the backward propagation! difference = \" + str(difference) + \"\\033[0m\")\n",
        "        else:\n",
        "            print (\"\\033[92m\" + \"Your backward propagation works perfectly fine! difference = \" + str(difference) + \"\\033[0m\")  \n",
        "  \n",
        "  numerator = np.linalg.norm(grad-gradapprox)\n",
        "  denominator = np.linalg.norm(grad)+np.linalg.norm(gradapprox)\n",
        "  difference=numerator/denominator\n",
        "  \n",
        "  return difference"
      ],
      "metadata": {
        "id": "t1vobeh5S1M5"
      },
      "execution_count": 17,
      "outputs": []
    },
    {
      "cell_type": "code",
      "source": [
        "# GRADED FUNCTION: gradient_check_n\n",
        "\n",
        "def gradient_check_n(parameters, gradients, X, Y, epsilon=1e-7, print_msg=False):\n",
        "    \"\"\"\n",
        "    Checks if backward_propagation_n computes correctly the gradient of the cost output by forward_propagation_n\n",
        "    \n",
        "    Arguments:\n",
        "    parameters -- python dictionary containing your parameters \"W1\", \"b1\", \"W2\", \"b2\", \"W3\", \"b3\":\n",
        "    grad -- output of backward_propagation_n, contains gradients of the cost with respect to the parameters. \n",
        "    x -- input datapoint, of shape (input size, 1)\n",
        "    y -- true \"label\"\n",
        "    epsilon -- tiny shift to the input to compute approximated gradient with formula(1)\n",
        "    \n",
        "    Returns:\n",
        "    difference -- difference (2) between the approximated gradient and the backward propagation gradient\n",
        "    \"\"\"\n",
        "    \n",
        "    # Set-up variables\n",
        "    parameters_values, _ = dictionary_to_vector(parameters)\n",
        "    \n",
        "    grad = gradients_to_vector(gradients)\n",
        "    num_parameters = parameters_values.shape[0]\n",
        "    J_plus = np.zeros((num_parameters, 1))\n",
        "    J_minus = np.zeros((num_parameters, 1))\n",
        "    gradapprox = np.zeros((num_parameters, 1))\n",
        "    \n",
        "    # Compute gradapprox\n",
        "    for i in range(num_parameters):\n",
        "        \n",
        "        # Compute J_plus[i]. Inputs: \"parameters_values, epsilon\". Output = \"J_plus[i]\".\n",
        "        # \"_\" is used because the function you have to outputs two parameters but we only care about the first one\n",
        "        #(approx. 3 lines)\n",
        "        # theta_plus =                                        # Step 1\n",
        "        # theta_plus[i] =                                     # Step 2\n",
        "        # J_plus[i], _ =                                     # Step 3\n",
        "        # YOUR CODE STARTS HERE\n",
        "        theta_plus = np.copy(parameters_values)\n",
        "        theta_plus[i] = theta_plus[i]+epsilon\n",
        "        J_plus[i], _ = forward_propagation_n(X,Y,vector_to_dictionary(theta_plus))\n",
        "        # YOUR CODE ENDS HERE\n",
        "        \n",
        "        # Compute J_minus[i]. Inputs: \"parameters_values, epsilon\". Output = \"J_minus[i]\".\n",
        "        #(approx. 3 lines)\n",
        "        # theta_minus =                                    # Step 1\n",
        "        # theta_minus[i] =                                 # Step 2        \n",
        "        # J_minus[i], _ =                                 # Step 3\n",
        "        # YOUR CODE STARTS HERE\n",
        "        theta_minus = np.copy(parameters_values)                                  \n",
        "        theta_minus[i] =  theta_minus[i]-epsilon                                   \n",
        "        J_minus[i], _ = forward_propagation_n(X,Y,vector_to_dictionary(theta_minus))\n",
        "        \n",
        "        # YOUR CODE ENDS HERE\n",
        "        \n",
        "        # Compute gradapprox[i]\n",
        "        # (approx. 1 line)\n",
        "        # gradapprox[i] = \n",
        "        # YOUR CODE STARTS HERE\n",
        "        \n",
        "        \n",
        "        # YOUR CODE ENDS HERE\n",
        "    \n",
        "    # Compare gradapprox to backward propagation gradients by computing difference.\n",
        "    # (approx. 3 line)\n",
        "    # numerator =                                             # Step 1'\n",
        "    # denominator =                                           # Step 2'\n",
        "    # difference =                                            # Step 3'\n",
        "    # YOUR CODE STARTS HERE\n",
        "    numerator = np.linalg.norm(grad-gradapprox)\n",
        "    denominator = np.linalg.norm(grad)+np.linalg.norm(gradapprox)\n",
        "    difference=numerator/denominator\n",
        "    \n",
        "    # YOUR CODE ENDS HERE\n",
        "    if print_msg:\n",
        "        if difference > 2e-7:\n",
        "            print (\"\\033[93m\" + \"There is a mistake in the backward propagation! difference = \" + str(difference) + \"\\033[0m\")\n",
        "        else:\n",
        "            print (\"\\033[92m\" + \"Your backward propagation works perfectly fine! difference = \" + str(difference) + \"\\033[0m\")\n",
        "\n",
        "    return difference"
      ],
      "metadata": {
        "id": "8GbWMV3PV2Mo"
      },
      "execution_count": 19,
      "outputs": []
    },
    {
      "cell_type": "code",
      "source": [
        "X, Y, parameters = gradient_check_n_test_case()\n",
        "\n",
        "cost, cache = forward_propagation_n(X, Y, parameters)\n",
        "gradients = backward_propagation_n(X, Y, cache)\n",
        "difference = gradient_check_n(parameters, gradients, X, Y, 1e-7, True)\n",
        "expected_values = [0.2850931567761623, 1.1890913024229996e-07]\n",
        "assert not(type(difference) == np.ndarray), \"You are not using np.linalg.norm for numerator or denominator\"\n",
        "assert np.any(np.isclose(difference, expected_values)), \"Wrong value. It is not one of the expected values\"\n"
      ],
      "metadata": {
        "colab": {
          "base_uri": "https://localhost:8080/",
          "height": 263
        },
        "id": "OvqFBV-lVbjh",
        "outputId": "2dc271db-9955-4c31-c131-669bf63130a6"
      },
      "execution_count": 20,
      "outputs": [
        {
          "output_type": "stream",
          "name": "stdout",
          "text": [
            "\u001b[93mThere is a mistake in the backward propagation! difference = 1.0\u001b[0m\n"
          ]
        },
        {
          "output_type": "error",
          "ename": "AssertionError",
          "evalue": "ignored",
          "traceback": [
            "\u001b[0;31m---------------------------------------------------------------------------\u001b[0m",
            "\u001b[0;31mAssertionError\u001b[0m                            Traceback (most recent call last)",
            "\u001b[0;32m<ipython-input-20-c57ee5e9e05a>\u001b[0m in \u001b[0;36m<module>\u001b[0;34m()\u001b[0m\n\u001b[1;32m      6\u001b[0m \u001b[0mexpected_values\u001b[0m \u001b[0;34m=\u001b[0m \u001b[0;34m[\u001b[0m\u001b[0;36m0.2850931567761623\u001b[0m\u001b[0;34m,\u001b[0m \u001b[0;36m1.1890913024229996e-07\u001b[0m\u001b[0;34m]\u001b[0m\u001b[0;34m\u001b[0m\u001b[0;34m\u001b[0m\u001b[0m\n\u001b[1;32m      7\u001b[0m \u001b[0;32massert\u001b[0m \u001b[0;32mnot\u001b[0m\u001b[0;34m(\u001b[0m\u001b[0mtype\u001b[0m\u001b[0;34m(\u001b[0m\u001b[0mdifference\u001b[0m\u001b[0;34m)\u001b[0m \u001b[0;34m==\u001b[0m \u001b[0mnp\u001b[0m\u001b[0;34m.\u001b[0m\u001b[0mndarray\u001b[0m\u001b[0;34m)\u001b[0m\u001b[0;34m,\u001b[0m \u001b[0;34m\"You are not using np.linalg.norm for numerator or denominator\"\u001b[0m\u001b[0;34m\u001b[0m\u001b[0;34m\u001b[0m\u001b[0m\n\u001b[0;32m----> 8\u001b[0;31m \u001b[0;32massert\u001b[0m \u001b[0mnp\u001b[0m\u001b[0;34m.\u001b[0m\u001b[0many\u001b[0m\u001b[0;34m(\u001b[0m\u001b[0mnp\u001b[0m\u001b[0;34m.\u001b[0m\u001b[0misclose\u001b[0m\u001b[0;34m(\u001b[0m\u001b[0mdifference\u001b[0m\u001b[0;34m,\u001b[0m \u001b[0mexpected_values\u001b[0m\u001b[0;34m)\u001b[0m\u001b[0;34m)\u001b[0m\u001b[0;34m,\u001b[0m \u001b[0;34m\"Wrong value. It is not one of the expected values\"\u001b[0m\u001b[0;34m\u001b[0m\u001b[0;34m\u001b[0m\u001b[0m\n\u001b[0m",
            "\u001b[0;31mAssertionError\u001b[0m: Wrong value. It is not one of the expected values"
          ]
        }
      ]
    }
  ]
}
