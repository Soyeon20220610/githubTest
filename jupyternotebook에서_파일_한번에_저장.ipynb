{
  "nbformat": 4,
  "nbformat_minor": 0,
  "metadata": {
    "colab": {
      "name": "jupyternotebook에서 파일 한번에 저장.ipynb",
      "provenance": [],
      "authorship_tag": "ABX9TyMkMaHiYJmEW4s0AOtnXLN6",
      "include_colab_link": true
    },
    "kernelspec": {
      "name": "python3",
      "display_name": "Python 3"
    },
    "language_info": {
      "name": "python"
    }
  },
  "cells": [
    {
      "cell_type": "markdown",
      "metadata": {
        "id": "view-in-github",
        "colab_type": "text"
      },
      "source": [
        "<a href=\"https://colab.research.google.com/github/Soyeon20220610/githubTest/blob/main/jupyternotebook%EC%97%90%EC%84%9C_%ED%8C%8C%EC%9D%BC_%ED%95%9C%EB%B2%88%EC%97%90_%EC%A0%80%EC%9E%A5.ipynb\" target=\"_parent\"><img src=\"https://colab.research.google.com/assets/colab-badge.svg\" alt=\"Open In Colab\"/></a>"
      ]
    },
    {
      "cell_type": "code",
      "execution_count": null,
      "metadata": {
        "id": "9sLrT6pRTDKs"
      },
      "outputs": [],
      "source": [
        "# how to download all files at once in jupyter notebook\n",
        "# Click the Jupyter logo in the top-left corner.\n",
        "# You'll see a file view page that lists all Jupyter resources in your current course. Click New, then select Terminal to open the system command line.\n",
        "# You'll see a shell prompt open. In the shell prompt, type or paste the following statements:\n",
        "\n",
        "# rm -f ~/workspace.tar.gz && rm -f ~/work/workspace.tar.gz (this line removes the previous archive, if it exists)\n",
        "\n",
        "# tar -czf ~/workspace.tar.gz ~/work (this line creates a zipped archive of your workspace directory)\n",
        "\n",
        "# mv ~/workspace.tar.gz ~/work/workspace.tar.gz (this line moves the archive into the workspace directory so you can see it)\n",
        "\n",
        "\n",
        "# Once the commands run successfully, click on the Jupyter logo again to return to the file view.\n",
        "# In the file view, select workspace.tar.gz, then click Download. Your browser will download the workspace archive, which is yours to keep.\n",
        "# Remove the archive file: rm ~/work/workspace.tar.gz*"
      ]
    }
  ]
}