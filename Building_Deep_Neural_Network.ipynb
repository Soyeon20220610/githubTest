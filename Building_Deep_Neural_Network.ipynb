{
  "nbformat": 4,
  "nbformat_minor": 0,
  "metadata": {
    "colab": {
      "name": "Building Deep Neural Network.ipynb",
      "provenance": [],
      "mount_file_id": "1zTBwrlAvUp9CF2y9DX4HpYcPPOP4BRe6",
      "authorship_tag": "ABX9TyP2M9T4u+46yqLaM240arIY",
      "include_colab_link": true
    },
    "kernelspec": {
      "name": "python3",
      "display_name": "Python 3"
    },
    "language_info": {
      "name": "python"
    }
  },
  "cells": [
    {
      "cell_type": "markdown",
      "metadata": {
        "id": "view-in-github",
        "colab_type": "text"
      },
      "source": [
        "<a href=\"https://colab.research.google.com/github/Soyeon20220610/githubTest/blob/main/Building_Deep_Neural_Network.ipynb\" target=\"_parent\"><img src=\"https://colab.research.google.com/assets/colab-badge.svg\" alt=\"Open In Colab\"/></a>"
      ]
    },
    {
      "cell_type": "code",
      "execution_count": 28,
      "metadata": {
        "colab": {
          "base_uri": "https://localhost:8080/"
        },
        "id": "tJ0YmnEefpfK",
        "outputId": "3779ebcd-9816-4803-b997-b710d097556b"
      },
      "outputs": [
        {
          "output_type": "stream",
          "name": "stdout",
          "text": [
            "The autoreload extension is already loaded. To reload it, use:\n",
            "  %reload_ext autoreload\n"
          ]
        }
      ],
      "source": [
        "import numpy as np\n",
        "import h5py\n",
        "import matplotlib.pyplot as plt\n",
        "from testCases import *\n",
        "from dnn_utils import sigmoid, sigmoid_backward, relu, relu_backward\n",
        "from public_tests import *\n",
        "\n",
        "%matplotlib inline\n",
        "plt.rcParams['figure.figsize'] = (5.0, 4.0) # set default size of plots\n",
        "plt.rcParams['image.interpolation'] = 'nearest'\n",
        "plt.rcParams['image.cmap'] = 'gray'\n",
        "\n",
        "%load_ext autoreload\n",
        "%autoreload 2\n",
        "\n",
        "np.random.seed(1)"
      ]
    },
    {
      "cell_type": "code",
      "source": [
        "def initialize_parameters(n_x,n_h,n_y):\n",
        "    np.random.seed(1)\n",
        "    W1= np.random.randn(n_h, n_x) * 0.01         \n",
        "    b1 = np.zeros((n_h,1))\n",
        "    W2 = np.random.randn(n_y, n_h) * 0.01\n",
        "    b2 = np.zeros((n_y,1))\n",
        "    parameters = {\"W1\": W1,\n",
        "                  \"b1\": b1,\n",
        "                  \"W2\": W2,\n",
        "                  \"b2\": b2}\n",
        "    \n",
        "    return parameters    \n"
      ],
      "metadata": {
        "id": "QivthwJxKN1E"
      },
      "execution_count": 29,
      "outputs": []
    },
    {
      "cell_type": "code",
      "source": [
        "parameters = initialize_parameters(3,2,1)        #hidden layer의 neuron이 2개\n",
        "\n",
        "print(\"W1 = \" + str(parameters[\"W1\"]))\n",
        "print(\"b1 = \" + str(parameters[\"b1\"]))\n",
        "print(\"W2 = \" + str(parameters[\"W2\"]))\n",
        "print(\"b2 = \" + str(parameters[\"b2\"]))\n",
        "\n",
        "initialize_parameters_test(initialize_parameters)"
      ],
      "metadata": {
        "colab": {
          "base_uri": "https://localhost:8080/"
        },
        "id": "AFd4NJSLLBRZ",
        "outputId": "69df2a14-9be3-4734-af7c-17529b899732"
      },
      "execution_count": 30,
      "outputs": [
        {
          "output_type": "stream",
          "name": "stdout",
          "text": [
            "W1 = [[ 0.01624345 -0.00611756 -0.00528172]\n",
            " [-0.01072969  0.00865408 -0.02301539]]\n",
            "b1 = [[0.]\n",
            " [0.]]\n",
            "W2 = [[ 0.01744812 -0.00761207]]\n",
            "b2 = [[0.]]\n",
            "\u001b[92m All tests passed.\n"
          ]
        }
      ]
    },
    {
      "cell_type": "code",
      "source": [
        "# GRADED FUNCTION: initialize_parameters_deep\n",
        "\n",
        "def initialize_parameters_deep(layer_dims):\n",
        "\n",
        "    np.random.seed(3)\n",
        "    parameters = {}\n",
        "    L = len(layer_dims) # number of layers in the network\n",
        "\n",
        "    for l in range(1, L):\n",
        "        \n",
        "        parameters['W' + str(l)] = np.random.randn(layer_dims[l],layer_dims[l-1]) * 0.01\n",
        "        parameters['b' + str(l)] = np.zeros((layer_dims[l],1))\n",
        "        \n",
        "        assert(parameters['W' + str(l)].shape == (layer_dims[l], layer_dims[l - 1]))\n",
        "        assert(parameters['b' + str(l)].shape == (layer_dims[l], 1))\n",
        "\n",
        "        \n",
        "    return parameters"
      ],
      "metadata": {
        "id": "W8r6tU-DMs81"
      },
      "execution_count": 31,
      "outputs": []
    },
    {
      "cell_type": "code",
      "source": [
        "parameters = initialize_parameters_deep([5,4,3])\n",
        "\n",
        "print(\"W1 = \" + str(parameters[\"W1\"]))\n",
        "print(\"b1 = \" + str(parameters[\"b1\"]))\n",
        "print(\"W2 = \" + str(parameters[\"W2\"]))\n",
        "print(\"b2 = \" + str(parameters[\"b2\"]))\n",
        "\n",
        "initialize_parameters_deep_test(initialize_parameters_deep)"
      ],
      "metadata": {
        "colab": {
          "base_uri": "https://localhost:8080/"
        },
        "id": "YuCO-PhrNWaA",
        "outputId": "b898ee39-3ca4-4674-9feb-912aa50e52be"
      },
      "execution_count": 32,
      "outputs": [
        {
          "output_type": "stream",
          "name": "stdout",
          "text": [
            "W1 = [[ 0.01788628  0.0043651   0.00096497 -0.01863493 -0.00277388]\n",
            " [-0.00354759 -0.00082741 -0.00627001 -0.00043818 -0.00477218]\n",
            " [-0.01313865  0.00884622  0.00881318  0.01709573  0.00050034]\n",
            " [-0.00404677 -0.0054536  -0.01546477  0.00982367 -0.01101068]]\n",
            "b1 = [[0.]\n",
            " [0.]\n",
            " [0.]\n",
            " [0.]]\n",
            "W2 = [[-0.01185047 -0.0020565   0.01486148  0.00236716]\n",
            " [-0.01023785 -0.00712993  0.00625245 -0.00160513]\n",
            " [-0.00768836 -0.00230031  0.00745056  0.01976111]]\n",
            "b2 = [[0.]\n",
            " [0.]\n",
            " [0.]]\n",
            "\u001b[92m All tests passed.\n"
          ]
        }
      ]
    },
    {
      "cell_type": "code",
      "source": [
        "def linear_forward(A,W,b):\n",
        "  Z = np.dot(W,A)+b       # A = input layer, previous layer \n",
        "                          #     (size of previous layer, number of examples)\n",
        "  cache = (A,W,b)\n",
        "  return Z,cache"
      ],
      "metadata": {
        "id": "HPC39blYOkA7"
      },
      "execution_count": 33,
      "outputs": []
    },
    {
      "cell_type": "code",
      "source": [
        "t_A, t_W, t_b = linear_forward_test_case()\n",
        "t_Z, t_linear_cache = linear_forward(t_A, t_W, t_b)\n",
        "print(\"Z = \" + str(t_Z))\n",
        "\n",
        "linear_forward_test(linear_forward)"
      ],
      "metadata": {
        "colab": {
          "base_uri": "https://localhost:8080/"
        },
        "id": "wNBLTebFPH8r",
        "outputId": "8e5b3e32-d9c8-4008-e3c4-1774c3af2d09"
      },
      "execution_count": 34,
      "outputs": [
        {
          "output_type": "stream",
          "name": "stdout",
          "text": [
            "Z = [[ 3.26295337 -1.23429987]]\n",
            "\u001b[92m All tests passed.\n"
          ]
        }
      ]
    },
    {
      "cell_type": "code",
      "source": [
        "# A, cache \n",
        "def linear_activation_forward(A_prev, W,b,activation):\n",
        "  if activation == 'sigmoid':\n",
        "    Z, linear_cache = linear_forward(A_prev,W,b)\n",
        "    A, activation_cache = sigmoid(Z)\n",
        "  elif activation == 'relu':\n",
        "    Z, linear_cache = linear_forward(A_prev,W,b)\n",
        "    A, activation_cache = relu(Z)\n",
        "  cache = (linear_cache, activation_cache)\n",
        "\n",
        "  return A,cache"
      ],
      "metadata": {
        "id": "TuBXhyHbPKKI"
      },
      "execution_count": 35,
      "outputs": []
    },
    {
      "cell_type": "code",
      "source": [
        "t_A_prev, t_W, t_b = linear_activation_forward_test_case()\n",
        "\n",
        "t_A, t_linear_activation_cache = linear_activation_forward(t_A_prev, t_W, t_b, activation = \"sigmoid\")\n",
        "print(\"With sigmoid: A = \" + str(t_A))\n",
        "\n",
        "t_A, t_linear_activation_cache = linear_activation_forward(t_A_prev, t_W, t_b, activation = \"relu\")\n",
        "print(\"With ReLU: A = \" + str(t_A))\n",
        "\n",
        "linear_activation_forward_test(linear_activation_forward)"
      ],
      "metadata": {
        "colab": {
          "base_uri": "https://localhost:8080/"
        },
        "id": "E7alnQReQ7-5",
        "outputId": "40648939-a7bc-4f82-ff38-e99dbed145d8"
      },
      "execution_count": 36,
      "outputs": [
        {
          "output_type": "stream",
          "name": "stdout",
          "text": [
            "With sigmoid: A = [[0.96890023 0.11013289]]\n",
            "With ReLU: A = [[3.43896131 0.        ]]\n",
            "\u001b[92m All tests passed.\n"
          ]
        }
      ]
    },
    {
      "cell_type": "code",
      "source": [
        "def L_model_forward(X,parameters):\n",
        "  caches = []\n",
        "  A = X\n",
        "  L= len(parameters) // 2   # parameters = {W1,W2,W3, b1,b2,b3} 총 6개의 length 인데, layer의 수를 구하려면 나누기 2를 해야함\n",
        "\n",
        "# layer 1 ~ L-1 까지 계산해줌\n",
        "  for l in range(1,L):\n",
        "    A_prev = A\n",
        "    A,cache = linear_activation_forward(A_prev,parameters['W'+str(l)],parameters['b'+str(l)],activation='relu')\n",
        "    caches.append(cache)\n",
        "\n",
        "\n",
        "# 마지막 output layer 에는 sigmoid function이 activation 으로 사용돼서 따로 계산해줌\n",
        "# L-1 번째 layer에서 얻은 output이 A 이므로 A_prev에 A를 적음\n",
        "  AL,cache = linear_activation_forward(A,parameters['W'+str(l)],parameters['b'+str(l)],activation='sigmoid')\n",
        "  caches.append(cache)"
      ],
      "metadata": {
        "id": "yDyfsMMORSGb"
      },
      "execution_count": 37,
      "outputs": []
    },
    {
      "cell_type": "code",
      "source": [
        "t_X, t_parameters = L_model_forward_test_case_2hidden()\n",
        "t_AL, t_caches = L_model_forward(t_X, t_parameters)\n",
        "\n",
        "print(\"AL = \" + str(t_AL))\n",
        "\n",
        "L_model_forward_test(L_model_forward)"
      ],
      "metadata": {
        "colab": {
          "base_uri": "https://localhost:8080/"
        },
        "id": "7gOz1pt0Ri8-",
        "outputId": "6a35ddfb-319c-4ad8-9fd1-aaf7763db330"
      },
      "execution_count": 39,
      "outputs": [
        {
          "output_type": "stream",
          "name": "stdout",
          "text": [
            "AL = [[0.03921668 0.70498921 0.19734387 0.04728177]]\n",
            "\u001b[92m All tests passed.\n"
          ]
        }
      ]
    },
    {
      "cell_type": "code",
      "source": [
        "print(len(t_parameters)//2)\n",
        "t_parameters"
      ],
      "metadata": {
        "colab": {
          "base_uri": "https://localhost:8080/"
        },
        "id": "Pmnt_I0RRkJI",
        "outputId": "cffea187-19f9-4327-81bb-57337089576a"
      },
      "execution_count": 40,
      "outputs": [
        {
          "output_type": "stream",
          "name": "stdout",
          "text": [
            "3\n"
          ]
        },
        {
          "output_type": "execute_result",
          "data": {
            "text/plain": [
              "{'W1': array([[ 0.35480861,  1.81259031, -1.3564758 , -0.46363197,  0.82465384],\n",
              "        [-1.17643148,  1.56448966,  0.71270509, -0.1810066 ,  0.53419953],\n",
              "        [-0.58661296, -1.48185327,  0.85724762,  0.94309899,  0.11444143],\n",
              "        [-0.02195668, -2.12714455, -0.83440747, -0.46550831,  0.23371059]]),\n",
              " 'W2': array([[-0.12673638, -1.36861282,  1.21848065, -0.85750144],\n",
              "        [-0.56147088, -1.0335199 ,  0.35877096,  1.07368134],\n",
              "        [-0.37550472,  0.39636757, -0.47144628,  2.33660781]]),\n",
              " 'W3': array([[ 0.9398248 ,  0.42628539, -0.75815703]]),\n",
              " 'b1': array([[ 1.38503523],\n",
              "        [-0.51962709],\n",
              "        [-0.78015214],\n",
              "        [ 0.95560959]]),\n",
              " 'b2': array([[ 1.50278553],\n",
              "        [-0.59545972],\n",
              "        [ 0.52834106]]),\n",
              " 'b3': array([[-0.16236698]])}"
            ]
          },
          "metadata": {},
          "execution_count": 40
        }
      ]
    },
    {
      "cell_type": "code",
      "source": [
        "def compute_cost(AL,Y) :\n",
        "  m = Y.shape[1]\n",
        "  cost =(-1/m)*(np.dot(Y,np.log(AL).T)+ np.dot(1-Y,np.log(1-AL).T))\n",
        "\n",
        "  return cost"
      ],
      "metadata": {
        "id": "WKTcxsitc4bB"
      },
      "execution_count": 41,
      "outputs": []
    },
    {
      "cell_type": "code",
      "source": [
        "t_Y, t_AL = compute_cost_test_case()\n",
        "t_cost = compute_cost(t_AL, t_Y)\n",
        "\n",
        "print(\"Cost: \" + str(t_cost))\n",
        "\n",
        "compute_cost_test(compute_cost)"
      ],
      "metadata": {
        "colab": {
          "base_uri": "https://localhost:8080/"
        },
        "id": "tvNKjIFcdT9j",
        "outputId": "3f95cea3-2f1b-42d6-b9ed-e369c2208344"
      },
      "execution_count": 42,
      "outputs": [
        {
          "output_type": "stream",
          "name": "stdout",
          "text": [
            "Cost: [[0.27977656]]\n",
            "\u001b[92m All tests passed.\n"
          ]
        }
      ]
    },
    {
      "cell_type": "code",
      "source": [
        "A = np.array([[1, 2], [3, 4]])\n",
        "\n",
        "print('axis=1 and keepdims=True')\n",
        "print(np.sum(A, axis=1, keepdims=True))\n",
        "print('axis=1 and keepdims=False')\n",
        "print(np.sum(A, axis=1, keepdims=False))\n",
        "print('axis=0 and keepdims=True')\n",
        "print(np.sum(A, axis=0, keepdims=True))\n",
        "print('axis=0 and keepdims=False')\n",
        "print(np.sum(A, axis=0, keepdims=False))"
      ],
      "metadata": {
        "colab": {
          "base_uri": "https://localhost:8080/"
        },
        "id": "PUBm7G_fd3Lp",
        "outputId": "05045387-d366-4afa-c974-4fb2ebac02e5"
      },
      "execution_count": 43,
      "outputs": [
        {
          "output_type": "stream",
          "name": "stdout",
          "text": [
            "axis=1 and keepdims=True\n",
            "[[3]\n",
            " [7]]\n",
            "axis=1 and keepdims=False\n",
            "[3 7]\n",
            "axis=0 and keepdims=True\n",
            "[[4 6]]\n",
            "axis=0 and keepdims=False\n",
            "[4 6]\n"
          ]
        }
      ]
    },
    {
      "cell_type": "code",
      "source": [
        "def linear_backward(dZ,cache):\n",
        "  A_prev, W,b = cache\n",
        "  m = A_prev.shape[1]\n",
        "  dW = 1/m*np.dot(dZ,A_prev.T)\n",
        "  db = 1/m*np.sum(dZ, axis=1, keepdims=True)\n",
        "  dA_prev = np.dot(W.T,dZ)\n",
        "    \n",
        "    # YOUR CODE ENDS HERE\n",
        "    \n",
        "  return dA_prev, dW, db"
      ],
      "metadata": {
        "id": "qD5koWhmeKiQ"
      },
      "execution_count": 44,
      "outputs": []
    },
    {
      "cell_type": "code",
      "source": [
        "t_dZ, t_linear_cache = linear_backward_test_case()\n",
        "t_dA_prev, t_dW, t_db = linear_backward(t_dZ, t_linear_cache)\n",
        "\n",
        "print(\"dA_prev: \" + str(t_dA_prev))\n",
        "print(\"dW: \" + str(t_dW))\n",
        "print(\"db: \" + str(t_db))\n",
        "\n",
        "linear_backward_test(linear_backward)"
      ],
      "metadata": {
        "colab": {
          "base_uri": "https://localhost:8080/"
        },
        "id": "qqCdO5fQeepm",
        "outputId": "cdc63793-4a47-4f77-d597-aa570f2fe341"
      },
      "execution_count": 45,
      "outputs": [
        {
          "output_type": "stream",
          "name": "stdout",
          "text": [
            "dA_prev: [[-1.15171336  0.06718465 -0.3204696   2.09812712]\n",
            " [ 0.60345879 -3.72508701  5.81700741 -3.84326836]\n",
            " [-0.4319552  -1.30987417  1.72354705  0.05070578]\n",
            " [-0.38981415  0.60811244 -1.25938424  1.47191593]\n",
            " [-2.52214926  2.67882552 -0.67947465  1.48119548]]\n",
            "dW: [[ 0.07313866 -0.0976715  -0.87585828  0.73763362  0.00785716]\n",
            " [ 0.85508818  0.37530413 -0.59912655  0.71278189 -0.58931808]\n",
            " [ 0.97913304 -0.24376494 -0.08839671  0.55151192 -0.10290907]]\n",
            "db: [[-0.14713786]\n",
            " [-0.11313155]\n",
            " [-0.13209101]]\n",
            "\u001b[92m All tests passed.\n"
          ]
        }
      ]
    },
    {
      "cell_type": "code",
      "source": [
        "def linear_activation_backward(dA, cache, activation):\n",
        "    linear_cache, activation_cache = cache\n",
        "    if activation == \"relu\":\n",
        "        #(≈ 2 lines of code)\n",
        "        # dZ =  ...\n",
        "        # dA_prev, dW, db =  ...\n",
        "        # YOUR CODE STARTS HERE\n",
        "        \n",
        "        dZ = relu_backward(dA, activation_cache)\n",
        "        dA_prev, dW, db = linear_backward(dZ,linear_cache)\n",
        "        \n",
        "        # YOUR CODE ENDS HERE\n",
        "        \n",
        "    elif activation == \"sigmoid\":\n",
        "        #(≈ 2 lines of code)\n",
        "        # dZ =  ...\n",
        "        # dA_prev, dW, db =  ...\n",
        "        # YOUR CODE STARTS HERE\n",
        "        dZ = sigmoid_backward(dA, activation_cache)\n",
        "        dA_prev, dW, db = linear_backward(dZ,linear_cache)\n",
        "        \n",
        "        # YOUR CODE ENDS HERE\n",
        "    \n",
        "    return dA_prev, dW, db  "
      ],
      "metadata": {
        "id": "Y0z9PCBlehYK"
      },
      "execution_count": 47,
      "outputs": []
    },
    {
      "cell_type": "code",
      "source": [
        "t_dAL, t_linear_activation_cache = linear_activation_backward_test_case()\n",
        "\n",
        "t_dA_prev, t_dW, t_db = linear_activation_backward(t_dAL, t_linear_activation_cache, activation = \"sigmoid\")\n",
        "print(\"With sigmoid: dA_prev = \" + str(t_dA_prev))\n",
        "print(\"With sigmoid: dW = \" + str(t_dW))\n",
        "print(\"With sigmoid: db = \" + str(t_db))\n",
        "\n",
        "t_dA_prev, t_dW, t_db = linear_activation_backward(t_dAL, t_linear_activation_cache, activation = \"relu\")\n",
        "print(\"With relu: dA_prev = \" + str(t_dA_prev))\n",
        "print(\"With relu: dW = \" + str(t_dW))\n",
        "print(\"With relu: db = \" + str(t_db))\n",
        "\n",
        "linear_activation_backward_test(linear_activation_backward)"
      ],
      "metadata": {
        "colab": {
          "base_uri": "https://localhost:8080/"
        },
        "id": "hB31YQiueylh",
        "outputId": "cbeeec31-6f4f-45e8-aabd-ae32ce35edb3"
      },
      "execution_count": 48,
      "outputs": [
        {
          "output_type": "stream",
          "name": "stdout",
          "text": [
            "With sigmoid: dA_prev = [[ 0.11017994  0.01105339]\n",
            " [ 0.09466817  0.00949723]\n",
            " [-0.05743092 -0.00576154]]\n",
            "With sigmoid: dW = [[ 0.10266786  0.09778551 -0.01968084]]\n",
            "With sigmoid: db = [[-0.05729622]]\n",
            "With relu: dA_prev = [[ 0.44090989  0.        ]\n",
            " [ 0.37883606  0.        ]\n",
            " [-0.2298228   0.        ]]\n",
            "With relu: dW = [[ 0.44513824  0.37371418 -0.10478989]]\n",
            "With relu: db = [[-0.20837892]]\n",
            "\u001b[92m All tests passed.\n"
          ]
        }
      ]
    },
    {
      "cell_type": "code",
      "source": [
        "# GRADED FUNCTION: L_model_backward\n",
        " \n",
        "def L_model_backward(AL, Y, caches):\n",
        "    \"\"\"\n",
        "    Implement the backward propagation for the [LINEAR->RELU] * (L-1) -> LINEAR -> SIGMOID group\n",
        "    \n",
        "    Arguments:\n",
        "    AL -- probability vector, output of the forward propagation (L_model_forward())\n",
        "    Y -- true \"label\" vector (containing 0 if non-cat, 1 if cat)\n",
        "    caches -- list of caches containing:\n",
        "                every cache of linear_activation_forward() with \"relu\" (it's caches[l], for l in range(L-1) i.e l = 0...L-2)\n",
        "                the cache of linear_activation_forward() with \"sigmoid\" (it's caches[L-1])\n",
        "    \n",
        "    Returns:\n",
        "    grads -- A dictionary with the gradients\n",
        "             grads[\"dA\" + str(l)] = ... \n",
        "             grads[\"dW\" + str(l)] = ...\n",
        "             grads[\"db\" + str(l)] = ... \n",
        "    \"\"\"\n",
        "    grads = {}\n",
        "    L = len(caches) # the number of layers\n",
        "    m = AL.shape[1]\n",
        "    Y = Y.reshape(AL.shape) # after this line, Y is the same shape as AL\n",
        "    \n",
        "    # Initializing the backpropagation\n",
        "    ### START CODE HERE ### (1 line of code)\n",
        "    dAL = -(np.divide(Y, AL) - np.divide(1 - Y, 1 - AL))\n",
        "    ### END CODE HERE ###\n",
        "    \n",
        "    # Lth layer (SIGMOID -> LINEAR) gradients. Inputs: \"dAL, current_cache\". Outputs: \"grads[\"dAL-1\"], grads[\"dWL\"], grads[\"dbL\"]\n",
        "    ### START CODE HERE ### (approx. 2 lines)\n",
        "    current_cache = caches[L-1]\n",
        "    grads[\"dA\" + str(L-1)], grads[\"dW\" + str(L)], grads[\"db\" + str(L)] = linear_activation_backward(dAL, current_cache, activation = \"sigmoid\")\n",
        "    ### END CODE HERE ###\n",
        "    \n",
        "    # Loop from l=L-2 to l=0\n",
        "    for l in reversed(range(L-1)):\n",
        "        # lth layer: (RELU -> LINEAR) gradients.\n",
        "        # Inputs: \"grads[\"dA\" + str(l + 1)], current_cache\". Outputs: \"grads[\"dA\" + str(l)] , grads[\"dW\" + str(l + 1)] , grads[\"db\" + str(l + 1)] \n",
        "        ### START CODE HERE ### (approx. 5 lines)\n",
        "        current_cache = caches[l]\n",
        "        dA_prev_temp, dW_temp, db_temp = linear_activation_backward(grads[\"dA\"+str(l+1)], current_cache, activation = \"relu\")\n",
        "        grads[\"dA\" + str(l)] = dA_prev_temp\n",
        "        grads[\"dW\" + str(l + 1)] = dW_temp\n",
        "        grads[\"db\" + str(l + 1)] = db_temp\n",
        "        ### END CODE HERE ###\n",
        " \n",
        "    return grads"
      ],
      "metadata": {
        "id": "dre0iPI9e1jW"
      },
      "execution_count": 50,
      "outputs": []
    },
    {
      "cell_type": "code",
      "source": [
        "t_AL, t_Y_assess, t_caches = L_model_backward_test_case()\n",
        "grads = L_model_backward(t_AL, t_Y_assess, t_caches)\n",
        "\n",
        "print(\"dA0 = \" + str(grads['dA0']))\n",
        "print(\"dA1 = \" + str(grads['dA1']))\n",
        "print(\"dW1 = \" + str(grads['dW1']))\n",
        "print(\"dW2 = \" + str(grads['dW2']))\n",
        "print(\"db1 = \" + str(grads['db1']))\n",
        "print(\"db2 = \" + str(grads['db2']))\n",
        "\n",
        "L_model_backward_test(L_model_backward)"
      ],
      "metadata": {
        "colab": {
          "base_uri": "https://localhost:8080/"
        },
        "id": "yek6rKd8gQgu",
        "outputId": "6b9ea594-43b4-428b-9c5f-1c0a7a8131e5"
      },
      "execution_count": 51,
      "outputs": [
        {
          "output_type": "stream",
          "name": "stdout",
          "text": [
            "dA0 = [[ 0.          0.52257901]\n",
            " [ 0.         -0.3269206 ]\n",
            " [ 0.         -0.32070404]\n",
            " [ 0.         -0.74079187]]\n",
            "dA1 = [[ 0.12913162 -0.44014127]\n",
            " [-0.14175655  0.48317296]\n",
            " [ 0.01663708 -0.05670698]]\n",
            "dW1 = [[0.41010002 0.07807203 0.13798444 0.10502167]\n",
            " [0.         0.         0.         0.        ]\n",
            " [0.05283652 0.01005865 0.01777766 0.0135308 ]]\n",
            "dW2 = [[-0.39202432 -0.13325855 -0.04601089]]\n",
            "db1 = [[-0.22007063]\n",
            " [ 0.        ]\n",
            " [-0.02835349]]\n",
            "db2 = [[0.15187861]]\n",
            "\u001b[92m All tests passed.\n"
          ]
        }
      ]
    },
    {
      "cell_type": "code",
      "source": [
        "def update_parameters(params,grads,learning_rate):\n",
        "    parameters = params.copy()\n",
        "    L = len(parameters) // 2 # number of layers in the neural network\n",
        "\n",
        "    # Update rule for each parameter. Use a for loop.\n",
        "    #(≈ 2 lines of code)\n",
        "    for l in range(L):\n",
        "        # parameters[\"W\" + str(l+1)] = ...\n",
        "        # parameters[\"b\" + str(l+1)] = ...\n",
        "        # YOUR CODE STARTS HERE\n",
        "        \n",
        "        parameters['W'+str(l+1)] = parameters['W'+str(l+1)]-learning_rate*grads['dW'+str(l+1)]\n",
        "        parameters['b'+str(l+1)] = parameters['b'+str(l+1)] - learning_rate*grads['db'+str(l+1)]\n",
        "        # YOUR CODE ENDS HERE\n",
        "    return parameters"
      ],
      "metadata": {
        "id": "4NnLZXoTgSuh"
      },
      "execution_count": 52,
      "outputs": []
    },
    {
      "cell_type": "code",
      "source": [
        "t_parameters, grads = update_parameters_test_case()\n",
        "t_parameters = update_parameters(t_parameters, grads, 0.1)\n",
        "\n",
        "print (\"W1 = \"+ str(t_parameters[\"W1\"]))\n",
        "print (\"b1 = \"+ str(t_parameters[\"b1\"]))\n",
        "print (\"W2 = \"+ str(t_parameters[\"W2\"]))\n",
        "print (\"b2 = \"+ str(t_parameters[\"b2\"]))\n",
        "\n",
        "update_parameters_test(update_parameters)"
      ],
      "metadata": {
        "colab": {
          "base_uri": "https://localhost:8080/"
        },
        "id": "1hNhLZktgdnq",
        "outputId": "9f99b474-b222-4f23-9979-2e115f83269f"
      },
      "execution_count": 53,
      "outputs": [
        {
          "output_type": "stream",
          "name": "stdout",
          "text": [
            "W1 = [[-0.59562069 -0.09991781 -2.14584584  1.82662008]\n",
            " [-1.76569676 -0.80627147  0.51115557 -1.18258802]\n",
            " [-1.0535704  -0.86128581  0.68284052  2.20374577]]\n",
            "b1 = [[-0.04659241]\n",
            " [-1.28888275]\n",
            " [ 0.53405496]]\n",
            "W2 = [[-0.55569196  0.0354055   1.32964895]]\n",
            "b2 = [[-0.84610769]]\n",
            "\u001b[92m All tests passed.\n"
          ]
        }
      ]
    }
  ]
}