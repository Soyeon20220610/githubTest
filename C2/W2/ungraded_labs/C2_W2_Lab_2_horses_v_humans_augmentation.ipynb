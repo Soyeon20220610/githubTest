{
  "cells": [
    {
      "cell_type": "markdown",
      "metadata": {
        "id": "KILoa3QqXZo_"
      },
      "source": [
        "<a href=\"https://colab.research.google.com/github/https-deeplearning-ai/tensorflow-1-public/blob/master/C2/W2/ungraded_labs/C2_W2_Lab_2_horses_v_humans_augmentation.ipynb\" target=\"_parent\"><img src=\"https://colab.research.google.com/assets/colab-badge.svg\" alt=\"Open In Colab\"/></a>"
      ]
    },
    {
      "cell_type": "markdown",
      "metadata": {
        "id": "37v_yExZppEp"
      },
      "source": [
        "# Ungraded Lab: Data Augmentation on the Horses or Humans Dataset\n",
        "\n",
        "In the previous lab, you saw how data augmentation helped improve the model's performance on unseen data. By tweaking the cat and dog training images, the model was able to learn features that are also representative of the validation data. However, applying data augmentation requires good understanding of your dataset. Simply transforming it randomly will not always yield good results. \n",
        "\n",
        "In the next cells, you will apply the same techniques to the `Horses or Humans` dataset and analyze the results."
      ]
    },
    {
      "cell_type": "code",
      "execution_count": null,
      "metadata": {
        "id": "Lslf0vB3rQlU"
      },
      "outputs": [],
      "source": [
        "# Download the training set\n",
        "!wget https://storage.googleapis.com/tensorflow-1-public/course2/week3/horse-or-human.zip"
      ]
    },
    {
      "cell_type": "code",
      "execution_count": null,
      "metadata": {
        "id": "71Az4veFXZpQ"
      },
      "outputs": [],
      "source": [
        "# Download the validation set\n",
        "!wget https://storage.googleapis.com/tensorflow-1-public/course2/week3/validation-horse-or-human.zip"
      ]
    },
    {
      "cell_type": "code",
      "execution_count": null,
      "metadata": {
        "id": "RXZT2UsyIVe_"
      },
      "outputs": [],
      "source": [
        "import os\n",
        "import zipfile\n",
        "\n",
        "# Extract the archive\n",
        "zip_ref = zipfile.ZipFile('./horse-or-human.zip', 'r')\n",
        "zip_ref.extractall('tmp/horse-or-human')\n",
        "\n",
        "zip_ref = zipfile.ZipFile('./validation-horse-or-human.zip', 'r')\n",
        "zip_ref.extractall('tmp/validation-horse-or-human')\n",
        "\n",
        "zip_ref.close()\n",
        "\n",
        "# Directory with training horse pictures\n",
        "train_horse_dir = os.path.join('tmp/horse-or-human/horses')\n",
        "\n",
        "# Directory with training human pictures\n",
        "train_human_dir = os.path.join('tmp/horse-or-human/humans')\n",
        "\n",
        "# Directory with training horse pictures\n",
        "validation_horse_dir = os.path.join('tmp/validation-horse-or-human/horses')\n",
        "\n",
        "# Directory with training human pictures\n",
        "validation_human_dir = os.path.join('tmp/validation-horse-or-human/humans')"
      ]
    },
    {
      "cell_type": "code",
      "source": [
        "import os\n",
        "\n",
        "r = os.path.join('a','b','c')\n",
        "print(r)\n",
        "\n",
        "\n",
        "#a/b/c\n"
      ],
      "metadata": {
        "id": "IInHMSOZfVBH"
      },
      "execution_count": null,
      "outputs": []
    },
    {
      "cell_type": "code",
      "execution_count": null,
      "metadata": {
        "id": "PixZ2s5QbYQ3"
      },
      "outputs": [],
      "source": [
        "import tensorflow as tf\n",
        "\n",
        "# Build the model\n",
        "model = tf.keras.models.Sequential([\n",
        "    # Note the input shape is the desired size of the image 300x300 with 3 bytes color\n",
        "    # This is the first convolution\n",
        "    tf.keras.layers.Conv2D(16, (3,3), activation='relu', input_shape=(300, 300, 3)),\n",
        "    tf.keras.layers.MaxPooling2D(2, 2),\n",
        "    # The second convolution\n",
        "    tf.keras.layers.Conv2D(32, (3,3), activation='relu'),\n",
        "    tf.keras.layers.MaxPooling2D(2,2),\n",
        "    # The third convolution\n",
        "    tf.keras.layers.Conv2D(64, (3,3), activation='relu'),\n",
        "    tf.keras.layers.MaxPooling2D(2,2),\n",
        "    # The fourth convolution\n",
        "    tf.keras.layers.Conv2D(64, (3,3), activation='relu'),\n",
        "    tf.keras.layers.MaxPooling2D(2,2),\n",
        "    # The fifth convolution\n",
        "    tf.keras.layers.Conv2D(64, (3,3), activation='relu'),\n",
        "    tf.keras.layers.MaxPooling2D(2,2),\n",
        "    # Flatten the results to feed into a DNN\n",
        "    tf.keras.layers.Flatten(),\n",
        "    # 512 neuron hidden layer\n",
        "    tf.keras.layers.Dense(512, activation='relu'),\n",
        "    # Only 1 output neuron. It will contain a value from 0-1 where 0 for 1 class ('horses') and 1 for the other ('humans')\n",
        "    tf.keras.layers.Dense(1, activation='sigmoid')\n",
        "])"
      ]
    },
    {
      "cell_type": "code",
      "execution_count": null,
      "metadata": {
        "id": "8DHWhFP_uhq3"
      },
      "outputs": [],
      "source": [
        "from tensorflow.keras.optimizers import RMSprop\n",
        "\n",
        "# Set training parameters\n",
        "model.compile(loss='binary_crossentropy',\n",
        "              optimizer=RMSprop(learning_rate=1e-4),\n",
        "              metrics=['accuracy'])"
      ]
    },
    {
      "cell_type": "code",
      "execution_count": null,
      "metadata": {
        "id": "ClebU9NJg99G"
      },
      "outputs": [],
      "source": [
        "from tensorflow.keras.preprocessing.image import ImageDataGenerator\n",
        "\n",
        "# Apply data augmentation\n",
        "train_datagen = ImageDataGenerator(\n",
        "      rescale=1./255,\n",
        "      rotation_range=40,\n",
        "      width_shift_range=0.2,\n",
        "      height_shift_range=0.2,\n",
        "      shear_range=0.2,\n",
        "      zoom_range=0.2,\n",
        "      horizontal_flip=True,\n",
        "      fill_mode='nearest')\n",
        "\n",
        "validation_datagen = ImageDataGenerator(rescale=1/255)\n",
        "\n",
        "# Flow training images in batches of 128 using train_datagen generator\n",
        "train_generator = train_datagen.flow_from_directory(\n",
        "        'tmp/horse-or-human/',  # This is the source directory for training images\n",
        "        target_size=(300, 300),  # All images will be resized to 150x150\n",
        "        batch_size=128,\n",
        "        # Since we use binary_crossentropy loss, we need binary labels\n",
        "        class_mode='binary')\n",
        "\n",
        "# Flow training images in batches of 128 using train_datagen generator\n",
        "validation_generator = validation_datagen.flow_from_directory(\n",
        "        'tmp/validation-horse-or-human/',  # This is the source directory for training images\n",
        "        target_size=(300, 300),  # All images will be resized to 150x150\n",
        "        batch_size=32,\n",
        "        # Since we use binary_crossentropy loss, we need binary labels\n",
        "        class_mode='binary')\n",
        "\n",
        "# Found 1027 images belonging to 2 classes.\n",
        "# Found 256 images belonging to 2 classes."
      ]
    },
    {
      "cell_type": "code",
      "execution_count": null,
      "metadata": {
        "id": "Fb1_lgobv81m"
      },
      "outputs": [],
      "source": [
        "# Constant for epochs\n",
        "EPOCHS = 20\n",
        "\n",
        "# Train the model\n",
        "history = model.fit(\n",
        "      train_generator,\n",
        "      steps_per_epoch=8,  \n",
        "      epochs=EPOCHS,\n",
        "      verbose=1,\n",
        "      validation_data = validation_generator,\n",
        "      validation_steps=8)"
      ]
    },
    {
      "cell_type": "markdown",
      "source": [
        "Epoch 1/20\n",
        "8/8 [==============================] - 34s 2s/step - loss: 0.6909 - accuracy: 0.5595 - val_loss: 0.6859 - val_accuracy: 0.5000\n",
        "Epoch 2/20\n",
        "8/8 [==============================] - 23s 3s/step - loss: 0.6634 - accuracy: 0.6474 - val_loss: 0.6686 - val_accuracy: 0.5000\n",
        "Epoch 3/20\n",
        "8/8 [==============================] - 24s 3s/step - loss: 0.6436 - accuracy: 0.6699 - val_loss: 0.6667 - val_accuracy: 0.5000\n",
        "Epoch 4/20\n",
        "8/8 [==============================] - 22s 3s/step - loss: 0.6558 - accuracy: 0.6685 - val_loss: 0.6419 - val_accuracy: 0.5352\n",
        "Epoch 5/20\n",
        "8/8 [==============================] - 24s 3s/step - loss: 0.5860 - accuracy: 0.7197 - val_loss: 0.6650 - val_accuracy: 0.5039\n",
        "Epoch 6/20\n",
        "8/8 [==============================] - 24s 3s/step - loss: 0.5699 - accuracy: 0.6973 - val_loss: 0.7116 - val_accuracy: 0.5000\n",
        "Epoch 7/20\n",
        "8/8 [==============================] - 21s 3s/step - loss: 0.5467 - accuracy: 0.7264 - val_loss: 0.8506 - val_accuracy: 0.5000\n",
        "Epoch 8/20\n",
        "8/8 [==============================] - 21s 3s/step - loss: 0.5332 - accuracy: 0.7464 - val_loss: 0.6228 - val_accuracy: 0.6055\n",
        "Epoch 9/20\n",
        "8/8 [==============================] - 21s 3s/step - loss: 0.5108 - accuracy: 0.7531 - val_loss: 1.2280 - val_accuracy: 0.5000\n",
        "Epoch 10/20\n",
        "8/8 [==============================] - 21s 3s/step - loss: 0.5097 - accuracy: 0.7486 - val_loss: 0.7217 - val_accuracy: 0.5898\n",
        "Epoch 11/20\n",
        "8/8 [==============================] - 22s 3s/step - loss: 0.4945 - accuracy: 0.7664 - val_loss: 0.6049 - val_accuracy: 0.6797\n",
        "Epoch 12/20\n",
        "8/8 [==============================] - 24s 3s/step - loss: 0.4674 - accuracy: 0.7842 - val_loss: 0.8000 - val_accuracy: 0.6094\n",
        "Epoch 13/20\n",
        "8/8 [==============================] - 22s 3s/step - loss: 0.4615 - accuracy: 0.7753 - val_loss: 0.7982 - val_accuracy: 0.6250\n",
        "Epoch 14/20\n",
        "8/8 [==============================] - 22s 3s/step - loss: 0.4441 - accuracy: 0.7953 - val_loss: 1.0270 - val_accuracy: 0.5820\n",
        "Epoch 15/20\n",
        "8/8 [==============================] - 21s 3s/step - loss: 0.4472 - accuracy: 0.7964 - val_loss: 0.9683 - val_accuracy: 0.6172\n",
        "Epoch 16/20\n",
        "8/8 [==============================] - 24s 3s/step - loss: 0.4134 - accuracy: 0.8135 - val_loss: 1.6957 - val_accuracy: 0.5195\n",
        "Epoch 17/20\n",
        "8/8 [==============================] - 21s 3s/step - loss: 0.4523 - accuracy: 0.7709 - val_loss: 0.8578 - val_accuracy: 0.6602\n",
        "Epoch 18/20\n",
        "8/8 [==============================] - 21s 3s/step - loss: 0.4223 - accuracy: 0.8165 - val_loss: 1.1269 - val_accuracy: 0.5977\n",
        "Epoch 19/20\n",
        "8/8 [==============================] - 25s 3s/step - loss: 0.3989 - accuracy: 0.8209 - val_loss: 1.7584 - val_accuracy: 0.5469\n",
        "Epoch 20/20\n",
        "8/8 [==============================] - 22s 3s/step - loss: 0.3889 - accuracy: 0.8254 - val_loss: 1.2222 - val_accuracy: 0.6211"
      ],
      "metadata": {
        "id": "AZwjhKz_hCTw"
      }
    },
    {
      "cell_type": "code",
      "execution_count": null,
      "metadata": {
        "id": "7zNPRWOVJdOH"
      },
      "outputs": [],
      "source": [
        "import matplotlib.pyplot as plt\n",
        "\n",
        "# Plot the model results\n",
        "acc = history.history['accuracy']\n",
        "val_acc = history.history['val_accuracy']\n",
        "loss = history.history['loss']\n",
        "val_loss = history.history['val_loss']\n",
        "\n",
        "epochs = range(len(acc))\n",
        "\n",
        "plt.plot(epochs, acc, 'r', label='Training accuracy')\n",
        "plt.plot(epochs, val_acc, 'b', label='Validation accuracy')\n",
        "plt.title('Training and validation accuracy')\n",
        "\n",
        "plt.figure()\n",
        "\n",
        "plt.plot(epochs, loss, 'r', label='Training Loss')\n",
        "plt.plot(epochs, val_loss, 'b', label='Validation Loss')\n",
        "plt.title('Training and validation loss')\n",
        "plt.legend()\n",
        "\n",
        "plt.show()"
      ]
    },
    {
      "cell_type": "markdown",
      "source": [
        "\n",
        "\n",
        "![image.png](data:image/png;base64,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)\n",
        "\n",
        "![image.png](data:image/png;base64,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)"
      ],
      "metadata": {
        "id": "0RawNg3nhF2d"
      }
    },
    {
      "cell_type": "code",
      "source": [
        ""
      ],
      "metadata": {
        "id": "tbW81awxhFAG"
      },
      "execution_count": null,
      "outputs": []
    },
    {
      "cell_type": "markdown",
      "metadata": {
        "id": "hwyabYvCsvtn"
      },
      "source": [
        "As you can see in the results, the preprocessing techniques used in augmenting the data did not help much in the results. The validation accuracy is fluctuating and not trending up like the training accuracy. This might be because the additional training data generated still do not represent the features in the validation data. For example, some human or horse poses in the validation set cannot be mimicked by the image processing techniques that `ImageDataGenerator` provides. It might also be that the background of the training images are also learned so the white background of the validation set is throwing the model off even with cropping. Try looking at the validation images in the `tmp/validation-horse-or-human` directory (note: if you are using Colab, you can use the file explorer on the left to explore the images) and see if you can augment the training images to match its characteristics. If this is not possible, then at this point you can consider other techniques and you will see that in next week's lessons."
      ]
    },
    {
      "cell_type": "markdown",
      "source": [
        "training : background 포함된 사진\n",
        "validation = test : white background 사진 이라서 overfitting이 해소 안 되었을 수도 있음."
      ],
      "metadata": {
        "id": "hfeStarxgGYg"
      }
    }
  ],
  "metadata": {
    "accelerator": "GPU",
    "colab": {
      "collapsed_sections": [],
      "name": "C2_W2_Lab_2_horses_v_humans_augmentation.ipynb",
      "private_outputs": true,
      "provenance": []
    },
    "kernelspec": {
      "display_name": "Python 3",
      "language": "python",
      "name": "python3"
    },
    "language_info": {
      "codemirror_mode": {
        "name": "ipython",
        "version": 3
      },
      "file_extension": ".py",
      "mimetype": "text/x-python",
      "name": "python",
      "nbconvert_exporter": "python",
      "pygments_lexer": "ipython3",
      "version": "3.7.4"
    }
  },
  "nbformat": 4,
  "nbformat_minor": 0
}