{
  "nbformat": 4,
  "nbformat_minor": 0,
  "metadata": {
    "colab": {
      "name": "C4W1-CNN_happyfaces.ipynb",
      "provenance": [],
      "authorship_tag": "ABX9TyMkf/aZGQJtQ/rydHLBkK7A",
      "include_colab_link": true
    },
    "kernelspec": {
      "name": "python3",
      "display_name": "Python 3"
    },
    "language_info": {
      "name": "python"
    }
  },
  "cells": [
    {
      "cell_type": "markdown",
      "metadata": {
        "id": "view-in-github",
        "colab_type": "text"
      },
      "source": [
        "<a href=\"https://colab.research.google.com/github/Soyeon20220610/githubTest/blob/main/C4W1_CNN_happyfaces.ipynb\" target=\"_parent\"><img src=\"https://colab.research.google.com/assets/colab-badge.svg\" alt=\"Open In Colab\"/></a>"
      ]
    },
    {
      "cell_type": "code",
      "execution_count": 1,
      "metadata": {
        "id": "SWO6klWza24O"
      },
      "outputs": [],
      "source": [
        "import math\n",
        "import numpy as np\n",
        "import h5py\n",
        "import matplotlib.pyplot as plt\n",
        "from matplotlib.pyplot import imread\n",
        "import scipy\n",
        "from PIL import Image\n",
        "import pandas as pd\n",
        "import tensorflow as tf\n",
        "import tensorflow.keras.layers as tfl\n",
        "from tensorflow.python.framework import ops\n",
        "from cnn_utils import *\n",
        "from test_utils import summary, comparator\n",
        "\n",
        "%matplotlib inline\n",
        "np.random.seed(1)"
      ]
    },
    {
      "cell_type": "markdown",
      "source": [
        "images of people's faces\n",
        "\n",
        "build a ConvNet that determines whether the people in the images are smiling or not."
      ],
      "metadata": {
        "id": "rUV6cz9iESBp"
      }
    },
    {
      "cell_type": "code",
      "source": [
        "X_train_orig, Y_train_orig, X_test_orig, Y_test_orig, classes = load_happy_dataset()\n",
        "\n",
        "# Normalize image vectors\n",
        "X_train = X_train_orig/255.\n",
        "X_test = X_test_orig/255.\n",
        "\n",
        "# Reshape\n",
        "Y_train = Y_train_orig.T\n",
        "Y_test = Y_test_orig.T\n",
        "\n",
        "print (\"number of training examples = \" + str(X_train.shape[0]))\n",
        "print (\"number of test examples = \" + str(X_test.shape[0]))\n",
        "print (\"X_train shape: \" + str(X_train.shape))\n",
        "print (\"Y_train shape: \" + str(Y_train.shape))\n",
        "print (\"X_test shape: \" + str(X_test.shape))\n",
        "print (\"Y_test shape: \" + str(Y_test.shape))"
      ],
      "metadata": {
        "colab": {
          "base_uri": "https://localhost:8080/"
        },
        "id": "MjKSRHSucTEa",
        "outputId": "61b20d5e-010e-4210-e5c0-1edb92c7d019"
      },
      "execution_count": 3,
      "outputs": [
        {
          "output_type": "stream",
          "name": "stdout",
          "text": [
            "number of training examples = 600\n",
            "number of test examples = 150\n",
            "X_train shape: (600, 64, 64, 3)\n",
            "Y_train shape: (600, 1)\n",
            "X_test shape: (150, 64, 64, 3)\n",
            "Y_test shape: (150, 1)\n"
          ]
        }
      ]
    },
    {
      "cell_type": "code",
      "source": [
        "index = 124\n",
        "plt.imshow(X_train_orig[index]) #display sample training image\n",
        "plt.show()"
      ],
      "metadata": {
        "colab": {
          "base_uri": "https://localhost:8080/",
          "height": 268
        },
        "id": "RARbTeFUFWMO",
        "outputId": "a6ebfba7-29eb-46a4-9d55-bed0e55c3e08"
      },
      "execution_count": 4,
      "outputs": [
        {
          "output_type": "display_data",
          "data": {
            "text/plain": [
              "<Figure size 432x288 with 1 Axes>"
            ],
            "image/png": "[encoded data removed]"
          },
          "metadata": {
            "needs_background": "light"
          }
        }
      ]
    },
    {
      "cell_type": "code",
      "source": [
        "def happyModel():\n",
        "  model = tf.keras.Sequential([\n",
        "                               tfl.ZeroPadding2D(padding=(3,3),input_shape=(64,64,3),data_format='channels_last'),\n",
        "                               tfl.Conv2D(filters= 32,kernel_size=(7,7),strides=(1,1),name='conv0'),\n",
        "                               tfl.BatchNormalization(axis=3),\n",
        "                               tfl.ReLU(),\n",
        "                               tfl.MaxPool2D(),\n",
        "                               tfl.Flatten(),\n",
        "                               tfl.Dense(1,activation='sigmoid')\n",
        "  ])\n",
        "  return model\n",
        "\n",
        "happy_model = happyModel()\n",
        "for layer in summary(happy_model):\n",
        "  print (layer)\n",
        "\n",
        "output = [['ZeroPadding2D', (None, 70, 70, 3), 0, ((3, 3), (3, 3))],\n",
        "            ['Conv2D', (None, 64, 64, 32), 4736, 'valid', 'linear', 'GlorotUniform'],\n",
        "            ['BatchNormalization', (None, 64, 64, 32), 128],\n",
        "            ['ReLU', (None, 64, 64, 32), 0],\n",
        "            ['MaxPooling2D', (None, 32, 32, 32), 0, (2, 2), (2, 2), 'valid'],\n",
        "            ['Flatten', (None, 32768), 0],\n",
        "            ['Dense', (None, 1), 32769, 'sigmoid']]\n",
        "\n",
        "comparator(summary(happy_model), output)"
      ],
      "metadata": {
        "colab": {
          "base_uri": "https://localhost:8080/"
        },
        "id": "fg3FIoG3F_AO",
        "outputId": "ce718fad-6f1b-40a5-f5c8-2c9edb1532a8"
      },
      "execution_count": 7,
      "outputs": [
        {
          "output_type": "stream",
          "name": "stdout",
          "text": [
            "['ZeroPadding2D', (None, 70, 70, 3), 0, ((3, 3), (3, 3))]\n",
            "['Conv2D', (None, 64, 64, 32), 4736, 'valid', 'linear', 'GlorotUniform']\n",
            "['BatchNormalization', (None, 64, 64, 32), 128]\n",
            "['ReLU', (None, 64, 64, 32), 0]\n",
            "['MaxPooling2D', (None, 32, 32, 32), 0, (2, 2), (2, 2), 'valid']\n",
            "['Flatten', (None, 32768), 0]\n",
            "['Dense', (None, 1), 32769, 'sigmoid']\n",
            "\u001b[32mAll tests passed!\u001b[0m\n"
          ]
        }
      ]
    },
    {
      "cell_type": "code",
      "source": [
        "happy_model.compile(optimizer='adam',\n",
        "                   loss='binary_crossentropy',\n",
        "                   metrics=['accuracy'])\n",
        "\n",
        "happy_model.summary()"
      ],
      "metadata": {
        "colab": {
          "base_uri": "https://localhost:8080/"
        },
        "id": "sV7EMc5MJPxd",
        "outputId": "82e1019b-c28a-4108-ace2-8d2642c36e73"
      },
      "execution_count": 9,
      "outputs": [
        {
          "output_type": "stream",
          "name": "stdout",
          "text": [
            "Model: \"sequential\"\n",
            "_________________________________________________________________\n",
            " Layer (type)                Output Shape              Param #   \n",
            "=================================================================\n",
            " zero_padding2d_2 (ZeroPaddi  (None, 70, 70, 3)        0         \n",
            " ng2D)                                                           \n",
            "                                                                 \n",
            " conv0 (Conv2D)              (None, 64, 64, 32)        4736      \n",
            "                                                                 \n",
            " batch_normalization_1 (Batc  (None, 64, 64, 32)       128       \n",
            " hNormalization)                                                 \n",
            "                                                                 \n",
            " re_lu (ReLU)                (None, 64, 64, 32)        0         \n",
            "                                                                 \n",
            " max_pooling2d (MaxPooling2D  (None, 32, 32, 32)       0         \n",
            " )                                                               \n",
            "                                                                 \n",
            " flatten (Flatten)           (None, 32768)             0         \n",
            "                                                                 \n",
            " dense (Dense)               (None, 1)                 32769     \n",
            "                                                                 \n",
            "=================================================================\n",
            "Total params: 37,633\n",
            "Trainable params: 37,569\n",
            "Non-trainable params: 64\n",
            "_________________________________________________________________\n"
          ]
        }
      ]
    },
    {
      "cell_type": "code",
      "source": [
        "happy_model.fit(X_train, Y_train, epochs=10, batch_size=16)"
      ],
      "metadata": {
        "colab": {
          "base_uri": "https://localhost:8080/"
        },
        "id": "Wu-DPxdWJUDg",
        "outputId": "ff52cb02-521a-4c45-e24c-13d2b15b8013"
      },
      "execution_count": 10,
      "outputs": [
        {
          "output_type": "stream",
          "name": "stdout",
          "text": [
            "Epoch 1/10\n",
            "38/38 [==============================] - 5s 111ms/step - loss: 0.9972 - accuracy: 0.7267\n",
            "Epoch 2/10\n",
            "38/38 [==============================] - 4s 117ms/step - loss: 0.2483 - accuracy: 0.9033\n",
            "Epoch 3/10\n",
            "38/38 [==============================] - 4s 107ms/step - loss: 0.2101 - accuracy: 0.9150\n",
            "Epoch 4/10\n",
            "38/38 [==============================] - 4s 109ms/step - loss: 0.1055 - accuracy: 0.9667\n",
            "Epoch 5/10\n",
            "38/38 [==============================] - 4s 107ms/step - loss: 0.0925 - accuracy: 0.9700\n",
            "Epoch 6/10\n",
            "38/38 [==============================] - 4s 109ms/step - loss: 0.1860 - accuracy: 0.9267\n",
            "Epoch 7/10\n",
            "38/38 [==============================] - 4s 108ms/step - loss: 0.1373 - accuracy: 0.9450\n",
            "Epoch 8/10\n",
            "38/38 [==============================] - 4s 109ms/step - loss: 0.1646 - accuracy: 0.9367\n",
            "Epoch 9/10\n",
            "38/38 [==============================] - 4s 109ms/step - loss: 0.0795 - accuracy: 0.9733\n",
            "Epoch 10/10\n",
            "38/38 [==============================] - 4s 108ms/step - loss: 0.0615 - accuracy: 0.9783\n"
          ]
        },
        {
          "output_type": "execute_result",
          "data": {
            "text/plain": [
              "<keras.callbacks.History at 0x7f52a1cd0b50>"
            ]
          },
          "metadata": {},
          "execution_count": 10
        }
      ]
    },
    {
      "cell_type": "code",
      "source": [
        "happy_model.evaluate(X_test, Y_test)"
      ],
      "metadata": {
        "colab": {
          "base_uri": "https://localhost:8080/"
        },
        "id": "pbQFQKLgJWQL",
        "outputId": "dcf67980-641a-4587-f68f-363df1cabbef"
      },
      "execution_count": 11,
      "outputs": [
        {
          "output_type": "stream",
          "name": "stdout",
          "text": [
            "5/5 [==============================] - 0s 56ms/step - loss: 0.1882 - accuracy: 0.8933\n"
          ]
        },
        {
          "output_type": "execute_result",
          "data": {
            "text/plain": [
              "[0.18824338912963867, 0.8933333158493042]"
            ]
          },
          "metadata": {},
          "execution_count": 11
        }
      ]
    },
    {
      "cell_type": "markdown",
      "source": [
        "signs data\n"
      ],
      "metadata": {
        "id": "pnP6cAFuPo2C"
      }
    },
    {
      "cell_type": "code",
      "source": [
        "X_train_orig, Y_train_orig, X_test_orig, Y_test_orig, classes = load_signs_dataset()"
      ],
      "metadata": {
        "id": "KkWDc2eRPoWE"
      },
      "execution_count": 19,
      "outputs": []
    },
    {
      "cell_type": "code",
      "source": [
        "# Example of an image from the dataset\n",
        "index = 9\n",
        "plt.imshow(X_train_orig[index])\n",
        "print (\"y = \" + str(np.squeeze(Y_train_orig[:, index])))"
      ],
      "metadata": {
        "colab": {
          "base_uri": "https://localhost:8080/",
          "height": 286
        },
        "id": "d7AbHoJPP8iZ",
        "outputId": "32a330f3-19bf-4106-c7aa-79e686013cad"
      },
      "execution_count": 20,
      "outputs": [
        {
          "output_type": "stream",
          "name": "stdout",
          "text": [
            "y = 4\n"
          ]
        },
        {
          "output_type": "display_data",
          "data": {
            "text/plain": [
              "<Figure size 432x288 with 1 Axes>"
            ],
            "image/png": "[encoded data removed]"
          },
          "metadata": {
            "needs_background": "light"
          }
        }
      ]
    },
    {
      "cell_type": "code",
      "source": [
        "X_train = X_train_orig/255.\n",
        "X_test = X_test_orig/255.\n",
        "Y_train = convert_to_one_hot(Y_train_orig, 6).T\n",
        "Y_test = convert_to_one_hot(Y_test_orig, 6).T\n",
        "print (\"number of training examples = \" + str(X_train.shape[0]))\n",
        "print (\"number of test examples = \" + str(X_test.shape[0]))\n",
        "print (\"X_train shape: \" + str(X_train.shape))\n",
        "print (\"Y_train shape: \" + str(Y_train.shape))\n",
        "print (\"X_test shape: \" + str(X_test.shape))\n",
        "print (\"Y_test shape: \" + str(Y_test.shape))"
      ],
      "metadata": {
        "colab": {
          "base_uri": "https://localhost:8080/"
        },
        "id": "MkUBMIT9P_rT",
        "outputId": "b0465dc7-2c4e-4b95-9b4e-849e31c6d750"
      },
      "execution_count": 21,
      "outputs": [
        {
          "output_type": "stream",
          "name": "stdout",
          "text": [
            "number of training examples = 1080\n",
            "number of test examples = 120\n",
            "X_train shape: (1080, 64, 64, 3)\n",
            "Y_train shape: (1080, 6)\n",
            "X_test shape: (120, 64, 64, 3)\n",
            "Y_test shape: (120, 6)\n"
          ]
        }
      ]
    },
    {
      "cell_type": "code",
      "source": [
        "def convolutional_model(input_shape):\n",
        "  input_img = tf.keras.Input(shape=input_shape)\n",
        "  Z1 = tf.keras.layers.Conv2D(filters=8,kernel_size=(4,4),padding='same')(input_img)\n",
        "  A1 = tf.keras.layers.ReLU()(Z1)\n",
        "  P1 = tf.keras.layers.MaxPool2D(pool_size=(8,8), strides=(8,8), padding='same')(A1)\n",
        "  Z2 = tf.keras.layers.Conv2D(filters=16,kernel_size=(2,2),padding='same')(P1)\n",
        "  A2 = tf.keras.layers.ReLU()(Z2)\n",
        "  P2 = tf.keras.layers.MaxPool2D(pool_size=(4,4), strides=(4,4), padding='same')(A2)\n",
        "  F = tf.keras.layers.Flatten()(P2)\n",
        "  outputs = tf.keras.layers.Dense(units= 6, activation='softmax')(F)\n",
        "\n",
        "  model = tf.keras.Model(inputs=input_img,outputs=outputs)\n",
        "  return model\n"
      ],
      "metadata": {
        "id": "dcEQp_MRQrh4"
      },
      "execution_count": 23,
      "outputs": []
    },
    {
      "cell_type": "code",
      "source": [
        "conv_model = convolutional_model((64, 64, 3))\n",
        "conv_model.compile(optimizer='adam',\n",
        "                  loss='categorical_crossentropy',\n",
        "                  metrics=['accuracy'])\n",
        "conv_model.summary()\n",
        "\n",
        "\n",
        "output = [['InputLayer', [(None, 64, 64, 3)], 0],\n",
        "        ['Conv2D', (None, 64, 64, 8), 392, 'same', 'linear', 'GlorotUniform'],\n",
        "        ['ReLU', (None, 64, 64, 8), 0],\n",
        "        ['MaxPooling2D', (None, 8, 8, 8), 0, (8, 8), (8, 8), 'same'],\n",
        "        ['Conv2D', (None, 8, 8, 16), 528, 'same', 'linear', 'GlorotUniform'],\n",
        "        ['ReLU', (None, 8, 8, 16), 0],\n",
        "        ['MaxPooling2D', (None, 2, 2, 16), 0, (4, 4), (4, 4), 'same'],\n",
        "        ['Flatten', (None, 64), 0],\n",
        "        ['Dense', (None, 6), 390, 'softmax']]\n",
        "    \n",
        "comparator(summary(conv_model), output)"
      ],
      "metadata": {
        "colab": {
          "base_uri": "https://localhost:8080/"
        },
        "id": "NWTRrhDrROss",
        "outputId": "32bb8284-c34c-41b3-91f1-76b8cf1778af"
      },
      "execution_count": 24,
      "outputs": [
        {
          "output_type": "stream",
          "name": "stdout",
          "text": [
            "Model: \"model\"\n",
            "_________________________________________________________________\n",
            " Layer (type)                Output Shape              Param #   \n",
            "=================================================================\n",
            " input_1 (InputLayer)        [(None, 64, 64, 3)]       0         \n",
            "                                                                 \n",
            " conv2d (Conv2D)             (None, 64, 64, 8)         392       \n",
            "                                                                 \n",
            " re_lu_1 (ReLU)              (None, 64, 64, 8)         0         \n",
            "                                                                 \n",
            " max_pooling2d_1 (MaxPooling  (None, 8, 8, 8)          0         \n",
            " 2D)                                                             \n",
            "                                                                 \n",
            " conv2d_1 (Conv2D)           (None, 8, 8, 16)          528       \n",
            "                                                                 \n",
            " re_lu_2 (ReLU)              (None, 8, 8, 16)          0         \n",
            "                                                                 \n",
            " max_pooling2d_2 (MaxPooling  (None, 2, 2, 16)         0         \n",
            " 2D)                                                             \n",
            "                                                                 \n",
            " flatten_1 (Flatten)         (None, 64)                0         \n",
            "                                                                 \n",
            " dense_1 (Dense)             (None, 6)                 390       \n",
            "                                                                 \n",
            "=================================================================\n",
            "Total params: 1,310\n",
            "Trainable params: 1,310\n",
            "Non-trainable params: 0\n",
            "_________________________________________________________________\n",
            "\u001b[32mAll tests passed!\u001b[0m\n"
          ]
        }
      ]
    },
    {
      "cell_type": "code",
      "source": [
        "train_dataset = tf.data.Dataset.from_tensor_slices((X_train, Y_train)).batch(64)\n",
        "test_dataset = tf.data.Dataset.from_tensor_slices((X_test, Y_test)).batch(64)\n",
        "history = conv_model.fit(train_dataset, epochs=100, validation_data=test_dataset)"
      ],
      "metadata": {
        "colab": {
          "base_uri": "https://localhost:8080/"
        },
        "id": "8FqRxM5vUrni",
        "outputId": "eb16ee1d-895d-4450-cbb8-a4899978c5ed"
      },
      "execution_count": 25,
      "outputs": [
        {
          "output_type": "stream",
          "name": "stdout",
          "text": [
            "Epoch 1/100\n",
            "17/17 [==============================] - 5s 249ms/step - loss: 1.8240 - accuracy: 0.1583 - val_loss: 1.7944 - val_accuracy: 0.1667\n",
            "Epoch 2/100\n",
            "17/17 [==============================] - 3s 149ms/step - loss: 1.7931 - accuracy: 0.1519 - val_loss: 1.7862 - val_accuracy: 0.1750\n",
            "Epoch 3/100\n",
            "17/17 [==============================] - 2s 109ms/step - loss: 1.7850 - accuracy: 0.2213 - val_loss: 1.7806 - val_accuracy: 0.2333\n",
            "Epoch 4/100\n",
            "17/17 [==============================] - 2s 108ms/step - loss: 1.7800 - accuracy: 0.2343 - val_loss: 1.7758 - val_accuracy: 0.2000\n",
            "Epoch 5/100\n",
            "17/17 [==============================] - 2s 108ms/step - loss: 1.7756 - accuracy: 0.2454 - val_loss: 1.7715 - val_accuracy: 0.2000\n",
            "Epoch 6/100\n",
            "17/17 [==============================] - 2s 108ms/step - loss: 1.7718 - accuracy: 0.2537 - val_loss: 1.7674 - val_accuracy: 0.2583\n",
            "Epoch 7/100\n",
            "17/17 [==============================] - 2s 108ms/step - loss: 1.7676 - accuracy: 0.2852 - val_loss: 1.7619 - val_accuracy: 0.2583\n",
            "Epoch 8/100\n",
            "17/17 [==============================] - 3s 183ms/step - loss: 1.7628 - accuracy: 0.2778 - val_loss: 1.7560 - val_accuracy: 0.2750\n",
            "Epoch 9/100\n",
            "17/17 [==============================] - 2s 108ms/step - loss: 1.7563 - accuracy: 0.2870 - val_loss: 1.7477 - val_accuracy: 0.3083\n",
            "Epoch 10/100\n",
            "17/17 [==============================] - 2s 109ms/step - loss: 1.7478 - accuracy: 0.3157 - val_loss: 1.7389 - val_accuracy: 0.3333\n",
            "Epoch 11/100\n",
            "17/17 [==============================] - 2s 108ms/step - loss: 1.7373 - accuracy: 0.3176 - val_loss: 1.7288 - val_accuracy: 0.3500\n",
            "Epoch 12/100\n",
            "17/17 [==============================] - 2s 109ms/step - loss: 1.7265 - accuracy: 0.3185 - val_loss: 1.7173 - val_accuracy: 0.3583\n",
            "Epoch 13/100\n",
            "17/17 [==============================] - 2s 108ms/step - loss: 1.7095 - accuracy: 0.3426 - val_loss: 1.7043 - val_accuracy: 0.2833\n",
            "Epoch 14/100\n",
            "17/17 [==============================] - 2s 107ms/step - loss: 1.6944 - accuracy: 0.3620 - val_loss: 1.6882 - val_accuracy: 0.3417\n",
            "Epoch 15/100\n",
            "17/17 [==============================] - 2s 109ms/step - loss: 1.6727 - accuracy: 0.3667 - val_loss: 1.6702 - val_accuracy: 0.3167\n",
            "Epoch 16/100\n",
            "17/17 [==============================] - 2s 109ms/step - loss: 1.6513 - accuracy: 0.3769 - val_loss: 1.6507 - val_accuracy: 0.3083\n",
            "Epoch 17/100\n",
            "17/17 [==============================] - 2s 109ms/step - loss: 1.6259 - accuracy: 0.3824 - val_loss: 1.6413 - val_accuracy: 0.2917\n",
            "Epoch 18/100\n",
            "17/17 [==============================] - 2s 109ms/step - loss: 1.6029 - accuracy: 0.3889 - val_loss: 1.6161 - val_accuracy: 0.3250\n",
            "Epoch 19/100\n",
            "17/17 [==============================] - 2s 108ms/step - loss: 1.5731 - accuracy: 0.4046 - val_loss: 1.5942 - val_accuracy: 0.3000\n",
            "Epoch 20/100\n",
            "17/17 [==============================] - 2s 107ms/step - loss: 1.5427 - accuracy: 0.4000 - val_loss: 1.5731 - val_accuracy: 0.3167\n",
            "Epoch 21/100\n",
            "17/17 [==============================] - 2s 109ms/step - loss: 1.5119 - accuracy: 0.4222 - val_loss: 1.5467 - val_accuracy: 0.3500\n",
            "Epoch 22/100\n",
            "17/17 [==============================] - 2s 108ms/step - loss: 1.4797 - accuracy: 0.4435 - val_loss: 1.5166 - val_accuracy: 0.3500\n",
            "Epoch 23/100\n",
            "17/17 [==============================] - 2s 108ms/step - loss: 1.4491 - accuracy: 0.4657 - val_loss: 1.4871 - val_accuracy: 0.3583\n",
            "Epoch 24/100\n",
            "17/17 [==============================] - 2s 109ms/step - loss: 1.4215 - accuracy: 0.4667 - val_loss: 1.4618 - val_accuracy: 0.3833\n",
            "Epoch 25/100\n",
            "17/17 [==============================] - 2s 110ms/step - loss: 1.3930 - accuracy: 0.4824 - val_loss: 1.4348 - val_accuracy: 0.3917\n",
            "Epoch 26/100\n",
            "17/17 [==============================] - 2s 109ms/step - loss: 1.3669 - accuracy: 0.4870 - val_loss: 1.4098 - val_accuracy: 0.4250\n",
            "Epoch 27/100\n",
            "17/17 [==============================] - 2s 111ms/step - loss: 1.3403 - accuracy: 0.4907 - val_loss: 1.3827 - val_accuracy: 0.4583\n",
            "Epoch 28/100\n",
            "17/17 [==============================] - 2s 111ms/step - loss: 1.3135 - accuracy: 0.4991 - val_loss: 1.3554 - val_accuracy: 0.4583\n",
            "Epoch 29/100\n",
            "17/17 [==============================] - 2s 110ms/step - loss: 1.2870 - accuracy: 0.5056 - val_loss: 1.3266 - val_accuracy: 0.4750\n",
            "Epoch 30/100\n",
            "17/17 [==============================] - 2s 110ms/step - loss: 1.2603 - accuracy: 0.5167 - val_loss: 1.2991 - val_accuracy: 0.4917\n",
            "Epoch 31/100\n",
            "17/17 [==============================] - 2s 109ms/step - loss: 1.2345 - accuracy: 0.5278 - val_loss: 1.2726 - val_accuracy: 0.5083\n",
            "Epoch 32/100\n",
            "17/17 [==============================] - 2s 111ms/step - loss: 1.2096 - accuracy: 0.5454 - val_loss: 1.2466 - val_accuracy: 0.5167\n",
            "Epoch 33/100\n",
            "17/17 [==============================] - 2s 110ms/step - loss: 1.1850 - accuracy: 0.5546 - val_loss: 1.2205 - val_accuracy: 0.5500\n",
            "Epoch 34/100\n",
            "17/17 [==============================] - 2s 114ms/step - loss: 1.1614 - accuracy: 0.5648 - val_loss: 1.1961 - val_accuracy: 0.5500\n",
            "Epoch 35/100\n",
            "17/17 [==============================] - 2s 109ms/step - loss: 1.1382 - accuracy: 0.5741 - val_loss: 1.1700 - val_accuracy: 0.5583\n",
            "Epoch 36/100\n",
            "17/17 [==============================] - 2s 110ms/step - loss: 1.1164 - accuracy: 0.5852 - val_loss: 1.1456 - val_accuracy: 0.5750\n",
            "Epoch 37/100\n",
            "17/17 [==============================] - 2s 108ms/step - loss: 1.0941 - accuracy: 0.6019 - val_loss: 1.1222 - val_accuracy: 0.6000\n",
            "Epoch 38/100\n",
            "17/17 [==============================] - 2s 110ms/step - loss: 1.0726 - accuracy: 0.6111 - val_loss: 1.0984 - val_accuracy: 0.6000\n",
            "Epoch 39/100\n",
            "17/17 [==============================] - 2s 108ms/step - loss: 1.0524 - accuracy: 0.6194 - val_loss: 1.0788 - val_accuracy: 0.6167\n",
            "Epoch 40/100\n",
            "17/17 [==============================] - 2s 110ms/step - loss: 1.0319 - accuracy: 0.6333 - val_loss: 1.0584 - val_accuracy: 0.6167\n",
            "Epoch 41/100\n",
            "17/17 [==============================] - 2s 108ms/step - loss: 1.0127 - accuracy: 0.6352 - val_loss: 1.0387 - val_accuracy: 0.6250\n",
            "Epoch 42/100\n",
            "17/17 [==============================] - 2s 109ms/step - loss: 0.9935 - accuracy: 0.6444 - val_loss: 1.0209 - val_accuracy: 0.6667\n",
            "Epoch 43/100\n",
            "17/17 [==============================] - 2s 109ms/step - loss: 0.9758 - accuracy: 0.6537 - val_loss: 1.0056 - val_accuracy: 0.6750\n",
            "Epoch 44/100\n",
            "17/17 [==============================] - 3s 162ms/step - loss: 0.9581 - accuracy: 0.6657 - val_loss: 0.9889 - val_accuracy: 0.7000\n",
            "Epoch 45/100\n",
            "17/17 [==============================] - 2s 111ms/step - loss: 0.9409 - accuracy: 0.6713 - val_loss: 0.9744 - val_accuracy: 0.7000\n",
            "Epoch 46/100\n",
            "17/17 [==============================] - 2s 110ms/step - loss: 0.9245 - accuracy: 0.6759 - val_loss: 0.9577 - val_accuracy: 0.7000\n",
            "Epoch 47/100\n",
            "17/17 [==============================] - 2s 109ms/step - loss: 0.9094 - accuracy: 0.6787 - val_loss: 0.9461 - val_accuracy: 0.7000\n",
            "Epoch 48/100\n",
            "17/17 [==============================] - 2s 111ms/step - loss: 0.8934 - accuracy: 0.6796 - val_loss: 0.9310 - val_accuracy: 0.6917\n",
            "Epoch 49/100\n",
            "17/17 [==============================] - 2s 109ms/step - loss: 0.8788 - accuracy: 0.6870 - val_loss: 0.9197 - val_accuracy: 0.7000\n",
            "Epoch 50/100\n",
            "17/17 [==============================] - 2s 110ms/step - loss: 0.8642 - accuracy: 0.6907 - val_loss: 0.9069 - val_accuracy: 0.7000\n",
            "Epoch 51/100\n",
            "17/17 [==============================] - 2s 109ms/step - loss: 0.8506 - accuracy: 0.7000 - val_loss: 0.8964 - val_accuracy: 0.7000\n",
            "Epoch 52/100\n",
            "17/17 [==============================] - 2s 108ms/step - loss: 0.8368 - accuracy: 0.7083 - val_loss: 0.8849 - val_accuracy: 0.7000\n",
            "Epoch 53/100\n",
            "17/17 [==============================] - 2s 108ms/step - loss: 0.8247 - accuracy: 0.7111 - val_loss: 0.8746 - val_accuracy: 0.7000\n",
            "Epoch 54/100\n",
            "17/17 [==============================] - 2s 110ms/step - loss: 0.8122 - accuracy: 0.7259 - val_loss: 0.8643 - val_accuracy: 0.7083\n",
            "Epoch 55/100\n",
            "17/17 [==============================] - 2s 108ms/step - loss: 0.8003 - accuracy: 0.7306 - val_loss: 0.8545 - val_accuracy: 0.7083\n",
            "Epoch 56/100\n",
            "17/17 [==============================] - 2s 109ms/step - loss: 0.7886 - accuracy: 0.7306 - val_loss: 0.8438 - val_accuracy: 0.7000\n",
            "Epoch 57/100\n",
            "17/17 [==============================] - 2s 108ms/step - loss: 0.7773 - accuracy: 0.7343 - val_loss: 0.8353 - val_accuracy: 0.7000\n",
            "Epoch 58/100\n",
            "17/17 [==============================] - 2s 108ms/step - loss: 0.7671 - accuracy: 0.7407 - val_loss: 0.8267 - val_accuracy: 0.7000\n",
            "Epoch 59/100\n",
            "17/17 [==============================] - 2s 112ms/step - loss: 0.7564 - accuracy: 0.7472 - val_loss: 0.8188 - val_accuracy: 0.7000\n",
            "Epoch 60/100\n",
            "17/17 [==============================] - 2s 109ms/step - loss: 0.7468 - accuracy: 0.7472 - val_loss: 0.8092 - val_accuracy: 0.7083\n",
            "Epoch 61/100\n",
            "17/17 [==============================] - 2s 110ms/step - loss: 0.7369 - accuracy: 0.7519 - val_loss: 0.8046 - val_accuracy: 0.7083\n",
            "Epoch 62/100\n",
            "17/17 [==============================] - 3s 194ms/step - loss: 0.7278 - accuracy: 0.7583 - val_loss: 0.7947 - val_accuracy: 0.7167\n",
            "Epoch 63/100\n",
            "17/17 [==============================] - 2s 113ms/step - loss: 0.7187 - accuracy: 0.7639 - val_loss: 0.7894 - val_accuracy: 0.7167\n",
            "Epoch 64/100\n",
            "17/17 [==============================] - 2s 110ms/step - loss: 0.7102 - accuracy: 0.7694 - val_loss: 0.7813 - val_accuracy: 0.7167\n",
            "Epoch 65/100\n",
            "17/17 [==============================] - 3s 157ms/step - loss: 0.7021 - accuracy: 0.7713 - val_loss: 0.7761 - val_accuracy: 0.7250\n",
            "Epoch 66/100\n",
            "17/17 [==============================] - 2s 112ms/step - loss: 0.6939 - accuracy: 0.7741 - val_loss: 0.7693 - val_accuracy: 0.7167\n",
            "Epoch 67/100\n",
            "17/17 [==============================] - 2s 108ms/step - loss: 0.6864 - accuracy: 0.7750 - val_loss: 0.7629 - val_accuracy: 0.7250\n",
            "Epoch 68/100\n",
            "17/17 [==============================] - 2s 108ms/step - loss: 0.6789 - accuracy: 0.7769 - val_loss: 0.7579 - val_accuracy: 0.7333\n",
            "Epoch 69/100\n",
            "17/17 [==============================] - 2s 109ms/step - loss: 0.6717 - accuracy: 0.7806 - val_loss: 0.7524 - val_accuracy: 0.7333\n",
            "Epoch 70/100\n",
            "17/17 [==============================] - 2s 111ms/step - loss: 0.6648 - accuracy: 0.7833 - val_loss: 0.7472 - val_accuracy: 0.7417\n",
            "Epoch 71/100\n",
            "17/17 [==============================] - 2s 109ms/step - loss: 0.6579 - accuracy: 0.7852 - val_loss: 0.7427 - val_accuracy: 0.7500\n",
            "Epoch 72/100\n",
            "17/17 [==============================] - 2s 109ms/step - loss: 0.6513 - accuracy: 0.7870 - val_loss: 0.7368 - val_accuracy: 0.7500\n",
            "Epoch 73/100\n",
            "17/17 [==============================] - 2s 110ms/step - loss: 0.6450 - accuracy: 0.7926 - val_loss: 0.7323 - val_accuracy: 0.7500\n",
            "Epoch 74/100\n",
            "17/17 [==============================] - 2s 110ms/step - loss: 0.6387 - accuracy: 0.7917 - val_loss: 0.7287 - val_accuracy: 0.7500\n",
            "Epoch 75/100\n",
            "17/17 [==============================] - 2s 110ms/step - loss: 0.6330 - accuracy: 0.7907 - val_loss: 0.7230 - val_accuracy: 0.7417\n",
            "Epoch 76/100\n",
            "17/17 [==============================] - 2s 109ms/step - loss: 0.6275 - accuracy: 0.7917 - val_loss: 0.7204 - val_accuracy: 0.7417\n",
            "Epoch 77/100\n",
            "17/17 [==============================] - 2s 109ms/step - loss: 0.6213 - accuracy: 0.7935 - val_loss: 0.7155 - val_accuracy: 0.7417\n",
            "Epoch 78/100\n",
            "17/17 [==============================] - 2s 111ms/step - loss: 0.6162 - accuracy: 0.7935 - val_loss: 0.7117 - val_accuracy: 0.7417\n",
            "Epoch 79/100\n",
            "17/17 [==============================] - 2s 109ms/step - loss: 0.6108 - accuracy: 0.7954 - val_loss: 0.7076 - val_accuracy: 0.7417\n",
            "Epoch 80/100\n",
            "17/17 [==============================] - 2s 109ms/step - loss: 0.6059 - accuracy: 0.7972 - val_loss: 0.7049 - val_accuracy: 0.7417\n",
            "Epoch 81/100\n",
            "17/17 [==============================] - 2s 110ms/step - loss: 0.6003 - accuracy: 0.7991 - val_loss: 0.7004 - val_accuracy: 0.7417\n",
            "Epoch 82/100\n",
            "17/17 [==============================] - 2s 109ms/step - loss: 0.5959 - accuracy: 0.7991 - val_loss: 0.6978 - val_accuracy: 0.7417\n",
            "Epoch 83/100\n",
            "17/17 [==============================] - 2s 109ms/step - loss: 0.5907 - accuracy: 0.8019 - val_loss: 0.6943 - val_accuracy: 0.7417\n",
            "Epoch 84/100\n",
            "17/17 [==============================] - 2s 109ms/step - loss: 0.5862 - accuracy: 0.8009 - val_loss: 0.6918 - val_accuracy: 0.7417\n",
            "Epoch 85/100\n",
            "17/17 [==============================] - 2s 109ms/step - loss: 0.5816 - accuracy: 0.8028 - val_loss: 0.6877 - val_accuracy: 0.7500\n",
            "Epoch 86/100\n",
            "17/17 [==============================] - 2s 110ms/step - loss: 0.5772 - accuracy: 0.8046 - val_loss: 0.6859 - val_accuracy: 0.7333\n",
            "Epoch 87/100\n",
            "17/17 [==============================] - 2s 114ms/step - loss: 0.5728 - accuracy: 0.8037 - val_loss: 0.6828 - val_accuracy: 0.7583\n",
            "Epoch 88/100\n",
            "17/17 [==============================] - 2s 108ms/step - loss: 0.5687 - accuracy: 0.8056 - val_loss: 0.6802 - val_accuracy: 0.7333\n",
            "Epoch 89/100\n",
            "17/17 [==============================] - 2s 110ms/step - loss: 0.5646 - accuracy: 0.8074 - val_loss: 0.6778 - val_accuracy: 0.7500\n",
            "Epoch 90/100\n",
            "17/17 [==============================] - 2s 109ms/step - loss: 0.5606 - accuracy: 0.8093 - val_loss: 0.6752 - val_accuracy: 0.7417\n",
            "Epoch 91/100\n",
            "17/17 [==============================] - 2s 110ms/step - loss: 0.5567 - accuracy: 0.8102 - val_loss: 0.6730 - val_accuracy: 0.7500\n",
            "Epoch 92/100\n",
            "17/17 [==============================] - 2s 108ms/step - loss: 0.5530 - accuracy: 0.8139 - val_loss: 0.6703 - val_accuracy: 0.7417\n",
            "Epoch 93/100\n",
            "17/17 [==============================] - 2s 110ms/step - loss: 0.5492 - accuracy: 0.8130 - val_loss: 0.6688 - val_accuracy: 0.7417\n",
            "Epoch 94/100\n",
            "17/17 [==============================] - 2s 108ms/step - loss: 0.5454 - accuracy: 0.8148 - val_loss: 0.6666 - val_accuracy: 0.7417\n",
            "Epoch 95/100\n",
            "17/17 [==============================] - 2s 110ms/step - loss: 0.5418 - accuracy: 0.8148 - val_loss: 0.6646 - val_accuracy: 0.7417\n",
            "Epoch 96/100\n",
            "17/17 [==============================] - 2s 109ms/step - loss: 0.5385 - accuracy: 0.8167 - val_loss: 0.6615 - val_accuracy: 0.7417\n",
            "Epoch 97/100\n",
            "17/17 [==============================] - 2s 109ms/step - loss: 0.5349 - accuracy: 0.8194 - val_loss: 0.6602 - val_accuracy: 0.7417\n",
            "Epoch 98/100\n",
            "17/17 [==============================] - 2s 109ms/step - loss: 0.5318 - accuracy: 0.8204 - val_loss: 0.6570 - val_accuracy: 0.7417\n",
            "Epoch 99/100\n",
            "17/17 [==============================] - 2s 108ms/step - loss: 0.5284 - accuracy: 0.8204 - val_loss: 0.6562 - val_accuracy: 0.7417\n",
            "Epoch 100/100\n",
            "17/17 [==============================] - 2s 111ms/step - loss: 0.5252 - accuracy: 0.8241 - val_loss: 0.6544 - val_accuracy: 0.7417\n"
          ]
        }
      ]
    },
    {
      "cell_type": "code",
      "source": [
        "history.history"
      ],
      "metadata": {
        "colab": {
          "base_uri": "https://localhost:8080/"
        },
        "id": "1Yss8DyuVQ4F",
        "outputId": "a76fd0f5-be19-4cef-c48f-c19172a64af6"
      },
      "execution_count": 26,
      "outputs": [
        {
          "output_type": "execute_result",
          "data": {
            "text/plain": [
              "{'accuracy': [0.15833333134651184,\n",
              "  0.1518518477678299,\n",
              "  0.2212962955236435,\n",
              "  0.23425926268100739,\n",
              "  0.24537037312984467,\n",
              "  0.2537037134170532,\n",
              "  0.28518518805503845,\n",
              "  0.2777777910232544,\n",
              "  0.28703704476356506,\n",
              "  0.3157407343387604,\n",
              "  0.317592591047287,\n",
              "  0.3185185194015503,\n",
              "  0.34259259700775146,\n",
              "  0.3620370328426361,\n",
              "  0.36666667461395264,\n",
              "  0.3768518567085266,\n",
              "  0.38240739703178406,\n",
              "  0.3888888955116272,\n",
              "  0.4046296179294586,\n",
              "  0.4000000059604645,\n",
              "  0.42222222685813904,\n",
              "  0.4435185194015503,\n",
              "  0.46574074029922485,\n",
              "  0.46666666865348816,\n",
              "  0.48240742087364197,\n",
              "  0.4870370328426361,\n",
              "  0.49074074625968933,\n",
              "  0.4990740716457367,\n",
              "  0.5055555701255798,\n",
              "  0.5166666507720947,\n",
              "  0.5277777910232544,\n",
              "  0.5453703999519348,\n",
              "  0.5546296238899231,\n",
              "  0.5648148059844971,\n",
              "  0.5740740895271301,\n",
              "  0.585185170173645,\n",
              "  0.6018518805503845,\n",
              "  0.6111111044883728,\n",
              "  0.6194444298744202,\n",
              "  0.6333333253860474,\n",
              "  0.635185182094574,\n",
              "  0.644444465637207,\n",
              "  0.6537036895751953,\n",
              "  0.6657407283782959,\n",
              "  0.6712962985038757,\n",
              "  0.6759259104728699,\n",
              "  0.6787037253379822,\n",
              "  0.6796296238899231,\n",
              "  0.6870370507240295,\n",
              "  0.6907407641410828,\n",
              "  0.699999988079071,\n",
              "  0.7083333134651184,\n",
              "  0.7111111283302307,\n",
              "  0.7259259223937988,\n",
              "  0.730555534362793,\n",
              "  0.730555534362793,\n",
              "  0.7342592477798462,\n",
              "  0.7407407164573669,\n",
              "  0.7472222447395325,\n",
              "  0.7472222447395325,\n",
              "  0.7518518567085266,\n",
              "  0.7583333253860474,\n",
              "  0.7638888955116272,\n",
              "  0.769444465637207,\n",
              "  0.7712963223457336,\n",
              "  0.7740740776062012,\n",
              "  0.7749999761581421,\n",
              "  0.7768518328666687,\n",
              "  0.7805555462837219,\n",
              "  0.7833333611488342,\n",
              "  0.7851851582527161,\n",
              "  0.7870370149612427,\n",
              "  0.7925925850868225,\n",
              "  0.7916666865348816,\n",
              "  0.7907407283782959,\n",
              "  0.7916666865348816,\n",
              "  0.7935185432434082,\n",
              "  0.7935185432434082,\n",
              "  0.7953703999519348,\n",
              "  0.7972221970558167,\n",
              "  0.7990740537643433,\n",
              "  0.7990740537643433,\n",
              "  0.8018518686294556,\n",
              "  0.8009259104728699,\n",
              "  0.8027777671813965,\n",
              "  0.8046296238899231,\n",
              "  0.8037037253379822,\n",
              "  0.8055555820465088,\n",
              "  0.8074073791503906,\n",
              "  0.8092592358589172,\n",
              "  0.8101851940155029,\n",
              "  0.8138889074325562,\n",
              "  0.8129629492759705,\n",
              "  0.8148148059844971,\n",
              "  0.8148148059844971,\n",
              "  0.8166666626930237,\n",
              "  0.8194444179534912,\n",
              "  0.8203703761100769,\n",
              "  0.8203703761100769,\n",
              "  0.8240740895271301],\n",
              " 'loss': [1.8240233659744263,\n",
              "  1.7931153774261475,\n",
              "  1.7850267887115479,\n",
              "  1.7800326347351074,\n",
              "  1.7756340503692627,\n",
              "  1.7717747688293457,\n",
              "  1.7676174640655518,\n",
              "  1.7627851963043213,\n",
              "  1.7562811374664307,\n",
              "  1.7478114366531372,\n",
              "  1.7372769117355347,\n",
              "  1.726491093635559,\n",
              "  1.7094963788986206,\n",
              "  1.694413185119629,\n",
              "  1.67269766330719,\n",
              "  1.6512655019760132,\n",
              "  1.6258553266525269,\n",
              "  1.6028945446014404,\n",
              "  1.5731029510498047,\n",
              "  1.5427074432373047,\n",
              "  1.5118589401245117,\n",
              "  1.479706048965454,\n",
              "  1.4491082429885864,\n",
              "  1.4215354919433594,\n",
              "  1.3929708003997803,\n",
              "  1.3668559789657593,\n",
              "  1.340287208557129,\n",
              "  1.313480257987976,\n",
              "  1.2869513034820557,\n",
              "  1.2603189945220947,\n",
              "  1.2344655990600586,\n",
              "  1.209618091583252,\n",
              "  1.185017466545105,\n",
              "  1.1613799333572388,\n",
              "  1.1381609439849854,\n",
              "  1.1163922548294067,\n",
              "  1.0940732955932617,\n",
              "  1.0725799798965454,\n",
              "  1.0524473190307617,\n",
              "  1.0318635702133179,\n",
              "  1.0126757621765137,\n",
              "  0.9934608936309814,\n",
              "  0.9758304357528687,\n",
              "  0.9581200480461121,\n",
              "  0.9409412145614624,\n",
              "  0.9245311617851257,\n",
              "  0.9094254374504089,\n",
              "  0.8933706283569336,\n",
              "  0.8788090348243713,\n",
              "  0.86417555809021,\n",
              "  0.8506141304969788,\n",
              "  0.836820662021637,\n",
              "  0.824704110622406,\n",
              "  0.812212347984314,\n",
              "  0.80030757188797,\n",
              "  0.788627564907074,\n",
              "  0.7773206830024719,\n",
              "  0.7671442627906799,\n",
              "  0.7564017176628113,\n",
              "  0.7468011975288391,\n",
              "  0.7368596196174622,\n",
              "  0.7277756333351135,\n",
              "  0.7187114357948303,\n",
              "  0.710181713104248,\n",
              "  0.7021223306655884,\n",
              "  0.6939479112625122,\n",
              "  0.6863663196563721,\n",
              "  0.6789076924324036,\n",
              "  0.6716527342796326,\n",
              "  0.6647500395774841,\n",
              "  0.6579235196113586,\n",
              "  0.6513251662254333,\n",
              "  0.6450183987617493,\n",
              "  0.6387437582015991,\n",
              "  0.6330012679100037,\n",
              "  0.6274670362472534,\n",
              "  0.6213486194610596,\n",
              "  0.6162093281745911,\n",
              "  0.6107670068740845,\n",
              "  0.6058937907218933,\n",
              "  0.6002559661865234,\n",
              "  0.5958573222160339,\n",
              "  0.5907412767410278,\n",
              "  0.5862080454826355,\n",
              "  0.5815855264663696,\n",
              "  0.5772296786308289,\n",
              "  0.5728420615196228,\n",
              "  0.5686896443367004,\n",
              "  0.5645682215690613,\n",
              "  0.5605849027633667,\n",
              "  0.5567396879196167,\n",
              "  0.5529663562774658,\n",
              "  0.54915851354599,\n",
              "  0.5454359650611877,\n",
              "  0.5418253540992737,\n",
              "  0.5384624004364014,\n",
              "  0.534873902797699,\n",
              "  0.5318472981452942,\n",
              "  0.5283991694450378,\n",
              "  0.525206983089447],\n",
              " 'val_accuracy': [0.1666666716337204,\n",
              "  0.17499999701976776,\n",
              "  0.23333333432674408,\n",
              "  0.20000000298023224,\n",
              "  0.20000000298023224,\n",
              "  0.25833332538604736,\n",
              "  0.25833332538604736,\n",
              "  0.2750000059604645,\n",
              "  0.3083333373069763,\n",
              "  0.3333333432674408,\n",
              "  0.3499999940395355,\n",
              "  0.3583333194255829,\n",
              "  0.28333333134651184,\n",
              "  0.34166666865348816,\n",
              "  0.3166666626930237,\n",
              "  0.3083333373069763,\n",
              "  0.2916666567325592,\n",
              "  0.32499998807907104,\n",
              "  0.30000001192092896,\n",
              "  0.3166666626930237,\n",
              "  0.3499999940395355,\n",
              "  0.3499999940395355,\n",
              "  0.3583333194255829,\n",
              "  0.38333332538604736,\n",
              "  0.3916666805744171,\n",
              "  0.42500001192092896,\n",
              "  0.4583333432674408,\n",
              "  0.4583333432674408,\n",
              "  0.4749999940395355,\n",
              "  0.49166667461395264,\n",
              "  0.5083333253860474,\n",
              "  0.5166666507720947,\n",
              "  0.550000011920929,\n",
              "  0.550000011920929,\n",
              "  0.5583333373069763,\n",
              "  0.574999988079071,\n",
              "  0.6000000238418579,\n",
              "  0.6000000238418579,\n",
              "  0.6166666746139526,\n",
              "  0.6166666746139526,\n",
              "  0.625,\n",
              "  0.6666666865348816,\n",
              "  0.675000011920929,\n",
              "  0.699999988079071,\n",
              "  0.699999988079071,\n",
              "  0.699999988079071,\n",
              "  0.699999988079071,\n",
              "  0.6916666626930237,\n",
              "  0.699999988079071,\n",
              "  0.699999988079071,\n",
              "  0.699999988079071,\n",
              "  0.699999988079071,\n",
              "  0.699999988079071,\n",
              "  0.7083333134651184,\n",
              "  0.7083333134651184,\n",
              "  0.699999988079071,\n",
              "  0.699999988079071,\n",
              "  0.699999988079071,\n",
              "  0.699999988079071,\n",
              "  0.7083333134651184,\n",
              "  0.7083333134651184,\n",
              "  0.7166666388511658,\n",
              "  0.7166666388511658,\n",
              "  0.7166666388511658,\n",
              "  0.7250000238418579,\n",
              "  0.7166666388511658,\n",
              "  0.7250000238418579,\n",
              "  0.7333333492279053,\n",
              "  0.7333333492279053,\n",
              "  0.7416666746139526,\n",
              "  0.75,\n",
              "  0.75,\n",
              "  0.75,\n",
              "  0.75,\n",
              "  0.7416666746139526,\n",
              "  0.7416666746139526,\n",
              "  0.7416666746139526,\n",
              "  0.7416666746139526,\n",
              "  0.7416666746139526,\n",
              "  0.7416666746139526,\n",
              "  0.7416666746139526,\n",
              "  0.7416666746139526,\n",
              "  0.7416666746139526,\n",
              "  0.7416666746139526,\n",
              "  0.75,\n",
              "  0.7333333492279053,\n",
              "  0.7583333253860474,\n",
              "  0.7333333492279053,\n",
              "  0.75,\n",
              "  0.7416666746139526,\n",
              "  0.75,\n",
              "  0.7416666746139526,\n",
              "  0.7416666746139526,\n",
              "  0.7416666746139526,\n",
              "  0.7416666746139526,\n",
              "  0.7416666746139526,\n",
              "  0.7416666746139526,\n",
              "  0.7416666746139526,\n",
              "  0.7416666746139526,\n",
              "  0.7416666746139526],\n",
              " 'val_loss': [1.7943918704986572,\n",
              "  1.7862019538879395,\n",
              "  1.7806034088134766,\n",
              "  1.7758041620254517,\n",
              "  1.7715436220169067,\n",
              "  1.7674061059951782,\n",
              "  1.7618950605392456,\n",
              "  1.7559643983840942,\n",
              "  1.7477059364318848,\n",
              "  1.7388592958450317,\n",
              "  1.7287631034851074,\n",
              "  1.7172855138778687,\n",
              "  1.7042803764343262,\n",
              "  1.6881687641143799,\n",
              "  1.6702499389648438,\n",
              "  1.6506588459014893,\n",
              "  1.6413490772247314,\n",
              "  1.616117000579834,\n",
              "  1.5941545963287354,\n",
              "  1.57307767868042,\n",
              "  1.5467453002929688,\n",
              "  1.5165588855743408,\n",
              "  1.487114667892456,\n",
              "  1.4617677927017212,\n",
              "  1.4348169565200806,\n",
              "  1.4098384380340576,\n",
              "  1.3826810121536255,\n",
              "  1.3553868532180786,\n",
              "  1.3265531063079834,\n",
              "  1.2991433143615723,\n",
              "  1.2725636959075928,\n",
              "  1.2465558052062988,\n",
              "  1.2205439805984497,\n",
              "  1.1960738897323608,\n",
              "  1.170043706893921,\n",
              "  1.1455628871917725,\n",
              "  1.1222211122512817,\n",
              "  1.0984079837799072,\n",
              "  1.0787651538848877,\n",
              "  1.0584033727645874,\n",
              "  1.0386797189712524,\n",
              "  1.020931363105774,\n",
              "  1.0055652856826782,\n",
              "  0.9889062643051147,\n",
              "  0.9744174480438232,\n",
              "  0.9577493071556091,\n",
              "  0.9461015462875366,\n",
              "  0.9309859871864319,\n",
              "  0.9196523427963257,\n",
              "  0.9069042205810547,\n",
              "  0.8964459300041199,\n",
              "  0.884864091873169,\n",
              "  0.8745729923248291,\n",
              "  0.8643493056297302,\n",
              "  0.8544600009918213,\n",
              "  0.8437829613685608,\n",
              "  0.8353217244148254,\n",
              "  0.8267033696174622,\n",
              "  0.8188171982765198,\n",
              "  0.809191107749939,\n",
              "  0.8045902848243713,\n",
              "  0.7947202324867249,\n",
              "  0.7894312739372253,\n",
              "  0.7813460230827332,\n",
              "  0.7761245369911194,\n",
              "  0.7693478465080261,\n",
              "  0.7628750205039978,\n",
              "  0.757889449596405,\n",
              "  0.7524133920669556,\n",
              "  0.7472230195999146,\n",
              "  0.7426875829696655,\n",
              "  0.7368094325065613,\n",
              "  0.7323327660560608,\n",
              "  0.7286564111709595,\n",
              "  0.7229549288749695,\n",
              "  0.7203912138938904,\n",
              "  0.7155342102050781,\n",
              "  0.7116669416427612,\n",
              "  0.7075570225715637,\n",
              "  0.7048578858375549,\n",
              "  0.7004329562187195,\n",
              "  0.6978030800819397,\n",
              "  0.6942891478538513,\n",
              "  0.6917778253555298,\n",
              "  0.6876697540283203,\n",
              "  0.685928225517273,\n",
              "  0.6827691197395325,\n",
              "  0.6802295446395874,\n",
              "  0.6778401136398315,\n",
              "  0.675211489200592,\n",
              "  0.6729799509048462,\n",
              "  0.6702715158462524,\n",
              "  0.668808102607727,\n",
              "  0.6665657162666321,\n",
              "  0.6646413207054138,\n",
              "  0.6614968776702881,\n",
              "  0.6602163910865784,\n",
              "  0.6569936275482178,\n",
              "  0.6561576724052429,\n",
              "  0.6544023156166077]}"
            ]
          },
          "metadata": {},
          "execution_count": 26
        }
      ]
    },
    {
      "cell_type": "code",
      "source": [
        "# The history.history[\"loss\"] entry is a dictionary with as many values as epochs that the\n",
        "# model was trained on. \n",
        "df_loss_acc = pd.DataFrame(history.history)\n",
        "df_loss= df_loss_acc[['loss','val_loss']]\n",
        "df_loss.rename(columns={'loss':'train','val_loss':'validation'},inplace=True)\n",
        "\n",
        "df_acc= df_loss_acc[['accuracy','val_accuracy']]\n",
        "df_acc.rename(columns={'accuracy':'train','val_accuracy':'validation'},inplace=True)\n",
        "\n",
        "df_loss.plot(title='Model loss',figsize=(12,8)).set(xlabel='Epoch',ylabel='Loss')\n",
        "df_acc.plot(title='Model Accuracy',figsize=(12,8)).set(xlabel='Epoch',ylabel='Accuracy')"
      ],
      "metadata": {
        "colab": {
          "base_uri": "https://localhost:8080/",
          "height": 1000
        },
        "id": "mhOkVZ11WWFV",
        "outputId": "ee4647b5-e2c5-4229-9847-2e964c7e39a1"
      },
      "execution_count": 27,
      "outputs": [
        {
          "output_type": "stream",
          "name": "stderr",
          "text": [
            "/usr/local/lib/python3.7/dist-packages/pandas/core/frame.py:5047: SettingWithCopyWarning: \n",
            "A value is trying to be set on a copy of a slice from a DataFrame\n",
            "\n",
            "See the caveats in the documentation: https://pandas.pydata.org/pandas-docs/stable/user_guide/indexing.html#returning-a-view-versus-a-copy\n",
            "  errors=errors,\n"
          ]
        },
        {
          "output_type": "execute_result",
          "data": {
            "text/plain": [
              "[Text(0, 0.5, 'Accuracy'), Text(0.5, 0, 'Epoch')]"
            ]
          },
          "metadata": {},
          "execution_count": 27
        },
        {
          "output_type": "display_data",
          "data": {
            "text/plain": [
              "<Figure size 864x576 with 1 Axes>"
            ],
            "image/png": "[encoded data removed]"
          },
          "metadata": {
            "needs_background": "light"
          }
        },
        {
          "output_type": "display_data",
          "data": {
            "text/plain": [
              "<Figure size 864x576 with 1 Axes>"
            ],
            "image/png": "[encoded data removed]"
          },
          "metadata": {
            "needs_background": "light"
          }
        }
      ]
    }
  ]
}