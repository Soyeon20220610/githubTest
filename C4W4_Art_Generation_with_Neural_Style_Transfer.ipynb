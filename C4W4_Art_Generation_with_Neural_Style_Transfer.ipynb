{
  "nbformat": 4,
  "nbformat_minor": 0,
  "metadata": {
    "colab": {
      "name": "C4W4-Art_Generation_with_Neural_Style_Transfer.ipynb",
      "provenance": [],
      "authorship_tag": "ABX9TyOGs8YbuABaJWQkWLFdmsNN",
      "include_colab_link": true
    },
    "kernelspec": {
      "name": "python3",
      "display_name": "Python 3"
    },
    "language_info": {
      "name": "python"
    }
  },
  "cells": [
    {
      "cell_type": "markdown",
      "metadata": {
        "id": "view-in-github",
        "colab_type": "text"
      },
      "source": [
        "<a href=\"https://colab.research.google.com/github/Soyeon20220610/githubTest/blob/main/C4W4_Art_Generation_with_Neural_Style_Transfer.ipynb\" target=\"_parent\"><img src=\"https://colab.research.google.com/assets/colab-badge.svg\" alt=\"Open In Colab\"/></a>"
      ]
    },
    {
      "cell_type": "markdown",
      "source": [
        "Neural Style Transfer(NST) : 2개의 이미지를 병합해서 새로운 이미지 만드는 것.\n",
        "\n",
        "content + style = generated\n",
        "\n",
        "미리 학습된 CNN-(VGG-19)  사용한다. = transfer learning\n",
        "\n",
        "Next, you will be building the Neural Style Transfer (NST) algorithm in three steps:\n",
        "\n",
        "- First, you will build the content cost function $J_{content}(C,G)$\n",
        "- Second, you will build the style cost function $J_{style}(S,G)$\n",
        "- Finally, you'll put it all together to get $J(G) = \\alpha J_{content}(C,G) + \\beta J_{style}(S,G)$. Exciting!\n",
        "\n",
        "<a name='4-1'></a>"
      ],
      "metadata": {
        "id": "gm3N6nx087tr"
      }
    },
    {
      "cell_type": "markdown",
      "source": [
        "$$J_{content}(C,G) =  \\frac{1}{4 \\times n_H \\times n_W \\times n_C}\\sum _{ \\text{all entries}} (a^{(C)} - a^{(G)})^2\\tag{1} $$\n",
        "\n",
        "n_h,n_w,n_c : 내가 선택한 hidden layer의 속성"
      ],
      "metadata": {
        "id": "szr4kAvD-KKb"
      }
    },
    {
      "cell_type": "code",
      "execution_count": null,
      "metadata": {
        "id": "uEcIilYt6Gqn"
      },
      "outputs": [],
      "source": [
        "#n_h,n_w,n_c ----> n_h*n_W,n_c\n",
        "a_C_unrolled = tf.reshape(a_C, shape=[_, n_H * n_W, n_C])\n"
      ]
    },
    {
      "cell_type": "markdown",
      "source": [
        "$$J_{style}^{[l]}(S,G) = \\frac{1}{4 \\times {n_C}^2 \\times (n_H \\times n_W)^2} \\sum _{i=1}^{n_C}\\sum_{j=1}^{n_C}(G^{(S)}_{(gram)i,j} - G^{(G)}_{(gram)i,j})^2\\tag{2} $$\n"
      ],
      "metadata": {
        "id": "Z5n0HiGqAv9h"
      }
    }
  ]
}